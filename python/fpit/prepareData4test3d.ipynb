{
 "cells": [
  {
   "cell_type": "code",
   "execution_count": 21,
   "id": "9c1c6ebe-9185-4315-8227-d8662f1f0aa2",
   "metadata": {},
   "outputs": [
    {
     "name": "stdout",
     "output_type": "stream",
     "text": [
      "/home/m.giraud/DUMUXexud/dumux-rosi/python/fpit\n"
     ]
    }
   ],
   "source": [
    "import numpy as np\n",
    "import pandas as pd\n",
    "import os\n",
    "import json \n",
    "print(os.getcwd())"
   ]
  },
  {
   "cell_type": "code",
   "execution_count": 22,
   "id": "76350e1b-cd40-4a1b-b125-b9a65a32dfa4",
   "metadata": {},
   "outputs": [],
   "source": [
    "path = \"./results/dx0010plant21k_9.5_6mn_0s_121_1000/\""
   ]
  },
  {
   "cell_type": "code",
   "execution_count": 14,
   "id": "b94c9130-72d1-44c6-9db8-cadc9ee57eb9",
   "metadata": {},
   "outputs": [],
   "source": [
    "cellVol =np.array( pd.read_csv(path+\"cellVol.txt\",delimiter=\",\").tail(1)).flatten()"
   ]
  },
  {
   "cell_type": "code",
   "execution_count": 15,
   "id": "7b8d99ac-2f00-4285-b462-4c59c227fb52",
   "metadata": {},
   "outputs": [],
   "source": [
    "Vw = np.array(pd.read_csv(path+\"fpit_new_soil_water.csv\",delimiter=\",\").tail(1)).flatten()"
   ]
  },
  {
   "cell_type": "code",
   "execution_count": 16,
   "id": "5336b17b-07e6-4b2b-8c7c-a6c5b84a3397",
   "metadata": {},
   "outputs": [],
   "source": [
    "theta = Vw/cellVol"
   ]
  },
  {
   "cell_type": "code",
   "execution_count": 18,
   "id": "e9b55ec1-60de-4be4-9b1e-a40c4073a7bd",
   "metadata": {},
   "outputs": [
    {
     "data": {
      "text/plain": [
       "0.08717134718313858"
      ]
     },
     "execution_count": 18,
     "metadata": {},
     "output_type": "execute_result"
    }
   ],
   "source": [
    "theta[0]"
   ]
  },
  {
   "cell_type": "code",
   "execution_count": 38,
   "id": "0b76623b-1253-4327-8bc6-379f484960ab",
   "metadata": {},
   "outputs": [
    {
     "data": {
      "text/plain": [
       "-0.0010860495616326104"
      ]
     },
     "execution_count": 38,
     "metadata": {},
     "output_type": "execute_result"
    }
   ],
   "source": [
    "\n",
    "with open(path+\"setsource_0.txt\") as f:\n",
    "    j = f.readlines()[-1]\n",
    "    d2 = eval(j)\n",
    "d2[62]"
   ]
  },
  {
   "cell_type": "code",
   "execution_count": 39,
   "id": "97d3af97-fff9-433e-aa25-d418f31daddb",
   "metadata": {},
   "outputs": [],
   "source": [
    "\n",
    "class Parameters:\n",
    "    \"\"\" class containing the van genuchten parameters \"\"\"\n",
    "\n",
    "    def __init__(self, p):\n",
    "        self.theta_R = p[0]\n",
    "        self.theta_S = p[1]\n",
    "        self.alpha = p[2]  # [1/cm]\n",
    "        self.n = p[3]\n",
    "        self.m = 1. - 1. / self.n\n",
    "        self.Ksat = p[4]\n",
    "\n",
    "    def __iter__(self):  # for conversion to list with list(soil)\n",
    "        return (i for i in [self.theta_R, self.theta_S, self.alpha, self.n, self.Ksat])\n",
    "\n",
    "\n",
    "def pressure_head(theta, sp):\n",
    "    \"\"\" returns pressure head at a given volumetric water content according to the van genuchten model \"\"\"\n",
    "    assert theta >= sp.theta_R\n",
    "    assert theta <= sp.theta_S\n",
    "    theta = np.minimum(theta, sp.theta_S)  # saturated water conent is the maximum\n",
    "    return -pow(pow((sp.theta_S - sp.theta_R) / (theta - sp.theta_R), (1. / sp.m)) - 1., 1. / sp.n) / sp.alpha"
   ]
  },
  {
   "cell_type": "code",
   "execution_count": 40,
   "id": "025a997e-871a-4a80-9e2b-756bfe3a2b1b",
   "metadata": {},
   "outputs": [],
   "source": [
    "\n",
    "soil = [0.045, 0.43, 0.04, 1.6, 50]\n",
    "psoil = Parameters(soil)\n",
    "phead_old = np.array([pressure_head(theta_,psoil) for theta_ in theta])\n"
   ]
  },
  {
   "cell_type": "code",
   "execution_count": 42,
   "id": "0a26eb8e-1f9d-43ba-893c-dda7cb0211bb",
   "metadata": {},
   "outputs": [
    {
     "data": {
      "text/plain": [
       "-1083.5214561659764"
      ]
     },
     "execution_count": 42,
     "metadata": {},
     "output_type": "execute_result"
    }
   ],
   "source": [
    "min(phead_old)"
   ]
  },
  {
   "cell_type": "code",
   "execution_count": 54,
   "id": "f16c67a7-9adb-4582-9d2b-f98c4e5675e0",
   "metadata": {},
   "outputs": [],
   "source": [
    "\n",
    "def write_file_array(name, data, space =\",\", directory_ =\"./results/\", fileType = '.txt', allranks = False ):\n",
    "    name2 = directory_+ name+ fileType\n",
    "    with open(name2, 'w') as log:\n",
    "        log.write(space.join([num for num in map(str, data)])  +'\\n')\n",
    "def write_file_float(name, data, directory_, allranks = False):\n",
    "    name2 = directory_+ name+ '.txt'\n",
    "    with open(name2, 'w') as log:\n",
    "        log.write(repr( data)  +'\\n')"
   ]
  },
  {
   "cell_type": "code",
   "execution_count": 55,
   "id": "3580befe-c4bc-4078-b8f7-a95d1654a36f",
   "metadata": {},
   "outputs": [],
   "source": [
    "write_file_array('pHead',phead_old, directory_=\"./error3d/\")\n",
    "write_file_float('source0bis',d2, directory_=\"./error3d/\")\n",
    "\n",
    "with open('./error3d/source0.txt', 'w') as convert_file: \n",
    "     convert_file.write(json.dumps(d2))"
   ]
  },
  {
   "cell_type": "code",
   "execution_count": 52,
   "id": "f2486613-4413-4c57-a942-5729d3a96ee2",
   "metadata": {},
   "outputs": [],
   "source": []
  },
  {
   "cell_type": "code",
   "execution_count": 48,
   "id": "c4c398d7-5734-4af6-99c7-7a4514166128",
   "metadata": {},
   "outputs": [],
   "source": []
  },
  {
   "cell_type": "code",
   "execution_count": null,
   "id": "fdeeb259-6855-4294-ba38-36da667dcc3d",
   "metadata": {},
   "outputs": [],
   "source": []
  }
 ],
 "metadata": {
  "kernelspec": {
   "display_name": "py38b",
   "language": "python",
   "name": "py38b"
  },
  "language_info": {
   "codemirror_mode": {
    "name": "ipython",
    "version": 3
   },
   "file_extension": ".py",
   "mimetype": "text/x-python",
   "name": "python",
   "nbconvert_exporter": "python",
   "pygments_lexer": "ipython3",
   "version": "3.8.15"
  }
 },
 "nbformat": 4,
 "nbformat_minor": 5
}
