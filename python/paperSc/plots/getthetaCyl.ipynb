{
 "cells": [
  {
   "cell_type": "code",
   "execution_count": 35,
   "id": "0483f8ec-688d-43bf-999c-05db3e6506b7",
   "metadata": {},
   "outputs": [],
   "source": [
    "import os\n",
    "import pandas as pd\n",
    "import numpy as np\n",
    "pathresults = \"../results/lateDry_1440_5_10to25_20mn_0s_130/printData\"\n",
    "#pathresults = \"/DUMUXDune27/DUMUX/dumux-rosi/python/paperSc/results/\"\n",
    "data_file_delimiter = \",\""
   ]
  },
  {
   "cell_type": "code",
   "execution_count": 60,
   "id": "eed53be2-6f66-4722-8b89-a684dfe6d606",
   "metadata": {},
   "outputs": [
    {
     "name": "stdout",
     "output_type": "stream",
     "text": [
      "0.00858564377840457 3.6862469843103463\n"
     ]
    }
   ],
   "source": [
    "pathresults = \"../results/1d1dFHungnone_1440_5_10to25_20mn_0s_128/printData\" #/none_1440_5_10to25_20mn_0s_130/printData\"\n",
    "file_names = []\n",
    "for file_name in os.listdir(pathresults):\n",
    "    if file_name.startswith(\"updateWafter\") and file_name.endswith(\"theta.csv\"):\n",
    "        file_names.append(file_name)\n",
    "stds = []\n",
    "means = []\n",
    "for ff in file_names:\n",
    "    with open(pathresults+\"/\"+ff, 'r') as file:\n",
    "        lines = file.readlines()\n",
    "\n",
    "        # Check if there are any lines in the file\n",
    "        if not lines:\n",
    "            raise ValueError(\"The file is empty\")\n",
    "\n",
    "        # Get the last line\n",
    "        last_line = lines[-1].strip()\n",
    "\n",
    "        # Split the last line by commas and convert to NumPy array\n",
    "        array_from_last_line = np.array(last_line.split(','), dtype=float)\n",
    "        stds.append(np.std(array_from_last_line))\n",
    "        means.append(np.mean(array_from_last_line))\n",
    "print(max(np.array(stds)),max(np.array(stds)/np.array(means))*100)"
   ]
  },
  {
   "cell_type": "code",
   "execution_count": 56,
   "id": "2663d52b-d06c-428f-8859-8a18f3ce13ea",
   "metadata": {},
   "outputs": [
    {
     "name": "stdout",
     "output_type": "stream",
     "text": [
      "0.02288708525741028 12.916422214524163\n"
     ]
    }
   ],
   "source": [
    "pathresults = \"../results/lateDry_1440_84_10to25_20mn_0s_130/printData\" #\"../results/lateDry_1440_5_10to25_20mn_0s_130/printData\"\n",
    "file_names = []\n",
    "for file_name in os.listdir(pathresults):\n",
    "    if file_name.startswith(\"updateWafter\") and file_name.endswith(\"theta.csv\"):\n",
    "        file_names.append(file_name)\n",
    "stds = []\n",
    "means = []\n",
    "for ff in file_names:\n",
    "    with open(pathresults+\"/\"+ff, 'r') as file:\n",
    "        lines = file.readlines()\n",
    "\n",
    "        # Check if there are any lines in the file\n",
    "        if not lines:\n",
    "            raise ValueError(\"The file is empty\")\n",
    "\n",
    "        # Get the last line\n",
    "        last_line = lines[-1].strip()\n",
    "\n",
    "        # Split the last line by commas and convert to NumPy array\n",
    "        array_from_last_line = np.array(last_line.split(','), dtype=float)\n",
    "        stds.append(np.std(array_from_last_line))\n",
    "        means.append(np.mean(array_from_last_line))\n",
    "print(max(np.array(stds)),max(np.array(stds)/np.array(means))*100)"
   ]
  },
  {
   "cell_type": "code",
   "execution_count": 54,
   "id": "d89ae869-1541-428e-a6e9-4e0e8e7bc764",
   "metadata": {},
   "outputs": [
    {
     "name": "stdout",
     "output_type": "stream",
     "text": [
      "0.018778019101003886 10.078943096904263\n"
     ]
    }
   ],
   "source": [
    "pathresults = \"../results/newSourceearlyDry_1440_84_10to25_20mn_0s_130/printData\" # \"../results/earlyDry_1440_5_10to25_20mn_0s_130/printData\"\n",
    "file_names = []\n",
    "for file_name in os.listdir(pathresults):\n",
    "    if file_name.startswith(\"updateWafter\") and file_name.endswith(\"theta.csv\"):\n",
    "        file_names.append(file_name)\n",
    "stds = []\n",
    "means = []\n",
    "for ff in file_names:\n",
    "    with open(pathresults+\"/\"+ff, 'r') as file:\n",
    "        lines = file.readlines()\n",
    "\n",
    "        # Check if there are any lines in the file\n",
    "        if not lines:\n",
    "            raise ValueError(\"The file is empty\")\n",
    "\n",
    "        # Get the last line\n",
    "        last_line = lines[-1].strip()\n",
    "\n",
    "        # Split the last line by commas and convert to NumPy array\n",
    "        array_from_last_line = np.array(last_line.split(','), dtype=float)\n",
    "        stds.append(np.std(array_from_last_line))\n",
    "        means.append(np.mean(array_from_last_line))\n",
    "print(max(np.array(stds)),max(np.array(stds)/np.array(means))*100)"
   ]
  },
  {
   "cell_type": "code",
   "execution_count": 57,
   "id": "7cdb6f93-bd09-444c-af71-673bf43444a7",
   "metadata": {},
   "outputs": [
    {
     "data": {
      "image/png": "[encoded data removed]",
      "text/plain": [
       "<Figure size 640x480 with 1 Axes>"
      ]
     },
     "metadata": {},
     "output_type": "display_data"
    }
   ],
   "source": [
    "import matplotlib.pyplot as plt\n",
    "data = np.array(stds)/np.array(means)\n",
    "# Plotting histogram\n",
    "plt.hist(data, bins=5, edgecolor='black')  # Adjust the number of bins as needed\n",
    "plt.xlabel('Values')\n",
    "plt.ylabel('Frequency')\n",
    "plt.title('Histogram of Data')\n",
    "plt.grid(True)\n",
    "plt.show()"
   ]
  },
  {
   "cell_type": "code",
   "execution_count": null,
   "id": "d95d0222-d1aa-4c0a-8fb4-e5baf6641d21",
   "metadata": {},
   "outputs": [],
   "source": []
  }
 ],
 "metadata": {
  "kernelspec": {
   "display_name": "py38b",
   "language": "python",
   "name": "py38b"
  },
  "language_info": {
   "codemirror_mode": {
    "name": "ipython",
    "version": 3
   },
   "file_extension": ".py",
   "mimetype": "text/x-python",
   "name": "python",
   "nbconvert_exporter": "python",
   "pygments_lexer": "ipython3",
   "version": "3.8.15"
  }
 },
 "nbformat": 4,
 "nbformat_minor": 5
}
