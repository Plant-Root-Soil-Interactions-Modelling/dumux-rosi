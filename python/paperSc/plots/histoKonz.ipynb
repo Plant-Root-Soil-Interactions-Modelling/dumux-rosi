{
 "cells": [
  {
   "cell_type": "code",
   "execution_count": 1,
   "id": "44672a67-f5ce-4923-ab83-5391490461a2",
   "metadata": {
    "tags": []
   },
   "outputs": [],
   "source": [
    "import os\n",
    "import pandas as pd\n",
    "import numpy as np\n",
    "pathresults = \"../results/\"\n",
    "#pathresults = \"/DUMUXDune27/DUMUX/dumux-rosi/python/paperSc/results/\"\n",
    "data_file_delimiter = \",\""
   ]
  },
  {
   "cell_type": "code",
   "execution_count": 11,
   "id": "8af9febe-178d-4133-bb23-f52583b6b324",
   "metadata": {},
   "outputs": [],
   "source": [
    "import plotnine\n",
    "\n",
    "from plotnine import (\n",
    "    ggplot,\n",
    "    aes,\n",
    "    after_stat,\n",
    "    geom_histogram,\n",
    "    facet_wrap,\n",
    "    facet_grid,\n",
    "    coord_flip,\n",
    "    scale_y_continuous,\n",
    "    scale_y_sqrt,\n",
    "    scale_y_log10,\n",
    "    scale_fill_manual,\n",
    "    theme_bw,\n",
    "    theme_xkcd\n",
    "\n",
    ")"
   ]
  },
  {
   "cell_type": "code",
   "execution_count": 2,
   "id": "bb185b0a-a85c-4f3c-8ba2-86e1a7a67dfe",
   "metadata": {
    "tags": []
   },
   "outputs": [],
   "source": [
    "def getVal(mypath, filename, header=\"infer\",names = None):\n",
    "    fullpath = pathresults +mypath+filename\n",
    "    if names is None:\n",
    "        cst = pd.read_csv(fullpath,delimiter=data_file_delimiter, header = header).dropna(how= \"all\", axis=1)\n",
    "    else:\n",
    "        cst = pd.read_csv(fullpath,delimiter=data_file_delimiter, header = header, names = names).dropna(how= \"all\", axis=1)\n",
    "    return cst\n",
    "def get_last_line_as_numpy_array(file_path, dtype = float):\n",
    "    with open(pathresults +file_path, 'r') as file:\n",
    "        # Read all lines\n",
    "        lines = file.readlines()\n",
    "\n",
    "        # Check if there are any lines in the file\n",
    "        if not lines:\n",
    "            raise ValueError(\"The file is empty\")\n",
    "\n",
    "        # Get the last line\n",
    "        last_line = lines[-1].strip()\n",
    "\n",
    "        # Split the last line by commas and convert to NumPy array\n",
    "        array_from_last_line = np.array(last_line.split(','), dtype=dtype)\n",
    "\n",
    "        return array_from_last_line"
   ]
  },
  {
   "cell_type": "code",
   "execution_count": 37,
   "id": "b9fa9424-909d-423d-b299-76a717b1a126",
   "metadata": {
    "tags": []
   },
   "outputs": [],
   "source": [
    "# voxel val max konz \n",
    "GiniMeans = np.full((99,1440),np.nan)\n",
    "for pSet in range(99):\n",
    "    path2file = 'none_55_'+str(pSet)+'_10to11_20mn_0s_5/'\n",
    "    rr = get_last_line_as_numpy_array(path2file+\"Soil_solute_conc1.txt\")\n",
    "    # select occupied voxels\n",
    "    ##\n",
    "    occVox = np.array(list( set(get_last_line_as_numpy_array(path2file+\"seg2cell_vals.csv\"))), dtype = int)\n",
    "    GiniMeans[pSet, occVox] = rr[occVox]"
   ]
  },
  {
   "cell_type": "code",
   "execution_count": 39,
   "id": "2d850a13-1b1e-4800-a070-fd5fb0b3f74a",
   "metadata": {},
   "outputs": [],
   "source": [
    "GiniMeans1 = GiniMeans.reshape(-1)\n",
    "GiniMeans1 = GiniMeans1[~np.isnan(GiniMeans1)]"
   ]
  },
  {
   "cell_type": "code",
   "execution_count": 60,
   "id": "b23c97b3-2c4f-44fd-a583-81a3401d6087",
   "metadata": {},
   "outputs": [
    {
     "data": {
      "text/plain": [
       "1.9048721764153132e-06"
      ]
     },
     "execution_count": 60,
     "metadata": {},
     "output_type": "execute_result"
    }
   ],
   "source": [
    "min([np.nanmax(gg) for gg in GiniMeans])"
   ]
  },
  {
   "cell_type": "code",
   "execution_count": 61,
   "id": "098d456d-7a48-4779-9721-9e6e3d56bf12",
   "metadata": {},
   "outputs": [
    {
     "data": {
      "text/plain": [
       "8.400603896969931e-06"
      ]
     },
     "execution_count": 61,
     "metadata": {},
     "output_type": "execute_result"
    }
   ],
   "source": [
    "len(GiniMeans1)/99\n",
    "np.percentile(GiniMeans1, 50)"
   ]
  },
  {
   "cell_type": "code",
   "execution_count": 42,
   "id": "95601f53-13c6-48ec-bb99-3807a37bad6b",
   "metadata": {},
   "outputs": [],
   "source": [
    "data0 = pd.DataFrame(GiniMeans[0], columns=['GradMean'])\n",
    "data = pd.DataFrame(GiniMeans1, columns=['GradMean'])"
   ]
  },
  {
   "cell_type": "code",
   "execution_count": 46,
   "id": "1447be7f-6b9c-4bb5-a6e4-af631131fb11",
   "metadata": {
    "tags": []
   },
   "outputs": [
    {
     "data": {
      "image/png": "[encoded data removed]",
      "text/plain": [
       "<Figure size 640x480 with 1 Axes>"
      ]
     },
     "metadata": {},
     "output_type": "display_data"
    },
    {
     "data": {
      "text/plain": [
       "<ggplot: (8794750555805)>"
      ]
     },
     "execution_count": 46,
     "metadata": {},
     "output_type": "execute_result"
    }
   ],
   "source": [
    "(\n",
    "    ggplot(data, aes(x='GradMean'))\n",
    "    + geom_histogram(bins = np.floor(len(data['GradMean'])/100))\n",
    ")"
   ]
  },
  {
   "cell_type": "code",
   "execution_count": 64,
   "id": "b38a6df3-fb0d-4a4e-8937-42a685f48711",
   "metadata": {},
   "outputs": [],
   "source": [
    "# cylinder max konz (per cell)\n",
    "\n",
    "GiniMeans = np.full(99,np.nan)\n",
    "for pSet in range(99):\n",
    "    \n",
    "    path2file = 'none_55_'+str(pSet)+'_10to11_20mn_0s_5/'\n",
    "    rr = get_last_line_as_numpy_array(path2file+\"root_segments_tips.txt\", dtype =int)\n",
    "\n",
    "    Ginits = np.full(len(rr),np.nan)\n",
    "    for idx, gId in enumerate(rr):\n",
    "        #gId = rr[0]\n",
    "        fileName = \"Cyl_cellVol_\"+str(gId)+\".txt\"\n",
    "        cVol = get_last_line_as_numpy_array(path2file+fileName, dtype = float)\n",
    "        fileName = \"Cyl_content1_\"+str(gId)+\".txt\"\n",
    "        Q1 = get_last_line_as_numpy_array(path2file+fileName, dtype = float)\n",
    "\n",
    "        konz = Q1/cVol #mol/cm3\n",
    "        Ginits[idx] = max( Q1/cVol)\n",
    "    GiniMeans[pSet] = max(Ginits)\n",
    "    "
   ]
  },
  {
   "cell_type": "code",
   "execution_count": 67,
   "id": "a2d7fe7f-9d59-4ea4-bdbb-8f18b99d171d",
   "metadata": {},
   "outputs": [],
   "source": [
    "# get param set\n",
    "paramsets =  pd.read_csv('../output_random_rows.csv')"
   ]
  },
  {
   "cell_type": "code",
   "execution_count": 69,
   "id": "f5430724-d84f-4885-97b7-500882d3e4aa",
   "metadata": {},
   "outputs": [],
   "source": [
    "from SALib.sample import saltelli\n",
    "from SALib.analyze import sobol\n",
    "from SALib.test_functions import Ishigami"
   ]
  },
  {
   "cell_type": "code",
   "execution_count": null,
   "id": "e0d559a0-eb49-4b7c-af05-a2db086c2c98",
   "metadata": {},
   "outputs": [],
   "source": [
    "paramsets"
   ]
  },
  {
   "cell_type": "code",
   "execution_count": 26,
   "id": "ecb7e2d3-2f9a-4dcc-8c7a-41b5ab1fa2d2",
   "metadata": {},
   "outputs": [
    {
     "name": "stdout",
     "output_type": "stream",
     "text": [
      "0.00034320317119243456\n"
     ]
    }
   ],
   "source": [
    "problem = {\n",
    "        'num_vars': len(GiniMeans),\n",
    "        'names': namesVars_phlo,\n",
    "        'bounds': namesLim_phlo\n",
    "    }"
   ]
  },
  {
   "cell_type": "code",
   "execution_count": 34,
   "id": "117dd666-c9be-4379-8023-f73fd9990590",
   "metadata": {},
   "outputs": [
    {
     "data": {
      "image/png": "[encoded data removed]",
      "text/plain": [
       "<Figure size 640x480 with 1 Axes>"
      ]
     },
     "metadata": {},
     "output_type": "display_data"
    },
    {
     "data": {
      "text/plain": [
       "<ggplot: (8794740057697)>"
      ]
     },
     "execution_count": 34,
     "metadata": {},
     "output_type": "execute_result"
    }
   ],
   "source": [
    "(\n",
    "    ggplot(data0, aes(x='GradMean'))\n",
    "    + geom_histogram(bins = np.floor(len(data0['GradMean'])))\n",
    ")"
   ]
  },
  {
   "cell_type": "code",
   "execution_count": null,
   "id": "593f5c24-0843-4b30-ae2f-afb53e1f8920",
   "metadata": {},
   "outputs": [],
   "source": [
    "#better histokonz for cylindesr\n",
    "GiniMeans = []\n",
    "for pSet in range(99):\n",
    "    path2file = pathresults + 'param99none'+str(pSet)+'0dx_2dumux_10c_10.0to11.0_20mn_0s_192_100/'\n",
    "    rr = get_last_line_as_numpy_array(path2file+\"root_segments_tips.txt\")\n",
    "    Ginits = np.full(len(rr),np.nan)\n",
    "    print('\\npSet',pSet, 'len(rr)',len(rr))\n",
    "    for idx, gId in enumerate(rr):\n",
    "        print('rootid',idx, end =\", \")\n",
    "        #gId = rr[0]\n",
    "        fileName = \"Cyl_cellVol_\"+str(gId)+\".txt\"\n",
    "        cVol = get_last_line_as_numpy_array(path2file+fileName, dtype = float)\n",
    "        fileName = \"Cyl_content1_\"+str(gId)+\".txt\"\n",
    "        Q1 = get_last_line_as_numpy_array(path2file+fileName, dtype = float)\n",
    "        fileName = \"Cyl_watercontent_\"+str(gId)+\".txt\"\n",
    "        theta = get_last_line_as_numpy_array(path2file+fileName, dtype = float)\n",
    "        fileName = \"Cyl_coord_\"+str(gId)+\".txt\"\n",
    "        dofc = get_last_line_as_numpy_array(path2file+fileName, dtype = float)\n",
    "        watVol = theta * cVol\n",
    "        if False:\n",
    "            konz = Q1/cVol #mol/cm3\n",
    "        else:\n",
    "            konz = Q1/watVol #mol/cm3\n",
    "        Ginits[idx] = (np.diff( Q1/cVol)/np.diff(dofc))[0]\n",
    "    GiniMeans[pSet] = np.mean(Ginits)"
   ]
  }
 ],
 "metadata": {
  "kernelspec": {
   "display_name": "py38b",
   "language": "python",
   "name": "py38b"
  },
  "language_info": {
   "codemirror_mode": {
    "name": "ipython",
    "version": 3
   },
   "file_extension": ".py",
   "mimetype": "text/x-python",
   "name": "python",
   "nbconvert_exporter": "python",
   "pygments_lexer": "ipython3",
   "version": "3.8.15"
  }
 },
 "nbformat": 4,
 "nbformat_minor": 5
}
