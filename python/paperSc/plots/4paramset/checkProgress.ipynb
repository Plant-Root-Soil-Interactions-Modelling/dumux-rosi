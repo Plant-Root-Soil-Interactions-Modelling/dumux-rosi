{
 "cells": [
  {
   "cell_type": "code",
   "execution_count": 50,
   "id": "44672a67-f5ce-4923-ab83-5391490461a2",
   "metadata": {
    "tags": []
   },
   "outputs": [],
   "source": [
    "import os\n",
    "import pandas as pd\n",
    "import numpy as np\n",
    "pathresults = \"../../results/\"\n",
    "#pathresults = \"/DUMUXDune27/DUMUX/dumux-rosi/python/paperSc/results/\"\n",
    "data_file_delimiter = \",\"\n",
    "\n",
    "def getVal(mypath, filename, header=\"infer\",names = None):\n",
    "    fullpath = pathresults +mypath+filename\n",
    "    if names is None:\n",
    "        cst = pd.read_csv(fullpath,delimiter=data_file_delimiter, header = header).dropna(how= \"all\", axis=1)\n",
    "    else:\n",
    "        cst = pd.read_csv(fullpath,delimiter=data_file_delimiter, header = header, names = names).dropna(how= \"all\", axis=1)\n",
    "    return cst\n",
    "\n",
    "\n",
    "def get_last_line_as_numpy_array(file_path, filename,dtype = float):\n",
    "    with open(pathresults+file_path+filename, 'r') as file:\n",
    "        # Read all lines\n",
    "        lines = file.readlines()\n",
    "\n",
    "        # Check if there are any lines in the file\n",
    "        if not lines:\n",
    "            raise ValueError(\"The file is empty\")\n",
    "\n",
    "        # Get the last line\n",
    "        last_line = lines[-1].strip()\n",
    "\n",
    "        # Split the last line by commas and convert to NumPy array\n",
    "        array_from_last_line = np.array(last_line.split(','), dtype=dtype)\n",
    "\n",
    "        return array_from_last_line"
   ]
  },
  {
   "cell_type": "code",
   "execution_count": 78,
   "id": "f7afefd0-7a07-4deb-b193-5a24a00a5ae2",
   "metadata": {},
   "outputs": [
    {
     "name": "stdout",
     "output_type": "stream",
     "text": [
      "baseline 17 \t 20.7 \t [0.0, 0.0, 0.0, 0.0, 0.0, 0.0, 0.0, 0.0, 0.0]\n",
      "baseline 38 \t 20.0 \t [0.0, 0.0, 0.0, 0.0, 0.0, 0.0, 0.0, 0.0, 0.0]\n",
      "baseline 44 \t 24.7 \t [0.0, 0.0, 0.0, 0.0, 0.0, 0.0, 0.0, 0.0, 0.0]\n",
      "baseline 85 \t 16.2 \t [0.0, 0.0, 0.0, 0.0, 0.0, 0.0, 0.0, 0.0, 0.0]\n",
      "\n",
      "lateDry 17 \t 19.5 \t [0.011, 0.006, 0.0, 0.0, 0.0, 0.0, 0.0, 0.0, 0.0]\n",
      "lateDry 38 \t 20.5 \t [0.021, 0.014, 0.0, 0.0, 0.0, 0.0, 0.0, 0.0, 0.0]\n",
      "lateDry 44 \t 21.5 \t [0.02, 0.021, 0.0, 0.0, 0.0, 0.0, 0.0, 0.0, 0.0]\n",
      "lateDry 85 \t 14.7 \t [0.0, 0.0, 0.0, 0.0, 0.0, 0.0, 0.0, 0.0, 0.0]\n",
      "\n",
      "earlyDry 17 \t 13.6 \t [0.029, 0.026, 0.0, 0.0, 0.0, 0.0, 0.0, 0.0, 0.0]\n",
      "earlyDry 38 \t 14.7 \t [0.032, 0.083, 0.0, 0.0, 0.0, 0.0, 0.0, 0.0, 0.0]\n",
      "earlyDry 44 \t 16.4 \t [0.03, 0.033, 0.0, 0.0, 0.0, 0.0, 0.0, 0.0, 0.0]\n",
      "earlyDry 85 \t 13.6 \t [0.034, 0.036, 0.0, 0.0, 0.0, 0.0, 0.0, 0.0, 0.0]\n",
      "\n"
     ]
    }
   ],
   "source": [
    "\n",
    "path2file = r'newMucil4p/{}_1476_{}_10to25_20mn_0s_128/'\n",
    "scenarios = [\"baseline\", \"lateDry\",\"earlyDry\"] \n",
    "setIds = [17,38,44,85]\n",
    "\n",
    "result_list_comp = [(scenario, str(setId)) for scenario in scenarios for setId in setIds]\n",
    "\n",
    "numPset = len(result_list_comp)\n",
    "for i, pair  in enumerate(result_list_comp):\n",
    "    scenario, setId = pair[0], pair[1]\n",
    "    p2f = path2file.format(scenario, setId)\n",
    "    try:\n",
    "        tt = getVal(p2f, \"time.txt\",names= ['time','Qlight'])\n",
    "        time = tt.iloc[:,0]\n",
    "        errs = []\n",
    "        for nc in range(9):\n",
    "            errs.append(int(max(get_last_line_as_numpy_array(p2f, \"content_diff1d3drel\"+str(nc)+\".csv\"))*1000)/1000)\n",
    "        print(scenario, setId ,'\\t', (int((max(time))*10)/10),'\\t', errs)\n",
    "\n",
    "    except:\n",
    "        print('jump',p2f)\n",
    "    if str(85) == setId:\n",
    "        print()"
   ]
  },
  {
   "cell_type": "code",
   "execution_count": 79,
   "id": "e3fa2a00-5b5e-4eb8-9f50-866c26ed078e",
   "metadata": {},
   "outputs": [
    {
     "name": "stdout",
     "output_type": "stream",
     "text": [
      "baseline 17 \t 21.3 \t [0.0, 0.0, 0.0, 0.0, 0.0, 0.0, 0.0, 0.0, 0.0]\n",
      "baseline 38 \t 20.7 \t [0.0, 0.0, 0.0, 0.0, 0.0, 0.0, 0.0, 0.0, 0.0]\n",
      "baseline 44 \t 25.0 \t [0.0, 0.0, 0.0, 0.0, 0.0, 0.0, 0.0, 0.0, 0.0]\n",
      "baseline 85 \t 16.6 \t [0.0, 0.0, 0.0, 0.0, 0.0, 0.0, 0.0, 0.0, 0.0]\n",
      "\n",
      "lateDry 17 \t 19.8 \t [0.006, 0.006, 0.0, 0.0, 0.0, 0.0, 0.0, 0.0, 0.0]\n",
      "lateDry 38 \t 20.8 \t [0.021, 0.015, 0.0, 0.0, 0.0, 0.0, 0.0, 0.0, 0.0]\n",
      "lateDry 44 \t 22.0 \t [0.024, 0.025, 0.0, 0.0, 0.0, 0.0, 0.0, 0.0, 0.0]\n",
      "lateDry 85 \t 16.2 \t [0.0, 0.0, 0.0, 0.0, 0.0, 0.0, 0.0, 0.0, 0.0]\n",
      "\n",
      "earlyDry 17 \t 13.9 \t [0.029, 0.027, 0.0, 0.0, 0.0, 0.0, 0.0, 0.0, 0.0]\n",
      "earlyDry 38 \t 14.9 \t [0.032, 0.093, 0.0, 0.0, 0.0, 0.0, 0.0, 0.0, 0.0]\n",
      "earlyDry 44 \t 16.5 \t [0.03, 0.034, 0.0, 0.0, 0.0, 0.0, 0.0, 0.0, 0.0]\n",
      "earlyDry 85 \t 13.8 \t [0.034, 0.036, 0.0, 0.0, 0.0, 0.0, 0.0, 0.0, 0.0]\n",
      "\n"
     ]
    }
   ],
   "source": [
    "path2file = r'newMucil4p/{}_1476_{}_10to25_20mn_0s_128/'\n",
    "scenarios = [\"baseline\", \"lateDry\",\"earlyDry\"] \n",
    "setIds = [17,38,44,85]\n",
    "\n",
    "result_list_comp = [(scenario, str(setId)) for scenario in scenarios for setId in setIds]\n",
    "\n",
    "numPset = len(result_list_comp)\n",
    "for i, pair  in enumerate(result_list_comp):\n",
    "    scenario, setId = pair[0], pair[1]\n",
    "    p2f = path2file.format(scenario, setId)\n",
    "    try:\n",
    "        tt = getVal(p2f, \"time.txt\",names= ['time','Qlight'])\n",
    "        time = tt.iloc[:,0]\n",
    "        errs = []\n",
    "        for nc in range(9):\n",
    "            errs.append(int(max(get_last_line_as_numpy_array(p2f, \"content_diff1d3drel\"+str(nc)+\".csv\"))*1000)/1000)\n",
    "        print(scenario, setId ,'\\t', (int((max(time))*10)/10),'\\t', errs)\n",
    "\n",
    "    except:\n",
    "        print('jump',p2f)\n",
    "    if str(85) == setId:\n",
    "        print()"
   ]
  },
  {
   "cell_type": "code",
   "execution_count": 17,
   "id": "449b3c98-2cae-47e9-8d93-2764f33e5843",
   "metadata": {},
   "outputs": [
    {
     "data": {
      "text/plain": [
       "'FabFour/lateDry_1080_83_10to25_20mn_0s_128/'"
      ]
     },
     "execution_count": 17,
     "metadata": {},
     "output_type": "execute_result"
    }
   ],
   "source": [
    "p2f"
   ]
  },
  {
   "cell_type": "code",
   "execution_count": 30,
   "id": "6603e3a7-1f43-4107-8262-7c2fb884d19f",
   "metadata": {},
   "outputs": [],
   "source": [
    "tt = get_last_line_as_numpy_array(p2f, \"content_diff1d3drel0.csv\")"
   ]
  },
  {
   "cell_type": "code",
   "execution_count": 31,
   "id": "ae3e771c-f5c3-4e98-b9f1-e2fc00a02bb3",
   "metadata": {},
   "outputs": [
    {
     "data": {
      "text/plain": [
       "0.9556731060310762"
      ]
     },
     "execution_count": 31,
     "metadata": {},
     "output_type": "execute_result"
    }
   ],
   "source": [
    "max(tt)"
   ]
  },
  {
   "cell_type": "code",
   "execution_count": null,
   "id": "d7a4b311-4b13-4e14-a97f-29f621ec8381",
   "metadata": {},
   "outputs": [],
   "source": []
  }
 ],
 "metadata": {
  "kernelspec": {
   "display_name": "py38b",
   "language": "python",
   "name": "py38b"
  },
  "language_info": {
   "codemirror_mode": {
    "name": "ipython",
    "version": 3
   },
   "file_extension": ".py",
   "mimetype": "text/x-python",
   "name": "python",
   "nbconvert_exporter": "python",
   "pygments_lexer": "ipython3",
   "version": "3.8.15"
  }
 },
 "nbformat": 4,
 "nbformat_minor": 5
}
