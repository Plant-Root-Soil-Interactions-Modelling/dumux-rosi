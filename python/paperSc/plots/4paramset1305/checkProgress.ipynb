{
 "cells": [
  {
   "cell_type": "code",
   "execution_count": 3,
   "id": "44672a67-f5ce-4923-ab83-5391490461a2",
   "metadata": {
    "tags": []
   },
   "outputs": [],
   "source": [
    "import os\n",
    "import pandas as pd\n",
    "import numpy as np\n",
    "pathresults = \"../../results/\"\n",
    "#pathresults = \"/DUMUXDune27/DUMUX/dumux-rosi/python/paperSc/results/\"\n",
    "data_file_delimiter = \",\"\n",
    "\n",
    "def getVal(mypath, filename, header=\"infer\",names = None):\n",
    "    fullpath = pathresults +mypath+filename\n",
    "    if names is None:\n",
    "        cst = pd.read_csv(fullpath,delimiter=data_file_delimiter, header = header).dropna(how= \"all\", axis=1)\n",
    "    else:\n",
    "        cst = pd.read_csv(fullpath,delimiter=data_file_delimiter, header = header, names = names).dropna(how= \"all\", axis=1)\n",
    "    return cst\n",
    "\n",
    "\n",
    "def get_last_line_as_numpy_array(file_path, filename,dtype = float):\n",
    "    with open(pathresults+file_path+filename, 'r') as file:\n",
    "        # Read all lines\n",
    "        lines = file.readlines()\n",
    "\n",
    "        # Check if there are any lines in the file\n",
    "        if not lines:\n",
    "            raise ValueError(\"The file is empty\")\n",
    "\n",
    "        # Get the last line\n",
    "        last_line = lines[-1].strip()\n",
    "\n",
    "        # Split the last line by commas and convert to NumPy array\n",
    "        array_from_last_line = np.array(last_line.split(','), dtype=dtype)\n",
    "\n",
    "        return array_from_last_line"
   ]
  },
  {
   "cell_type": "code",
   "execution_count": 74,
   "id": "b3f34eb3-e5bf-459b-837a-8ac1f78782d6",
   "metadata": {},
   "outputs": [
    {
     "name": "stdout",
     "output_type": "stream",
     "text": [
      "baseline 5 \t 25.0 \t [0.0, 0.0, 0.0, 0.0, 0.0, 0.0, 0.0, 0.0, 0.0] 1199.99 1.18\n",
      "baseline 44 \t 25.0 \t [0.0, 0.0, 0.0, 0.0, 0.0, 0.0, 0.0, 0.0, 0.0] 1199.99 1.12\n",
      "baseline 61 \t 25.0 \t [0.0, 0.0, 0.0, 0.0, 0.0, 0.0, 0.0, 0.0, 0.0] 1199.99 0.59\n",
      "\n",
      "earlyDry 5 \t 17.0 \t [0.59, 0.343, 0.0, 0.0, 0.0, 0.0, 0.0, 0.0, 0.0] 8.88 8.23\n",
      "earlyDry 44 \t 17.2 \t [0.934, 0.304, 0.0, 0.0, 0.0, 0.0, 0.0, 0.0, 0.0] 1.38 5.98\n",
      "earlyDry 61 \t 25.0 \t [0.0, 0.026, 0.0, 0.0, 0.0, 0.0, 0.0, 0.0, 0.0] 199.99 3.11\n",
      "\n",
      "lateDry 5 \t 22.2 \t [0.269, 0.303, 0.0, 0.0, 0.0, 0.0, 0.0, 0.0, 0.0] 11.11 8.23\n",
      "lateDry 44 \t 21.0 \t [0.397, 0.222, 0.0, 0.0, 0.0, 0.0, 0.0, 0.0, 0.0] 10.16 5.98\n",
      "lateDry 61 \t 25.0 \t [1.933, 2.671, 0.0, 0.0, 0.0, 0.0, 0.0, 0.0, 0.0] 199.99 4.77\n",
      "\n",
      "earlyDry 61 \t 13.7 \t [0.237, 0.139, 0.0, 0.0, 0.0, 0.0, 0.0, 0.0, 0.0] 18.18 3.48\n",
      "\n"
     ]
    }
   ],
   "source": [
    "path2file = r'newtrans4/{}_1476_{}_10to25_20mn_0s_128/'\n",
    "scenarios = [\"baseline\",\"earlyDry\", \"lateDry\"] \n",
    "setIds = [5,44,61]\n",
    "\n",
    "result_list_comp = [(scenario, str(setId)) for scenario in scenarios for setId in setIds]\n",
    "\n",
    "numPset = len(result_list_comp)\n",
    "for i, pair  in enumerate(result_list_comp):\n",
    "    scenario, setId = pair[0], pair[1]\n",
    "    p2f = path2file.format(scenario, setId)\n",
    "    if True:#try:\n",
    "        tt = getVal(p2f, \"time.txt\",names= ['time','Qlight'])\n",
    "        time = tt.iloc[:,0]\n",
    "        errs = []\n",
    "        for nc in range(9):\n",
    "            errs.append(int(max(get_last_line_as_numpy_array(p2f, \"content_diff1d3drel\"+str(nc)+\".csv\"))*1000)/1000)\n",
    "        timeStep = getVal(p2f, \"inner_loopdata.csv\")['dt_inner'].iloc[-1] * 24 *60*60\n",
    "        realTime = getVal(p2f, \"totalComputetime.txt\",names= ['tot','V1','V2','V3'])['tot'].iloc[-1] /3600/24\n",
    "        print(scenario, setId ,'\\t', (int((max(time))*10)/10),'\\t', errs,\n",
    "             int(timeStep*100)/100, int(realTime*100)/100)\n",
    "    if int(setId) == 61:\n",
    "        print()\n",
    "\n",
    "path2file = r'newtrans7/{}_1476_{}_10to25_20mn_0s_128/'\n",
    "scenarios = [\"earlyDry\"] \n",
    "setIds = [61]\n",
    "\n",
    "result_list_comp = [(scenario, str(setId)) for scenario in scenarios for setId in setIds]\n",
    "\n",
    "numPset = len(result_list_comp)\n",
    "for i, pair  in enumerate(result_list_comp):\n",
    "    scenario, setId = pair[0], pair[1]\n",
    "    p2f = path2file.format(scenario, setId)\n",
    "    if True:#try:\n",
    "        tt = getVal(p2f, \"time.txt\",names= ['time','Qlight'])\n",
    "        time = tt.iloc[:,0]\n",
    "        errs = []\n",
    "        for nc in range(9):\n",
    "            errs.append(int(max(get_last_line_as_numpy_array(p2f, \"content_diff1d3drel\"+str(nc)+\".csv\"))*1000)/1000)\n",
    "        timeStep = getVal(p2f, \"inner_loopdata.csv\")['dt_inner'].iloc[-1] * 24 *60*60\n",
    "        realTime = getVal(p2f, \"totalComputetime.txt\",names= ['tot','V1','V2','V3'])['tot'].iloc[-1] /3600/24\n",
    "        print(scenario, setId ,'\\t', (int((max(time))*10)/10),'\\t', errs,\n",
    "             int(timeStep*100)/100, int(realTime*100)/100)\n",
    "    if int(setId) == 61:\n",
    "        print()"
   ]
  },
  {
   "cell_type": "code",
   "execution_count": 78,
   "id": "28a51597-b3d2-4f5d-bda4-88cae7e508b7",
   "metadata": {},
   "outputs": [
    {
     "name": "stdout",
     "output_type": "stream",
     "text": [
      "baseline 5 \t 25.0 \t [0.0, 0.0, 0.0, 0.0, 0.0, 0.0, 0.0, 0.0, 0.0] 1199.99 1.18\n",
      "baseline 44 \t 25.0 \t [0.0, 0.0, 0.0, 0.0, 0.0, 0.0, 0.0, 0.0, 0.0] 1199.99 1.12\n",
      "baseline 61 \t 25.0 \t [0.0, 0.0, 0.0, 0.0, 0.0, 0.0, 0.0, 0.0, 0.0] 1199.99 0.59\n",
      "\n",
      "earlyDry 5 \t 17.2 \t [0.594, 0.327, 0.0, 0.0, 0.0, 0.0, 0.0, 0.0, 0.0] 13.95 8.94\n",
      "earlyDry 44 \t 17.2 \t [0.935, 0.296, 0.0, 0.0, 0.0, 0.0, 0.0, 0.0, 0.0] 2.98 6.68\n",
      "earlyDry 61 \t 25.0 \t [0.0, 0.026, 0.0, 0.0, 0.0, 0.0, 0.0, 0.0, 0.0] 199.99 3.11\n",
      "\n",
      "lateDry 5 \t 22.4 \t [0.267, 0.413, 0.0, 0.0, 0.0, 0.0, 0.0, 0.0, 0.0] 15.38 8.94\n",
      "lateDry 44 \t 21.1 \t [0.399, 0.35, 0.0, 0.0, 0.0, 0.0, 0.0, 0.0, 0.0] 8.57 6.68\n",
      "lateDry 61 \t 25.0 \t [1.933, 2.671, 0.0, 0.0, 0.0, 0.0, 0.0, 0.0, 0.0] 199.99 4.77\n",
      "\n",
      "earlyDry 61 \t 14.2 \t [0.358, 0.205, 0.0, 0.0, 0.0, 0.0, 0.0, 0.0, 0.0] 9.52 4.18\n",
      "\n"
     ]
    }
   ],
   "source": [
    "\n",
    "path2file = r'newtrans4/{}_1476_{}_10to25_20mn_0s_128/'\n",
    "scenarios = [\"baseline\",\"earlyDry\", \"lateDry\"] \n",
    "setIds = [5,44,61]\n",
    "\n",
    "result_list_comp = [(scenario, str(setId)) for scenario in scenarios for setId in setIds]\n",
    "\n",
    "numPset = len(result_list_comp)\n",
    "for i, pair  in enumerate(result_list_comp):\n",
    "    scenario, setId = pair[0], pair[1]\n",
    "    p2f = path2file.format(scenario, setId)\n",
    "    if True:#try:\n",
    "        tt = getVal(p2f, \"time.txt\",names= ['time','Qlight'])\n",
    "        time = tt.iloc[:,0]\n",
    "        errs = []\n",
    "        for nc in range(9):\n",
    "            errs.append(int(max(get_last_line_as_numpy_array(p2f, \"content_diff1d3drel\"+str(nc)+\".csv\"))*1000)/1000)\n",
    "        timeStep = getVal(p2f, \"inner_loopdata.csv\")['dt_inner'].iloc[-1] * 24 *60*60\n",
    "        realTime = getVal(p2f, \"totalComputetime.txt\",names= ['tot','V1','V2','V3'])['tot'].iloc[-1] /3600/24\n",
    "        print(scenario, setId ,'\\t', (int((max(time))*10)/10),'\\t', errs,\n",
    "             int(timeStep*100)/100, int(realTime*100)/100)\n",
    "    if int(setId) == 61:\n",
    "        print()\n",
    "\n",
    "path2file = r'newtrans7/{}_1476_{}_10to25_20mn_0s_128/'\n",
    "scenarios = [\"earlyDry\"] \n",
    "setIds = [61]\n",
    "\n",
    "result_list_comp = [(scenario, str(setId)) for scenario in scenarios for setId in setIds]\n",
    "\n",
    "numPset = len(result_list_comp)\n",
    "for i, pair  in enumerate(result_list_comp):\n",
    "    scenario, setId = pair[0], pair[1]\n",
    "    p2f = path2file.format(scenario, setId)\n",
    "    if True:#try:\n",
    "        tt = getVal(p2f, \"time.txt\",names= ['time','Qlight'])\n",
    "        time = tt.iloc[:,0]\n",
    "        errs = []\n",
    "        for nc in range(9):\n",
    "            errs.append(int(max(get_last_line_as_numpy_array(p2f, \"content_diff1d3drel\"+str(nc)+\".csv\"))*1000)/1000)\n",
    "        timeStep = getVal(p2f, \"inner_loopdata.csv\")['dt_inner'].iloc[-1] * 24 *60*60\n",
    "        realTime = getVal(p2f, \"totalComputetime.txt\",names= ['tot','V1','V2','V3'])['tot'].iloc[-1] /3600/24\n",
    "        print(scenario, setId ,'\\t', (int((max(time))*10)/10),'\\t', errs,\n",
    "             int(timeStep*100)/100, int(realTime*100)/100)\n",
    "    if int(setId) == 61:\n",
    "        print()"
   ]
  },
  {
   "cell_type": "code",
   "execution_count": 7,
   "id": "94028ffe-fdb0-46a6-8596-44a186591ea3",
   "metadata": {},
   "outputs": [
    {
     "name": "stdout",
     "output_type": "stream",
     "text": [
      "baseline 7 \t 19.6 \t [0.0, 0.0, 0.0, 0.0, 0.0, 0.0, 0.0, 0.0, 0.0] 19.99\n",
      "baseline 21 \t 23.3 \t [0.0, 0.0, 0.0, 0.0, 0.0, 0.0, 0.0, 0.0, 0.0] 19.99\n",
      "baseline 47 \t 19.9 \t [0.0, 0.0, 0.0, 0.0, 0.0, 0.0, 0.0, 0.0, 0.0] 19.99\n",
      "baseline 85 \t 20.4 \t [0.0, 0.0, 0.0, 0.0, 0.0, 0.0, 0.0, 0.0, 0.0] 19.99\n",
      "\n",
      "lateDry 7 \t 19.3 \t [0.0, 0.0, 0.0, 0.0, 0.0, 0.0, 0.0, 0.0, 0.0] 9.99\n",
      "lateDry 21 \t 22.5 \t [0.192, 0.073, 0.0, 0.0, 0.0, 0.0, 0.0, 0.0, 0.0] 0.66\n",
      "lateDry 47 \t 20.5 \t [0.015, 0.012, 0.0, 0.0, 0.0, 0.0, 0.0, 0.0, 0.0] 1.66\n",
      "lateDry 85 \t 20.0 \t [0.011, 0.012, 0.0, 0.0, 0.0, 0.0, 0.0, 0.0, 0.0] 9.99\n",
      "\n",
      "earlyDry 7 \t 14.4 \t [0.035, 0.031, 0.0, 0.0, 0.0, 0.0, 0.0, 0.0, 0.0] 0.62\n",
      "earlyDry 21 \t 14.6 \t [0.037, 0.032, 0.0, 0.0, 0.0, 0.0, 0.0, 0.0, 0.0] 0.66\n",
      "earlyDry 47 \t 17.4 \t [0.024, 0.029, 0.0, 0.0, 0.0, 0.0, 0.0, 0.0, 0.0] 3.33\n",
      "earlyDry 85 \t 16.4 \t [0.029, 0.029, 0.0, 0.0, 0.0, 0.0, 0.0, 0.0, 0.0] 6.66\n",
      "\n"
     ]
    }
   ],
   "source": [
    "\n",
    "path2file = r'suc2cExudTip4p/{}_1476_{}_10to25_20mn_0s_128/'\n",
    "scenarios = [\"baseline\", \"lateDry\",\"earlyDry\"] \n",
    "setIds = [7,21,47,85]\n",
    "\n",
    "result_list_comp = [(scenario, str(setId)) for scenario in scenarios for setId in setIds]\n",
    "\n",
    "numPset = len(result_list_comp)\n",
    "for i, pair  in enumerate(result_list_comp):\n",
    "    scenario, setId = pair[0], pair[1]\n",
    "    p2f = path2file.format(scenario, setId)\n",
    "    if True:#try:\n",
    "        tt = getVal(p2f, \"time.txt\",names= ['time','Qlight'])\n",
    "        time = tt.iloc[:,0]\n",
    "        errs = []\n",
    "        for nc in range(9):\n",
    "            errs.append(int(max(get_last_line_as_numpy_array(p2f, \"content_diff1d3drel\"+str(nc)+\".csv\"))*1000)/1000)\n",
    "        timeStep = getVal(p2f, \"inner_loopdata.csv\")['dt_inner'].iloc[-1] * 24 *60#*60\n",
    "        print(scenario, setId ,'\\t', (int((max(time))*10)/10),'\\t', errs,\n",
    "             int(timeStep*100)/100)\n",
    "    #except:\n",
    "    #    print('jump',p2f)\n",
    "    if str(85) == setId:\n",
    "        print()"
   ]
  },
  {
   "cell_type": "code",
   "execution_count": 9,
   "id": "f7afefd0-7a07-4deb-b193-5a24a00a5ae2",
   "metadata": {},
   "outputs": [
    {
     "name": "stdout",
     "output_type": "stream",
     "text": [
      "baseline 17 \t 25.0 \t [0.0, 0.0, 0.0, 0.0, 0.0, 0.0, 0.0, 0.0, 0.0] 19.99\n",
      "baseline 38 \t 25.0 \t [0.0, 0.0, 0.0, 0.0, 0.0, 0.0, 0.0, 0.0, 0.0] 19.99\n",
      "baseline 44 \t 25.0 \t [0.0, 0.0, 0.0, 0.0, 0.0, 0.0, 0.0, 0.0, 0.0] 19.99\n",
      "baseline 85 \t 25.0 \t [0.0, 0.0, 0.0, 0.0, 0.0, 0.0, 0.0, 0.0, 0.0] 19.99\n",
      "\n",
      "lateDry 17 \t 25.0 \t [0.012, 0.016, 0.0, 0.0, 0.0, 0.0, 0.0, 0.0, 0.0] 9.99\n",
      "lateDry 38 \t 25.0 \t [0.016, 0.026, 0.0, 0.0, 0.0, 0.0, 0.0, 0.0, 0.0] 1.05\n",
      "lateDry 44 \t 25.0 \t [0.035, 0.038, 0.0, 0.0, 0.0, 0.0, 0.0, 0.0, 0.0] 9.99\n",
      "lateDry 85 \t 25.0 \t [0.041, 0.041, 0.0, 0.0, 0.0, 0.0, 0.0, 0.0, 0.0] 9.99\n",
      "\n",
      "earlyDry 17 \t 25.0 \t [0.0, 0.003, 0.0, 0.0, 0.0, 0.0, 0.0, 0.0, 0.0] 9.99\n",
      "earlyDry 38 \t 25.0 \t [0.0, 0.219, 0.0, 0.0, 0.0, 0.0, 0.0, 0.0, 0.0] 9.99\n",
      "earlyDry 44 \t 25.0 \t [0.0, 0.009, 0.0, 0.0, 0.0, 0.0, 0.0, 0.0, 0.0] 9.99\n",
      "earlyDry 85 \t 25.0 \t [0.0, 0.004, 0.0, 0.0, 0.0, 0.0, 0.0, 0.0, 0.0] 9.99\n",
      "\n"
     ]
    }
   ],
   "source": [
    "\n",
    "path2file = r'newMucil4p/{}_1476_{}_10to25_20mn_0s_128/'\n",
    "scenarios = [\"baseline\", \"lateDry\",\"earlyDry\"] \n",
    "setIds = [17,38,44,85]\n",
    "\n",
    "result_list_comp = [(scenario, str(setId)) for scenario in scenarios for setId in setIds]\n",
    "\n",
    "numPset = len(result_list_comp)\n",
    "for i, pair  in enumerate(result_list_comp):\n",
    "    scenario, setId = pair[0], pair[1]\n",
    "    p2f = path2file.format(scenario, setId)\n",
    "    try:\n",
    "        tt = getVal(p2f, \"time.txt\",names= ['time','Qlight'])\n",
    "        time = tt.iloc[:,0]\n",
    "        errs = []\n",
    "        for nc in range(9):\n",
    "            errs.append(int(max(get_last_line_as_numpy_array(p2f, \"content_diff1d3drel\"+str(nc)+\".csv\"))*1000)/1000)\n",
    "        timeStep = getVal(p2f, \"inner_loopdata.csv\")['dt_inner'].iloc[-1] * 24 *60#*60\n",
    "        realTime = getVal(p2f, \"totalComputetime.txt\",names= ['tot','V1','V2','V3'])['tot'].iloc[-1] /3600\n",
    "        print(scenario, setId ,'\\t', (int((max(time))*10)/10),'\\t', errs,\n",
    "             int(timeStep*100)/100)\n",
    "    except:\n",
    "        print('jump',p2f)\n",
    "    if str(85) == setId:\n",
    "        print()"
   ]
  },
  {
   "cell_type": "code",
   "execution_count": 5,
   "id": "e3fa2a00-5b5e-4eb8-9f50-866c26ed078e",
   "metadata": {},
   "outputs": [
    {
     "name": "stdout",
     "output_type": "stream",
     "text": [
      "baseline 17 \t 25.0 \t [0.0, 0.0, 0.0, 0.0, 0.0, 0.0, 0.0, 0.0, 0.0] 19.99\n",
      "baseline 38 \t 25.0 \t [0.0, 0.0, 0.0, 0.0, 0.0, 0.0, 0.0, 0.0, 0.0] 19.99\n",
      "baseline 44 \t 25.0 \t [0.0, 0.0, 0.0, 0.0, 0.0, 0.0, 0.0, 0.0, 0.0] 19.99\n",
      "baseline 85 \t 25.0 \t [0.0, 0.0, 0.0, 0.0, 0.0, 0.0, 0.0, 0.0, 0.0] 19.99\n",
      "\n",
      "lateDry 17 \t 24.6 \t [0.014, 0.015, 0.0, 0.0, 0.0, 0.0, 0.0, 0.0, 0.0] 0.76\n",
      "lateDry 38 \t 24.6 \t [0.009, 0.017, 0.0, 0.0, 0.0, 0.0, 0.0, 0.0, 0.0] 0.34\n",
      "lateDry 44 \t 25.0 \t [0.014, 0.013, 0.0, 0.0, 0.0, 0.0, 0.0, 0.0, 0.0] 9.99\n",
      "lateDry 85 \t 25.0 \t [0.016, 0.004, 0.0, 0.0, 0.0, 0.0, 0.0, 0.0, 0.0] 9.99\n",
      "\n",
      "earlyDry 17 \t 16.2 \t [0.026, 0.027, 0.0, 0.0, 0.0, 0.0, 0.0, 0.0, 0.0] 6.66\n",
      "earlyDry 38 \t 17.6 \t [0.014, 0.048, 0.0, 0.0, 0.0, 0.0, 0.0, 0.0, 0.0] 0.21\n",
      "earlyDry 44 \t 25.0 \t [0.0, 0.004, 0.0, 0.0, 0.0, 0.0, 0.0, 0.0, 0.0] 9.99\n",
      "earlyDry 85 \t 10.0 \t [0.0, 0.0, 0.0, 0.0, 0.0, 0.0, 0.0, 0.0, 0.0] 19.99\n",
      "\n"
     ]
    }
   ],
   "source": [
    "path2file = r'testFpit4p/{}_1476_{}_10to25_20mn_0s_128/'\n",
    "scenarios = [\"baseline\", \"lateDry\",\"earlyDry\"] \n",
    "setIds = [17,38,44,85]\n",
    "\n",
    "result_list_comp = [(scenario, str(setId)) for scenario in scenarios for setId in setIds]\n",
    "\n",
    "numPset = len(result_list_comp)\n",
    "for i, pair  in enumerate(result_list_comp):\n",
    "    scenario, setId = pair[0], pair[1]\n",
    "    p2f = path2file.format(scenario, setId)\n",
    "    try:\n",
    "        tt = getVal(p2f, \"time.txt\",names= ['time','Qlight'])\n",
    "        time = tt.iloc[:,0]\n",
    "        errs = []\n",
    "        for nc in range(9):\n",
    "            errs.append(int(max(get_last_line_as_numpy_array(p2f, \"content_diff1d3drel\"+str(nc)+\".csv\"))*1000)/1000)\n",
    "        timeStep = getVal(p2f, \"inner_loopdata.csv\")['dt_inner'].iloc[-1] * 24 *60\n",
    "        print(scenario, setId ,'\\t', (int((max(time))*10)/10),'\\t', errs,\n",
    "             int(timeStep*100)/100)\n",
    "\n",
    "    except:\n",
    "        print('jump',p2f)\n",
    "    if str(85) == setId:\n",
    "        print()"
   ]
  },
  {
   "cell_type": "code",
   "execution_count": 17,
   "id": "449b3c98-2cae-47e9-8d93-2764f33e5843",
   "metadata": {},
   "outputs": [
    {
     "data": {
      "text/plain": [
       "'FabFour/lateDry_1080_83_10to25_20mn_0s_128/'"
      ]
     },
     "execution_count": 17,
     "metadata": {},
     "output_type": "execute_result"
    }
   ],
   "source": [
    "path2file = r'testFpit4p/{}_1476_{}_10to25_20mn_0s_128/'\n",
    "scenarios = [\"baseline\", \"lateDry\",\"earlyDry\"] \n",
    "setIds = [17,38,44,85]\n",
    "\n",
    "result_list_comp = [(scenario, str(setId)) for scenario in scenarios for setId in setIds]\n",
    "\n",
    "numPset = len(result_list_comp)\n",
    "for i, pair  in enumerate(result_list_comp):\n",
    "    scenario, setId = pair[0], pair[1]\n",
    "    p2f = path2file.format(scenario, setId)\n",
    "    try:\n",
    "        tt = getVal(p2f, \"time.txt\",names= ['time','Qlight'])\n",
    "        time = tt.iloc[:,0]\n",
    "        errs = []\n",
    "        for nc in range(9):\n",
    "            errs.append(int(max(get_last_line_as_numpy_array(p2f, \"content_diff1d3drel\"+str(nc)+\".csv\"))*1000)/1000)\n",
    "        timeStep = getVal(p2f, \"inner_loopdata.csv\")['dt_inner'].iloc[-1] * 24 *60\n",
    "        print(scenario, setId ,'\\t', (int((max(time))*10)/10),'\\t', errs,\n",
    "             int(timeStep*100)/100)\n",
    "\n",
    "    except:\n",
    "        print('jump',p2f)\n",
    "    if str(85) == setId:\n",
    "        print()"
   ]
  },
  {
   "cell_type": "code",
   "execution_count": 30,
   "id": "6603e3a7-1f43-4107-8262-7c2fb884d19f",
   "metadata": {},
   "outputs": [],
   "source": [
    "tt = get_last_line_as_numpy_array(p2f, \"content_diff1d3drel0.csv\")"
   ]
  },
  {
   "cell_type": "code",
   "execution_count": 31,
   "id": "ae3e771c-f5c3-4e98-b9f1-e2fc00a02bb3",
   "metadata": {},
   "outputs": [
    {
     "data": {
      "text/plain": [
       "0.9556731060310762"
      ]
     },
     "execution_count": 31,
     "metadata": {},
     "output_type": "execute_result"
    }
   ],
   "source": [
    "max(tt)"
   ]
  },
  {
   "cell_type": "code",
   "execution_count": null,
   "id": "d7a4b311-4b13-4e14-a97f-29f621ec8381",
   "metadata": {},
   "outputs": [],
   "source": []
  }
 ],
 "metadata": {
  "kernelspec": {
   "display_name": "py38b",
   "language": "python",
   "name": "py38b"
  },
  "language_info": {
   "codemirror_mode": {
    "name": "ipython",
    "version": 3
   },
   "file_extension": ".py",
   "mimetype": "text/x-python",
   "name": "python",
   "nbconvert_exporter": "python",
   "pygments_lexer": "ipython3",
   "version": "3.8.15"
  }
 },
 "nbformat": 4,
 "nbformat_minor": 5
}
