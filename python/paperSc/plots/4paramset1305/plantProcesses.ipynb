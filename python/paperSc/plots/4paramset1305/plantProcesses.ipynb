{
 "cells": [
  {
   "cell_type": "code",
   "execution_count": null,
   "id": "f37a01ad-d9c5-4646-9098-1d06dd0768f9",
   "metadata": {},
   "outputs": [],
   "source": [
    "# basically, re-do the graphs from the 1st paper.\n",
    "# get RLD\n",
    "# get growth vs transpiration and assimilation \n",
    "# get shoot:rrot ratio\n",
    "# ATT: changes also caused by other differences (to check because kinda forgot what changed.)\n"
   ]
  }
 ],
 "metadata": {
  "kernelspec": {
   "display_name": "py38b",
   "language": "python",
   "name": "py38b"
  },
  "language_info": {
   "codemirror_mode": {
    "name": "ipython",
    "version": 3
   },
   "file_extension": ".py",
   "mimetype": "text/x-python",
   "name": "python",
   "nbconvert_exporter": "python",
   "pygments_lexer": "ipython3",
   "version": "3.8.15"
  }
 },
 "nbformat": 4,
 "nbformat_minor": 5
}
