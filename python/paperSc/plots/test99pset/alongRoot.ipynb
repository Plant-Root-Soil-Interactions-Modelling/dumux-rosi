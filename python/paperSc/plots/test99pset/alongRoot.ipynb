{
 "cells": [
  {
   "cell_type": "code",
   "execution_count": 12,
   "id": "1019bcb0",
   "metadata": {},
   "outputs": [],
   "source": [
    "import os\n",
    "import pandas as pd\n",
    "import numpy as np\n",
    "import matplotlib.pyplot as plt\n",
    "pathresults = \"../../results/\"\n",
    "#pathresults = \"/DUMUXDune27/DUMUX/dumux-rosi/python/paperSc/results/\"\n",
    "data_file_delimiter = \",\"\n",
    "import plotnine\n",
    "\n",
    "from plotnine import *\n",
    "\n",
    "# get param set\n",
    "paramsets =  pd.read_csv('../../output_random_rows.csv')\n",
    "paramsets = paramsets.drop(paramsets.columns.tolist()[-1],axis=1)\n",
    "outputvalsname =  ['wat','cs']\n",
    "column_names = outputvalsname + paramsets.columns.tolist()\n",
    "paramsets.drop('theta',inplace=True, axis=1)\n",
    "\n",
    "df = pd.read_pickle(\"./pset99_allcell.pkl\")  # cid, pSet, rr, 1 or 9\n",
    "\n",
    "\n",
    "nKonz = 2\n",
    "volIdx=3\n",
    "lenIdx=4\n",
    "stIdx=5\n",
    "orgIdId=6\n",
    "relLenId=7\n",
    "coordId = 8\n",
    "\n",
    "nToGet = coordId#elements + 3d coordinates of y , node+vol+len+st \n"
   ]
  },
  {
   "cell_type": "code",
   "execution_count": 13,
   "id": "dc059ea2-123e-414f-bb14-8b269f66163b",
   "metadata": {},
   "outputs": [
    {
     "data": {
      "text/plain": [
       "(9, 99)"
      ]
     },
     "execution_count": 13,
     "metadata": {},
     "output_type": "execute_result"
    }
   ],
   "source": [
    "df.shape"
   ]
  },
  {
   "cell_type": "code",
   "execution_count": 14,
   "id": "ffc1d34a",
   "metadata": {},
   "outputs": [],
   "source": [
    "konzcs = df.loc[1]# pSet, rr, 9\n",
    "vols = df.loc[volIdx]# pSet, rr, 9\n",
    "lens = df.loc[lenIdx]# pSet, rr, 1\n",
    "orgIds = df.loc[orgIdId]# pSet, rr, 1\n",
    "reLens =  df.loc[relLenId]\n",
    "coords =  df.loc[coordId]"
   ]
  },
  {
   "cell_type": "code",
   "execution_count": 22,
   "id": "35e56df6",
   "metadata": {},
   "outputs": [
    {
     "data": {
      "text/plain": [
       "2.0"
      ]
     },
     "execution_count": 22,
     "metadata": {},
     "output_type": "execute_result"
    }
   ],
   "source": [
    "reLens[0][1]"
   ]
  },
  {
   "cell_type": "code",
   "execution_count": 52,
   "id": "cf79508a",
   "metadata": {},
   "outputs": [
    {
     "data": {
      "text/plain": [
       "array([[0.05499005, 0.06596616, 0.07913313, ..., 0.16387281, 0.19658214,\n",
       "        0.2358203 ],\n",
       "       [0.02202224, 0.02647568, 0.03182971, ..., 0.06649286, 0.07993935,\n",
       "        0.09610504],\n",
       "       [0.02237719, 0.02769669, 0.03428072, ..., 0.08045234, 0.09957742,\n",
       "        0.1232489 ],\n",
       "       ...,\n",
       "       [0.02251649, 0.02818273, 0.03527487, ..., 0.08657551, 0.10836212,\n",
       "        0.13563129],\n",
       "       [0.02251649, 0.02818273, 0.03527487, ..., 0.08657551, 0.10836212,\n",
       "        0.13563129],\n",
       "       [0.02394735, 0.03340021, 0.04658443, ..., 0.17628183, 0.24586642,\n",
       "        0.34291849]])"
      ]
     },
     "execution_count": 52,
     "metadata": {},
     "output_type": "execute_result"
    }
   ],
   "source": [
    "coords[:][19]"
   ]
  },
  {
   "cell_type": "code",
   "execution_count": 18,
   "id": "cac5f12d",
   "metadata": {},
   "outputs": [
    {
     "data": {
      "text/plain": [
       "'[20, 20, 20, 20, 21, 20, 20, 21, 20, 20, 20, 20, 20, 20, 20, 20, 20, 20, 20, 20, 20, 20, 20, 20, 20, 20, 20, 20, 20, 20, 20, 20, 20, 20, 20, 20, 20, 20, 20, 20, 20, 20, 20, 20, 20, 20, 20, 21, 20, 20, 20, 21, 20, 20, 20, 20, 20, 20, 20, 20, 21, 20, 21, 20, 20, 20, 20, 20, 20, 20, 21, 20, 21, 21, 20, 20, 20, 20, 20, 20, 20, 20, 20, 21, 20, 21, 21, 20, 21, 20, 20, 20, 21, 21, 21, 20, 20, 21, 20]'"
      ]
     },
     "execution_count": 18,
     "metadata": {},
     "output_type": "execute_result"
    }
   ],
   "source": [
    "repr([sum(orgIds.loc[pSet]==1) for pSet in range(99) ])"
   ]
  },
  {
   "cell_type": "code",
   "execution_count": 42,
   "id": "f99abc0b",
   "metadata": {},
   "outputs": [],
   "source": [
    "dfnew = pd.DataFrame(columns=['locCylId','coords','konzcs','vols','lens','reLens','pSet'])\n",
    "\n",
    "for pSet in range(99):\n",
    "    \n",
    "    cyltr = sum(orgIds.loc[pSet]==1)# 21 or 22\n",
    "    locCylId = np.array([np.full(9,ii) for ii in range(cyltr)])\n",
    "    locCellId = np.full((cyltr,9),np.array([i for i in range(9)]))\n",
    "    \n",
    "    myData = pd.DataFrame({'locCylId':locCylId.reshape(-1)})\n",
    "    \n",
    "    myData['locCellId']= locCellId.reshape(-1)\n",
    "    myData['coords']= coords.loc[pSet][orgIds.loc[pSet]==1].reshape(-1)\n",
    "    myData['konzcs']= konzcs.loc[pSet][orgIds.loc[pSet]==1].reshape(-1)\n",
    "    myData['vols']= vols.loc[pSet][orgIds.loc[pSet]==1].reshape(-1)\n",
    "    \n",
    "    lens__ = lens.loc[pSet][orgIds.loc[pSet]==1]\n",
    "    lens_ = np.array([np.full(9, ll) for ll in lens__])\n",
    "    reLens__ = reLens.loc[pSet][orgIds.loc[pSet]==1]\n",
    "    reLens_ = np.array([np.full(9, ll) for ll in reLens__])\n",
    "    myData['lens']= lens_.reshape(-1)\n",
    "    myData['reLens']= reLens_.reshape(-1)\n",
    "    myData['pSet'] = pSet\n",
    "    \n",
    "    dfnew = pd.concat([dfnew, myData], ignore_index=True)\n",
    "    "
   ]
  },
  {
   "cell_type": "code",
   "execution_count": 47,
   "id": "f641816f-4d07-49e1-93d8-c9fbcaa61014",
   "metadata": {},
   "outputs": [
    {
     "name": "stdout",
     "output_type": "stream",
     "text": [
      "0.057472616323468714 0.06649286282483836\n"
     ]
    }
   ],
   "source": [
    "print(dfnew.loc[dfnew['locCellId']==0,'coords'].max(),\n",
    "      dfnew.loc[dfnew['locCellId']==6,'coords'].min())#0.06cm?"
   ]
  },
  {
   "cell_type": "code",
   "execution_count": 39,
   "id": "b57b03a4-ac1f-48fa-b366-eaa35f5f196f",
   "metadata": {},
   "outputs": [],
   "source": [
    "obsDis = 0.06\n",
    "\n",
    "dfnew = pd.DataFrame(columns=['locCylId','cs','reLens','pSet'])\n",
    "\n",
    "for pSet in range(99):\n",
    "    if len(coords.loc[pSet]) > 0:\n",
    "    \n",
    "        cyltr = sum(orgIds.loc[pSet]==1)# 19-22\n",
    "        locCylId = np.array([ii for ii in range(cyltr)])\n",
    "\n",
    "        myData = pd.DataFrame({'locCylId':locCylId.reshape(-1)})\n",
    "\n",
    "        #myData['locCellId']= locCellId#.reshape(-1)\n",
    "        #myData['coords']= coords.loc[pSet]#.reshape(-1)\n",
    "\n",
    "        #myData['konzcs']= konzcs.loc[pSet]#.reshape(-1)\n",
    "        #myData['vols']= vols.loc[pSet]#.reshape(-1)\n",
    "\n",
    "        #myData['lens']= lens.loc[pSet]\n",
    "        myData['reLens']= reLens[pSet][orgIds.loc[pSet]==1]\n",
    "        myData['pSet'] =  pSet\n",
    "\n",
    "        y_interp =np.array([np.interp(obsDis, coords.loc[pSet][cylloc],\n",
    "                                      konzcs[pSet][cylloc]\n",
    "                                     ) for cylloc in range(cyltr)])\n",
    "        myData['konzc'] = y_interp\n",
    "        dfnew = pd.concat([dfnew, myData], ignore_index=True)"
   ]
  },
  {
   "cell_type": "code",
   "execution_count": 40,
   "id": "9ada252f-4fba-48ca-bf84-2326774146cb",
   "metadata": {},
   "outputs": [
    {
     "data": {
      "text/html": [
       "<div>\n",
       "<style scoped>\n",
       "    .dataframe tbody tr th:only-of-type {\n",
       "        vertical-align: middle;\n",
       "    }\n",
       "\n",
       "    .dataframe tbody tr th {\n",
       "        vertical-align: top;\n",
       "    }\n",
       "\n",
       "    .dataframe thead th {\n",
       "        text-align: right;\n",
       "    }\n",
       "</style>\n",
       "<table border=\"1\" class=\"dataframe\">\n",
       "  <thead>\n",
       "    <tr style=\"text-align: right;\">\n",
       "      <th></th>\n",
       "      <th>locCylId</th>\n",
       "      <th>cs</th>\n",
       "      <th>reLens</th>\n",
       "      <th>pSet</th>\n",
       "      <th>konzc</th>\n",
       "    </tr>\n",
       "  </thead>\n",
       "  <tbody>\n",
       "    <tr>\n",
       "      <th>0</th>\n",
       "      <td>0</td>\n",
       "      <td>NaN</td>\n",
       "      <td>1.0</td>\n",
       "      <td>0</td>\n",
       "      <td>9.185186e-06</td>\n",
       "    </tr>\n",
       "    <tr>\n",
       "      <th>1</th>\n",
       "      <td>1</td>\n",
       "      <td>NaN</td>\n",
       "      <td>2.0</td>\n",
       "      <td>0</td>\n",
       "      <td>1.960936e-06</td>\n",
       "    </tr>\n",
       "    <tr>\n",
       "      <th>2</th>\n",
       "      <td>2</td>\n",
       "      <td>NaN</td>\n",
       "      <td>3.0</td>\n",
       "      <td>0</td>\n",
       "      <td>2.179401e-06</td>\n",
       "    </tr>\n",
       "    <tr>\n",
       "      <th>3</th>\n",
       "      <td>3</td>\n",
       "      <td>NaN</td>\n",
       "      <td>4.0</td>\n",
       "      <td>0</td>\n",
       "      <td>2.135895e-06</td>\n",
       "    </tr>\n",
       "    <tr>\n",
       "      <th>4</th>\n",
       "      <td>4</td>\n",
       "      <td>NaN</td>\n",
       "      <td>5.0</td>\n",
       "      <td>0</td>\n",
       "      <td>2.129707e-06</td>\n",
       "    </tr>\n",
       "    <tr>\n",
       "      <th>...</th>\n",
       "      <td>...</td>\n",
       "      <td>...</td>\n",
       "      <td>...</td>\n",
       "      <td>...</td>\n",
       "      <td>...</td>\n",
       "    </tr>\n",
       "    <tr>\n",
       "      <th>1992</th>\n",
       "      <td>15</td>\n",
       "      <td>NaN</td>\n",
       "      <td>16.0</td>\n",
       "      <td>98</td>\n",
       "      <td>6.567472e-07</td>\n",
       "    </tr>\n",
       "    <tr>\n",
       "      <th>1993</th>\n",
       "      <td>16</td>\n",
       "      <td>NaN</td>\n",
       "      <td>17.0</td>\n",
       "      <td>98</td>\n",
       "      <td>8.728945e-07</td>\n",
       "    </tr>\n",
       "    <tr>\n",
       "      <th>1994</th>\n",
       "      <td>17</td>\n",
       "      <td>NaN</td>\n",
       "      <td>18.0</td>\n",
       "      <td>98</td>\n",
       "      <td>9.250490e-07</td>\n",
       "    </tr>\n",
       "    <tr>\n",
       "      <th>1995</th>\n",
       "      <td>18</td>\n",
       "      <td>NaN</td>\n",
       "      <td>19.0</td>\n",
       "      <td>98</td>\n",
       "      <td>1.501308e-05</td>\n",
       "    </tr>\n",
       "    <tr>\n",
       "      <th>1996</th>\n",
       "      <td>19</td>\n",
       "      <td>NaN</td>\n",
       "      <td>20.0</td>\n",
       "      <td>98</td>\n",
       "      <td>6.431652e-07</td>\n",
       "    </tr>\n",
       "  </tbody>\n",
       "</table>\n",
       "<p>1997 rows × 5 columns</p>\n",
       "</div>"
      ],
      "text/plain": [
       "     locCylId   cs  reLens pSet         konzc\n",
       "0           0  NaN     1.0    0  9.185186e-06\n",
       "1           1  NaN     2.0    0  1.960936e-06\n",
       "2           2  NaN     3.0    0  2.179401e-06\n",
       "3           3  NaN     4.0    0  2.135895e-06\n",
       "4           4  NaN     5.0    0  2.129707e-06\n",
       "...       ...  ...     ...  ...           ...\n",
       "1992       15  NaN    16.0   98  6.567472e-07\n",
       "1993       16  NaN    17.0   98  8.728945e-07\n",
       "1994       17  NaN    18.0   98  9.250490e-07\n",
       "1995       18  NaN    19.0   98  1.501308e-05\n",
       "1996       19  NaN    20.0   98  6.431652e-07\n",
       "\n",
       "[1997 rows x 5 columns]"
      ]
     },
     "execution_count": 40,
     "metadata": {},
     "output_type": "execute_result"
    }
   ],
   "source": [
    "dfnew"
   ]
  },
  {
   "cell_type": "code",
   "execution_count": 20,
   "id": "0ee2e8a8",
   "metadata": {},
   "outputs": [],
   "source": [
    "dfnew['rIn'] = -1\n",
    "dfnew['rOut'] = -1\n",
    "dfnew.loc[dfnew['locCellId']==0,'rIn'] = 0.05\n",
    "for pSet in range(99):\n",
    "    cyltr = sum(orgIds.loc[pSet]==1)\n",
    "    for cylid in range(cyltr):\n",
    "        #lenCyl = dfnew[dfnew['pSet']==pSet][dfnew['locCylId']==cylid]['rIn'] \n",
    "        for cellid in range(1,9):\n",
    "            rowcell = dfnew.loc[(dfnew['pSet']==pSet)&(\n",
    "                dfnew['locCylId']==cylid)&(\n",
    "                dfnew['locCellId']==cellid)].index.tolist()[0]\n",
    "            lencyl = dfnew.at[rowcell,'lens']\n",
    "            vol =  dfnew.at[rowcell,'vols']\n",
    "            dfnew.at[rowcell,'rOut'] = np.sqrt(vol/(np.pi*lencyl) +dfnew.at[rowcell,'rIn']**2 )\n",
    "            \n",
    "            if cellid < 8:\n",
    "                rownextcell = dfnew.loc[(dfnew['pSet']==pSet)&(dfnew['locCylId']==cylid)&(dfnew['locCellId']==0)].index.tolist()[0]\n",
    "                dfnew.at[rownextcell,'rIn'] = dfnew.at[rowcell,'rOut']\n"
   ]
  },
  {
   "cell_type": "code",
   "execution_count": 24,
   "id": "fb80ba94",
   "metadata": {},
   "outputs": [
    {
     "data": {
      "text/html": [
       "<div>\n",
       "<style scoped>\n",
       "    .dataframe tbody tr th:only-of-type {\n",
       "        vertical-align: middle;\n",
       "    }\n",
       "\n",
       "    .dataframe tbody tr th {\n",
       "        vertical-align: top;\n",
       "    }\n",
       "\n",
       "    .dataframe thead th {\n",
       "        text-align: right;\n",
       "    }\n",
       "</style>\n",
       "<table border=\"1\" class=\"dataframe\">\n",
       "  <thead>\n",
       "    <tr style=\"text-align: right;\">\n",
       "      <th></th>\n",
       "      <th>locCylId</th>\n",
       "      <th>coords</th>\n",
       "      <th>konzcs</th>\n",
       "      <th>vols</th>\n",
       "      <th>lens</th>\n",
       "      <th>reLens</th>\n",
       "      <th>pSet</th>\n",
       "      <th>locCellId</th>\n",
       "      <th>rIn</th>\n",
       "      <th>rOut</th>\n",
       "    </tr>\n",
       "  </thead>\n",
       "  <tbody>\n",
       "    <tr>\n",
       "      <th>0</th>\n",
       "      <td>0</td>\n",
       "      <td>0.054990</td>\n",
       "      <td>1.073521e-05</td>\n",
       "      <td>0.003448</td>\n",
       "      <td>1.0</td>\n",
       "      <td>1.0</td>\n",
       "      <td>0</td>\n",
       "      <td>0.0</td>\n",
       "      <td>1.006989</td>\n",
       "      <td>-1.000000</td>\n",
       "    </tr>\n",
       "    <tr>\n",
       "      <th>1</th>\n",
       "      <td>0</td>\n",
       "      <td>0.065966</td>\n",
       "      <td>7.339324e-06</td>\n",
       "      <td>0.004962</td>\n",
       "      <td>1.0</td>\n",
       "      <td>1.0</td>\n",
       "      <td>0</td>\n",
       "      <td>1.0</td>\n",
       "      <td>-1.000000</td>\n",
       "      <td>1.000789</td>\n",
       "    </tr>\n",
       "    <tr>\n",
       "      <th>2</th>\n",
       "      <td>0</td>\n",
       "      <td>0.079133</td>\n",
       "      <td>4.557653e-06</td>\n",
       "      <td>0.007141</td>\n",
       "      <td>1.0</td>\n",
       "      <td>1.0</td>\n",
       "      <td>0</td>\n",
       "      <td>2.0</td>\n",
       "      <td>-1.000000</td>\n",
       "      <td>1.001136</td>\n",
       "    </tr>\n",
       "    <tr>\n",
       "      <th>3</th>\n",
       "      <td>0</td>\n",
       "      <td>0.094928</td>\n",
       "      <td>2.556139e-06</td>\n",
       "      <td>0.010276</td>\n",
       "      <td>1.0</td>\n",
       "      <td>1.0</td>\n",
       "      <td>0</td>\n",
       "      <td>3.0</td>\n",
       "      <td>-1.000000</td>\n",
       "      <td>1.001634</td>\n",
       "    </tr>\n",
       "    <tr>\n",
       "      <th>4</th>\n",
       "      <td>0</td>\n",
       "      <td>0.113876</td>\n",
       "      <td>1.326372e-06</td>\n",
       "      <td>0.014788</td>\n",
       "      <td>1.0</td>\n",
       "      <td>1.0</td>\n",
       "      <td>0</td>\n",
       "      <td>4.0</td>\n",
       "      <td>-1.000000</td>\n",
       "      <td>1.002351</td>\n",
       "    </tr>\n",
       "    <tr>\n",
       "      <th>5</th>\n",
       "      <td>0</td>\n",
       "      <td>0.136606</td>\n",
       "      <td>7.028279e-07</td>\n",
       "      <td>0.021280</td>\n",
       "      <td>1.0</td>\n",
       "      <td>1.0</td>\n",
       "      <td>0</td>\n",
       "      <td>5.0</td>\n",
       "      <td>-1.000000</td>\n",
       "      <td>1.003381</td>\n",
       "    </tr>\n",
       "    <tr>\n",
       "      <th>6</th>\n",
       "      <td>0</td>\n",
       "      <td>0.163873</td>\n",
       "      <td>4.505152e-07</td>\n",
       "      <td>0.030623</td>\n",
       "      <td>1.0</td>\n",
       "      <td>1.0</td>\n",
       "      <td>0</td>\n",
       "      <td>6.0</td>\n",
       "      <td>-1.000000</td>\n",
       "      <td>1.004862</td>\n",
       "    </tr>\n",
       "    <tr>\n",
       "      <th>7</th>\n",
       "      <td>0</td>\n",
       "      <td>0.196582</td>\n",
       "      <td>3.717496e-07</td>\n",
       "      <td>0.044068</td>\n",
       "      <td>1.0</td>\n",
       "      <td>1.0</td>\n",
       "      <td>0</td>\n",
       "      <td>7.0</td>\n",
       "      <td>-1.000000</td>\n",
       "      <td>1.006989</td>\n",
       "    </tr>\n",
       "    <tr>\n",
       "      <th>8</th>\n",
       "      <td>0</td>\n",
       "      <td>0.235820</td>\n",
       "      <td>3.537835e-07</td>\n",
       "      <td>0.063415</td>\n",
       "      <td>1.0</td>\n",
       "      <td>1.0</td>\n",
       "      <td>0</td>\n",
       "      <td>8.0</td>\n",
       "      <td>-1.000000</td>\n",
       "      <td>1.010042</td>\n",
       "    </tr>\n",
       "    <tr>\n",
       "      <th>9</th>\n",
       "      <td>1</td>\n",
       "      <td>0.022022</td>\n",
       "      <td>8.987728e-06</td>\n",
       "      <td>0.000560</td>\n",
       "      <td>1.0</td>\n",
       "      <td>2.0</td>\n",
       "      <td>0</td>\n",
       "      <td>0.0</td>\n",
       "      <td>1.001173</td>\n",
       "      <td>-1.000000</td>\n",
       "    </tr>\n",
       "  </tbody>\n",
       "</table>\n",
       "</div>"
      ],
      "text/plain": [
       "  locCylId    coords        konzcs      vols  lens  reLens pSet  locCellId  \\\n",
       "0        0  0.054990  1.073521e-05  0.003448   1.0     1.0    0        0.0   \n",
       "1        0  0.065966  7.339324e-06  0.004962   1.0     1.0    0        1.0   \n",
       "2        0  0.079133  4.557653e-06  0.007141   1.0     1.0    0        2.0   \n",
       "3        0  0.094928  2.556139e-06  0.010276   1.0     1.0    0        3.0   \n",
       "4        0  0.113876  1.326372e-06  0.014788   1.0     1.0    0        4.0   \n",
       "5        0  0.136606  7.028279e-07  0.021280   1.0     1.0    0        5.0   \n",
       "6        0  0.163873  4.505152e-07  0.030623   1.0     1.0    0        6.0   \n",
       "7        0  0.196582  3.717496e-07  0.044068   1.0     1.0    0        7.0   \n",
       "8        0  0.235820  3.537835e-07  0.063415   1.0     1.0    0        8.0   \n",
       "9        1  0.022022  8.987728e-06  0.000560   1.0     2.0    0        0.0   \n",
       "\n",
       "        rIn      rOut  \n",
       "0  1.006989 -1.000000  \n",
       "1 -1.000000  1.000789  \n",
       "2 -1.000000  1.001136  \n",
       "3 -1.000000  1.001634  \n",
       "4 -1.000000  1.002351  \n",
       "5 -1.000000  1.003381  \n",
       "6 -1.000000  1.004862  \n",
       "7 -1.000000  1.006989  \n",
       "8 -1.000000  1.010042  \n",
       "9  1.001173 -1.000000  "
      ]
     },
     "execution_count": 24,
     "metadata": {},
     "output_type": "execute_result"
    }
   ],
   "source": [
    "dfnew.head(n=10)#[dfnew['coords'] < 0.05]"
   ]
  },
  {
   "cell_type": "code",
   "execution_count": 72,
   "id": "dc6aa5fe",
   "metadata": {},
   "outputs": [
    {
     "data": {
      "text/plain": [
       "0        0.054990\n",
       "9        0.022022\n",
       "18       0.022174\n",
       "27       0.022305\n",
       "36       0.022305\n",
       "           ...   \n",
       "18675    0.023947\n",
       "18684    0.023947\n",
       "18693    0.057473\n",
       "18702    0.022816\n",
       "18711    0.023422\n",
       "Name: coords, Length: 2080, dtype: float64"
      ]
     },
     "execution_count": 72,
     "metadata": {},
     "output_type": "execute_result"
    }
   ],
   "source": [
    "dfnew.loc[dfnew['locCellId']==0,'coords']# = 0.05"
   ]
  },
  {
   "cell_type": "code",
   "execution_count": 74,
   "id": "0b35d2ea",
   "metadata": {},
   "outputs": [],
   "source": [
    "dfnew.to_pickle('./cyl10to11_celss2.pkl')"
   ]
  },
  {
   "cell_type": "code",
   "execution_count": 77,
   "id": "a1af9c50",
   "metadata": {},
   "outputs": [
    {
     "name": "stdout",
     "output_type": "stream",
     "text": [
      "0.02202224498672597 0.057472616323468714\n",
      "0.09610504338489201 0.47702422259471233\n"
     ]
    }
   ],
   "source": [
    "print(dfnew.loc[dfnew['locCellId']==0,'coords'].min(),dfnew.loc[dfnew['locCellId']==0,'coords'].max())\n",
    "print(dfnew.loc[dfnew['locCellId']==8,'coords'].min(),dfnew.loc[dfnew['locCellId']==8,'coords'].max())"
   ]
  },
  {
   "cell_type": "code",
   "execution_count": null,
   "id": "5b54f077",
   "metadata": {},
   "outputs": [],
   "source": [
    "dist = 0.0"
   ]
  },
  {
   "cell_type": "code",
   "execution_count": null,
   "id": "b6d77faf",
   "metadata": {},
   "outputs": [],
   "source": [
    "dfnew.loc[dfnew['locCellId']==0,'rIn']"
   ]
  },
  {
   "cell_type": "code",
   "execution_count": null,
   "id": "34f17974",
   "metadata": {},
   "outputs": [],
   "source": [
    "plt.scatter(dfnew['yX'],df['yZ'] , #np.log(df['cc']),np.log(df['co']), \n",
    "            c= np.log(df['cs']),#s=df['cs'],\n",
    "            alpha=0.3, edgecolors ='none')\n",
    "plt.rcParams.update({'figure.figsize':(5,5), 'figure.dpi':100})\n",
    "#plt.title()\n",
    "plt.colorbar()\n",
    "plt.xlabel('cs')\n",
    "plt.ylabel('co +cc')\n",
    "plt.show()"
   ]
  },
  {
   "cell_type": "code",
   "execution_count": 41,
   "id": "ebb31852",
   "metadata": {},
   "outputs": [],
   "source": [
    "\n",
    "cyltr = sum(orgIds.loc[pSet]==1)# 21\n",
    "locCylId = np.array([np.full(9,ii) for ii in range(cyltr)])\n",
    "locCellId = np.full((21,cyltr),np.array([i for i in range(cyltr)]))\n",
    "\n",
    "myData = pd.DataFrame({'locCylId':locCylId.reshape(-1)})\n",
    "\n",
    "#myData['locCellId']= locCellId.reshape(-1)"
   ]
  },
  {
   "cell_type": "code",
   "execution_count": 49,
   "id": "f91c2fde",
   "metadata": {},
   "outputs": [
    {
     "data": {
      "text/plain": [
       "(22, 9)"
      ]
     },
     "execution_count": 49,
     "metadata": {},
     "output_type": "execute_result"
    }
   ],
   "source": [
    "locCylId.shape"
   ]
  },
  {
   "cell_type": "code",
   "execution_count": 50,
   "id": "e9115fcc",
   "metadata": {},
   "outputs": [
    {
     "data": {
      "text/plain": [
       "(21, 9)"
      ]
     },
     "execution_count": 50,
     "metadata": {},
     "output_type": "execute_result"
    }
   ],
   "source": [
    "locCellId.shape"
   ]
  },
  {
   "cell_type": "code",
   "execution_count": 33,
   "id": "ac2a90c0",
   "metadata": {},
   "outputs": [],
   "source": [
    "lens__ = lens.loc[pSet][orgIds.loc[0]==1]"
   ]
  },
  {
   "cell_type": "code",
   "execution_count": 36,
   "id": "7f43bcfc",
   "metadata": {},
   "outputs": [],
   "source": [
    "lens_ = np.array([np.full(9, ll) for ll in lens__])"
   ]
  },
  {
   "cell_type": "code",
   "execution_count": 37,
   "id": "3a69cb05",
   "metadata": {},
   "outputs": [
    {
     "data": {
      "text/plain": [
       "array([[1., 1., 1., 1., 1., 1., 1., 1., 1.],\n",
       "       [1., 1., 1., 1., 1., 1., 1., 1., 1.],\n",
       "       [1., 1., 1., 1., 1., 1., 1., 1., 1.],\n",
       "       [1., 1., 1., 1., 1., 1., 1., 1., 1.],\n",
       "       [1., 1., 1., 1., 1., 1., 1., 1., 1.],\n",
       "       [1., 1., 1., 1., 1., 1., 1., 1., 1.],\n",
       "       [1., 1., 1., 1., 1., 1., 1., 1., 1.],\n",
       "       [1., 1., 1., 1., 1., 1., 1., 1., 1.],\n",
       "       [1., 1., 1., 1., 1., 1., 1., 1., 1.],\n",
       "       [1., 1., 1., 1., 1., 1., 1., 1., 1.],\n",
       "       [1., 1., 1., 1., 1., 1., 1., 1., 1.],\n",
       "       [1., 1., 1., 1., 1., 1., 1., 1., 1.],\n",
       "       [1., 1., 1., 1., 1., 1., 1., 1., 1.],\n",
       "       [1., 1., 1., 1., 1., 1., 1., 1., 1.],\n",
       "       [1., 1., 1., 1., 1., 1., 1., 1., 1.],\n",
       "       [1., 1., 1., 1., 1., 1., 1., 1., 1.],\n",
       "       [1., 1., 1., 1., 1., 1., 1., 1., 1.],\n",
       "       [1., 1., 1., 1., 1., 1., 1., 1., 1.],\n",
       "       [1., 1., 1., 1., 1., 1., 1., 1., 1.],\n",
       "       [1., 1., 1., 1., 1., 1., 1., 1., 1.],\n",
       "       [1., 1., 1., 1., 1., 1., 1., 1., 1.]])"
      ]
     },
     "execution_count": 37,
     "metadata": {},
     "output_type": "execute_result"
    }
   ],
   "source": [
    "lens_"
   ]
  },
  {
   "cell_type": "code",
   "execution_count": 21,
   "id": "fa842e40",
   "metadata": {},
   "outputs": [
    {
     "data": {
      "text/plain": [
       "(21, 9)"
      ]
     },
     "execution_count": 21,
     "metadata": {},
     "output_type": "execute_result"
    }
   ],
   "source": [
    "cc.shape"
   ]
  },
  {
   "cell_type": "code",
   "execution_count": 26,
   "id": "cac2e135",
   "metadata": {},
   "outputs": [
    {
     "data": {
      "text/plain": [
       "array([0.05499005, 0.06596616, 0.07913313, 0.09492826, 0.11387611,\n",
       "       0.136606  , 0.16387281, 0.19658214, 0.2358203 ])"
      ]
     },
     "execution_count": 26,
     "metadata": {},
     "output_type": "execute_result"
    }
   ],
   "source": [
    "cc[0]"
   ]
  },
  {
   "cell_type": "code",
   "execution_count": 25,
   "id": "c436db0b",
   "metadata": {},
   "outputs": [
    {
     "data": {
      "text/plain": [
       "array([0.05499005, 0.06596616, 0.07913313, 0.09492826, 0.11387611,\n",
       "       0.136606  , 0.16387281, 0.19658214, 0.2358203 , 0.02202224,\n",
       "       0.02647568, 0.03182971, 0.03826646, 0.04600488, 0.05530819,\n",
       "       0.06649286, 0.07993935, 0.09610504, 0.02217415, 0.02699516,\n",
       "       0.03286432, 0.04000953, 0.04870822, 0.05929814, 0.07219047,\n",
       "       0.08788579, 0.10699352, 0.02230469, 0.02744521, 0.03377047,\n",
       "       0.04155351, 0.05113028, 0.0629142 , 0.07741395, 0.09525543,\n",
       "       0.11720881, 0.02230469, 0.02744521, 0.03377047, 0.04155351,\n",
       "       0.05113028, 0.0629142 , 0.07741395, 0.09525543, 0.11720881,\n",
       "       0.02202224, 0.02647568, 0.03182971, 0.03826646, 0.04600488,\n",
       "       0.05530819, 0.06649286, 0.07993935, 0.09610504, 0.0227442 ,\n",
       "       0.02898565, 0.03693989, 0.04707692, 0.05999575, 0.07645977,\n",
       "       0.09744183, 0.12418179, 0.15825972, 0.02363763, 0.03223614,\n",
       "       0.04396248, 0.05995442, 0.08176365, 0.11150628, 0.15206819,\n",
       "       0.20738504, 0.28282415, 0.0227442 , 0.02898565, 0.03693989,\n",
       "       0.04707692, 0.05999575, 0.07645977, 0.09744183, 0.12418179,\n",
       "       0.15825972, 0.05505561, 0.06618921, 0.07957429, 0.09566616,\n",
       "       0.1150122 , 0.13827048, 0.16623216, 0.19984837, 0.24026261,\n",
       "       0.02217415, 0.02699516, 0.03286432, 0.04000953, 0.04870822,\n",
       "       0.05929814, 0.07219047, 0.08788579, 0.10699352, 0.02394735,\n",
       "       0.03340021, 0.04658443, 0.06497294, 0.09062003, 0.12639092,\n",
       "       0.17628183, 0.24586642, 0.34291849, 0.02394735, 0.03340021,\n",
       "       0.04658443, 0.06497294, 0.09062003, 0.12639092, 0.17628183,\n",
       "       0.24586642, 0.34291849, 0.02325789, 0.03083506, 0.04088079,\n",
       "       0.05419931, 0.07185685, 0.09526704, 0.12630401, 0.16745248,\n",
       "       0.22200668, 0.02298905, 0.02986058, 0.03878605, 0.05037938,\n",
       "       0.065438  , 0.08499773, 0.11040395, 0.1434042 , 0.18626838,\n",
       "       0.0228162 , 0.0292417 , 0.03747675, 0.04803096, 0.06155744,\n",
       "       0.07889325, 0.10111118, 0.12958611, 0.16608016, 0.02394735,\n",
       "       0.03340021, 0.04658443, 0.06497294, 0.09062003, 0.12639092,\n",
       "       0.17628183, 0.24586642, 0.34291849, 0.02394735, 0.03340021,\n",
       "       0.04658443, 0.06497294, 0.09062003, 0.12639092, 0.17628183,\n",
       "       0.24586642, 0.34291849, 0.05747262, 0.07465145, 0.09696511,\n",
       "       0.12594844, 0.16359501, 0.21249432, 0.27600986, 0.3585105 ,\n",
       "       0.46567095, 0.0228162 , 0.0292417 , 0.03747675, 0.04803096,\n",
       "       0.06155744, 0.07889325, 0.10111118, 0.12958611, 0.16608016,\n",
       "       0.02325789, 0.03083506, 0.04088079, 0.05419931, 0.07185685,\n",
       "       0.09526704, 0.12630401, 0.16745248, 0.22200668])"
      ]
     },
     "execution_count": 25,
     "metadata": {},
     "output_type": "execute_result"
    }
   ],
   "source": [
    "cc.reshape(-1)"
   ]
  },
  {
   "cell_type": "code",
   "execution_count": null,
   "id": "977d3577",
   "metadata": {},
   "outputs": [],
   "source": []
  }
 ],
 "metadata": {
  "kernelspec": {
   "display_name": "py38b",
   "language": "python",
   "name": "py38b"
  },
  "language_info": {
   "codemirror_mode": {
    "name": "ipython",
    "version": 3
   },
   "file_extension": ".py",
   "mimetype": "text/x-python",
   "name": "python",
   "nbconvert_exporter": "python",
   "pygments_lexer": "ipython3",
   "version": "3.8.15"
  }
 },
 "nbformat": 4,
 "nbformat_minor": 5
}
