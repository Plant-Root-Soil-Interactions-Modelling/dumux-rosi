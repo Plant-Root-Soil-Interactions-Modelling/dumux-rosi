{
 "cells": [
  {
   "cell_type": "code",
   "execution_count": 5,
   "id": "d4f53691-631d-47b7-8fc7-c316062c1a72",
   "metadata": {},
   "outputs": [],
   "source": [
    "import os\n",
    "import pandas as pd\n",
    "import numpy as np\n",
    "import matplotlib.pyplot as plt\n",
    "import matplotlib\n",
    "pathresults = \"../../results/\"\n",
    "#pathresults = \"/DUMUXDune27/DUMUX/dumux-rosi/python/paperSc/results/\"\n",
    "data_file_delimiter = \",\"\n",
    "\n",
    "import matplotlib.ticker as mtick\n",
    "import seaborn as sns\n",
    "viridis = matplotlib.colormaps.get_cmap('viridis')\n",
    "from matplotlib import colors"
   ]
  },
  {
   "cell_type": "code",
   "execution_count": 6,
   "id": "5fedcd59-1140-4abd-a7a5-bc125d69b636",
   "metadata": {},
   "outputs": [],
   "source": [
    "\n",
    "def get_last_line_as_numpy_array(file_path, timeLine,pos = False, dtype = float, verbose = False):\n",
    "    with open(pathresults +file_path, 'r') as file:\n",
    "        # Read all lines\n",
    "        lines = file.readlines()\n",
    "\n",
    "        # Check if there are any lines in the file\n",
    "        if not lines:\n",
    "            raise ValueError(\"The file is empty\")\n",
    "\n",
    "        # Get the last line\n",
    "        \n",
    "        try:\n",
    "            if pos:\n",
    "                last_line = lines[timeLine-1].strip()\n",
    "            else:\n",
    "                last_line = lines[-timeLine-1].strip()\n",
    "        except:\n",
    "            print('timeLine',file_path, len(lines)-timeLine, len(lines))\n",
    "            raise Exception\n",
    "\n",
    "        # Split the last line by commas and convert to NumPy array\n",
    "        array_from_last_line = np.array(last_line.split(','), dtype=dtype)\n",
    "        if verbose:\n",
    "            print(file_path, len(array_from_last_line), end=\", \")\n",
    "\n",
    "        return array_from_last_line"
   ]
  },
  {
   "cell_type": "code",
   "execution_count": 13,
   "id": "e058bbd6-4188-49ff-8493-ab41099b54b6",
   "metadata": {},
   "outputs": [
    {
     "name": "stdout",
     "output_type": "stream",
     "text": [
      "forEGUearlyDry_1440_76_10to25_20mn_0s_128/watVol.csv 1440, forEGUearlyDry_1440_76_10to25_20mn_0s_128/Soil_solute_conc1.csv 1440, "
     ]
    }
   ],
   "source": [
    "df = pd.read_pickle(\"./forEgu25.pkl\")\n",
    "scenarios = [\"earlyDry\",\"baseline\",\"lateDry\"]\n",
    "path2file = \"forEGU\"+scenarios[0]+\"_1440_76_10to25_20mn_0s_128/\"\n",
    "watVol3d = get_last_line_as_numpy_array(path2file+\"watVol.csv\", timeLine=0,pos = True, dtype =float, verbose = True)\n",
    "C1_3d = get_last_line_as_numpy_array(path2file+\"Soil_solute_conc1.csv\", timeLine=0,pos = True, dtype =float, verbose = True)"
   ]
  },
  {
   "cell_type": "code",
   "execution_count": 9,
   "id": "35a7ceb8-a8f8-41d9-93f3-2a6fdf4d5333",
   "metadata": {},
   "outputs": [
    {
     "data": {
      "text/plain": [
       "array([0.43      , 0.43      , 0.43      , ..., 0.33256215, 0.33256215,\n",
       "       0.33256215])"
      ]
     },
     "execution_count": 9,
     "metadata": {},
     "output_type": "execute_result"
    }
   ],
   "source": [
    "watVol3d"
   ]
  },
  {
   "cell_type": "code",
   "execution_count": 10,
   "id": "4173d890-529a-4420-ab88-d68487bf0b3f",
   "metadata": {},
   "outputs": [],
   "source": [
    "df = df[df[\"scenario\"]=='earlyDry']"
   ]
  },
  {
   "cell_type": "code",
   "execution_count": 14,
   "id": "c2d42af5-9037-4863-8fbf-9254bfcc5cc7",
   "metadata": {},
   "outputs": [
    {
     "name": "stdout",
     "output_type": "stream",
     "text": [
      "1.8251873003213782e-05 6.974342559093251e-08 3.7481466638694714e-06 1.4932407169796256e-06\n"
     ]
    }
   ],
   "source": [
    "print(max(df['cs']), min(df['cs']),max(C1_3d), min(C1_3d) )"
   ]
  },
  {
   "cell_type": "code",
   "execution_count": null,
   "id": "e03cc952-cd0b-4dcd-9578-ae719e0bc639",
   "metadata": {},
   "outputs": [],
   "source": []
  }
 ],
 "metadata": {
  "kernelspec": {
   "display_name": "py38b",
   "language": "python",
   "name": "py38b"
  },
  "language_info": {
   "codemirror_mode": {
    "name": "ipython",
    "version": 3
   },
   "file_extension": ".py",
   "mimetype": "text/x-python",
   "name": "python",
   "nbconvert_exporter": "python",
   "pygments_lexer": "ipython3",
   "version": "3.8.15"
  }
 },
 "nbformat": 4,
 "nbformat_minor": 5
}
