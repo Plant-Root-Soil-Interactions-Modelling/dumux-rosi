{
 "cells": [
  {
   "cell_type": "code",
   "execution_count": 1,
   "id": "1019bcb0",
   "metadata": {},
   "outputs": [],
   "source": [
    "import os\n",
    "import pandas as pd\n",
    "import numpy as np\n",
    "import matplotlib.pyplot as plt\n",
    "pathresults = \"../results/\"\n",
    "#pathresults = \"/DUMUXDune27/DUMUX/dumux-rosi/python/paperSc/results/\"\n",
    "data_file_delimiter = \",\"\n",
    "import plotnine\n",
    "\n",
    "from plotnine import *\n",
    "\n",
    "# get param set\n",
    "paramsets =  pd.read_csv('../output_random_rows.csv')\n",
    "paramsets = paramsets.drop(paramsets.columns.tolist()[-1],axis=1)\n",
    "outputvalsname =  ['wat','cs','cl','coa','cod','cca',\n",
    "                   'ccd','css2','co2','yX','yY','yZ']\n",
    "column_names = outputvalsname + paramsets.columns.tolist()\n",
    "paramsets.drop('theta',inplace=True, axis=1)\n",
    "\n",
    "df = pd.read_pickle(\"./cyl10to11_1d1dF.pkl\")  # cid, pSet, rr, 1 or 9\n",
    "\n",
    "\n",
    "numPset = 99\n",
    "nKonz = 9\n",
    "dictXYZ = {9:'X',10:'Y',11:'Z'}\n",
    "volIdx=12\n",
    "lenIdx=13\n",
    "stIdx=14\n",
    "orgIdId=15\n",
    "relLenId=16\n",
    "coordId = 17\n",
    "nToGet = coordId+1 #elements + 3d coordinates of y , node+vol+len+st"
   ]
  },
  {
   "cell_type": "code",
   "execution_count": 3,
   "id": "dc059ea2-123e-414f-bb14-8b269f66163b",
   "metadata": {},
   "outputs": [
    {
     "data": {
      "text/plain": [
       "(16, 99)"
      ]
     },
     "execution_count": 3,
     "metadata": {},
     "output_type": "execute_result"
    }
   ],
   "source": [
    "df.shape"
   ]
  },
  {
   "cell_type": "code",
   "execution_count": 2,
   "id": "ffc1d34a",
   "metadata": {},
   "outputs": [
    {
     "ename": "KeyError",
     "evalue": "16",
     "output_type": "error",
     "traceback": [
      "\u001b[0;31m---------------------------------------------------------------------------\u001b[0m",
      "\u001b[0;31mValueError\u001b[0m                                Traceback (most recent call last)",
      "File \u001b[0;32m~/.local/lib/python3.8/site-packages/pandas/core/indexes/range.py:385\u001b[0m, in \u001b[0;36mRangeIndex.get_loc\u001b[0;34m(self, key, method, tolerance)\u001b[0m\n\u001b[1;32m    384\u001b[0m \u001b[38;5;28;01mtry\u001b[39;00m:\n\u001b[0;32m--> 385\u001b[0m     \u001b[38;5;28;01mreturn\u001b[39;00m \u001b[38;5;28;43mself\u001b[39;49m\u001b[38;5;241;43m.\u001b[39;49m\u001b[43m_range\u001b[49m\u001b[38;5;241;43m.\u001b[39;49m\u001b[43mindex\u001b[49m\u001b[43m(\u001b[49m\u001b[43mnew_key\u001b[49m\u001b[43m)\u001b[49m\n\u001b[1;32m    386\u001b[0m \u001b[38;5;28;01mexcept\u001b[39;00m \u001b[38;5;167;01mValueError\u001b[39;00m \u001b[38;5;28;01mas\u001b[39;00m err:\n",
      "\u001b[0;31mValueError\u001b[0m: 16 is not in range",
      "\nThe above exception was the direct cause of the following exception:\n",
      "\u001b[0;31mKeyError\u001b[0m                                  Traceback (most recent call last)",
      "Cell \u001b[0;32mIn[2], line 5\u001b[0m\n\u001b[1;32m      3\u001b[0m lens \u001b[38;5;241m=\u001b[39m df\u001b[38;5;241m.\u001b[39mloc[lenIdx]\u001b[38;5;66;03m# pSet, rr, 1\u001b[39;00m\n\u001b[1;32m      4\u001b[0m orgIds \u001b[38;5;241m=\u001b[39m df\u001b[38;5;241m.\u001b[39mloc[orgIdId]\u001b[38;5;66;03m# pSet, rr, 1\u001b[39;00m\n\u001b[0;32m----> 5\u001b[0m reLens \u001b[38;5;241m=\u001b[39m  \u001b[43mdf\u001b[49m\u001b[38;5;241;43m.\u001b[39;49m\u001b[43mloc\u001b[49m\u001b[43m[\u001b[49m\u001b[43mrelLenId\u001b[49m\u001b[43m]\u001b[49m\n\u001b[1;32m      6\u001b[0m coords \u001b[38;5;241m=\u001b[39m  df\u001b[38;5;241m.\u001b[39mloc[coordId]\n",
      "File \u001b[0;32m~/.local/lib/python3.8/site-packages/pandas/core/indexing.py:967\u001b[0m, in \u001b[0;36m_LocationIndexer.__getitem__\u001b[0;34m(self, key)\u001b[0m\n\u001b[1;32m    964\u001b[0m axis \u001b[38;5;241m=\u001b[39m \u001b[38;5;28mself\u001b[39m\u001b[38;5;241m.\u001b[39maxis \u001b[38;5;129;01mor\u001b[39;00m \u001b[38;5;241m0\u001b[39m\n\u001b[1;32m    966\u001b[0m maybe_callable \u001b[38;5;241m=\u001b[39m com\u001b[38;5;241m.\u001b[39mapply_if_callable(key, \u001b[38;5;28mself\u001b[39m\u001b[38;5;241m.\u001b[39mobj)\n\u001b[0;32m--> 967\u001b[0m \u001b[38;5;28;01mreturn\u001b[39;00m \u001b[38;5;28;43mself\u001b[39;49m\u001b[38;5;241;43m.\u001b[39;49m\u001b[43m_getitem_axis\u001b[49m\u001b[43m(\u001b[49m\u001b[43mmaybe_callable\u001b[49m\u001b[43m,\u001b[49m\u001b[43m \u001b[49m\u001b[43maxis\u001b[49m\u001b[38;5;241;43m=\u001b[39;49m\u001b[43maxis\u001b[49m\u001b[43m)\u001b[49m\n",
      "File \u001b[0;32m~/.local/lib/python3.8/site-packages/pandas/core/indexing.py:1205\u001b[0m, in \u001b[0;36m_LocIndexer._getitem_axis\u001b[0;34m(self, key, axis)\u001b[0m\n\u001b[1;32m   1203\u001b[0m \u001b[38;5;66;03m# fall thru to straight lookup\u001b[39;00m\n\u001b[1;32m   1204\u001b[0m \u001b[38;5;28mself\u001b[39m\u001b[38;5;241m.\u001b[39m_validate_key(key, axis)\n\u001b[0;32m-> 1205\u001b[0m \u001b[38;5;28;01mreturn\u001b[39;00m \u001b[38;5;28;43mself\u001b[39;49m\u001b[38;5;241;43m.\u001b[39;49m\u001b[43m_get_label\u001b[49m\u001b[43m(\u001b[49m\u001b[43mkey\u001b[49m\u001b[43m,\u001b[49m\u001b[43m \u001b[49m\u001b[43maxis\u001b[49m\u001b[38;5;241;43m=\u001b[39;49m\u001b[43maxis\u001b[49m\u001b[43m)\u001b[49m\n",
      "File \u001b[0;32m~/.local/lib/python3.8/site-packages/pandas/core/indexing.py:1153\u001b[0m, in \u001b[0;36m_LocIndexer._get_label\u001b[0;34m(self, label, axis)\u001b[0m\n\u001b[1;32m   1151\u001b[0m \u001b[38;5;28;01mdef\u001b[39;00m \u001b[38;5;21m_get_label\u001b[39m(\u001b[38;5;28mself\u001b[39m, label, axis: \u001b[38;5;28mint\u001b[39m):\n\u001b[1;32m   1152\u001b[0m     \u001b[38;5;66;03m# GH#5667 this will fail if the label is not present in the axis.\u001b[39;00m\n\u001b[0;32m-> 1153\u001b[0m     \u001b[38;5;28;01mreturn\u001b[39;00m \u001b[38;5;28;43mself\u001b[39;49m\u001b[38;5;241;43m.\u001b[39;49m\u001b[43mobj\u001b[49m\u001b[38;5;241;43m.\u001b[39;49m\u001b[43mxs\u001b[49m\u001b[43m(\u001b[49m\u001b[43mlabel\u001b[49m\u001b[43m,\u001b[49m\u001b[43m \u001b[49m\u001b[43maxis\u001b[49m\u001b[38;5;241;43m=\u001b[39;49m\u001b[43maxis\u001b[49m\u001b[43m)\u001b[49m\n",
      "File \u001b[0;32m~/.local/lib/python3.8/site-packages/pandas/core/generic.py:3864\u001b[0m, in \u001b[0;36mNDFrame.xs\u001b[0;34m(self, key, axis, level, drop_level)\u001b[0m\n\u001b[1;32m   3862\u001b[0m             new_index \u001b[38;5;241m=\u001b[39m index[loc]\n\u001b[1;32m   3863\u001b[0m \u001b[38;5;28;01melse\u001b[39;00m:\n\u001b[0;32m-> 3864\u001b[0m     loc \u001b[38;5;241m=\u001b[39m \u001b[43mindex\u001b[49m\u001b[38;5;241;43m.\u001b[39;49m\u001b[43mget_loc\u001b[49m\u001b[43m(\u001b[49m\u001b[43mkey\u001b[49m\u001b[43m)\u001b[49m\n\u001b[1;32m   3866\u001b[0m     \u001b[38;5;28;01mif\u001b[39;00m \u001b[38;5;28misinstance\u001b[39m(loc, np\u001b[38;5;241m.\u001b[39mndarray):\n\u001b[1;32m   3867\u001b[0m         \u001b[38;5;28;01mif\u001b[39;00m loc\u001b[38;5;241m.\u001b[39mdtype \u001b[38;5;241m==\u001b[39m np\u001b[38;5;241m.\u001b[39mbool_:\n",
      "File \u001b[0;32m~/.local/lib/python3.8/site-packages/pandas/core/indexes/range.py:387\u001b[0m, in \u001b[0;36mRangeIndex.get_loc\u001b[0;34m(self, key, method, tolerance)\u001b[0m\n\u001b[1;32m    385\u001b[0m         \u001b[38;5;28;01mreturn\u001b[39;00m \u001b[38;5;28mself\u001b[39m\u001b[38;5;241m.\u001b[39m_range\u001b[38;5;241m.\u001b[39mindex(new_key)\n\u001b[1;32m    386\u001b[0m     \u001b[38;5;28;01mexcept\u001b[39;00m \u001b[38;5;167;01mValueError\u001b[39;00m \u001b[38;5;28;01mas\u001b[39;00m err:\n\u001b[0;32m--> 387\u001b[0m         \u001b[38;5;28;01mraise\u001b[39;00m \u001b[38;5;167;01mKeyError\u001b[39;00m(key) \u001b[38;5;28;01mfrom\u001b[39;00m \u001b[38;5;21;01merr\u001b[39;00m\n\u001b[1;32m    388\u001b[0m \u001b[38;5;28mself\u001b[39m\u001b[38;5;241m.\u001b[39m_check_indexing_error(key)\n\u001b[1;32m    389\u001b[0m \u001b[38;5;28;01mraise\u001b[39;00m \u001b[38;5;167;01mKeyError\u001b[39;00m(key)\n",
      "\u001b[0;31mKeyError\u001b[0m: 16"
     ]
    }
   ],
   "source": [
    "konzcs = df.loc[0]# pSet, rr, 9\n",
    "vols = df.loc[volIdx]# pSet, rr, 9\n",
    "lens = df.loc[lenIdx]# pSet, rr, 1\n",
    "orgIds = df.loc[orgIdId]# pSet, rr, 1\n",
    "reLens =  df.loc[relLenId]\n",
    "coords =  df.loc[coordId]"
   ]
  },
  {
   "cell_type": "code",
   "execution_count": null,
   "id": "35e56df6",
   "metadata": {},
   "outputs": [],
   "source": [
    "coords[pSet][1]"
   ]
  },
  {
   "cell_type": "code",
   "execution_count": 84,
   "id": "cf79508a",
   "metadata": {},
   "outputs": [
    {
     "data": {
      "text/plain": [
       "0     [1, 1, 1, 1, 1, 1, 1, 1, 1, 1, 1, 1, 1, 1, 1, ...\n",
       "1     [1, 1, 1, 1, 1, 1, 1, 1, 1, 1, 1, 1, 1, 1, 1, ...\n",
       "2     [1, 1, 1, 1, 1, 1, 1, 1, 1, 1, 1, 1, 1, 1, 1, ...\n",
       "3     [1, 1, 1, 1, 1, 1, 1, 1, 1, 1, 1, 1, 1, 1, 1, ...\n",
       "4     [1, 1, 1, 1, 1, 1, 1, 1, 1, 1, 1, 1, 1, 1, 1, ...\n",
       "                            ...                        \n",
       "94    [1, 1, 1, 1, 1, 1, 1, 1, 1, 1, 1, 1, 1, 1, 1, ...\n",
       "95    [1, 1, 1, 1, 1, 1, 1, 1, 1, 1, 1, 1, 1, 1, 1, ...\n",
       "96    [1, 1, 1, 1, 1, 1, 1, 1, 1, 1, 1, 1, 1, 1, 1, ...\n",
       "97    [1, 1, 1, 1, 1, 1, 1, 1, 1, 1, 1, 1, 1, 1, 1, ...\n",
       "98    [1, 1, 1, 1, 1, 1, 1, 1, 1, 1, 1, 1, 1, 1, 1, ...\n",
       "Name: 15, Length: 99, dtype: object"
      ]
     },
     "execution_count": 84,
     "metadata": {},
     "output_type": "execute_result"
    }
   ],
   "source": [
    "orgIds"
   ]
  },
  {
   "cell_type": "code",
   "execution_count": 52,
   "id": "cac5f12d",
   "metadata": {},
   "outputs": [
    {
     "data": {
      "text/plain": [
       "'[21, 21, 21, 21, 21, 21, 21, 21, 21, 21, 21, 21, 21, 21, 21, 21, 21, 21, 21, 21, 21, 21, 21, 21, 21, 21, 21, 21, 21, 21, 21, 21, 21, 21, 21, 21, 21, 21, 21, 21, 21, 21, 21, 21, 21, 21, 21, 21, 21, 21, 21, 21, 21, 21, 21, 21, 21, 21, 21, 21, 21, 21, 21, 21, 21, 21, 21, 21, 21, 21, 21, 21, 21, 21, 21, 21, 21, 21, 21, 21, 21, 21, 21, 21, 21, 22, 21, 21, 21, 21, 21, 21, 21, 21, 21, 21, 21, 21, 21]'"
      ]
     },
     "execution_count": 52,
     "metadata": {},
     "output_type": "execute_result"
    }
   ],
   "source": [
    "repr([sum(orgIds.loc[pSet]==1) for pSet in range(99) ])"
   ]
  },
  {
   "cell_type": "code",
   "execution_count": 55,
   "id": "f99abc0b",
   "metadata": {},
   "outputs": [],
   "source": [
    "dfnew = pd.DataFrame(columns=['locCylId','coords','konzcs','vols','lens','reLens','pSet'])\n",
    "\n",
    "for pSet in range(99):\n",
    "    \n",
    "    cyltr = sum(orgIds.loc[pSet]==1)# 21 or 22\n",
    "    locCylId = np.array([np.full(9,ii) for ii in range(cyltr)])\n",
    "    locCellId = np.full((cyltr,9),np.array([i for i in range(9)]))\n",
    "    \n",
    "    myData = pd.DataFrame({'locCylId':locCylId.reshape(-1)})\n",
    "    \n",
    "    myData['locCellId']= locCellId.reshape(-1)\n",
    "    myData['coords']= coords.loc[pSet][orgIds.loc[pSet]==1].reshape(-1)\n",
    "    myData['konzcs']= konzcs.loc[pSet][orgIds.loc[pSet]==1].reshape(-1)\n",
    "    myData['vols']= vols.loc[pSet][orgIds.loc[pSet]==1].reshape(-1)\n",
    "    \n",
    "    lens__ = lens.loc[pSet][orgIds.loc[pSet]==1]\n",
    "    lens_ = np.array([np.full(9, ll) for ll in lens__])\n",
    "    reLens__ = reLens.loc[pSet][orgIds.loc[pSet]==1]\n",
    "    reLens_ = np.array([np.full(9, ll) for ll in reLens__])\n",
    "    myData['lens']= lens_.reshape(-1)\n",
    "    myData['reLens']= reLens_.reshape(-1)\n",
    "    myData['pSet'] = pSet\n",
    "    \n",
    "    dfnew = pd.concat([dfnew, myData], ignore_index=True)\n",
    "    "
   ]
  },
  {
   "cell_type": "code",
   "execution_count": 71,
   "id": "0ee2e8a8",
   "metadata": {},
   "outputs": [],
   "source": [
    "dfnew['rIn'] = -1\n",
    "dfnew['rOut'] = -1\n",
    "dfnew.loc[dfnew['locCellId']==0,'rIn'] = 0.05\n",
    "for pSet in range(99):\n",
    "    cyltr = sum(orgIds.loc[pSet]==1)\n",
    "    for cylid in range(cyltr):\n",
    "        #lenCyl = dfnew[dfnew['pSet']==pSet][dfnew['locCylId']==cylid]['rIn'] \n",
    "        for cellid in range(1,9):\n",
    "            rowcell = dfnew.loc[(dfnew['pSet']==pSet)&(dfnew['locCylId']==cylid)&(dfnew['locCellId']==cellid)].index.tolist()[0]\n",
    "            lencyl = dfnew.at[rowcell,'lens']\n",
    "            vol =  dfnew.at[rowcell,'vols']\n",
    "            dfnew.at[rowcell,'rOut'] = np.sqrt(vol/(np.pi*lencyl) +dfnew.at[rowcell,'rIn']**2 )\n",
    "            \n",
    "            if cellid < 8:\n",
    "                rownextcell = dfnew.loc[(dfnew['pSet']==pSet)&(dfnew['locCylId']==cylid)&(dfnew['locCellId']==0)].index.tolist()[0]\n",
    "                dfnew.at[rownextcell,'rIn'] = dfnew.at[rowcell,'rOut']\n"
   ]
  },
  {
   "cell_type": "code",
   "execution_count": 79,
   "id": "fb80ba94",
   "metadata": {},
   "outputs": [
    {
     "data": {
      "text/html": [
       "<div>\n",
       "<style scoped>\n",
       "    .dataframe tbody tr th:only-of-type {\n",
       "        vertical-align: middle;\n",
       "    }\n",
       "\n",
       "    .dataframe tbody tr th {\n",
       "        vertical-align: top;\n",
       "    }\n",
       "\n",
       "    .dataframe thead th {\n",
       "        text-align: right;\n",
       "    }\n",
       "</style>\n",
       "<table border=\"1\" class=\"dataframe\">\n",
       "  <thead>\n",
       "    <tr style=\"text-align: right;\">\n",
       "      <th></th>\n",
       "      <th>locCylId</th>\n",
       "      <th>coords</th>\n",
       "      <th>konzcs</th>\n",
       "      <th>vols</th>\n",
       "      <th>lens</th>\n",
       "      <th>reLens</th>\n",
       "      <th>pSet</th>\n",
       "      <th>locCellId</th>\n",
       "      <th>rIn</th>\n",
       "      <th>rOut</th>\n",
       "    </tr>\n",
       "  </thead>\n",
       "  <tbody>\n",
       "    <tr>\n",
       "      <th>9</th>\n",
       "      <td>1</td>\n",
       "      <td>0.022022</td>\n",
       "      <td>0.000147</td>\n",
       "      <td>0.000560</td>\n",
       "      <td>1.0</td>\n",
       "      <td>2.0</td>\n",
       "      <td>0</td>\n",
       "      <td>0.0</td>\n",
       "      <td>1.001173</td>\n",
       "      <td>-1.000000</td>\n",
       "    </tr>\n",
       "    <tr>\n",
       "      <th>10</th>\n",
       "      <td>1</td>\n",
       "      <td>0.026476</td>\n",
       "      <td>0.000212</td>\n",
       "      <td>0.000809</td>\n",
       "      <td>1.0</td>\n",
       "      <td>2.0</td>\n",
       "      <td>0</td>\n",
       "      <td>1.0</td>\n",
       "      <td>-1.000000</td>\n",
       "      <td>1.000129</td>\n",
       "    </tr>\n",
       "    <tr>\n",
       "      <th>11</th>\n",
       "      <td>1</td>\n",
       "      <td>0.031830</td>\n",
       "      <td>0.000306</td>\n",
       "      <td>0.001169</td>\n",
       "      <td>1.0</td>\n",
       "      <td>2.0</td>\n",
       "      <td>0</td>\n",
       "      <td>2.0</td>\n",
       "      <td>-1.000000</td>\n",
       "      <td>1.000186</td>\n",
       "    </tr>\n",
       "    <tr>\n",
       "      <th>12</th>\n",
       "      <td>1</td>\n",
       "      <td>0.038266</td>\n",
       "      <td>0.000442</td>\n",
       "      <td>0.001690</td>\n",
       "      <td>1.0</td>\n",
       "      <td>2.0</td>\n",
       "      <td>0</td>\n",
       "      <td>3.0</td>\n",
       "      <td>-1.000000</td>\n",
       "      <td>1.000269</td>\n",
       "    </tr>\n",
       "    <tr>\n",
       "      <th>13</th>\n",
       "      <td>1</td>\n",
       "      <td>0.046005</td>\n",
       "      <td>0.000640</td>\n",
       "      <td>0.002442</td>\n",
       "      <td>1.0</td>\n",
       "      <td>2.0</td>\n",
       "      <td>0</td>\n",
       "      <td>4.0</td>\n",
       "      <td>-1.000000</td>\n",
       "      <td>1.000389</td>\n",
       "    </tr>\n",
       "    <tr>\n",
       "      <th>...</th>\n",
       "      <td>...</td>\n",
       "      <td>...</td>\n",
       "      <td>...</td>\n",
       "      <td>...</td>\n",
       "      <td>...</td>\n",
       "      <td>...</td>\n",
       "      <td>...</td>\n",
       "      <td>...</td>\n",
       "      <td>...</td>\n",
       "      <td>...</td>\n",
       "    </tr>\n",
       "    <tr>\n",
       "      <th>18704</th>\n",
       "      <td>19</td>\n",
       "      <td>0.037477</td>\n",
       "      <td>0.000469</td>\n",
       "      <td>0.002178</td>\n",
       "      <td>1.0</td>\n",
       "      <td>20.0</td>\n",
       "      <td>98</td>\n",
       "      <td>2.0</td>\n",
       "      <td>-1.000000</td>\n",
       "      <td>1.000347</td>\n",
       "    </tr>\n",
       "    <tr>\n",
       "      <th>18705</th>\n",
       "      <td>19</td>\n",
       "      <td>0.048031</td>\n",
       "      <td>0.000770</td>\n",
       "      <td>0.003578</td>\n",
       "      <td>1.0</td>\n",
       "      <td>20.0</td>\n",
       "      <td>98</td>\n",
       "      <td>3.0</td>\n",
       "      <td>-1.000000</td>\n",
       "      <td>1.000569</td>\n",
       "    </tr>\n",
       "    <tr>\n",
       "      <th>18711</th>\n",
       "      <td>20</td>\n",
       "      <td>0.023422</td>\n",
       "      <td>0.000224</td>\n",
       "      <td>0.001007</td>\n",
       "      <td>1.0</td>\n",
       "      <td>21.0</td>\n",
       "      <td>98</td>\n",
       "      <td>0.0</td>\n",
       "      <td>1.009828</td>\n",
       "      <td>-1.000000</td>\n",
       "    </tr>\n",
       "    <tr>\n",
       "      <th>18712</th>\n",
       "      <td>20</td>\n",
       "      <td>0.031438</td>\n",
       "      <td>0.000404</td>\n",
       "      <td>0.001815</td>\n",
       "      <td>1.0</td>\n",
       "      <td>21.0</td>\n",
       "      <td>98</td>\n",
       "      <td>1.0</td>\n",
       "      <td>-1.000000</td>\n",
       "      <td>1.000289</td>\n",
       "    </tr>\n",
       "    <tr>\n",
       "      <th>18713</th>\n",
       "      <td>20</td>\n",
       "      <td>0.042197</td>\n",
       "      <td>0.000728</td>\n",
       "      <td>0.003269</td>\n",
       "      <td>1.0</td>\n",
       "      <td>21.0</td>\n",
       "      <td>98</td>\n",
       "      <td>2.0</td>\n",
       "      <td>-1.000000</td>\n",
       "      <td>1.000520</td>\n",
       "    </tr>\n",
       "  </tbody>\n",
       "</table>\n",
       "<p>6671 rows × 10 columns</p>\n",
       "</div>"
      ],
      "text/plain": [
       "      locCylId    coords    konzcs      vols  lens  reLens pSet  locCellId  \\\n",
       "9            1  0.022022  0.000147  0.000560   1.0     2.0    0        0.0   \n",
       "10           1  0.026476  0.000212  0.000809   1.0     2.0    0        1.0   \n",
       "11           1  0.031830  0.000306  0.001169   1.0     2.0    0        2.0   \n",
       "12           1  0.038266  0.000442  0.001690   1.0     2.0    0        3.0   \n",
       "13           1  0.046005  0.000640  0.002442   1.0     2.0    0        4.0   \n",
       "...        ...       ...       ...       ...   ...     ...  ...        ...   \n",
       "18704       19  0.037477  0.000469  0.002178   1.0    20.0   98        2.0   \n",
       "18705       19  0.048031  0.000770  0.003578   1.0    20.0   98        3.0   \n",
       "18711       20  0.023422  0.000224  0.001007   1.0    21.0   98        0.0   \n",
       "18712       20  0.031438  0.000404  0.001815   1.0    21.0   98        1.0   \n",
       "18713       20  0.042197  0.000728  0.003269   1.0    21.0   98        2.0   \n",
       "\n",
       "            rIn      rOut  \n",
       "9      1.001173 -1.000000  \n",
       "10    -1.000000  1.000129  \n",
       "11    -1.000000  1.000186  \n",
       "12    -1.000000  1.000269  \n",
       "13    -1.000000  1.000389  \n",
       "...         ...       ...  \n",
       "18704 -1.000000  1.000347  \n",
       "18705 -1.000000  1.000569  \n",
       "18711  1.009828 -1.000000  \n",
       "18712 -1.000000  1.000289  \n",
       "18713 -1.000000  1.000520  \n",
       "\n",
       "[6671 rows x 10 columns]"
      ]
     },
     "execution_count": 79,
     "metadata": {},
     "output_type": "execute_result"
    }
   ],
   "source": [
    "dfnew[dfnew['coords'] < 0.05]"
   ]
  },
  {
   "cell_type": "code",
   "execution_count": 72,
   "id": "dc6aa5fe",
   "metadata": {},
   "outputs": [
    {
     "data": {
      "text/plain": [
       "0        0.054990\n",
       "9        0.022022\n",
       "18       0.022174\n",
       "27       0.022305\n",
       "36       0.022305\n",
       "           ...   \n",
       "18675    0.023947\n",
       "18684    0.023947\n",
       "18693    0.057473\n",
       "18702    0.022816\n",
       "18711    0.023422\n",
       "Name: coords, Length: 2080, dtype: float64"
      ]
     },
     "execution_count": 72,
     "metadata": {},
     "output_type": "execute_result"
    }
   ],
   "source": [
    "dfnew.loc[dfnew['locCellId']==0,'coords']# = 0.05"
   ]
  },
  {
   "cell_type": "code",
   "execution_count": 74,
   "id": "0b35d2ea",
   "metadata": {},
   "outputs": [],
   "source": [
    "dfnew.to_pickle('./cyl10to11_celss2.pkl')"
   ]
  },
  {
   "cell_type": "code",
   "execution_count": 77,
   "id": "a1af9c50",
   "metadata": {},
   "outputs": [
    {
     "name": "stdout",
     "output_type": "stream",
     "text": [
      "0.02202224498672597 0.057472616323468714\n",
      "0.09610504338489201 0.47702422259471233\n"
     ]
    }
   ],
   "source": [
    "print(dfnew.loc[dfnew['locCellId']==0,'coords'].min(),dfnew.loc[dfnew['locCellId']==0,'coords'].max())\n",
    "print(dfnew.loc[dfnew['locCellId']==8,'coords'].min(),dfnew.loc[dfnew['locCellId']==8,'coords'].max())"
   ]
  },
  {
   "cell_type": "code",
   "execution_count": null,
   "id": "5b54f077",
   "metadata": {},
   "outputs": [],
   "source": [
    "dist = 0.0"
   ]
  },
  {
   "cell_type": "code",
   "execution_count": null,
   "id": "b6d77faf",
   "metadata": {},
   "outputs": [],
   "source": [
    "dfnew.loc[dfnew['locCellId']==0,'rIn']"
   ]
  },
  {
   "cell_type": "code",
   "execution_count": null,
   "id": "34f17974",
   "metadata": {},
   "outputs": [],
   "source": [
    "plt.scatter(dfnew['yX'],df['yZ'] , #np.log(df['cc']),np.log(df['co']), \n",
    "            c= np.log(df['cs']),#s=df['cs'],\n",
    "            alpha=0.3, edgecolors ='none')\n",
    "plt.rcParams.update({'figure.figsize':(5,5), 'figure.dpi':100})\n",
    "#plt.title()\n",
    "plt.colorbar()\n",
    "plt.xlabel('cs')\n",
    "plt.ylabel('co +cc')\n",
    "plt.show()"
   ]
  },
  {
   "cell_type": "code",
   "execution_count": 41,
   "id": "ebb31852",
   "metadata": {},
   "outputs": [],
   "source": [
    "\n",
    "cyltr = sum(orgIds.loc[pSet]==1)# 21\n",
    "locCylId = np.array([np.full(9,ii) for ii in range(cyltr)])\n",
    "locCellId = np.full((21,cyltr),np.array([i for i in range(cyltr)]))\n",
    "\n",
    "myData = pd.DataFrame({'locCylId':locCylId.reshape(-1)})\n",
    "\n",
    "#myData['locCellId']= locCellId.reshape(-1)"
   ]
  },
  {
   "cell_type": "code",
   "execution_count": 49,
   "id": "f91c2fde",
   "metadata": {},
   "outputs": [
    {
     "data": {
      "text/plain": [
       "(22, 9)"
      ]
     },
     "execution_count": 49,
     "metadata": {},
     "output_type": "execute_result"
    }
   ],
   "source": [
    "locCylId.shape"
   ]
  },
  {
   "cell_type": "code",
   "execution_count": 50,
   "id": "e9115fcc",
   "metadata": {},
   "outputs": [
    {
     "data": {
      "text/plain": [
       "(21, 9)"
      ]
     },
     "execution_count": 50,
     "metadata": {},
     "output_type": "execute_result"
    }
   ],
   "source": [
    "locCellId.shape"
   ]
  },
  {
   "cell_type": "code",
   "execution_count": 33,
   "id": "ac2a90c0",
   "metadata": {},
   "outputs": [],
   "source": [
    "lens__ = lens.loc[pSet][orgIds.loc[0]==1]"
   ]
  },
  {
   "cell_type": "code",
   "execution_count": 36,
   "id": "7f43bcfc",
   "metadata": {},
   "outputs": [],
   "source": [
    "lens_ = np.array([np.full(9, ll) for ll in lens__])"
   ]
  },
  {
   "cell_type": "code",
   "execution_count": 37,
   "id": "3a69cb05",
   "metadata": {},
   "outputs": [
    {
     "data": {
      "text/plain": [
       "array([[1., 1., 1., 1., 1., 1., 1., 1., 1.],\n",
       "       [1., 1., 1., 1., 1., 1., 1., 1., 1.],\n",
       "       [1., 1., 1., 1., 1., 1., 1., 1., 1.],\n",
       "       [1., 1., 1., 1., 1., 1., 1., 1., 1.],\n",
       "       [1., 1., 1., 1., 1., 1., 1., 1., 1.],\n",
       "       [1., 1., 1., 1., 1., 1., 1., 1., 1.],\n",
       "       [1., 1., 1., 1., 1., 1., 1., 1., 1.],\n",
       "       [1., 1., 1., 1., 1., 1., 1., 1., 1.],\n",
       "       [1., 1., 1., 1., 1., 1., 1., 1., 1.],\n",
       "       [1., 1., 1., 1., 1., 1., 1., 1., 1.],\n",
       "       [1., 1., 1., 1., 1., 1., 1., 1., 1.],\n",
       "       [1., 1., 1., 1., 1., 1., 1., 1., 1.],\n",
       "       [1., 1., 1., 1., 1., 1., 1., 1., 1.],\n",
       "       [1., 1., 1., 1., 1., 1., 1., 1., 1.],\n",
       "       [1., 1., 1., 1., 1., 1., 1., 1., 1.],\n",
       "       [1., 1., 1., 1., 1., 1., 1., 1., 1.],\n",
       "       [1., 1., 1., 1., 1., 1., 1., 1., 1.],\n",
       "       [1., 1., 1., 1., 1., 1., 1., 1., 1.],\n",
       "       [1., 1., 1., 1., 1., 1., 1., 1., 1.],\n",
       "       [1., 1., 1., 1., 1., 1., 1., 1., 1.],\n",
       "       [1., 1., 1., 1., 1., 1., 1., 1., 1.]])"
      ]
     },
     "execution_count": 37,
     "metadata": {},
     "output_type": "execute_result"
    }
   ],
   "source": [
    "lens_"
   ]
  },
  {
   "cell_type": "code",
   "execution_count": 21,
   "id": "fa842e40",
   "metadata": {},
   "outputs": [
    {
     "data": {
      "text/plain": [
       "(21, 9)"
      ]
     },
     "execution_count": 21,
     "metadata": {},
     "output_type": "execute_result"
    }
   ],
   "source": [
    "cc.shape"
   ]
  },
  {
   "cell_type": "code",
   "execution_count": 26,
   "id": "cac2e135",
   "metadata": {},
   "outputs": [
    {
     "data": {
      "text/plain": [
       "array([0.05499005, 0.06596616, 0.07913313, 0.09492826, 0.11387611,\n",
       "       0.136606  , 0.16387281, 0.19658214, 0.2358203 ])"
      ]
     },
     "execution_count": 26,
     "metadata": {},
     "output_type": "execute_result"
    }
   ],
   "source": [
    "cc[0]"
   ]
  },
  {
   "cell_type": "code",
   "execution_count": 25,
   "id": "c436db0b",
   "metadata": {},
   "outputs": [
    {
     "data": {
      "text/plain": [
       "array([0.05499005, 0.06596616, 0.07913313, 0.09492826, 0.11387611,\n",
       "       0.136606  , 0.16387281, 0.19658214, 0.2358203 , 0.02202224,\n",
       "       0.02647568, 0.03182971, 0.03826646, 0.04600488, 0.05530819,\n",
       "       0.06649286, 0.07993935, 0.09610504, 0.02217415, 0.02699516,\n",
       "       0.03286432, 0.04000953, 0.04870822, 0.05929814, 0.07219047,\n",
       "       0.08788579, 0.10699352, 0.02230469, 0.02744521, 0.03377047,\n",
       "       0.04155351, 0.05113028, 0.0629142 , 0.07741395, 0.09525543,\n",
       "       0.11720881, 0.02230469, 0.02744521, 0.03377047, 0.04155351,\n",
       "       0.05113028, 0.0629142 , 0.07741395, 0.09525543, 0.11720881,\n",
       "       0.02202224, 0.02647568, 0.03182971, 0.03826646, 0.04600488,\n",
       "       0.05530819, 0.06649286, 0.07993935, 0.09610504, 0.0227442 ,\n",
       "       0.02898565, 0.03693989, 0.04707692, 0.05999575, 0.07645977,\n",
       "       0.09744183, 0.12418179, 0.15825972, 0.02363763, 0.03223614,\n",
       "       0.04396248, 0.05995442, 0.08176365, 0.11150628, 0.15206819,\n",
       "       0.20738504, 0.28282415, 0.0227442 , 0.02898565, 0.03693989,\n",
       "       0.04707692, 0.05999575, 0.07645977, 0.09744183, 0.12418179,\n",
       "       0.15825972, 0.05505561, 0.06618921, 0.07957429, 0.09566616,\n",
       "       0.1150122 , 0.13827048, 0.16623216, 0.19984837, 0.24026261,\n",
       "       0.02217415, 0.02699516, 0.03286432, 0.04000953, 0.04870822,\n",
       "       0.05929814, 0.07219047, 0.08788579, 0.10699352, 0.02394735,\n",
       "       0.03340021, 0.04658443, 0.06497294, 0.09062003, 0.12639092,\n",
       "       0.17628183, 0.24586642, 0.34291849, 0.02394735, 0.03340021,\n",
       "       0.04658443, 0.06497294, 0.09062003, 0.12639092, 0.17628183,\n",
       "       0.24586642, 0.34291849, 0.02325789, 0.03083506, 0.04088079,\n",
       "       0.05419931, 0.07185685, 0.09526704, 0.12630401, 0.16745248,\n",
       "       0.22200668, 0.02298905, 0.02986058, 0.03878605, 0.05037938,\n",
       "       0.065438  , 0.08499773, 0.11040395, 0.1434042 , 0.18626838,\n",
       "       0.0228162 , 0.0292417 , 0.03747675, 0.04803096, 0.06155744,\n",
       "       0.07889325, 0.10111118, 0.12958611, 0.16608016, 0.02394735,\n",
       "       0.03340021, 0.04658443, 0.06497294, 0.09062003, 0.12639092,\n",
       "       0.17628183, 0.24586642, 0.34291849, 0.02394735, 0.03340021,\n",
       "       0.04658443, 0.06497294, 0.09062003, 0.12639092, 0.17628183,\n",
       "       0.24586642, 0.34291849, 0.05747262, 0.07465145, 0.09696511,\n",
       "       0.12594844, 0.16359501, 0.21249432, 0.27600986, 0.3585105 ,\n",
       "       0.46567095, 0.0228162 , 0.0292417 , 0.03747675, 0.04803096,\n",
       "       0.06155744, 0.07889325, 0.10111118, 0.12958611, 0.16608016,\n",
       "       0.02325789, 0.03083506, 0.04088079, 0.05419931, 0.07185685,\n",
       "       0.09526704, 0.12630401, 0.16745248, 0.22200668])"
      ]
     },
     "execution_count": 25,
     "metadata": {},
     "output_type": "execute_result"
    }
   ],
   "source": [
    "cc.reshape(-1)"
   ]
  },
  {
   "cell_type": "code",
   "execution_count": null,
   "id": "977d3577",
   "metadata": {},
   "outputs": [],
   "source": []
  }
 ],
 "metadata": {
  "kernelspec": {
   "display_name": "Python 3 (ipykernel)",
   "language": "python",
   "name": "python3"
  },
  "language_info": {
   "codemirror_mode": {
    "name": "ipython",
    "version": 3
   },
   "file_extension": ".py",
   "mimetype": "text/x-python",
   "name": "python",
   "nbconvert_exporter": "python",
   "pygments_lexer": "ipython3",
   "version": "3.8.15"
  }
 },
 "nbformat": 4,
 "nbformat_minor": 5
}
