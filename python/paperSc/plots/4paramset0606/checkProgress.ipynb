{
 "cells": [
  {
   "cell_type": "code",
   "execution_count": 2,
   "id": "44672a67-f5ce-4923-ab83-5391490461a2",
   "metadata": {
    "tags": []
   },
   "outputs": [],
   "source": [
    "import os\n",
    "import pandas as pd\n",
    "import numpy as np\n",
    "pathresults = \"../../results/\"\n",
    "#pathresults = \"/DUMUXDune27/DUMUX/dumux-rosi/python/paperSc/results/\"\n",
    "data_file_delimiter = \",\"\n",
    "\n",
    "def getVal(mypath, filename, header=\"infer\",names = None):\n",
    "    fullpath = pathresults +mypath+filename\n",
    "    if names is None:\n",
    "        cst = pd.read_csv(fullpath,delimiter=data_file_delimiter, header = header).dropna(how= \"all\", axis=1)\n",
    "    else:\n",
    "        cst = pd.read_csv(fullpath,delimiter=data_file_delimiter, header = header, names = names).dropna(how= \"all\", axis=1)\n",
    "    return cst\n",
    "\n",
    "\n",
    "def get_last_line_as_numpy_array(file_path, filename,dtype = float):\n",
    "    with open(pathresults+file_path+filename, 'r') as file:\n",
    "        # Read all lines\n",
    "        lines = file.readlines()\n",
    "\n",
    "        # Check if there are any lines in the file\n",
    "        if not lines:\n",
    "            raise ValueError(\"The file is empty\")\n",
    "\n",
    "        # Get the last line\n",
    "        last_line = lines[-1].strip()\n",
    "\n",
    "        # Split the last line by commas and convert to NumPy array\n",
    "        array_from_last_line = np.array(last_line.split(','), dtype=dtype)\n",
    "\n",
    "        return array_from_last_line"
   ]
  },
  {
   "cell_type": "code",
   "execution_count": 17,
   "id": "c818582c-438d-4fb7-aaa6-8ae18d984a50",
   "metadata": {},
   "outputs": [
    {
     "name": "stdout",
     "output_type": "stream",
     "text": [
      "4 \t 20.94 \t [19.99 11.  ] realTime 98.42 mean speed 0.11119979609099964\n",
      "8 \t 25.0 \t [19.99  4.  ] realTime 53.06 mean speed 0.28267268447261595\n",
      "16 \t 25.0 \t [19.99  4.  ] realTime 44.98 mean speed 0.3334206963313575\n",
      "32 \t 25.0 \t [19.99  4.  ] realTime 40.72 mean speed 0.36831181498383164\n",
      "64 \t 25.0 \t [19.99  4.  ] realTime 40.64 mean speed 0.3690574762598517\n",
      "128 \t 25.0 \t [19.99  4.  ] realTime 57.77 mean speed 0.25963125997261105\n",
      "256 \t 25.0 \t [19.99  4.  ] realTime 67.13 mean speed 0.22342653459635808\n"
     ]
    }
   ],
   "source": [
    "path2file = r'testspeed/lateDry_1476_5_10to25_20mn_0s_{}/'\n",
    "scenarios = [\"baseline\",\"earlyDry\", \"lateDry\"] \n",
    "setIds = [5,44,61]\n",
    "\n",
    "nthrds = [4,8,16,32,64,128,256]\n",
    "\n",
    "numPset = len(nthrds)\n",
    "for i, nthrd  in enumerate(nthrds):\n",
    "    scenario =\"lateDry\"\n",
    "    setId=\"5\"\n",
    "    numthr = nthrd\n",
    "    p2f = path2file.format(numthr)\n",
    "    if True:#try:\n",
    "        tt = getVal(p2f, \"time.txt\",names= ['time','Qlight'])\n",
    "        time = tt.iloc[:,0]\n",
    "        wrsi =  np.array(getVal(p2f, \"inner_error.csv\")[['errWrsi','errWrsiRealInput']].iloc[-1] )\n",
    "        errs = []\n",
    "        for nc in range(9):\n",
    "            errs.append(int(max(get_last_line_as_numpy_array(p2f, \"content_diff1d3drel\"+str(nc)+\".csv\"))*1000)/1000)\n",
    "        timeStep = getVal(p2f, \"inner_loopdata.csv\")[['dt_inner', 'n_iter']].iloc[-1] \n",
    "        timeStep['dt_inner'] *= 24 *60 #*60\n",
    "        realTime = getVal(p2f, \"totalComputetime.txt\",names= ['tot','V1','V2','V3'])['tot'].iloc[-1] /3600\n",
    "        print(numthr ,'\\t', (int((max(time))*100)/100),'\\t',# errs,\n",
    "             np.array(timeStep*100,dtype=int)/100, 'realTime',int(realTime*100)/100 #,np.array(wrsi*100,dtype=int)/100\n",
    "              , 'mean speed', max(time-10)/realTime\n",
    "             )"
   ]
  },
  {
   "cell_type": "code",
   "execution_count": 16,
   "id": "e1f90cf1-6132-4640-9820-72341c06447c",
   "metadata": {},
   "outputs": [
    {
     "name": "stdout",
     "output_type": "stream",
     "text": [
      "4 \t 17.63 \t [19.99  2.  ] realTime 42.36 mean speed 0.18029751062626664\n",
      "8 \t 22.88 \t [19.99  0.  ] realTime 42.37 mean speed 0.30415901339393137\n",
      "16 \t 24.27 \t [19.99 20.  ] realTime 42.37 mean speed 0.3369418127500224\n",
      "32 \t 25.0 \t [19.99  4.  ] realTime 40.72 mean speed 0.36831181498383164\n",
      "64 \t 25.0 \t [19.99  4.  ] realTime 40.64 mean speed 0.3690574762598517\n",
      "128 \t 23.02 \t [19.99  2.  ] realTime 42.18 mean speed 0.30882102215387924\n",
      "256 \t 22.26 \t [19.99 26.  ] realTime 42.11 mean speed 0.2912276792892679\n"
     ]
    }
   ],
   "source": [
    "path2file = r'testspeed/lateDry_1476_5_10to25_20mn_0s_{}/'\n",
    "scenarios = [\"baseline\",\"earlyDry\", \"lateDry\"] \n",
    "setIds = [5,44,61]\n",
    "\n",
    "nthrds = [4,8,16,32,64,128,256]\n",
    "\n",
    "numPset = len(nthrds)\n",
    "for i, nthrd  in enumerate(nthrds):\n",
    "    scenario =\"lateDry\"\n",
    "    setId=\"5\"\n",
    "    numthr = nthrd\n",
    "    p2f = path2file.format(numthr)\n",
    "    if True:#try:\n",
    "        tt = getVal(p2f, \"time.txt\",names= ['time','Qlight'])\n",
    "        time = tt.iloc[:,0]\n",
    "        wrsi =  np.array(getVal(p2f, \"inner_error.csv\")[['errWrsi','errWrsiRealInput']].iloc[-1] )\n",
    "        errs = []\n",
    "        for nc in range(9):\n",
    "            errs.append(int(max(get_last_line_as_numpy_array(p2f, \"content_diff1d3drel\"+str(nc)+\".csv\"))*1000)/1000)\n",
    "        timeStep = getVal(p2f, \"inner_loopdata.csv\")[['dt_inner', 'n_iter']].iloc[-1] \n",
    "        timeStep['dt_inner'] *= 24 *60 #*60\n",
    "        realTime = getVal(p2f, \"totalComputetime.txt\",names= ['tot','V1','V2','V3'])['tot'].iloc[-1] /3600\n",
    "        print(numthr ,'\\t', (int((max(time))*100)/100),'\\t',# errs,\n",
    "             np.array(timeStep*100,dtype=int)/100, 'realTime',int(realTime*100)/100 #,np.array(wrsi*100,dtype=int)/100\n",
    "              , 'mean speed', max(time-10)/realTime\n",
    "             )"
   ]
  },
  {
   "cell_type": "code",
   "execution_count": 92,
   "id": "376d16cd-e8b0-4408-8f60-da121e630d9c",
   "metadata": {},
   "outputs": [
    {
     "name": "stdout",
     "output_type": "stream",
     "text": [
      "baseline 5 \t 25.0 \t [0.0, 0.0, 0.0, 0.0, 0.0, 0.0, 0.0, 0.0, 0.0] [19.99  4.  ] realTime 44.1 [0. 0.]\n",
      "baseline 44 \t 25.0 \t [0.0, 0.0, 0.0, 0.0, 0.0, 0.0, 0.0, 0.0, 0.0] [19.99  4.  ] realTime 10.62 [0. 0.]\n",
      "baseline 61 \t 25.0 \t [0.0, 0.0, 0.0, 0.0, 0.0, 0.0, 0.0, 0.0, 0.0] [19.99  4.  ] realTime 12.66 [0. 0.]\n",
      "\n",
      "earlyDry 5 \t 25.0 \t [0.0, 0.022, 0.0, 0.0, 0.0, 0.0, 0.0, 0.0, 0.0] [19.99  4.  ] realTime 24.12 [0. 0.]\n",
      "earlyDry 44 \t 25.0 \t [0.0, 0.023, 0.0, 0.0, 0.0, 0.0, 0.0, 0.0, 0.0] [19.99  4.  ] realTime 47.99 [0. 0.]\n",
      "earlyDry 61 \t 25.0 \t [0.0, 0.007, 0.0, 0.0, 0.0, 0.0, 0.0, 0.0, 0.0] [19.99  4.  ] realTime 23.72 [0. 0.]\n",
      "\n",
      "lateDry 5 \t 25.0 \t [0.073, 0.077, 0.0, 0.0, 0.0, 0.0, 0.0, 0.0, 0.0] [19.99  4.  ] realTime 55.89 [0. 0.]\n",
      "lateDry 44 \t 25.0 \t [0.074, 0.081, 0.0, 0.0, 0.0, 0.0, 0.0, 0.0, 0.0] [19.99  4.  ] realTime 33.22 [0. 0.]\n",
      "lateDry 61 \t 25.0 \t [0.076, 0.055, 0.0, 0.0, 0.0, 0.0, 0.0, 0.0, 0.0] [19.99  4.  ] realTime 33.29 [0. 0.]\n",
      "\n"
     ]
    }
   ],
   "source": [
    "path2file = r'getsrivssriset/{}_1476_{}_10to25_20mn_0s_{}/'\n",
    "scenarios = [\"baseline\",\"earlyDry\", \"lateDry\"] \n",
    "setIds = [5,44,61]\n",
    "\n",
    "result_list_comp = [(scenario, str(setId), '64') for scenario in scenarios for setId in setIds]\n",
    "\n",
    "numPset = len(result_list_comp)\n",
    "for i, pair  in enumerate(result_list_comp):\n",
    "    scenario, setId, numthr = pair[0], pair[1], pair[2]\n",
    "    p2f = path2file.format(scenario, setId, numthr)\n",
    "    if True:#try:\n",
    "        tt = getVal(p2f, \"time.txt\",names= ['time','Qlight'])\n",
    "        time = tt.iloc[:,0]\n",
    "        wrsi =  np.array(getVal(p2f, \"inner_error.csv\")[['errWrsi','errWrsiRealInput']].iloc[-1] )\n",
    "        errs = []\n",
    "        for nc in range(9):\n",
    "            errs.append(int(max(get_last_line_as_numpy_array(p2f, \"content_diff1d3drel\"+str(nc)+\".csv\"))*1000)/1000)\n",
    "        timeStep = getVal(p2f, \"inner_loopdata.csv\")[['dt_inner', 'n_iter']].iloc[-1] \n",
    "        timeStep['dt_inner'] *= 24 *60 #*60\n",
    "        realTime = getVal(p2f, \"totalComputetime.txt\",names= ['tot','V1','V2','V3'])['tot'].iloc[-1] /3600\n",
    "        print(scenario, setId ,'\\t', (int((max(time))*100)/100),'\\t', errs,\n",
    "             np.array(timeStep*100,dtype=int)/100, 'realTime',int(realTime*100)/100,np.array(wrsi*100,dtype=int)/100)\n",
    "    if int(setId) == 61:\n",
    "        print()"
   ]
  },
  {
   "cell_type": "code",
   "execution_count": 88,
   "id": "4c49e773-2440-4897-8fec-4bd7ba7de74a",
   "metadata": {},
   "outputs": [
    {
     "name": "stdout",
     "output_type": "stream",
     "text": [
      "baseline 5 \t 23.88 \t [0.0, 0.0, 0.0, 0.0, 0.0, 0.0, 0.0, 0.0, 0.0] [19.99  1.  ] realTime 39.4 [0. 0.]\n",
      "baseline 44 \t 25.0 \t [0.0, 0.0, 0.0, 0.0, 0.0, 0.0, 0.0, 0.0, 0.0] [19.99  4.  ] realTime 10.62 [0. 0.]\n",
      "baseline 61 \t 25.0 \t [0.0, 0.0, 0.0, 0.0, 0.0, 0.0, 0.0, 0.0, 0.0] [19.99  4.  ] realTime 12.66 [0. 0.]\n",
      "\n",
      "earlyDry 5 \t 25.0 \t [0.0, 0.022, 0.0, 0.0, 0.0, 0.0, 0.0, 0.0, 0.0] [19.99  4.  ] realTime 24.12 [0. 0.]\n",
      "earlyDry 44 \t 17.94 \t [0.033, 0.047, 0.0, 0.0, 0.0, 0.0, 0.0, 0.0, 0.0] [19.99  4.  ] realTime 39.41 [215.75 240.57]\n",
      "earlyDry 61 \t 25.0 \t [0.0, 0.007, 0.0, 0.0, 0.0, 0.0, 0.0, 0.0, 0.0] [19.99  4.  ] realTime 23.72 [0. 0.]\n",
      "\n",
      "lateDry 5 \t 20.76 \t [0.019, 0.019, 0.0, 0.0, 0.0, 0.0, 0.0, 0.0, 0.0] [19.99 14.  ] realTime 39.4 [1.15 7.75]\n",
      "lateDry 44 \t 25.0 \t [0.074, 0.081, 0.0, 0.0, 0.0, 0.0, 0.0, 0.0, 0.0] [19.99  4.  ] realTime 33.22 [0. 0.]\n",
      "lateDry 61 \t 25.0 \t [0.076, 0.055, 0.0, 0.0, 0.0, 0.0, 0.0, 0.0, 0.0] [19.99  4.  ] realTime 33.29 [0. 0.]\n",
      "\n"
     ]
    }
   ],
   "source": [
    "path2file = r'getsrivssriset/{}_1476_{}_10to25_20mn_0s_{}/'\n",
    "scenarios = [\"baseline\",\"earlyDry\", \"lateDry\"] \n",
    "setIds = [5,44,61]\n",
    "\n",
    "result_list_comp = [(scenario, str(setId), '64') for scenario in scenarios for setId in setIds]\n",
    "\n",
    "numPset = len(result_list_comp)\n",
    "for i, pair  in enumerate(result_list_comp):\n",
    "    scenario, setId, numthr = pair[0], pair[1], pair[2]\n",
    "    p2f = path2file.format(scenario, setId, numthr)\n",
    "    if True:#try:\n",
    "        tt = getVal(p2f, \"time.txt\",names= ['time','Qlight'])\n",
    "        time = tt.iloc[:,0]\n",
    "        wrsi =  np.array(getVal(p2f, \"inner_error.csv\")[['errWrsi','errWrsiRealInput']].iloc[-1] )\n",
    "        errs = []\n",
    "        for nc in range(9):\n",
    "            errs.append(int(max(get_last_line_as_numpy_array(p2f, \"content_diff1d3drel\"+str(nc)+\".csv\"))*1000)/1000)\n",
    "        timeStep = getVal(p2f, \"inner_loopdata.csv\")[['dt_inner', 'n_iter']].iloc[-1] \n",
    "        timeStep['dt_inner'] *= 24 *60 #*60\n",
    "        realTime = getVal(p2f, \"totalComputetime.txt\",names= ['tot','V1','V2','V3'])['tot'].iloc[-1] /3600\n",
    "        print(scenario, setId ,'\\t', (int((max(time))*100)/100),'\\t', errs,\n",
    "             np.array(timeStep*100,dtype=int)/100, 'realTime',int(realTime*100)/100,np.array(wrsi*100,dtype=int)/100)\n",
    "    if int(setId) == 61:\n",
    "        print()"
   ]
  },
  {
   "cell_type": "code",
   "execution_count": null,
   "id": "ed56e5bb-880b-45f9-b394-efba6d73942e",
   "metadata": {},
   "outputs": [],
   "source": []
  }
 ],
 "metadata": {
  "kernelspec": {
   "display_name": "py38b",
   "language": "python",
   "name": "py38b"
  },
  "language_info": {
   "codemirror_mode": {
    "name": "ipython",
    "version": 3
   },
   "file_extension": ".py",
   "mimetype": "text/x-python",
   "name": "python",
   "nbconvert_exporter": "python",
   "pygments_lexer": "ipython3",
   "version": "3.8.15"
  }
 },
 "nbformat": 4,
 "nbformat_minor": 5
}
