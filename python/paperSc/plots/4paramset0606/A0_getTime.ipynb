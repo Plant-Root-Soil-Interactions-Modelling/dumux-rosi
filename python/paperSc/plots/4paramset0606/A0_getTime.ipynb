{
 "cells": [
  {
   "cell_type": "code",
   "execution_count": 1,
   "id": "d7a0e267-74dd-4001-82e8-fd776f374e1d",
   "metadata": {},
   "outputs": [],
   "source": [
    "import os\n",
    "import pandas as pd\n",
    "import numpy as np\n",
    "pathresults = \"../../results/\"\n",
    "#pathresults = \"/DUMUXDune27/DUMUX/dumux-rosi/python/paperSc/results/\"\n",
    "data_file_delimiter = \",\"\n",
    "\n",
    "def getVal(mypath, filename, header=\"infer\",names = None):\n",
    "    fullpath = pathresults +mypath+filename\n",
    "    if names is None:\n",
    "        cst = pd.read_csv(fullpath,delimiter=data_file_delimiter, header = header).dropna(how= \"all\", axis=1)\n",
    "    else:\n",
    "        cst = pd.read_csv(fullpath,delimiter=data_file_delimiter, header = header, names = names).dropna(how= \"all\", axis=1)\n",
    "    return cst\n",
    "\n",
    "\n",
    "def get_last_line_as_numpy_array(file_path, filename,dtype = float):\n",
    "    with open(pathresults+file_path+filename, 'r') as file:\n",
    "        # Read all lines\n",
    "        lines = file.readlines()\n",
    "\n",
    "        # Check if there are any lines in the file\n",
    "        if not lines:\n",
    "            raise ValueError(\"The file is empty\")\n",
    "\n",
    "        # Get the last line\n",
    "        last_line = lines[-1].strip()\n",
    "\n",
    "        # Split the last line by commas and convert to NumPy array\n",
    "        array_from_last_line = np.array(last_line.split(','), dtype=dtype)\n",
    "\n",
    "        return array_from_last_line"
   ]
  },
  {
   "cell_type": "code",
   "execution_count": 26,
   "id": "075a80ac-70ce-40cd-b90e-e4ae586350d1",
   "metadata": {},
   "outputs": [
    {
     "name": "stdout",
     "output_type": "stream",
     "text": [
      "('baseline', 5) plant    27.195468\n",
      "sd1       9.497089\n",
      "ds3      16.851962\n",
      "Name: 8639, dtype: float64 53.54451937130099 19.999999999999872\n",
      "('baseline', 44) plant    27.014260\n",
      "sd1       9.769245\n",
      "ds3      16.955007\n",
      "Name: 8639, dtype: float64 53.7385115527198 19.999999999999872\n",
      "('baseline', 61) plant    27.280249\n",
      "sd1       9.844346\n",
      "ds3      16.940785\n",
      "Name: 8639, dtype: float64 54.065380248919624 19.999999999999872\n",
      "('earlyDry', 5) plant    13.959540\n",
      "sd1       9.358463\n",
      "ds3      35.599655\n",
      "Name: 25049, dtype: float64 58.91765808367062 6.666666666666623\n",
      "('earlyDry', 44) plant    13.437277\n",
      "sd1       9.066023\n",
      "ds3      37.607874\n",
      "Name: 24958, dtype: float64 60.11117423012051 6.666666666666623\n",
      "('earlyDry', 61) plant    14.358297\n",
      "sd1       9.089536\n",
      "ds3      34.676916\n",
      "Name: 25007, dtype: float64 58.12474941990018 6.666666666666623\n",
      "('lateDry', 5) plant    14.255299\n",
      "sd1      11.088481\n",
      "ds3      39.071068\n",
      "Name: 26395, dtype: float64 64.414847955407 4.999999999999968\n",
      "('lateDry', 44) plant    14.738649\n",
      "sd1      11.279898\n",
      "ds3      38.335851\n",
      "Name: 26088, dtype: float64 64.3543983092554 4.999999999999968\n",
      "('lateDry', 61) plant    14.742607\n",
      "sd1      11.523736\n",
      "ds3      36.877587\n",
      "Name: 26669, dtype: float64 63.14393114287576 4.999999999999968\n"
     ]
    }
   ],
   "source": [
    "path2file = r'checkCbalanceWrsi1perr/{}_1476_{}_10to25_20mn_0s_32/'\n",
    "scenarios = [\"baseline\",\"earlyDry\", \"lateDry\"] \n",
    "setIds = [5,44,61]\n",
    "setsAll = [(scsc, idid) for scsc in scenarios for idid in setIds ]\n",
    "\n",
    "for i, setsI  in enumerate(setsAll):\n",
    "    scenario =setsI[0]\n",
    "    setId=str(setsI[1])\n",
    "    p2f = path2file.format( scenario, setId)\n",
    "\n",
    "    realTime = getVal(p2f, \"totalComputetime.txt\",\n",
    "                      names= ['tot','plant','sd1','ds3']).iloc[-1] #/3600\n",
    "    timeStep = getVal(p2f, \"inner_loopdata.csv\")['dt_inner'].min()\n",
    "    reltime = realTime[['plant','sd1','ds3']].copy()\n",
    "    reltime /= realTime['tot']/100\n",
    "    print(setsI,reltime.T ,sum(reltime.to_numpy()),timeStep*24*60)"
   ]
  },
  {
   "cell_type": "code",
   "execution_count": 20,
   "id": "f83101b8-ec67-4ef3-864f-38306d7d4d20",
   "metadata": {},
   "outputs": [
    {
     "data": {
      "text/plain": [
       "plant    23.487093\n",
       "sd1       7.803816\n",
       "ds3      18.154485\n",
       "Name: 6680, dtype: float64"
      ]
     },
     "execution_count": 20,
     "metadata": {},
     "output_type": "execute_result"
    }
   ],
   "source": [
    "reltime"
   ]
  },
  {
   "cell_type": "code",
   "execution_count": 10,
   "id": "37ab8224-ccb1-47b5-800a-ed64df3f55d3",
   "metadata": {},
   "outputs": [],
   "source": []
  },
  {
   "cell_type": "code",
   "execution_count": 11,
   "id": "e3649260-0bd4-4694-a25c-f7efdda64e1d",
   "metadata": {},
   "outputs": [
    {
     "data": {
      "text/plain": [
       "tot      44410.052559\n",
       "plant    10431.451356\n",
       "sd1       3462.162268\n",
       "ds3       8072.355937\n",
       "Name: 6665, dtype: float64"
      ]
     },
     "execution_count": 11,
     "metadata": {},
     "output_type": "execute_result"
    }
   ],
   "source": [
    "realTime"
   ]
  },
  {
   "cell_type": "code",
   "execution_count": 12,
   "id": "a80f093b-fe23-41a2-ac9a-53dfb28b2575",
   "metadata": {},
   "outputs": [
    {
     "data": {
      "text/plain": [
       "tot      12.336126\n",
       "plant     2.897625\n",
       "sd1       0.961712\n",
       "ds3       2.242321\n",
       "Name: 6665, dtype: float64"
      ]
     },
     "execution_count": 12,
     "metadata": {},
     "output_type": "execute_result"
    }
   ],
   "source": [
    "realTime/3600"
   ]
  },
  {
   "cell_type": "code",
   "execution_count": 14,
   "id": "ccb70db0-b556-49a8-8996-d6772781860b",
   "metadata": {},
   "outputs": [
    {
     "data": {
      "text/plain": [
       "plant    23.488942\n",
       "sd1       7.795898\n",
       "ds3      18.176866\n",
       "Name: 6665, dtype: float64"
      ]
     },
     "execution_count": 14,
     "metadata": {},
     "output_type": "execute_result"
    }
   ],
   "source": [
    "realTime[1:]/realTime[0]*100"
   ]
  },
  {
   "cell_type": "code",
   "execution_count": null,
   "id": "a88724c1-6e55-4066-896c-6de002d04d40",
   "metadata": {},
   "outputs": [],
   "source": []
  }
 ],
 "metadata": {
  "kernelspec": {
   "display_name": "py38b",
   "language": "python",
   "name": "py38b"
  },
  "language_info": {
   "codemirror_mode": {
    "name": "ipython",
    "version": 3
   },
   "file_extension": ".py",
   "mimetype": "text/x-python",
   "name": "python",
   "nbconvert_exporter": "python",
   "pygments_lexer": "ipython3",
   "version": "3.8.15"
  }
 },
 "nbformat": 4,
 "nbformat_minor": 5
}
