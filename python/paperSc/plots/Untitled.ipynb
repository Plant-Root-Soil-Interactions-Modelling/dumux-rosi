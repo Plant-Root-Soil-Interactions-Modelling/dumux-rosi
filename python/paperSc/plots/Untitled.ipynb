{
 "cells": [
  {
   "cell_type": "code",
   "execution_count": 1,
   "id": "b55a5954-26ac-420c-ad26-5a2bea6d3484",
   "metadata": {},
   "outputs": [],
   "source": [
    "import plotnine\n",
    "import os\n",
    "import pandas as pd\n",
    "from plotnine import *\n",
    "import numpy as np\n",
    "pathresults = \"../results/\"\n",
    "\n",
    "data_file_delimiter = \",\""
   ]
  },
  {
   "cell_type": "code",
   "execution_count": 2,
   "id": "dd872955-8807-43a5-a487-6e01a7264fe3",
   "metadata": {},
   "outputs": [],
   "source": [
    "def get_last_line_as_numpy_array(file_path, dtype = int):\n",
    "    with open(file_path, 'r') as file:\n",
    "        # Read all lines\n",
    "        lines = file.readlines()\n",
    "\n",
    "        # Check if there are any lines in the file\n",
    "        if not lines:\n",
    "            raise ValueError(\"The file is empty\")\n",
    "\n",
    "        # Get the last line\n",
    "        last_line = lines[-1].strip()\n",
    "\n",
    "        # Split the last line by commas and convert to NumPy array\n",
    "        array_from_last_line = np.array(last_line.split(','), dtype=dtype)\n",
    "\n",
    "        return array_from_last_line"
   ]
  },
  {
   "cell_type": "code",
   "execution_count": 6,
   "id": "21d1f0e2-114c-4dac-b94b-3f5957a6ec18",
   "metadata": {},
   "outputs": [],
   "source": [
    "pathTest= pathresults+'fixeUpdatelateDry980dx_2dumux_10c_10.0to25.0_20mn_0s_130_100/'"
   ]
  },
  {
   "cell_type": "code",
   "execution_count": 4,
   "id": "e0e98e95-78a8-4508-9a64-b4e07324a5b5",
   "metadata": {},
   "outputs": [],
   "source": [
    "\n",
    "def list_files_with_prefix(folder_path, prefix):\n",
    "    files_with_prefix = []\n",
    "\n",
    "    # Ensure the folder path ends with a slash\n",
    "    if not folder_path.endswith(os.path.sep):\n",
    "        folder_path += os.path.sep\n",
    "\n",
    "    # List all files in the folder\n",
    "    files = os.listdir(folder_path)\n",
    "\n",
    "    # Filter files that start with the specified prefix\n",
    "    for file in files:\n",
    "        if file.startswith(prefix):\n",
    "            files_with_prefix.append(file)\n",
    "\n",
    "    return files_with_prefix"
   ]
  },
  {
   "cell_type": "code",
   "execution_count": 7,
   "id": "0d887380-bd03-43e3-ab12-44e4688cd065",
   "metadata": {},
   "outputs": [],
   "source": [
    "files_with_prefix = list_files_with_prefix(pathTest, prefix = \"Cyl_watercontent_\")"
   ]
  },
  {
   "cell_type": "code",
   "execution_count": 8,
   "id": "1670e05f-bbf1-4ccc-9248-21cd3cacfdfc",
   "metadata": {},
   "outputs": [
    {
     "data": {
      "text/plain": [
       "'Cyl_watercontent_140.txt'"
      ]
     },
     "execution_count": 8,
     "metadata": {},
     "output_type": "execute_result"
    }
   ],
   "source": [
    "files_with_prefix[0]"
   ]
  },
  {
   "cell_type": "code",
   "execution_count": null,
   "id": "b060d35b-d7ac-47ec-bbe7-a21f268551cb",
   "metadata": {},
   "outputs": [],
   "source": [
    "theta = 0.\n",
    "for filepath_ in files_with_prefix:\n",
    "    theta_ = get_last_line_as_numpy_array(path2file+fileName, dtype = float)\n",
    "    theta = min(theta, min(theta)"
   ]
  }
 ],
 "metadata": {
  "kernelspec": {
   "display_name": "py38b",
   "language": "python",
   "name": "py38b"
  },
  "language_info": {
   "codemirror_mode": {
    "name": "ipython",
    "version": 3
   },
   "file_extension": ".py",
   "mimetype": "text/x-python",
   "name": "python",
   "nbconvert_exporter": "python",
   "pygments_lexer": "ipython3",
   "version": "3.8.15"
  }
 },
 "nbformat": 4,
 "nbformat_minor": 5
}
