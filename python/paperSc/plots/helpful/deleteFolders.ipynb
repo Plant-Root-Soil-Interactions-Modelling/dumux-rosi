{
 "cells": [
  {
   "cell_type": "code",
   "execution_count": 1,
   "id": "44672a67-f5ce-4923-ab83-5391490461a2",
   "metadata": {
    "tags": []
   },
   "outputs": [],
   "source": [
    "import os\n",
    "import pandas as pd\n",
    "import numpy as np\n",
    "pathresults = \"../results/\"\n",
    "#pathresults = \"/DUMUXDune27/DUMUX/dumux-rosi/python/paperSc/results/\"\n",
    "data_file_delimiter = \",\""
   ]
  },
  {
   "cell_type": "code",
   "execution_count": 2,
   "id": "44b0d4a5-352b-4bbf-8b1d-8145a7255e20",
   "metadata": {},
   "outputs": [],
   "source": [
    "import os\n",
    "\n",
    "def delete_files_in_folders(start_directory, folder_prefix, file_prefix):\n",
    "    # Walk through the directory tree starting from start_directory\n",
    "    for root, dirs, files in os.walk(start_directory):\n",
    "        # Check if the directory name starts with the specified prefix\n",
    "        if True:# os.path.basename(root).startswith(folder_prefix):\n",
    "            #print(f\"Deleting files in folder: {root}\")\n",
    "            # Iterate over files in the directory\n",
    "            \n",
    "            for file in os.listdir(root):\n",
    "                # Check if the file name starts with the specified prefix\n",
    "                if file.startswith(file_prefix):\n",
    "                    file_path = os.path.join(root, file)\n",
    "                    # Delete the file\n",
    "                    os.remove(file_path)\n",
    "                    #print(f\"Deleted file: {file_path}\")\n",
    "\n",
    "# Specify the directory where you want to start searching\n",
    "start_directory = \"../results\"\n",
    "\n",
    "# Specify the prefix for folders to search\n",
    "folder_prefix = \"\"\n",
    "\n",
    "# Specify the prefix for files to delete\n",
    "file_prefix = \"fpit\"\n",
    "\n",
    "# Call the function to delete files in folders with specified prefixes\n",
    "delete_files_in_folders(start_directory, folder_prefix, file_prefix)\n"
   ]
  },
  {
   "cell_type": "code",
   "execution_count": null,
   "id": "a85612b5-73b7-47b2-b5df-2ad852641267",
   "metadata": {},
   "outputs": [],
   "source": []
  }
 ],
 "metadata": {
  "kernelspec": {
   "display_name": "py38b",
   "language": "python",
   "name": "py38b"
  },
  "language_info": {
   "codemirror_mode": {
    "name": "ipython",
    "version": 3
   },
   "file_extension": ".py",
   "mimetype": "text/x-python",
   "name": "python",
   "nbconvert_exporter": "python",
   "pygments_lexer": "ipython3",
   "version": "3.8.15"
  }
 },
 "nbformat": 4,
 "nbformat_minor": 5
}
