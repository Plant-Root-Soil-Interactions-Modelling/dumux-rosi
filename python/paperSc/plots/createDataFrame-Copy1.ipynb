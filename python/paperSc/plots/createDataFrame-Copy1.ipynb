{
 "cells": [
  {
   "cell_type": "code",
   "execution_count": 1,
   "id": "d64aee40-f73c-4ec0-ac21-f29c377deb10",
   "metadata": {},
   "outputs": [],
   "source": [
    "import os\n",
    "import pandas as pd\n",
    "import numpy as np\n",
    "import matplotlib.pyplot as plt\n",
    "pathresults = \"../results/\"\n",
    "#pathresults = \"/DUMUXDune27/DUMUX/dumux-rosi/python/paperSc/results/\"\n",
    "data_file_delimiter = \",\"\n",
    "import re"
   ]
  },
  {
   "cell_type": "code",
   "execution_count": 2,
   "id": "23bf9002-f55d-48bf-80d9-137cbf405b5e",
   "metadata": {},
   "outputs": [],
   "source": [
    "def getVal(mypath, filename, header=\"infer\",names = None):\n",
    "    fullpath = pathresults +mypath+filename\n",
    "    if names is None:\n",
    "        cst = pd.read_csv(fullpath,delimiter=data_file_delimiter, header = header).dropna(how= \"all\", axis=1)\n",
    "    else:\n",
    "        cst = pd.read_csv(fullpath,delimiter=data_file_delimiter, header = header, names = names).dropna(how= \"all\", axis=1)\n",
    "    return cst\n",
    "def get_last_line_as_numpy_array(file_path, dtype = float):\n",
    "    with open(pathresults +file_path, 'r') as file:\n",
    "        # Read all lines\n",
    "        lines = file.readlines()\n",
    "\n",
    "        # Check if there are any lines in the file\n",
    "        if not lines:\n",
    "            raise ValueError(\"The file is empty\")\n",
    "\n",
    "        # Get the last line\n",
    "        last_line = lines[-1].strip()\n",
    "\n",
    "        # Split the last line by commas and convert to NumPy array\n",
    "        array_from_last_line = np.array(last_line.split(','), dtype=dtype)\n",
    "\n",
    "        return array_from_last_line\n",
    "\n",
    "def list_files_with_prefix(folder_path, prefix):\n",
    "    file_names = []\n",
    "    for file_name in os.listdir(pathresults+folder_path):\n",
    "        if file_name.startswith(prefix):\n",
    "            file_names.append(file_name)\n",
    "    return file_names\n",
    "def getCylIdx(folder_path):\n",
    "    namelist = list_files_with_prefix(folder_path+\"cyl_val/\", \"Cyl_watercontent_\")\n",
    "    idxlist = np.full(len(namelist),-1,dtype = int)\n",
    "    for nn, nl in enumerate(namelist):\n",
    "        match = re.search(r'\\d+', nl)\n",
    "        number_str = match.group()\n",
    "        number_int = int(number_str)\n",
    "        idxlist[nn] = number_int\n",
    "    return idxlist\n",
    "# cylinder max konz (per cell)\n",
    "def getData_(cid,gId,path2file):\n",
    "    fileName = \"cyl_val/Cyl_cellVol_\"+str(gId)+\".txt\"\n",
    "    cVol = get_last_line_as_numpy_array(path2file+fileName, dtype = float)\n",
    "    if cid == volIdx:\n",
    "        return sum(cVol)\n",
    "    elif cid <= 9:\n",
    "        if cid <= 2:# == 0:\n",
    "            fileName = \"cyl_val/Cyl_watercontent_\"+str(gId)+\".txt\"\n",
    "            theta = get_last_line_as_numpy_array(path2file+fileName, dtype = float)\n",
    "            cVol *= theta#cm3 scv to cm3 water\n",
    "            if cid == 0:\n",
    "                return sum(cVol)\n",
    "        fileName = \"cyl_val/Cyl_content\"+str(cid)+\"_\"+str(gId)+\".txt\"\n",
    "        Q1 = get_last_line_as_numpy_array(path2file+fileName, dtype = float)\n",
    "        konz = sum(Q1)/sum(cVol) #mol/cm3 or cm3/cm3\n",
    "        return konz\n",
    "    raise Exception\n",
    "\n",
    "numPset = 99\n",
    "nKonz = 9\n",
    "dictXYZ = {9:'X',10:'Y',11:'Z'}\n",
    "volIdx=12\n",
    "lenIdx=13\n",
    "stIdx=14\n",
    "orgIdId=15\n",
    "relLenId=16\n",
    "\n",
    "nToGet = relLenId+1 #elements + 3d coordinates of y , node+vol+len+st \n",
    "\n",
    "exceptPset =[]\n",
    "allPSets = [ i for i in range(numPset) if i not in exceptPset]\n",
    "\n",
    "def getData():\n",
    "    \n",
    "    GiniAll = [[[] for i in range(numPset)] for ii in range(nToGet)]\n",
    "    \n",
    "    for pSet in allPSets:\n",
    "        print(pSet,end =\", \")\n",
    "\n",
    "        try:\n",
    "            #path2file = 'none_55_'+str(pSet)+'_10to11_20mn_0s_5/'\n",
    "            path2file = '1d1dnone_1440_'+str(pSet)+'_10to11_20mn_0s_5/'\n",
    "\n",
    "            rr = getCylIdx(path2file)\n",
    "            rr.sort()\n",
    "            print('(',len(rr),')',end =\", \")\n",
    "\n",
    "            for cid in range(nKonz):\n",
    "                Ginits = np.array([getData_( cid, gId,path2file) for gId in rr])          \n",
    "                GiniAll[cid][pSet] = Ginits\n",
    "            for cid in range(nKonz,volIdx):\n",
    "                nodes_ = get_last_line_as_numpy_array(path2file+\"nodes_\"+dictXYZ[cid]+\".txt\", dtype =float)\n",
    "                GiniAll[cid][pSet] = nodes_[rr+1]#seg idx to y-idx\n",
    "            #cid = nToGet -1\n",
    "            Ginits = np.array([getData_( volIdx, gId,path2file) for gId in rr])\n",
    "            GiniAll[volIdx][pSet] = Ginits\n",
    "            lens = get_last_line_as_numpy_array(path2file+\"length_Segs\"+\".txt\", dtype =float)\n",
    "            GiniAll[lenIdx][pSet] = lens[rr]\n",
    "            sts = get_last_line_as_numpy_array(path2file+\"subTypes\"+\".txt\", dtype =float)\n",
    "            assert len(sts) == len(lens)\n",
    "            GiniAll[stIdx][pSet] = sts[rr]\n",
    "\n",
    "            orgidPerNode = get_last_line_as_numpy_array(path2file+\"orgidPerNode.txt\", dtype =int)\n",
    "            globalNodeId = get_last_line_as_numpy_array(path2file+\"globalNodeId.txt\", dtype =int)\n",
    "            parentNidx = get_last_line_as_numpy_array(path2file+\"parentNidx.txt\", dtype =int)\n",
    "            ot_orgs = get_last_line_as_numpy_array(path2file+\"ot_orgs.txt\", dtype =int)\n",
    "            id_orgs = get_last_line_as_numpy_array(path2file+\"id_orgs.txt\", dtype =int)\n",
    "            id_roots = id_orgs[np.where(ot_orgs==2)]\n",
    "\n",
    "            org2basenode = dict(zip(id_orgs, parentNidx))\n",
    "            #org2ot = dict(zip(id_orgs, ot_orgs))\n",
    "            isRoot = np.array([oo in id_roots for oo in orgidPerNode])\n",
    "\n",
    "            orgidPerRoot = orgidPerNode[np.where(isRoot)]\n",
    "            globalNodeIdroot =  globalNodeId[np.where(isRoot)]        \n",
    "            segIdxRoot = np.array([rr for _, rr in enumerate(globalNodeIdroot) if rr != org2basenode[orgidPerRoot[_]]]) -1\n",
    "            orgIdxRoot = np.array([orgidPerRoot[_] for _, rr in enumerate(globalNodeIdroot) if rr != org2basenode[orgidPerRoot[_]]])\n",
    "            #segIdx2ot = dict(zip(segIdxRoot,orgIdxRoot))\n",
    "\n",
    "            relLens = np.zeros(len(segIdxRoot))\n",
    "            #lens = get_last_line_as_numpy_array(path2file+\"length_Segs\"+\".txt\", dtype =float)\n",
    "            for myorg in orgIdxRoot:\n",
    "                thensegs = np.where(orgIdxRoot == myorg)#segIdxRoot[] \n",
    "                lenSegs = GiniAll[lenIdx][pSet]\n",
    "                relLens[thensegs] = np.cumsum(lenSegs[thensegs])\n",
    "\n",
    "\n",
    "            GiniAll[orgIdId][pSet] = orgIdxRoot\n",
    "            GiniAll[relLenId][pSet] = relLens\n",
    "        except:\n",
    "            print('jump',end =\", \")\n",
    "\n",
    "    return GiniAll #cid pSet rr\n",
    "    "
   ]
  },
  {
   "cell_type": "code",
   "execution_count": 3,
   "id": "7924bb88-81aa-435d-a182-eaddbd611fdb",
   "metadata": {},
   "outputs": [
    {
     "name": "stdout",
     "output_type": "stream",
     "text": [
      "0, ( 211 ), 1, ( 211 ), 2, ( 210 ), 3, ( 214 ), 4, ( 231 ), 5, ( 206 ), 6, ( 209 ), 7, ( 232 ), 8, ( 210 ), 9, ( 214 ), 10, ( 211 ), 11, ( 210 ), 12, ( 210 ), 13, ( 214 ), 14, ( 210 ), 15, ( 215 ), 16, ( 215 ), 17, ( 207 ), 18, ( 214 ), 19, ( 220 ), 20, ( 209 ), 21, ( 206 ), 22, ( 214 ), 23, ( 220 ), 24, ( 231 ), 25, ( 215 ), 26, ( 213 ), 27, ( 232 ), 28, ( 210 ), 29, ( 214 ), 30, ( 213 ), 31, ( 211 ), 32, ( 210 ), 33, ( 211 ), 34, ( 232 ), 35, ( 229 ), 36, ( 215 ), 37, ( 217 ), 38, ( 215 ), 39, ( 211 ), 40, ( 209 ), 41, ( 229 ), 42, ( 215 ), 43, ( 232 ), 44, ( 211 ), 45, ( 222 ), 46, ( 222 ), 47, ( 232 ), 48, ( 211 ), 49, ( 231 ), 50, ( 231 ), 51, ( 232 ), 52, ( 220 ), 53, ( 209 ), 54, ( 211 ), 55, ( 232 ), 56, ( 234 ), 57, ( 210 ), 58, ( 232 ), 59, ( 211 ), 60, ( 234 ), 61, ( 210 ), 62, ( 232 ), 63, ( 214 ), 64, ( 229 ), 65, ( 211 ), 66, ( 217 ), 67, ( 211 ), 68, ( 211 ), 69, ( 220 ), 70, ( 235 ), 71, ( 213 ), 72, ( 231 ), 73, ( 232 ), 74, ( 200 ), 75, ( 229 ), 76, ( 220 ), 77, ( 211 ), 78, ( 225 ), 79, ( 221 ), 80, ( 229 ), 81, ( 215 ), 82, ( 229 ), 83, ( 232 ), 84, ( 210 ), 85, ( 235 ), 86, ( 235 ), 87, ( 215 ), 88, ( 232 ), 89, ( 210 ), 90, ( 215 ), 91, ( 209 ), 92, ( 235 ), 93, ( 232 ), 94, ( 235 ), 95, ( 228 ), 96, ( 229 ), 97, ( 234 ), 98, ( 229 ), "
     ]
    }
   ],
   "source": [
    "\n",
    "GiniAll = getData()"
   ]
  },
  {
   "cell_type": "code",
   "execution_count": 131,
   "id": "10efd9e7-4f14-49bd-b978-30e688e1384f",
   "metadata": {},
   "outputs": [
    {
     "name": "stderr",
     "output_type": "stream",
     "text": [
      "/tmp/ipykernel_1126/1273250247.py:1: VisibleDeprecationWarning: Creating an ndarray from ragged nested sequences (which is a list-or-tuple of lists-or-tuples-or ndarrays with different lengths or shapes) is deprecated. If you meant to do this, you must specify 'dtype=object' when creating the ndarray.\n",
      "  assert np.array(GiniAll).shape == (nToGet, numPset, 232) #all same shape\n"
     ]
    },
    {
     "ename": "AssertionError",
     "evalue": "",
     "output_type": "error",
     "traceback": [
      "\u001b[0;31m---------------------------------------------------------------------------\u001b[0m",
      "\u001b[0;31mAssertionError\u001b[0m                            Traceback (most recent call last)",
      "Cell \u001b[0;32mIn[131], line 1\u001b[0m\n\u001b[0;32m----> 1\u001b[0m \u001b[38;5;28;01massert\u001b[39;00m np\u001b[38;5;241m.\u001b[39marray(GiniAll)\u001b[38;5;241m.\u001b[39mshape \u001b[38;5;241m==\u001b[39m (nToGet, numPset, \u001b[38;5;241m232\u001b[39m) \u001b[38;5;66;03m#all same shape\u001b[39;00m\n",
      "\u001b[0;31mAssertionError\u001b[0m: "
     ]
    }
   ],
   "source": [
    "#assert np.array(GiniAll).shape == (nToGet, numPset, 232) # some have a couple of segments more"
   ]
  },
  {
   "cell_type": "code",
   "execution_count": 9,
   "id": "80bd6820-d8bd-40b6-9753-0df6c58e4069",
   "metadata": {},
   "outputs": [
    {
     "name": "stderr",
     "output_type": "stream",
     "text": [
      "/tmp/ipykernel_700930/2873905747.py:1: VisibleDeprecationWarning: Creating an ndarray from ragged nested sequences (which is a list-or-tuple of lists-or-tuples-or ndarrays with different lengths or shapes) is deprecated. If you meant to do this, you must specify 'dtype=object' when creating the ndarray.\n",
      "  np.array(GiniAll).shape\n"
     ]
    },
    {
     "data": {
      "text/plain": [
       "(17, 99)"
      ]
     },
     "execution_count": 9,
     "metadata": {},
     "output_type": "execute_result"
    }
   ],
   "source": [
    "np.array(GiniAll).shape"
   ]
  },
  {
   "cell_type": "code",
   "execution_count": 4,
   "id": "e3d081bb-59cd-418b-a452-8a7ca1620904",
   "metadata": {},
   "outputs": [],
   "source": [
    "# get param set\n",
    "paramsets =  pd.read_csv('../output_random_rows.csv')\n",
    "paramsets = paramsets.drop(paramsets.columns.tolist()[-1],axis=1)\n",
    "paramsets['k_C,S'] /=paramsets['theta']\n",
    "paramsets['k_O,S'] /=paramsets['theta']\n",
    "paramsets.drop(labels='theta', inplace=True, axis=1)\n",
    "outputvalsname =  ['wat','cs','cl','coa','cod','cca','ccd','css2','co2','yX','yY','yZ','vol','lenSeg','st','orgId','relLen']\n",
    "assert len(outputvalsname) == nToGet \n",
    "column_names = outputvalsname + paramsets.columns.tolist()+['pSet']\n",
    "df = pd.DataFrame(columns=column_names)\n",
    "\n",
    "for pset in allPSets:#range(numPset):\n",
    "    N = GiniAll[0][pset].shape[0]\n",
    "    #assert N == 232\n",
    "    rows_to_duplicate_df = pd.DataFrame(paramsets.iloc[pset]).T\n",
    "    duplicated_rows_df = rows_to_duplicate_df.loc[np.repeat(rows_to_duplicate_df.index.values, N)]\n",
    "    # Duplicate the specific rows N times\n",
    "    #print('init dupl row shape',duplicated_rows_df.shape)\n",
    "    for jj, outVn in enumerate(outputvalsname):\n",
    "        duplicated_rows_df[outVn] = GiniAll[jj][pset]\n",
    "        #print('adding',jj,outVn,duplicated_rows_df.shape,len(GiniAll[jj][pset]))\n",
    "    duplicated_rows_df['pSet'] = pset\n",
    "    \n",
    "    path2file = '1d1dnone_1440_'+str(pset)+'_10to11_20mn_0s_5/'\n",
    "    simTime = get_last_line_as_numpy_array(path2file+\"fpit_totalComputetime.txt\", dtype =float)[0]\n",
    "    \n",
    "    duplicated_rows_df['simTime'] = simTime\n",
    "    # Concatenate the original DataFrame with the duplicated specific rows\n",
    "    df = pd.concat([df, duplicated_rows_df], ignore_index=True)\n",
    "df['co'] = df['coa']+df['cod']\n",
    "df['cc'] = df['cca']+df['ccd']"
   ]
  },
  {
   "cell_type": "code",
   "execution_count": 30,
   "id": "03ec30c9-4fbc-4633-bef4-28380f98e977",
   "metadata": {},
   "outputs": [
    {
     "data": {
      "text/plain": [
       "0        22865.345728\n",
       "1        22865.345728\n",
       "2        22865.345728\n",
       "3        22865.345728\n",
       "4        22865.345728\n",
       "             ...     \n",
       "20896    28032.934171\n",
       "20897    28032.934171\n",
       "20898    28032.934171\n",
       "20899    28032.934171\n",
       "20900    28032.934171\n",
       "Name: simTime, Length: 20901, dtype: float64"
      ]
     },
     "execution_count": 30,
     "metadata": {},
     "output_type": "execute_result"
    }
   ],
   "source": [
    "df['simTime'] "
   ]
  },
  {
   "cell_type": "code",
   "execution_count": 5,
   "id": "c06e6c67-fce5-46e5-b0c3-c2d2b50c732a",
   "metadata": {},
   "outputs": [],
   "source": [
    "df.to_pickle('./cyl10to11_pdecsb.pkl')"
   ]
  },
  {
   "cell_type": "code",
   "execution_count": null,
   "id": "e75a510d-9097-43b6-b1fd-585b28e0ccca",
   "metadata": {},
   "outputs": [],
   "source": [
    "\n",
    "path2file = 'noCss1none_1440_'+str(0)+'_10to11_20mn_0s_5/'\n",
    "simTime = get_last_line_as_numpy_array(path2file+\"totalComputetime.txt\", dtype =float)[0]"
   ]
  },
  {
   "cell_type": "code",
   "execution_count": null,
   "id": "dd87e52a-c86e-4703-a9c9-47baca650ebf",
   "metadata": {},
   "outputs": [],
   "source": [
    "simTime"
   ]
  },
  {
   "cell_type": "code",
   "execution_count": 31,
   "id": "c38974d2-e24a-45f5-9f25-7a7ad829a34f",
   "metadata": {},
   "outputs": [
    {
     "data": {
      "text/plain": [
       "9925.080730255693"
      ]
     },
     "execution_count": 31,
     "metadata": {},
     "output_type": "execute_result"
    }
   ],
   "source": [
    "min(df['simTime'] )"
   ]
  },
  {
   "cell_type": "code",
   "execution_count": 14,
   "id": "4bb3bb32-ebad-4d0f-b506-fd7d8b17a4a8",
   "metadata": {},
   "outputs": [
    {
     "data": {
      "text/plain": [
       "0        1.829282e-05\n",
       "1        1.839130e-05\n",
       "2        1.837549e-05\n",
       "3        1.837631e-05\n",
       "4        1.837596e-05\n",
       "             ...     \n",
       "22966    1.594504e-07\n",
       "22967    1.609310e-07\n",
       "22968    1.610765e-07\n",
       "22969    1.569687e-07\n",
       "22970    1.599375e-07\n",
       "Name: css2, Length: 22971, dtype: float64"
      ]
     },
     "execution_count": 14,
     "metadata": {},
     "output_type": "execute_result"
    }
   ],
   "source": [
    "df['css2']"
   ]
  },
  {
   "cell_type": "code",
   "execution_count": 15,
   "id": "ecd27ea6-3882-4305-869c-83cd917a6434",
   "metadata": {},
   "outputs": [
    {
     "name": "stdout",
     "output_type": "stream",
     "text": [
      "1.5501280432533245e-07 9.96930937734111e-05 2.1992706893434317e-05\n"
     ]
    }
   ],
   "source": [
    "print(min(df['css2']),max(df['css2']),np.mean(df['css2']))"
   ]
  },
  {
   "cell_type": "code",
   "execution_count": null,
   "id": "d6d03f36-cd15-4e19-8c95-8dc367b98ca9",
   "metadata": {},
   "outputs": [],
   "source": []
  }
 ],
 "metadata": {
  "kernelspec": {
   "display_name": "py38b",
   "language": "python",
   "name": "py38b"
  },
  "language_info": {
   "codemirror_mode": {
    "name": "ipython",
    "version": 3
   },
   "file_extension": ".py",
   "mimetype": "text/x-python",
   "name": "python",
   "nbconvert_exporter": "python",
   "pygments_lexer": "ipython3",
   "version": "3.8.15"
  }
 },
 "nbformat": 4,
 "nbformat_minor": 5
}
