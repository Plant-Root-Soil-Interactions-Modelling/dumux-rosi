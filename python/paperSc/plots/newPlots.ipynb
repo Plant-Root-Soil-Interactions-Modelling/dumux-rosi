{
 "cells": [
  {
   "cell_type": "code",
   "execution_count": 107,
   "id": "44672a67-f5ce-4923-ab83-5391490461a2",
   "metadata": {
    "tags": []
   },
   "outputs": [],
   "source": [
    "import os\n",
    "import pandas as pd\n",
    "import numpy as np\n",
    "pathresults = \"../results/\"\n",
    "#pathresults = \"/DUMUXDune27/DUMUX/dumux-rosi/python/paperSc/results/\"\n",
    "data_file_delimiter = \",\""
   ]
  },
  {
   "cell_type": "code",
   "execution_count": 41,
   "id": "44b0d4a5-352b-4bbf-8b1d-8145a7255e20",
   "metadata": {},
   "outputs": [],
   "source": [
    "import os\n",
    "\n",
    "def delete_files_in_folders(start_directory, folder_prefix, file_prefix):\n",
    "    # Walk through the directory tree starting from start_directory\n",
    "    for root, dirs, files in os.walk(start_directory):\n",
    "        # Check if the directory name starts with the specified prefix\n",
    "        if os.path.basename(root).startswith(folder_prefix):\n",
    "            #print(f\"Deleting files in folder: {root}\")\n",
    "            # Iterate over files in the directory\n",
    "            \n",
    "            for file in os.listdir(root):\n",
    "                # Check if the file name starts with the specified prefix\n",
    "                if file.startswith(file_prefix):\n",
    "                    file_path = os.path.join(root, file)\n",
    "                    # Delete the file\n",
    "                    os.remove(file_path)\n",
    "                    #print(f\"Deleted file: {file_path}\")\n",
    "\n",
    "# Specify the directory where you want to start searching\n",
    "start_directory = \"../results\"\n",
    "\n",
    "# Specify the prefix for folders to search\n",
    "folder_prefix = \"noCss1\"\n",
    "\n",
    "# Specify the prefix for files to delete\n",
    "file_prefix = \"fpit\"\n",
    "\n",
    "# Call the function to delete files in folders with specified prefixes\n",
    "delete_files_in_folders(start_directory, folder_prefix, file_prefix)\n"
   ]
  },
  {
   "cell_type": "code",
   "execution_count": 42,
   "id": "bb185b0a-a85c-4f3c-8ba2-86e1a7a67dfe",
   "metadata": {
    "tags": []
   },
   "outputs": [],
   "source": [
    "def getVal(mypath, filename, header=\"infer\",names = None):\n",
    "    fullpath = pathresults +mypath+filename\n",
    "    if names is None:\n",
    "        cst = pd.read_csv(fullpath,delimiter=data_file_delimiter, header = header).dropna(how= \"all\", axis=1)\n",
    "    else:\n",
    "        cst = pd.read_csv(fullpath,delimiter=data_file_delimiter, header = header, names = names).dropna(how= \"all\", axis=1)\n",
    "    return cst\n"
   ]
  },
  {
   "cell_type": "code",
   "execution_count": 43,
   "id": "24571698-9028-460d-af42-ce891bbe13eb",
   "metadata": {
    "tags": []
   },
   "outputs": [],
   "source": [
    "def get_last_line_as_numpy_array(file_path, dtype = int):\n",
    "    with open(file_path, 'r') as file:\n",
    "        # Read all lines\n",
    "        lines = file.readlines()\n",
    "\n",
    "        # Check if there are any lines in the file\n",
    "        if not lines:\n",
    "            raise ValueError(\"The file is empty\")\n",
    "\n",
    "        # Get the last line\n",
    "        last_line = lines[-1].strip()\n",
    "\n",
    "        # Split the last line by commas and convert to NumPy array\n",
    "        array_from_last_line = np.array(last_line.split(','), dtype=dtype)\n",
    "\n",
    "        return array_from_last_line"
   ]
  },
  {
   "cell_type": "code",
   "execution_count": 56,
   "id": "35564c9d-9bc5-4423-8fe8-1661b1b0986b",
   "metadata": {},
   "outputs": [
    {
     "name": "stdout",
     "output_type": "stream",
     "text": [
      "14 16.6h, "
     ]
    }
   ],
   "source": [
    "path2file = 'none_1440_14_10to11_20mn_0s_130/'\n",
    "#'none_55_'+str(i)+'_10to11_20mn_0s_5/'# 'fixeUpdatenone'+str(i)+'0dx_2dumux_10c_10.0to25.0_20mn_0s_192_100/'\n",
    "tt = getVal(path2file, \"time.txt\",names= ['time','Qlight'])\n",
    "time = tt.iloc[:,0]\n",
    "if max(time) < 11: \n",
    "    exceptPset.append(i)\n",
    "    print(14, (int((max(time)-10.)*24*10)/10), end =\"h, \")"
   ]
  },
  {
   "cell_type": "code",
   "execution_count": 123,
   "id": "b9fa9424-909d-423d-b299-76a717b1a126",
   "metadata": {
    "tags": []
   },
   "outputs": [
    {
     "name": "stdout",
     "output_type": "stream",
     "text": [
      "0\n"
     ]
    }
   ],
   "source": [
    "exceptPset = []\n",
    "for i in range(99):\n",
    "    # path2file = pathresults + 'param99none'+str(i)+'0dx_2dumux_10c_10.0to11.0_20mn_0s_192_100/'\n",
    "    path2file = 'PDECSbnone_1440_'+str(i)+'_10to11_20mn_0s_5/'\n",
    "    #'none_55_'+str(i)+'_10to11_20mn_0s_5/'# 'fixeUpdatenone'+str(i)+'0dx_2dumux_10c_10.0to25.0_20mn_0s_192_100/'\n",
    "    tt = getVal(path2file, \"time.txt\",names= ['time','Qlight'])\n",
    "    time = tt.iloc[:,0]\n",
    "    if max(time) < 11: \n",
    "        exceptPset.append(i)\n",
    "        print(i, (int((max(time)-10.)*24*10)/10), end =\"h, \")\n",
    "print(len(exceptPset))"
   ]
  },
  {
   "cell_type": "code",
   "execution_count": 118,
   "id": "39e39600-1359-4596-98ab-6e33be0d4bf2",
   "metadata": {},
   "outputs": [
    {
     "name": "stdout",
     "output_type": "stream",
     "text": [
      "0, 1, 2, 3, 4, 5, 6, 7, 8, 9, 10, 11, 12, 13, 14, 15, 16, 17, 18, 19, 20, 21, 22, 23, 24, 25, 26, 27, 91, 92, 93, 94, 95, 96, 97, 98, "
     ]
    }
   ],
   "source": [
    "exceptPset = []\n",
    "for i in range(99):\n",
    "    # path2file = pathresults + 'param99none'+str(i)+'0dx_2dumux_10c_10.0to11.0_20mn_0s_192_100/'\n",
    "    path2file = 'PDECSanone_1440_'+str(i)+'_10to11_20mn_0s_5/'\n",
    "    #'none_55_'+str(i)+'_10to11_20mn_0s_5/'# 'fixeUpdatenone'+str(i)+'0dx_2dumux_10c_10.0to25.0_20mn_0s_192_100/'\n",
    "    tt = getVal(path2file, \"time.txt\",names= ['time','Qlight'])\n",
    "    time = tt.iloc[:,0]\n",
    "    if max(time) >= 11: \n",
    "        exceptPset.append(i)\n",
    "        print(i, end =\", \")#, (int((max(time)-10.)*24*10)/10), end =\"h, \")"
   ]
  },
  {
   "cell_type": "code",
   "execution_count": 121,
   "id": "4cc9ee08-039a-4faa-8163-d85ca977acfd",
   "metadata": {},
   "outputs": [
    {
     "name": "stdout",
     "output_type": "stream",
     "text": [
      "76 24.0h, 77 24.0h, 78 24.0h, 84 24.0h, 85 24.0h, 89 24.0h, 91 24.0h, "
     ]
    }
   ],
   "source": [
    "exceptPset = []\n",
    "for i in range(99):\n",
    "    # path2file = pathresults + 'param99none'+str(i)+'0dx_2dumux_10c_10.0to11.0_20mn_0s_192_100/'\n",
    "    path2file = 'PDECSbnone_1440_'+str(i)+'_10to11_20mn_0s_5/'\n",
    "    #'none_55_'+str(i)+'_10to11_20mn_0s_5/'# 'fixeUpdatenone'+str(i)+'0dx_2dumux_10c_10.0to25.0_20mn_0s_192_100/'\n",
    "    tt = getVal(path2file, \"time.txt\",names= ['time','Qlight'])\n",
    "    time = tt.iloc[:,0]\n",
    "    if max(time) >= 11: \n",
    "        exceptPset.append(i)\n",
    "        print(i, (int((max(time)-10.)*24*10)/10), end =\"h, \")"
   ]
  },
  {
   "cell_type": "code",
   "execution_count": 106,
   "id": "73277792-b067-43d3-ba12-dda82a95e652",
   "metadata": {},
   "outputs": [
    {
     "name": "stdout",
     "output_type": "stream",
     "text": [
      "23.19444444444482 23.94444444444484 23.250000000000377\n"
     ]
    }
   ],
   "source": [
    "print( max(getVal('1d1dFHungnone_1440_5_10to25_20mn_0s_128/', \"time.txt\",names= ['time','Qlight']).iloc[:,0]),\n",
    "       max(getVal('1d1dFHungearlyDry_1440_5_10to25_20mn_0s_128/', \"time.txt\",names= ['time','Qlight']).iloc[:,0]),\n",
    "       max(getVal('1d1dFHunglateDry_1440_5_10to25_20mn_0s_128/', \"time.txt\",names= ['time','Qlight']).iloc[:,0]))"
   ]
  },
  {
   "cell_type": "code",
   "execution_count": 101,
   "id": "d5bd822c-7f96-4faf-8704-885d55b49a20",
   "metadata": {},
   "outputs": [
    {
     "name": "stdout",
     "output_type": "stream",
     "text": [
      "25.000000000000423 25.000000000000423 25.000000000000423\n"
     ]
    }
   ],
   "source": [
    "print( max(getVal('none_1440_5_10to25_20mn_0s_130/', \"time.txt\",names= ['time','Qlight']).iloc[:,0]),\n",
    "       max(getVal('earlyDry_1440_5_10to25_20mn_0s_130/', \"time.txt\",names= ['time','Qlight']).iloc[:,0]),\n",
    "       max(getVal('lateDry_1440_5_10to25_20mn_0s_130/', \"time.txt\",names= ['time','Qlight']).iloc[:,0]))"
   ]
  },
  {
   "cell_type": "code",
   "execution_count": 102,
   "id": "e597cca4-1777-401f-8d05-1a5d1b01dfb9",
   "metadata": {},
   "outputs": [
    {
     "name": "stdout",
     "output_type": "stream",
     "text": [
      "25.000000000000423 25.000000000000423 25.000000000000423\n"
     ]
    }
   ],
   "source": [
    "print( max(getVal('none_1440_84_10to25_20mn_0s_130/', \"time.txt\",names= ['time','Qlight']).iloc[:,0]),\n",
    "       max(getVal('newSourceearlyDry_1440_84_10to25_20mn_0s_130/', \"time.txt\",names= ['time','Qlight']).iloc[:,0]),\n",
    "       max(getVal('lateDry_1440_84_10to25_20mn_0s_130/', \"time.txt\",names= ['time','Qlight']).iloc[:,0]))"
   ]
  },
  {
   "cell_type": "markdown",
   "id": "0484aec1-2a8e-4c74-b72d-ac8bdbeeecaf",
   "metadata": {},
   "source": [
    "17.680555555555774 13.180555555555646 18.583333333333577\n",
    "13.416666666666764 11.611111111111155 15.62500000000016"
   ]
  },
  {
   "cell_type": "code",
   "execution_count": 25,
   "id": "2d850a13-1b1e-4800-a070-fd5fb0b3f74a",
   "metadata": {},
   "outputs": [
    {
     "name": "stdout",
     "output_type": "stream",
     "text": [
      "[12, 13, 20, 22, 32, 39, 44, 61, 66, 67, 91]\n"
     ]
    }
   ],
   "source": [
    "print(exceptPset)"
   ]
  },
  {
   "cell_type": "code",
   "execution_count": 21,
   "id": "3a2ca17d-36fe-4cb0-9b28-fbd3cea9577d",
   "metadata": {},
   "outputs": [],
   "source": [
    "exceptPset = [12, 13, 20, 22, 32, 39, 41, 44, 61, 66, 67, 91]\n",
    "pSets = [ i for i in range(99) if i not in exceptPset]"
   ]
  },
  {
   "cell_type": "code",
   "execution_count": 23,
   "id": "d0a4d020-208c-4d3b-8194-ee1903f57d8f",
   "metadata": {},
   "outputs": [
    {
     "data": {
      "text/plain": [
       "'[0, 1, 2, 3, 4, 5, 6, 7, 8, 9, 10, 11, 14, 15, 16, 17, 18, 19, 21, 23, 24, 25, 26, 27, 28, 29, 30, 31, 33, 34, 35, 36, 37, 38, 40, 42, 43, 45, 46, 47, 48, 49, 50, 51, 52, 53, 54, 55, 56, 57, 58, 59, 60, 62, 63, 64, 65, 68, 69, 70, 71, 72, 73, 74, 75, 76, 77, 78, 79, 80, 81, 82, 83, 84, 85, 86, 87, 88, 89, 90, 92, 93, 94, 95, 96, 97, 98]'"
      ]
     },
     "execution_count": 23,
     "metadata": {},
     "output_type": "execute_result"
    }
   ],
   "source": [
    "repr(pSets)"
   ]
  },
  {
   "cell_type": "code",
   "execution_count": 22,
   "id": "1447be7f-6b9c-4bb5-a6e4-af631131fb11",
   "metadata": {
    "tags": []
   },
   "outputs": [],
   "source": [
    "# get mean CS gradient at root tip per param set\n",
    "pSet = 0\n",
    "path2file = pathresults + 'param99none'+str(pSet)+'0dx_2dumux_10c_10.0to11.0_20mn_0s_192_100/'\n",
    "rr = get_last_line_as_numpy_array(path2file+\"root_segments_tips.txt\")"
   ]
  },
  {
   "cell_type": "code",
   "execution_count": 23,
   "id": "61310ac8-1ecc-4866-948d-45451118e058",
   "metadata": {
    "tags": []
   },
   "outputs": [
    {
     "data": {
      "text/plain": [
       "array([189, 190, 194, 195, 199, 200, 201, 202, 203, 204, 206, 207, 208,\n",
       "       209, 210, 211, 212, 214, 215, 216, 217, 218, 220, 221, 222, 223,\n",
       "       224, 225, 226, 227, 228, 230, 231, 232, 233, 235, 236, 237, 238,\n",
       "       239, 240, 241, 242, 243, 244, 245, 246, 247, 248, 249, 250, 251,\n",
       "       252, 253, 254, 255, 256, 257, 258, 259, 260, 261, 262, 263])"
      ]
     },
     "execution_count": 23,
     "metadata": {},
     "output_type": "execute_result"
    }
   ],
   "source": [
    "rr"
   ]
  },
  {
   "cell_type": "code",
   "execution_count": 43,
   "id": "2050b6ff-a444-4b19-b089-a61ee1555233",
   "metadata": {
    "tags": []
   },
   "outputs": [],
   "source": [
    "\n",
    "Ginits = np.full(len(rr),np.nan)\n",
    "for idx, gId in enumerate(rr):\n",
    "    #gId = rr[0]\n",
    "    fileName = \"Cyl_cellVol_\"+str(gId)+\".txt\"\n",
    "    cVol = get_last_line_as_numpy_array(path2file+fileName, dtype = float)\n",
    "    fileName = \"Cyl_content1_\"+str(gId)+\".txt\"\n",
    "    Q1 = get_last_line_as_numpy_array(path2file+fileName, dtype = float)\n",
    "    fileName = \"Cyl_coord_\"+str(gId)+\".txt\"\n",
    "    dofc = get_last_line_as_numpy_array(path2file+fileName, dtype = float)\n",
    "    konz = Q1/cVol #mol/cm3\n",
    "    Ginits[idx] = (np.diff( Q1/cVol)/np.diff(dofc))[0]\n"
   ]
  },
  {
   "cell_type": "code",
   "execution_count": 45,
   "id": "ce5dc9e3-56c4-4d83-bf82-f3bef5aae5de",
   "metadata": {
    "tags": []
   },
   "outputs": [
    {
     "name": "stdout",
     "output_type": "stream",
     "text": [
      "[-4.18405430e-03 -4.18403557e-03 -4.67010211e-03 -4.28215454e-03\n",
      " -5.70142892e-03 -5.70158295e-03 -4.58699466e-03 -4.00835645e-03\n",
      " -3.85981046e-03 -4.14192118e-03 -3.69089594e-03 -3.66631095e-03\n",
      " -4.20314311e-03 -3.96875455e-03 -4.30927331e-03 -3.92226811e-03\n",
      " -3.85711383e-03 -4.29105929e-03 -4.01377126e-03 -3.99567016e-03\n",
      " -4.26913219e-03 -4.26920360e-03 -4.70562096e-03 -4.85062365e-03\n",
      " -3.46195642e-03 -4.02656656e-03 -3.04143988e-03 -3.01204638e-03\n",
      " -2.70356092e-03 -3.29955250e-03 -3.29954372e-03 -2.66794207e-03\n",
      " -3.08719762e-03 -2.68563033e-03 -2.88830719e-03 -2.98028751e-03\n",
      " -2.62990364e-03 -2.41328381e-03 -2.33147198e-03 -2.46626649e-03\n",
      " -2.84284199e-03 -2.62283311e-03 -1.82298749e-03 -1.15634427e-03\n",
      " -1.25991027e-03 -1.12749754e-03 -1.13207602e-03 -1.44104715e-03\n",
      " -1.22883686e-03 -1.28413301e-03 -1.23457341e-03 -1.09817795e-03\n",
      " -6.08245553e-04 -1.03084931e-03 -8.79155556e-04 -7.16134255e-04\n",
      " -8.62651125e-04 -6.90456606e-04 -5.16440130e-04 -3.05746925e-04\n",
      " -3.12101259e-04 -3.82006428e-04 -2.18710104e-04 -2.80895768e-05] -0.002736407577682131\n"
     ]
    }
   ],
   "source": [
    "print(Ginits, np.mean(Ginits))"
   ]
  },
  {
   "cell_type": "code",
   "execution_count": 54,
   "id": "d4e7b2fc-033e-4b5d-a72e-257bf214189c",
   "metadata": {
    "tags": []
   },
   "outputs": [
    {
     "name": "stdout",
     "output_type": "stream",
     "text": [
      "\n",
      "pSet 0 len(rr) 64\n",
      "rootid 0, rootid 1, rootid 2, rootid 3, rootid 4, rootid 5, rootid 6, rootid 7, rootid 8, rootid 9, rootid 10, rootid 11, rootid 12, rootid 13, rootid 14, rootid 15, rootid 16, rootid 17, rootid 18, rootid 19, rootid 20, rootid 21, rootid 22, rootid 23, rootid 24, rootid 25, rootid 26, rootid 27, rootid 28, rootid 29, rootid 30, rootid 31, rootid 32, rootid 33, rootid 34, rootid 35, rootid 36, rootid 37, rootid 38, rootid 39, rootid 40, rootid 41, rootid 42, rootid 43, rootid 44, rootid 45, rootid 46, rootid 47, rootid 48, rootid 49, rootid 50, rootid 51, rootid 52, rootid 53, rootid 54, rootid 55, rootid 56, rootid 57, rootid 58, rootid 59, rootid 60, rootid 61, rootid 62, rootid 63, \n",
      "pSet 1 len(rr) 64\n",
      "rootid 0, rootid 1, rootid 2, rootid 3, rootid 4, rootid 5, rootid 6, rootid 7, rootid 8, rootid 9, rootid 10, rootid 11, rootid 12, rootid 13, rootid 14, rootid 15, rootid 16, rootid 17, rootid 18, rootid 19, rootid 20, rootid 21, rootid 22, rootid 23, rootid 24, rootid 25, rootid 26, rootid 27, rootid 28, rootid 29, rootid 30, rootid 31, rootid 32, rootid 33, rootid 34, rootid 35, rootid 36, rootid 37, rootid 38, rootid 39, rootid 40, rootid 41, rootid 42, rootid 43, rootid 44, rootid 45, rootid 46, rootid 47, rootid 48, rootid 49, rootid 50, rootid 51, rootid 52, rootid 53, rootid 54, rootid 55, rootid 56, rootid 57, rootid 58, rootid 59, rootid 60, rootid 61, rootid 62, rootid 63, \n",
      "pSet 2 len(rr) 64\n",
      "rootid 0, rootid 1, rootid 2, rootid 3, rootid 4, rootid 5, rootid 6, rootid 7, rootid 8, rootid 9, rootid 10, rootid 11, rootid 12, rootid 13, rootid 14, rootid 15, rootid 16, rootid 17, rootid 18, rootid 19, rootid 20, rootid 21, rootid 22, rootid 23, rootid 24, rootid 25, rootid 26, rootid 27, rootid 28, rootid 29, rootid 30, rootid 31, rootid 32, rootid 33, rootid 34, rootid 35, rootid 36, rootid 37, rootid 38, rootid 39, rootid 40, rootid 41, rootid 42, rootid 43, rootid 44, rootid 45, rootid 46, rootid 47, rootid 48, rootid 49, rootid 50, rootid 51, rootid 52, rootid 53, rootid 54, rootid 55, rootid 56, rootid 57, rootid 58, rootid 59, rootid 60, rootid 61, rootid 62, rootid 63, \n",
      "pSet 3 len(rr) 64\n",
      "rootid 0, rootid 1, rootid 2, rootid 3, rootid 4, rootid 5, rootid 6, rootid 7, rootid 8, rootid 9, rootid 10, rootid 11, rootid 12, rootid 13, rootid 14, rootid 15, rootid 16, rootid 17, rootid 18, rootid 19, rootid 20, rootid 21, rootid 22, rootid 23, rootid 24, rootid 25, rootid 26, rootid 27, rootid 28, rootid 29, rootid 30, rootid 31, rootid 32, rootid 33, rootid 34, rootid 35, rootid 36, rootid 37, rootid 38, rootid 39, rootid 40, rootid 41, rootid 42, rootid 43, rootid 44, rootid 45, rootid 46, rootid 47, rootid 48, rootid 49, rootid 50, rootid 51, rootid 52, rootid 53, rootid 54, rootid 55, rootid 56, rootid 57, rootid 58, rootid 59, rootid 60, rootid 61, rootid 62, rootid 63, \n",
      "pSet 4 len(rr) 64\n",
      "rootid 0, rootid 1, rootid 2, rootid 3, rootid 4, rootid 5, rootid 6, rootid 7, rootid 8, rootid 9, rootid 10, rootid 11, rootid 12, rootid 13, rootid 14, rootid 15, rootid 16, rootid 17, rootid 18, rootid 19, rootid 20, rootid 21, rootid 22, rootid 23, rootid 24, rootid 25, rootid 26, rootid 27, rootid 28, rootid 29, rootid 30, rootid 31, rootid 32, rootid 33, rootid 34, rootid 35, rootid 36, rootid 37, rootid 38, rootid 39, rootid 40, rootid 41, rootid 42, rootid 43, rootid 44, rootid 45, rootid 46, rootid 47, rootid 48, rootid 49, rootid 50, rootid 51, rootid 52, rootid 53, rootid 54, rootid 55, rootid 56, rootid 57, rootid 58, rootid 59, rootid 60, rootid 61, rootid 62, rootid 63, \n",
      "pSet 5 len(rr) 64\n",
      "rootid 0, rootid 1, rootid 2, rootid 3, rootid 4, rootid 5, rootid 6, rootid 7, rootid 8, rootid 9, rootid 10, rootid 11, rootid 12, rootid 13, rootid 14, rootid 15, rootid 16, rootid 17, rootid 18, rootid 19, rootid 20, rootid 21, rootid 22, rootid 23, rootid 24, rootid 25, rootid 26, rootid 27, rootid 28, rootid 29, rootid 30, rootid 31, rootid 32, rootid 33, rootid 34, rootid 35, rootid 36, rootid 37, rootid 38, rootid 39, rootid 40, rootid 41, rootid 42, rootid 43, rootid 44, rootid 45, rootid 46, rootid 47, rootid 48, rootid 49, rootid 50, rootid 51, rootid 52, rootid 53, rootid 54, rootid 55, rootid 56, rootid 57, rootid 58, rootid 59, rootid 60, rootid 61, rootid 62, rootid 63, \n",
      "pSet 6 len(rr) 64\n",
      "rootid 0, rootid 1, rootid 2, rootid 3, rootid 4, rootid 5, rootid 6, rootid 7, rootid 8, rootid 9, rootid 10, rootid 11, rootid 12, rootid 13, rootid 14, rootid 15, rootid 16, rootid 17, rootid 18, rootid 19, rootid 20, rootid 21, rootid 22, rootid 23, rootid 24, rootid 25, rootid 26, rootid 27, rootid 28, rootid 29, rootid 30, rootid 31, rootid 32, rootid 33, rootid 34, rootid 35, rootid 36, rootid 37, rootid 38, rootid 39, rootid 40, rootid 41, rootid 42, rootid 43, rootid 44, rootid 45, rootid 46, rootid 47, rootid 48, rootid 49, rootid 50, rootid 51, rootid 52, rootid 53, rootid 54, rootid 55, rootid 56, rootid 57, rootid 58, rootid 59, rootid 60, rootid 61, rootid 62, rootid 63, \n",
      "pSet 7 len(rr) 64\n",
      "rootid 0, rootid 1, rootid 2, rootid 3, rootid 4, rootid 5, rootid 6, rootid 7, rootid 8, rootid 9, rootid 10, rootid 11, rootid 12, rootid 13, rootid 14, rootid 15, rootid 16, rootid 17, rootid 18, rootid 19, rootid 20, rootid 21, rootid 22, rootid 23, rootid 24, rootid 25, rootid 26, rootid 27, rootid 28, rootid 29, rootid 30, rootid 31, rootid 32, rootid 33, rootid 34, rootid 35, rootid 36, rootid 37, rootid 38, rootid 39, rootid 40, rootid 41, rootid 42, rootid 43, rootid 44, rootid 45, rootid 46, rootid 47, rootid 48, rootid 49, rootid 50, rootid 51, rootid 52, rootid 53, rootid 54, rootid 55, rootid 56, rootid 57, rootid 58, rootid 59, rootid 60, rootid 61, rootid 62, rootid 63, \n",
      "pSet 8 len(rr) 64\n",
      "rootid 0, rootid 1, rootid 2, rootid 3, rootid 4, rootid 5, rootid 6, rootid 7, rootid 8, rootid 9, rootid 10, rootid 11, rootid 12, rootid 13, rootid 14, rootid 15, rootid 16, rootid 17, rootid 18, rootid 19, rootid 20, rootid 21, rootid 22, rootid 23, rootid 24, rootid 25, rootid 26, rootid 27, rootid 28, rootid 29, rootid 30, rootid 31, rootid 32, rootid 33, rootid 34, rootid 35, rootid 36, rootid 37, rootid 38, rootid 39, rootid 40, rootid 41, rootid 42, rootid 43, rootid 44, rootid 45, rootid 46, rootid 47, rootid 48, rootid 49, rootid 50, rootid 51, rootid 52, rootid 53, rootid 54, rootid 55, rootid 56, rootid 57, rootid 58, rootid 59, rootid 60, rootid 61, rootid 62, rootid 63, \n",
      "pSet 9 len(rr) 64\n",
      "rootid 0, rootid 1, rootid 2, rootid 3, rootid 4, rootid 5, rootid 6, rootid 7, rootid 8, rootid 9, rootid 10, rootid 11, rootid 12, rootid 13, rootid 14, rootid 15, rootid 16, rootid 17, rootid 18, rootid 19, rootid 20, rootid 21, rootid 22, rootid 23, rootid 24, rootid 25, rootid 26, rootid 27, rootid 28, rootid 29, rootid 30, rootid 31, rootid 32, rootid 33, rootid 34, rootid 35, rootid 36, rootid 37, rootid 38, rootid 39, rootid 40, rootid 41, rootid 42, rootid 43, rootid 44, rootid 45, rootid 46, rootid 47, rootid 48, rootid 49, rootid 50, rootid 51, rootid 52, rootid 53, rootid 54, rootid 55, rootid 56, rootid 57, rootid 58, rootid 59, rootid 60, rootid 61, rootid 62, rootid 63, \n",
      "pSet 10 len(rr) 64\n",
      "rootid 0, rootid 1, rootid 2, rootid 3, rootid 4, rootid 5, rootid 6, rootid 7, rootid 8, rootid 9, rootid 10, rootid 11, rootid 12, rootid 13, rootid 14, rootid 15, rootid 16, rootid 17, rootid 18, rootid 19, rootid 20, rootid 21, rootid 22, rootid 23, rootid 24, rootid 25, rootid 26, rootid 27, rootid 28, rootid 29, rootid 30, rootid 31, rootid 32, rootid 33, rootid 34, rootid 35, rootid 36, rootid 37, rootid 38, rootid 39, rootid 40, rootid 41, rootid 42, rootid 43, rootid 44, rootid 45, rootid 46, rootid 47, rootid 48, rootid 49, rootid 50, rootid 51, rootid 52, rootid 53, rootid 54, rootid 55, rootid 56, rootid 57, rootid 58, rootid 59, rootid 60, rootid 61, rootid 62, rootid 63, \n",
      "pSet 11 len(rr) 64\n",
      "rootid 0, rootid 1, rootid 2, rootid 3, rootid 4, rootid 5, rootid 6, rootid 7, rootid 8, rootid 9, rootid 10, rootid 11, rootid 12, rootid 13, rootid 14, rootid 15, rootid 16, rootid 17, rootid 18, rootid 19, rootid 20, rootid 21, rootid 22, rootid 23, rootid 24, rootid 25, rootid 26, rootid 27, rootid 28, rootid 29, rootid 30, rootid 31, rootid 32, rootid 33, rootid 34, rootid 35, rootid 36, rootid 37, rootid 38, rootid 39, rootid 40, rootid 41, rootid 42, rootid 43, rootid 44, rootid 45, rootid 46, rootid 47, rootid 48, rootid 49, rootid 50, rootid 51, rootid 52, rootid 53, rootid 54, rootid 55, rootid 56, rootid 57, rootid 58, rootid 59, rootid 60, rootid 61, rootid 62, rootid 63, \n",
      "pSet 12 len(rr) 64\n",
      "rootid 0, rootid 1, rootid 2, rootid 3, rootid 4, rootid 5, rootid 6, rootid 7, rootid 8, rootid 9, rootid 10, rootid 11, rootid 12, rootid 13, rootid 14, rootid 15, rootid 16, rootid 17, rootid 18, rootid 19, rootid 20, rootid 21, rootid 22, rootid 23, rootid 24, rootid 25, rootid 26, rootid 27, rootid 28, rootid 29, rootid 30, rootid 31, rootid 32, rootid 33, rootid 34, rootid 35, rootid 36, rootid 37, rootid 38, rootid 39, rootid 40, rootid 41, rootid 42, rootid 43, rootid 44, rootid 45, rootid 46, rootid 47, rootid 48, rootid 49, rootid 50, rootid 51, rootid 52, rootid 53, rootid 54, rootid 55, rootid 56, rootid 57, rootid 58, rootid 59, rootid 60, rootid 61, rootid 62, rootid 63, \n",
      "pSet 13 len(rr) 64\n",
      "rootid 0, rootid 1, rootid 2, rootid 3, rootid 4, rootid 5, rootid 6, rootid 7, rootid 8, rootid 9, rootid 10, rootid 11, rootid 12, rootid 13, rootid 14, rootid 15, rootid 16, rootid 17, rootid 18, rootid 19, rootid 20, rootid 21, rootid 22, rootid 23, rootid 24, rootid 25, rootid 26, rootid 27, rootid 28, rootid 29, rootid 30, rootid 31, rootid 32, rootid 33, rootid 34, rootid 35, rootid 36, rootid 37, rootid 38, rootid 39, rootid 40, rootid 41, rootid 42, rootid 43, rootid 44, rootid 45, rootid 46, rootid 47, rootid 48, rootid 49, rootid 50, rootid 51, rootid 52, rootid 53, rootid 54, rootid 55, rootid 56, rootid 57, rootid 58, rootid 59, rootid 60, rootid 61, rootid 62, rootid 63, \n",
      "pSet 14 len(rr) 64\n",
      "rootid 0, rootid 1, rootid 2, rootid 3, rootid 4, rootid 5, rootid 6, rootid 7, rootid 8, rootid 9, rootid 10, rootid 11, rootid 12, rootid 13, rootid 14, rootid 15, rootid 16, rootid 17, rootid 18, rootid 19, rootid 20, rootid 21, rootid 22, rootid 23, rootid 24, rootid 25, rootid 26, rootid 27, rootid 28, rootid 29, rootid 30, rootid 31, rootid 32, rootid 33, rootid 34, rootid 35, rootid 36, rootid 37, rootid 38, rootid 39, rootid 40, rootid 41, rootid 42, rootid 43, rootid 44, rootid 45, rootid 46, rootid 47, rootid 48, rootid 49, rootid 50, rootid 51, rootid 52, rootid 53, rootid 54, rootid 55, rootid 56, rootid 57, rootid 58, rootid 59, rootid 60, rootid 61, rootid 62, rootid 63, \n",
      "pSet 15 len(rr) 64\n",
      "rootid 0, rootid 1, rootid 2, rootid 3, rootid 4, rootid 5, rootid 6, rootid 7, rootid 8, rootid 9, rootid 10, rootid 11, rootid 12, rootid 13, rootid 14, rootid 15, rootid 16, rootid 17, rootid 18, rootid 19, rootid 20, rootid 21, rootid 22, rootid 23, rootid 24, rootid 25, rootid 26, rootid 27, rootid 28, rootid 29, rootid 30, rootid 31, rootid 32, rootid 33, rootid 34, rootid 35, rootid 36, rootid 37, rootid 38, rootid 39, rootid 40, rootid 41, rootid 42, rootid 43, rootid 44, rootid 45, rootid 46, rootid 47, rootid 48, rootid 49, rootid 50, rootid 51, rootid 52, rootid 53, rootid 54, rootid 55, rootid 56, rootid 57, rootid 58, rootid 59, rootid 60, rootid 61, rootid 62, rootid 63, \n",
      "pSet 16 len(rr) 64\n",
      "rootid 0, rootid 1, rootid 2, rootid 3, rootid 4, rootid 5, rootid 6, rootid 7, rootid 8, rootid 9, rootid 10, rootid 11, rootid 12, rootid 13, rootid 14, rootid 15, rootid 16, rootid 17, rootid 18, rootid 19, rootid 20, rootid 21, rootid 22, rootid 23, rootid 24, rootid 25, rootid 26, rootid 27, rootid 28, rootid 29, rootid 30, rootid 31, rootid 32, rootid 33, rootid 34, rootid 35, rootid 36, rootid 37, rootid 38, rootid 39, rootid 40, rootid 41, rootid 42, rootid 43, rootid 44, rootid 45, rootid 46, rootid 47, rootid 48, rootid 49, rootid 50, rootid 51, rootid 52, rootid 53, rootid 54, rootid 55, rootid 56, rootid 57, rootid 58, rootid 59, rootid 60, rootid 61, rootid 62, rootid 63, \n",
      "pSet 17 len(rr) 64\n",
      "rootid 0, rootid 1, rootid 2, rootid 3, rootid 4, rootid 5, rootid 6, rootid 7, rootid 8, rootid 9, rootid 10, rootid 11, rootid 12, rootid 13, rootid 14, rootid 15, rootid 16, rootid 17, rootid 18, rootid 19, rootid 20, rootid 21, rootid 22, rootid 23, rootid 24, rootid 25, rootid 26, rootid 27, rootid 28, rootid 29, rootid 30, rootid 31, rootid 32, rootid 33, rootid 34, rootid 35, rootid 36, rootid 37, rootid 38, rootid 39, rootid 40, rootid 41, rootid 42, rootid 43, rootid 44, rootid 45, rootid 46, rootid 47, rootid 48, rootid 49, rootid 50, rootid 51, rootid 52, rootid 53, rootid 54, rootid 55, rootid 56, rootid 57, rootid 58, rootid 59, rootid 60, rootid 61, rootid 62, rootid 63, \n",
      "pSet 18 len(rr) 64\n",
      "rootid 0, rootid 1, rootid 2, rootid 3, rootid 4, rootid 5, rootid 6, rootid 7, rootid 8, rootid 9, rootid 10, rootid 11, rootid 12, rootid 13, rootid 14, rootid 15, rootid 16, rootid 17, rootid 18, rootid 19, rootid 20, rootid 21, rootid 22, rootid 23, rootid 24, rootid 25, rootid 26, rootid 27, rootid 28, rootid 29, rootid 30, rootid 31, rootid 32, rootid 33, rootid 34, rootid 35, rootid 36, rootid 37, rootid 38, rootid 39, rootid 40, rootid 41, rootid 42, rootid 43, rootid 44, rootid 45, rootid 46, rootid 47, rootid 48, rootid 49, rootid 50, rootid 51, rootid 52, rootid 53, rootid 54, rootid 55, rootid 56, rootid 57, rootid 58, rootid 59, rootid 60, rootid 61, rootid 62, rootid 63, \n",
      "pSet 19 len(rr) 64\n",
      "rootid 0, rootid 1, rootid 2, rootid 3, rootid 4, rootid 5, rootid 6, rootid 7, rootid 8, rootid 9, rootid 10, rootid 11, rootid 12, rootid 13, rootid 14, rootid 15, rootid 16, rootid 17, rootid 18, rootid 19, rootid 20, rootid 21, rootid 22, rootid 23, rootid 24, rootid 25, rootid 26, rootid 27, rootid 28, rootid 29, rootid 30, rootid 31, rootid 32, rootid 33, rootid 34, rootid 35, rootid 36, rootid 37, rootid 38, rootid 39, rootid 40, rootid 41, rootid 42, rootid 43, rootid 44, rootid 45, rootid 46, rootid 47, rootid 48, rootid 49, rootid 50, rootid 51, rootid 52, rootid 53, rootid 54, rootid 55, rootid 56, rootid 57, rootid 58, rootid 59, rootid 60, rootid 61, rootid 62, rootid 63, \n",
      "pSet 20 len(rr) 64\n",
      "rootid 0, rootid 1, rootid 2, rootid 3, rootid 4, rootid 5, rootid 6, rootid 7, rootid 8, rootid 9, rootid 10, rootid 11, rootid 12, rootid 13, rootid 14, rootid 15, rootid 16, rootid 17, rootid 18, rootid 19, rootid 20, rootid 21, rootid 22, rootid 23, rootid 24, rootid 25, rootid 26, rootid 27, rootid 28, rootid 29, rootid 30, rootid 31, rootid 32, rootid 33, rootid 34, rootid 35, rootid 36, rootid 37, rootid 38, rootid 39, rootid 40, rootid 41, rootid 42, rootid 43, rootid 44, rootid 45, rootid 46, rootid 47, rootid 48, rootid 49, rootid 50, rootid 51, rootid 52, rootid 53, rootid 54, rootid 55, rootid 56, rootid 57, rootid 58, rootid 59, rootid 60, rootid 61, rootid 62, rootid 63, \n",
      "pSet 21 len(rr) 64\n",
      "rootid 0, rootid 1, rootid 2, rootid 3, rootid 4, rootid 5, rootid 6, rootid 7, rootid 8, rootid 9, rootid 10, rootid 11, rootid 12, rootid 13, rootid 14, rootid 15, rootid 16, rootid 17, rootid 18, rootid 19, rootid 20, rootid 21, rootid 22, rootid 23, rootid 24, rootid 25, rootid 26, rootid 27, rootid 28, rootid 29, rootid 30, rootid 31, rootid 32, rootid 33, rootid 34, rootid 35, rootid 36, rootid 37, rootid 38, rootid 39, rootid 40, rootid 41, rootid 42, rootid 43, rootid 44, rootid 45, rootid 46, rootid 47, rootid 48, rootid 49, rootid 50, rootid 51, rootid 52, rootid 53, rootid 54, rootid 55, rootid 56, rootid 57, rootid 58, rootid 59, rootid 60, rootid 61, rootid 62, rootid 63, \n",
      "pSet 22 len(rr) 64\n",
      "rootid 0, rootid 1, rootid 2, rootid 3, rootid 4, rootid 5, rootid 6, rootid 7, rootid 8, rootid 9, rootid 10, rootid 11, rootid 12, rootid 13, rootid 14, rootid 15, rootid 16, rootid 17, rootid 18, rootid 19, rootid 20, rootid 21, rootid 22, rootid 23, rootid 24, rootid 25, rootid 26, rootid 27, rootid 28, rootid 29, rootid 30, rootid 31, rootid 32, rootid 33, rootid 34, rootid 35, rootid 36, rootid 37, rootid 38, rootid 39, rootid 40, rootid 41, rootid 42, rootid 43, rootid 44, rootid 45, rootid 46, rootid 47, rootid 48, rootid 49, rootid 50, rootid 51, rootid 52, rootid 53, rootid 54, rootid 55, rootid 56, rootid 57, rootid 58, rootid 59, rootid 60, rootid 61, rootid 62, rootid 63, \n",
      "pSet 23 len(rr) 64\n",
      "rootid 0, rootid 1, rootid 2, rootid 3, rootid 4, rootid 5, rootid 6, rootid 7, rootid 8, rootid 9, rootid 10, rootid 11, rootid 12, rootid 13, rootid 14, rootid 15, rootid 16, rootid 17, rootid 18, rootid 19, rootid 20, rootid 21, rootid 22, rootid 23, rootid 24, rootid 25, rootid 26, rootid 27, rootid 28, rootid 29, rootid 30, rootid 31, rootid 32, rootid 33, rootid 34, rootid 35, rootid 36, rootid 37, rootid 38, rootid 39, rootid 40, rootid 41, rootid 42, rootid 43, rootid 44, rootid 45, rootid 46, rootid 47, rootid 48, rootid 49, rootid 50, rootid 51, rootid 52, rootid 53, rootid 54, rootid 55, rootid 56, rootid 57, rootid 58, rootid 59, rootid 60, rootid 61, rootid 62, rootid 63, \n",
      "pSet 24 len(rr) 64\n",
      "rootid 0, rootid 1, rootid 2, rootid 3, rootid 4, rootid 5, rootid 6, rootid 7, rootid 8, rootid 9, rootid 10, rootid 11, rootid 12, rootid 13, rootid 14, rootid 15, rootid 16, rootid 17, rootid 18, rootid 19, rootid 20, rootid 21, rootid 22, rootid 23, rootid 24, rootid 25, rootid 26, rootid 27, rootid 28, rootid 29, rootid 30, rootid 31, rootid 32, rootid 33, rootid 34, rootid 35, rootid 36, rootid 37, rootid 38, rootid 39, rootid 40, rootid 41, rootid 42, rootid 43, rootid 44, rootid 45, rootid 46, rootid 47, rootid 48, rootid 49, rootid 50, rootid 51, rootid 52, rootid 53, rootid 54, rootid 55, rootid 56, rootid 57, rootid 58, rootid 59, rootid 60, rootid 61, rootid 62, rootid 63, \n",
      "pSet 25 len(rr) 64\n",
      "rootid 0, rootid 1, rootid 2, rootid 3, rootid 4, rootid 5, rootid 6, rootid 7, rootid 8, rootid 9, rootid 10, rootid 11, rootid 12, rootid 13, rootid 14, rootid 15, rootid 16, rootid 17, rootid 18, rootid 19, rootid 20, rootid 21, rootid 22, rootid 23, rootid 24, rootid 25, rootid 26, rootid 27, rootid 28, rootid 29, rootid 30, rootid 31, rootid 32, rootid 33, rootid 34, rootid 35, rootid 36, rootid 37, rootid 38, rootid 39, rootid 40, rootid 41, rootid 42, rootid 43, rootid 44, rootid 45, rootid 46, rootid 47, rootid 48, rootid 49, rootid 50, rootid 51, rootid 52, rootid 53, rootid 54, rootid 55, rootid 56, rootid 57, rootid 58, rootid 59, rootid 60, rootid 61, rootid 62, rootid 63, \n",
      "pSet 26 len(rr) 64\n",
      "rootid 0, rootid 1, rootid 2, rootid 3, rootid 4, rootid 5, rootid 6, rootid 7, rootid 8, rootid 9, rootid 10, rootid 11, rootid 12, rootid 13, rootid 14, rootid 15, rootid 16, rootid 17, rootid 18, rootid 19, rootid 20, rootid 21, rootid 22, rootid 23, rootid 24, rootid 25, rootid 26, rootid 27, rootid 28, rootid 29, rootid 30, rootid 31, rootid 32, rootid 33, rootid 34, rootid 35, rootid 36, rootid 37, rootid 38, rootid 39, rootid 40, rootid 41, rootid 42, rootid 43, rootid 44, rootid 45, rootid 46, rootid 47, rootid 48, rootid 49, rootid 50, rootid 51, rootid 52, rootid 53, rootid 54, rootid 55, rootid 56, rootid 57, rootid 58, rootid 59, rootid 60, rootid 61, rootid 62, rootid 63, \n",
      "pSet 27 len(rr) 64\n",
      "rootid 0, rootid 1, rootid 2, rootid 3, rootid 4, rootid 5, rootid 6, rootid 7, rootid 8, rootid 9, rootid 10, rootid 11, rootid 12, rootid 13, rootid 14, rootid 15, rootid 16, rootid 17, rootid 18, rootid 19, rootid 20, rootid 21, rootid 22, rootid 23, rootid 24, rootid 25, rootid 26, rootid 27, rootid 28, rootid 29, rootid 30, rootid 31, rootid 32, rootid 33, rootid 34, rootid 35, rootid 36, rootid 37, rootid 38, rootid 39, rootid 40, rootid 41, rootid 42, rootid 43, rootid 44, rootid 45, rootid 46, rootid 47, rootid 48, rootid 49, rootid 50, rootid 51, rootid 52, rootid 53, rootid 54, rootid 55, rootid 56, rootid 57, rootid 58, rootid 59, rootid 60, rootid 61, rootid 62, rootid 63, \n",
      "pSet 28 len(rr) 64\n",
      "rootid 0, rootid 1, rootid 2, rootid 3, rootid 4, rootid 5, rootid 6, rootid 7, rootid 8, rootid 9, rootid 10, rootid 11, rootid 12, rootid 13, rootid 14, rootid 15, rootid 16, rootid 17, rootid 18, rootid 19, rootid 20, rootid 21, rootid 22, rootid 23, rootid 24, rootid 25, rootid 26, rootid 27, rootid 28, rootid 29, rootid 30, rootid 31, rootid 32, rootid 33, rootid 34, rootid 35, rootid 36, rootid 37, rootid 38, rootid 39, rootid 40, rootid 41, rootid 42, rootid 43, rootid 44, rootid 45, rootid 46, rootid 47, rootid 48, rootid 49, rootid 50, rootid 51, rootid 52, rootid 53, rootid 54, rootid 55, rootid 56, rootid 57, rootid 58, rootid 59, rootid 60, rootid 61, rootid 62, rootid 63, \n",
      "pSet 29 len(rr) 64\n",
      "rootid 0, rootid 1, rootid 2, rootid 3, rootid 4, rootid 5, rootid 6, rootid 7, rootid 8, rootid 9, rootid 10, rootid 11, rootid 12, rootid 13, rootid 14, rootid 15, rootid 16, rootid 17, rootid 18, rootid 19, rootid 20, rootid 21, rootid 22, rootid 23, rootid 24, rootid 25, rootid 26, rootid 27, rootid 28, rootid 29, rootid 30, rootid 31, rootid 32, rootid 33, rootid 34, rootid 35, rootid 36, rootid 37, rootid 38, rootid 39, rootid 40, rootid 41, rootid 42, rootid 43, rootid 44, rootid 45, rootid 46, rootid 47, rootid 48, rootid 49, rootid 50, rootid 51, rootid 52, rootid 53, rootid 54, rootid 55, rootid 56, rootid 57, rootid 58, rootid 59, rootid 60, rootid 61, rootid 62, rootid 63, \n",
      "pSet 30 len(rr) 64\n",
      "rootid 0, rootid 1, rootid 2, rootid 3, rootid 4, rootid 5, rootid 6, rootid 7, rootid 8, rootid 9, rootid 10, rootid 11, rootid 12, rootid 13, rootid 14, rootid 15, rootid 16, rootid 17, rootid 18, rootid 19, rootid 20, rootid 21, rootid 22, rootid 23, rootid 24, rootid 25, rootid 26, rootid 27, rootid 28, rootid 29, rootid 30, rootid 31, rootid 32, rootid 33, rootid 34, rootid 35, rootid 36, rootid 37, rootid 38, rootid 39, rootid 40, rootid 41, rootid 42, rootid 43, rootid 44, rootid 45, rootid 46, rootid 47, rootid 48, rootid 49, rootid 50, rootid 51, rootid 52, rootid 53, rootid 54, rootid 55, rootid 56, rootid 57, rootid 58, rootid 59, rootid 60, rootid 61, rootid 62, rootid 63, \n",
      "pSet 31 len(rr) 64\n",
      "rootid 0, rootid 1, rootid 2, rootid 3, rootid 4, rootid 5, rootid 6, rootid 7, rootid 8, rootid 9, rootid 10, rootid 11, rootid 12, rootid 13, rootid 14, rootid 15, rootid 16, rootid 17, rootid 18, rootid 19, rootid 20, rootid 21, rootid 22, rootid 23, rootid 24, rootid 25, rootid 26, rootid 27, rootid 28, rootid 29, rootid 30, rootid 31, rootid 32, rootid 33, rootid 34, rootid 35, rootid 36, rootid 37, rootid 38, rootid 39, rootid 40, rootid 41, rootid 42, rootid 43, rootid 44, rootid 45, rootid 46, rootid 47, rootid 48, rootid 49, rootid 50, rootid 51, rootid 52, rootid 53, rootid 54, rootid 55, rootid 56, rootid 57, rootid 58, rootid 59, rootid 60, rootid 61, rootid 62, rootid 63, \n",
      "pSet 32 len(rr) 64\n",
      "rootid 0, rootid 1, rootid 2, rootid 3, rootid 4, rootid 5, rootid 6, rootid 7, rootid 8, rootid 9, rootid 10, rootid 11, rootid 12, rootid 13, rootid 14, rootid 15, rootid 16, rootid 17, rootid 18, rootid 19, rootid 20, rootid 21, rootid 22, rootid 23, rootid 24, rootid 25, rootid 26, rootid 27, rootid 28, rootid 29, rootid 30, rootid 31, rootid 32, rootid 33, rootid 34, rootid 35, rootid 36, rootid 37, rootid 38, rootid 39, rootid 40, rootid 41, rootid 42, rootid 43, rootid 44, rootid 45, rootid 46, rootid 47, rootid 48, rootid 49, rootid 50, rootid 51, rootid 52, rootid 53, rootid 54, rootid 55, rootid 56, rootid 57, rootid 58, rootid 59, rootid 60, rootid 61, rootid 62, rootid 63, \n",
      "pSet 33 len(rr) 64\n",
      "rootid 0, rootid 1, rootid 2, rootid 3, rootid 4, rootid 5, rootid 6, rootid 7, rootid 8, rootid 9, rootid 10, rootid 11, rootid 12, rootid 13, rootid 14, rootid 15, rootid 16, rootid 17, rootid 18, rootid 19, rootid 20, rootid 21, rootid 22, rootid 23, rootid 24, rootid 25, rootid 26, rootid 27, rootid 28, rootid 29, rootid 30, rootid 31, rootid 32, rootid 33, rootid 34, rootid 35, rootid 36, rootid 37, rootid 38, rootid 39, rootid 40, rootid 41, rootid 42, rootid 43, rootid 44, rootid 45, rootid 46, rootid 47, rootid 48, rootid 49, rootid 50, rootid 51, rootid 52, rootid 53, rootid 54, rootid 55, rootid 56, rootid 57, rootid 58, rootid 59, rootid 60, rootid 61, rootid 62, rootid 63, \n",
      "pSet 34 len(rr) 64\n",
      "rootid 0, rootid 1, rootid 2, rootid 3, rootid 4, rootid 5, rootid 6, rootid 7, rootid 8, rootid 9, rootid 10, rootid 11, rootid 12, rootid 13, rootid 14, rootid 15, rootid 16, rootid 17, rootid 18, rootid 19, rootid 20, rootid 21, rootid 22, rootid 23, rootid 24, rootid 25, rootid 26, rootid 27, rootid 28, rootid 29, rootid 30, rootid 31, rootid 32, rootid 33, rootid 34, rootid 35, rootid 36, rootid 37, rootid 38, rootid 39, rootid 40, rootid 41, rootid 42, rootid 43, rootid 44, rootid 45, rootid 46, rootid 47, rootid 48, rootid 49, rootid 50, rootid 51, rootid 52, rootid 53, rootid 54, rootid 55, rootid 56, rootid 57, rootid 58, rootid 59, rootid 60, rootid 61, rootid 62, rootid 63, \n",
      "pSet 35 len(rr) 64\n",
      "rootid 0, rootid 1, rootid 2, rootid 3, rootid 4, rootid 5, rootid 6, rootid 7, rootid 8, rootid 9, rootid 10, rootid 11, rootid 12, rootid 13, rootid 14, rootid 15, rootid 16, rootid 17, rootid 18, rootid 19, rootid 20, rootid 21, rootid 22, rootid 23, rootid 24, rootid 25, rootid 26, rootid 27, rootid 28, rootid 29, rootid 30, rootid 31, rootid 32, rootid 33, rootid 34, rootid 35, rootid 36, rootid 37, rootid 38, rootid 39, rootid 40, rootid 41, rootid 42, rootid 43, rootid 44, rootid 45, rootid 46, rootid 47, rootid 48, rootid 49, rootid 50, rootid 51, rootid 52, rootid 53, rootid 54, rootid 55, rootid 56, rootid 57, rootid 58, rootid 59, rootid 60, rootid 61, rootid 62, rootid 63, \n",
      "pSet 36 len(rr) 64\n",
      "rootid 0, rootid 1, rootid 2, rootid 3, rootid 4, rootid 5, rootid 6, rootid 7, rootid 8, rootid 9, rootid 10, rootid 11, rootid 12, rootid 13, rootid 14, rootid 15, rootid 16, rootid 17, rootid 18, rootid 19, rootid 20, rootid 21, rootid 22, rootid 23, rootid 24, rootid 25, rootid 26, rootid 27, rootid 28, rootid 29, rootid 30, rootid 31, rootid 32, rootid 33, rootid 34, rootid 35, rootid 36, rootid 37, rootid 38, rootid 39, rootid 40, rootid 41, rootid 42, rootid 43, rootid 44, rootid 45, rootid 46, rootid 47, rootid 48, rootid 49, rootid 50, rootid 51, rootid 52, rootid 53, rootid 54, rootid 55, rootid 56, rootid 57, rootid 58, rootid 59, rootid 60, rootid 61, rootid 62, rootid 63, \n",
      "pSet 37 len(rr) 64\n",
      "rootid 0, rootid 1, rootid 2, rootid 3, rootid 4, rootid 5, rootid 6, rootid 7, rootid 8, rootid 9, rootid 10, rootid 11, rootid 12, rootid 13, rootid 14, rootid 15, rootid 16, rootid 17, rootid 18, rootid 19, rootid 20, rootid 21, rootid 22, rootid 23, rootid 24, rootid 25, rootid 26, rootid 27, rootid 28, rootid 29, rootid 30, rootid 31, rootid 32, rootid 33, rootid 34, rootid 35, rootid 36, rootid 37, rootid 38, rootid 39, rootid 40, rootid 41, rootid 42, rootid 43, rootid 44, rootid 45, rootid 46, rootid 47, rootid 48, rootid 49, rootid 50, rootid 51, rootid 52, rootid 53, rootid 54, rootid 55, rootid 56, rootid 57, rootid 58, rootid 59, rootid 60, rootid 61, rootid 62, rootid 63, \n",
      "pSet 38 len(rr) 64\n",
      "rootid 0, rootid 1, rootid 2, rootid 3, rootid 4, rootid 5, rootid 6, rootid 7, rootid 8, rootid 9, rootid 10, rootid 11, rootid 12, rootid 13, rootid 14, rootid 15, rootid 16, rootid 17, rootid 18, rootid 19, rootid 20, rootid 21, rootid 22, rootid 23, rootid 24, rootid 25, rootid 26, rootid 27, rootid 28, rootid 29, rootid 30, rootid 31, rootid 32, rootid 33, rootid 34, rootid 35, rootid 36, rootid 37, rootid 38, rootid 39, rootid 40, rootid 41, rootid 42, rootid 43, rootid 44, rootid 45, rootid 46, rootid 47, rootid 48, rootid 49, rootid 50, rootid 51, rootid 52, rootid 53, rootid 54, rootid 55, rootid 56, rootid 57, rootid 58, rootid 59, rootid 60, rootid 61, rootid 62, rootid 63, \n",
      "pSet 39 len(rr) 64\n",
      "rootid 0, rootid 1, rootid 2, rootid 3, rootid 4, rootid 5, rootid 6, rootid 7, rootid 8, rootid 9, rootid 10, rootid 11, rootid 12, rootid 13, rootid 14, rootid 15, rootid 16, rootid 17, rootid 18, rootid 19, rootid 20, rootid 21, rootid 22, rootid 23, rootid 24, rootid 25, rootid 26, rootid 27, rootid 28, rootid 29, rootid 30, rootid 31, rootid 32, rootid 33, rootid 34, rootid 35, rootid 36, rootid 37, rootid 38, rootid 39, rootid 40, rootid 41, rootid 42, rootid 43, rootid 44, rootid 45, rootid 46, rootid 47, rootid 48, rootid 49, rootid 50, rootid 51, rootid 52, rootid 53, rootid 54, rootid 55, rootid 56, rootid 57, rootid 58, rootid 59, rootid 60, rootid 61, rootid 62, rootid 63, \n",
      "pSet 40 len(rr) 64\n",
      "rootid 0, rootid 1, rootid 2, rootid 3, rootid 4, rootid 5, rootid 6, rootid 7, rootid 8, rootid 9, rootid 10, rootid 11, rootid 12, rootid 13, rootid 14, rootid 15, rootid 16, rootid 17, rootid 18, rootid 19, rootid 20, rootid 21, rootid 22, rootid 23, rootid 24, rootid 25, rootid 26, rootid 27, rootid 28, rootid 29, rootid 30, rootid 31, rootid 32, rootid 33, rootid 34, rootid 35, rootid 36, rootid 37, rootid 38, rootid 39, rootid 40, rootid 41, rootid 42, rootid 43, rootid 44, rootid 45, rootid 46, rootid 47, rootid 48, rootid 49, rootid 50, rootid 51, rootid 52, rootid 53, rootid 54, rootid 55, rootid 56, rootid 57, rootid 58, rootid 59, rootid 60, rootid 61, rootid 62, rootid 63, \n",
      "pSet 41 len(rr) 64\n",
      "rootid 0, rootid 1, rootid 2, rootid 3, rootid 4, rootid 5, rootid 6, rootid 7, rootid 8, rootid 9, rootid 10, rootid 11, rootid 12, rootid 13, rootid 14, rootid 15, rootid 16, rootid 17, rootid 18, rootid 19, rootid 20, rootid 21, rootid 22, rootid 23, rootid 24, rootid 25, rootid 26, rootid 27, rootid 28, rootid 29, rootid 30, rootid 31, rootid 32, rootid 33, rootid 34, rootid 35, rootid 36, rootid 37, rootid 38, rootid 39, rootid 40, rootid 41, rootid 42, rootid 43, rootid 44, rootid 45, rootid 46, rootid 47, rootid 48, rootid 49, rootid 50, rootid 51, rootid 52, rootid 53, rootid 54, rootid 55, rootid 56, rootid 57, rootid 58, rootid 59, rootid 60, rootid 61, rootid 62, rootid 63, \n",
      "pSet 42 len(rr) 64\n",
      "rootid 0, rootid 1, rootid 2, rootid 3, rootid 4, rootid 5, rootid 6, rootid 7, rootid 8, rootid 9, rootid 10, rootid 11, rootid 12, rootid 13, rootid 14, rootid 15, rootid 16, rootid 17, rootid 18, rootid 19, rootid 20, rootid 21, rootid 22, rootid 23, rootid 24, rootid 25, rootid 26, rootid 27, rootid 28, rootid 29, rootid 30, rootid 31, rootid 32, rootid 33, rootid 34, rootid 35, rootid 36, rootid 37, rootid 38, rootid 39, rootid 40, rootid 41, rootid 42, rootid 43, rootid 44, rootid 45, rootid 46, rootid 47, rootid 48, rootid 49, rootid 50, rootid 51, rootid 52, rootid 53, rootid 54, rootid 55, rootid 56, rootid 57, rootid 58, rootid 59, rootid 60, rootid 61, rootid 62, rootid 63, \n",
      "pSet 43 len(rr) 64\n",
      "rootid 0, rootid 1, rootid 2, rootid 3, rootid 4, rootid 5, rootid 6, rootid 7, rootid 8, rootid 9, rootid 10, rootid 11, rootid 12, rootid 13, rootid 14, rootid 15, rootid 16, rootid 17, rootid 18, rootid 19, rootid 20, rootid 21, rootid 22, rootid 23, rootid 24, rootid 25, rootid 26, rootid 27, rootid 28, rootid 29, rootid 30, rootid 31, rootid 32, rootid 33, rootid 34, rootid 35, rootid 36, rootid 37, rootid 38, rootid 39, rootid 40, rootid 41, rootid 42, rootid 43, rootid 44, rootid 45, rootid 46, rootid 47, rootid 48, rootid 49, rootid 50, rootid 51, rootid 52, rootid 53, rootid 54, rootid 55, rootid 56, rootid 57, rootid 58, rootid 59, rootid 60, rootid 61, rootid 62, rootid 63, \n",
      "pSet 44 len(rr) 64\n",
      "rootid 0, rootid 1, rootid 2, rootid 3, rootid 4, rootid 5, rootid 6, rootid 7, rootid 8, rootid 9, rootid 10, rootid 11, rootid 12, rootid 13, rootid 14, rootid 15, rootid 16, rootid 17, rootid 18, rootid 19, rootid 20, rootid 21, rootid 22, rootid 23, rootid 24, rootid 25, rootid 26, rootid 27, rootid 28, rootid 29, rootid 30, rootid 31, rootid 32, rootid 33, rootid 34, rootid 35, rootid 36, rootid 37, rootid 38, rootid 39, rootid 40, rootid 41, rootid 42, rootid 43, rootid 44, rootid 45, rootid 46, rootid 47, rootid 48, rootid 49, rootid 50, rootid 51, rootid 52, rootid 53, rootid 54, rootid 55, rootid 56, rootid 57, rootid 58, rootid 59, rootid 60, rootid 61, rootid 62, rootid 63, \n",
      "pSet 45 len(rr) 64\n",
      "rootid 0, rootid 1, rootid 2, rootid 3, rootid 4, rootid 5, rootid 6, rootid 7, rootid 8, rootid 9, rootid 10, rootid 11, rootid 12, rootid 13, rootid 14, rootid 15, rootid 16, rootid 17, rootid 18, rootid 19, rootid 20, rootid 21, rootid 22, rootid 23, rootid 24, rootid 25, rootid 26, rootid 27, rootid 28, rootid 29, rootid 30, rootid 31, rootid 32, rootid 33, rootid 34, rootid 35, rootid 36, rootid 37, rootid 38, rootid 39, rootid 40, rootid 41, rootid 42, rootid 43, rootid 44, rootid 45, rootid 46, rootid 47, rootid 48, rootid 49, rootid 50, rootid 51, rootid 52, rootid 53, rootid 54, rootid 55, rootid 56, rootid 57, rootid 58, rootid 59, rootid 60, rootid 61, rootid 62, rootid 63, \n",
      "pSet 46 len(rr) 64\n",
      "rootid 0, rootid 1, rootid 2, rootid 3, rootid 4, rootid 5, rootid 6, rootid 7, rootid 8, rootid 9, rootid 10, rootid 11, rootid 12, rootid 13, rootid 14, rootid 15, rootid 16, rootid 17, rootid 18, rootid 19, rootid 20, rootid 21, rootid 22, rootid 23, rootid 24, rootid 25, rootid 26, rootid 27, rootid 28, rootid 29, rootid 30, rootid 31, rootid 32, rootid 33, rootid 34, rootid 35, rootid 36, rootid 37, rootid 38, rootid 39, rootid 40, rootid 41, rootid 42, rootid 43, rootid 44, rootid 45, rootid 46, rootid 47, rootid 48, rootid 49, rootid 50, rootid 51, rootid 52, rootid 53, rootid 54, rootid 55, rootid 56, rootid 57, rootid 58, rootid 59, rootid 60, rootid 61, rootid 62, rootid 63, \n",
      "pSet 47 len(rr) 64\n",
      "rootid 0, rootid 1, rootid 2, rootid 3, rootid 4, rootid 5, rootid 6, rootid 7, rootid 8, rootid 9, rootid 10, rootid 11, rootid 12, rootid 13, rootid 14, rootid 15, rootid 16, rootid 17, rootid 18, rootid 19, rootid 20, rootid 21, rootid 22, rootid 23, rootid 24, rootid 25, rootid 26, rootid 27, rootid 28, rootid 29, rootid 30, rootid 31, rootid 32, rootid 33, rootid 34, rootid 35, rootid 36, rootid 37, rootid 38, rootid 39, rootid 40, rootid 41, rootid 42, rootid 43, rootid 44, rootid 45, rootid 46, rootid 47, rootid 48, rootid 49, rootid 50, rootid 51, rootid 52, rootid 53, rootid 54, rootid 55, rootid 56, rootid 57, rootid 58, rootid 59, rootid 60, rootid 61, rootid 62, rootid 63, \n",
      "pSet 48 len(rr) 64\n",
      "rootid 0, rootid 1, rootid 2, rootid 3, rootid 4, rootid 5, rootid 6, rootid 7, rootid 8, rootid 9, rootid 10, rootid 11, rootid 12, rootid 13, rootid 14, rootid 15, rootid 16, rootid 17, rootid 18, rootid 19, rootid 20, rootid 21, rootid 22, rootid 23, rootid 24, rootid 25, rootid 26, rootid 27, rootid 28, rootid 29, rootid 30, rootid 31, rootid 32, rootid 33, rootid 34, rootid 35, rootid 36, rootid 37, rootid 38, rootid 39, rootid 40, rootid 41, rootid 42, rootid 43, rootid 44, rootid 45, rootid 46, rootid 47, rootid 48, rootid 49, rootid 50, rootid 51, rootid 52, rootid 53, rootid 54, rootid 55, rootid 56, rootid 57, rootid 58, rootid 59, rootid 60, rootid 61, rootid 62, rootid 63, \n",
      "pSet 49 len(rr) 64\n",
      "rootid 0, rootid 1, rootid 2, rootid 3, rootid 4, rootid 5, rootid 6, rootid 7, rootid 8, rootid 9, rootid 10, rootid 11, rootid 12, rootid 13, rootid 14, rootid 15, rootid 16, rootid 17, rootid 18, rootid 19, rootid 20, rootid 21, rootid 22, rootid 23, rootid 24, rootid 25, rootid 26, rootid 27, rootid 28, rootid 29, rootid 30, rootid 31, rootid 32, rootid 33, rootid 34, rootid 35, rootid 36, rootid 37, rootid 38, rootid 39, rootid 40, rootid 41, rootid 42, rootid 43, rootid 44, rootid 45, rootid 46, rootid 47, rootid 48, rootid 49, rootid 50, rootid 51, rootid 52, rootid 53, rootid 54, rootid 55, rootid 56, rootid 57, rootid 58, rootid 59, rootid 60, rootid 61, rootid 62, rootid 63, \n",
      "pSet 50 len(rr) 64\n",
      "rootid 0, rootid 1, rootid 2, rootid 3, rootid 4, rootid 5, rootid 6, rootid 7, rootid 8, rootid 9, rootid 10, rootid 11, rootid 12, rootid 13, rootid 14, rootid 15, rootid 16, rootid 17, rootid 18, rootid 19, rootid 20, rootid 21, rootid 22, rootid 23, rootid 24, rootid 25, rootid 26, rootid 27, rootid 28, rootid 29, rootid 30, rootid 31, rootid 32, rootid 33, rootid 34, rootid 35, rootid 36, rootid 37, rootid 38, rootid 39, rootid 40, rootid 41, rootid 42, rootid 43, rootid 44, rootid 45, rootid 46, rootid 47, rootid 48, rootid 49, rootid 50, rootid 51, rootid 52, rootid 53, rootid 54, rootid 55, rootid 56, rootid 57, rootid 58, rootid 59, rootid 60, rootid 61, rootid 62, rootid 63, \n",
      "pSet 51 len(rr) 64\n",
      "rootid 0, rootid 1, rootid 2, rootid 3, rootid 4, rootid 5, rootid 6, rootid 7, rootid 8, rootid 9, rootid 10, rootid 11, rootid 12, rootid 13, rootid 14, rootid 15, rootid 16, rootid 17, rootid 18, rootid 19, rootid 20, rootid 21, rootid 22, rootid 23, rootid 24, rootid 25, rootid 26, rootid 27, rootid 28, rootid 29, rootid 30, rootid 31, rootid 32, rootid 33, rootid 34, rootid 35, rootid 36, rootid 37, rootid 38, rootid 39, rootid 40, rootid 41, rootid 42, rootid 43, rootid 44, rootid 45, rootid 46, rootid 47, rootid 48, rootid 49, rootid 50, rootid 51, rootid 52, rootid 53, rootid 54, rootid 55, rootid 56, rootid 57, rootid 58, rootid 59, rootid 60, rootid 61, rootid 62, rootid 63, \n",
      "pSet 52 len(rr) 64\n",
      "rootid 0, rootid 1, rootid 2, rootid 3, rootid 4, rootid 5, rootid 6, rootid 7, rootid 8, rootid 9, rootid 10, rootid 11, rootid 12, rootid 13, rootid 14, rootid 15, rootid 16, rootid 17, rootid 18, rootid 19, rootid 20, rootid 21, rootid 22, rootid 23, rootid 24, rootid 25, rootid 26, rootid 27, rootid 28, rootid 29, rootid 30, rootid 31, rootid 32, rootid 33, rootid 34, rootid 35, rootid 36, rootid 37, rootid 38, rootid 39, rootid 40, rootid 41, rootid 42, rootid 43, rootid 44, rootid 45, rootid 46, rootid 47, rootid 48, rootid 49, rootid 50, rootid 51, rootid 52, rootid 53, rootid 54, rootid 55, rootid 56, rootid 57, rootid 58, rootid 59, rootid 60, rootid 61, rootid 62, rootid 63, \n",
      "pSet 53 len(rr) 64\n",
      "rootid 0, rootid 1, rootid 2, rootid 3, rootid 4, rootid 5, rootid 6, rootid 7, rootid 8, rootid 9, rootid 10, rootid 11, rootid 12, rootid 13, rootid 14, rootid 15, rootid 16, rootid 17, rootid 18, rootid 19, rootid 20, rootid 21, rootid 22, rootid 23, rootid 24, rootid 25, rootid 26, rootid 27, rootid 28, rootid 29, rootid 30, rootid 31, rootid 32, rootid 33, rootid 34, rootid 35, rootid 36, rootid 37, rootid 38, rootid 39, rootid 40, rootid 41, rootid 42, rootid 43, rootid 44, rootid 45, rootid 46, rootid 47, rootid 48, rootid 49, rootid 50, rootid 51, rootid 52, rootid 53, rootid 54, rootid 55, rootid 56, rootid 57, rootid 58, rootid 59, rootid 60, rootid 61, rootid 62, rootid 63, \n",
      "pSet 54 len(rr) 64\n",
      "rootid 0, rootid 1, rootid 2, rootid 3, rootid 4, rootid 5, rootid 6, rootid 7, rootid 8, rootid 9, rootid 10, rootid 11, rootid 12, rootid 13, rootid 14, rootid 15, rootid 16, rootid 17, rootid 18, rootid 19, rootid 20, rootid 21, rootid 22, rootid 23, rootid 24, rootid 25, rootid 26, rootid 27, rootid 28, rootid 29, rootid 30, rootid 31, rootid 32, rootid 33, rootid 34, rootid 35, rootid 36, rootid 37, rootid 38, rootid 39, rootid 40, rootid 41, rootid 42, rootid 43, rootid 44, rootid 45, rootid 46, rootid 47, rootid 48, rootid 49, rootid 50, rootid 51, rootid 52, rootid 53, rootid 54, rootid 55, rootid 56, rootid 57, rootid 58, rootid 59, rootid 60, rootid 61, rootid 62, rootid 63, \n",
      "pSet 55 len(rr) 64\n",
      "rootid 0, rootid 1, rootid 2, rootid 3, rootid 4, rootid 5, rootid 6, rootid 7, rootid 8, rootid 9, rootid 10, rootid 11, rootid 12, rootid 13, rootid 14, rootid 15, rootid 16, rootid 17, rootid 18, rootid 19, rootid 20, rootid 21, rootid 22, rootid 23, rootid 24, rootid 25, rootid 26, rootid 27, rootid 28, rootid 29, rootid 30, rootid 31, rootid 32, rootid 33, rootid 34, rootid 35, rootid 36, rootid 37, rootid 38, rootid 39, rootid 40, rootid 41, rootid 42, rootid 43, rootid 44, rootid 45, rootid 46, rootid 47, rootid 48, rootid 49, rootid 50, rootid 51, rootid 52, rootid 53, rootid 54, rootid 55, rootid 56, rootid 57, rootid 58, rootid 59, rootid 60, rootid 61, rootid 62, rootid 63, \n",
      "pSet 56 len(rr) 64\n",
      "rootid 0, rootid 1, rootid 2, rootid 3, rootid 4, rootid 5, rootid 6, rootid 7, rootid 8, rootid 9, rootid 10, rootid 11, rootid 12, rootid 13, rootid 14, rootid 15, rootid 16, rootid 17, rootid 18, rootid 19, rootid 20, rootid 21, rootid 22, rootid 23, rootid 24, rootid 25, rootid 26, rootid 27, rootid 28, rootid 29, rootid 30, rootid 31, rootid 32, rootid 33, rootid 34, rootid 35, rootid 36, rootid 37, rootid 38, rootid 39, rootid 40, rootid 41, rootid 42, rootid 43, rootid 44, rootid 45, rootid 46, rootid 47, rootid 48, rootid 49, rootid 50, rootid 51, rootid 52, rootid 53, rootid 54, rootid 55, rootid 56, rootid 57, rootid 58, rootid 59, rootid 60, rootid 61, rootid 62, rootid 63, \n",
      "pSet 57 len(rr) 64\n",
      "rootid 0, rootid 1, rootid 2, rootid 3, rootid 4, rootid 5, rootid 6, rootid 7, rootid 8, rootid 9, rootid 10, rootid 11, rootid 12, rootid 13, rootid 14, rootid 15, rootid 16, rootid 17, rootid 18, rootid 19, rootid 20, rootid 21, rootid 22, rootid 23, rootid 24, rootid 25, rootid 26, rootid 27, rootid 28, rootid 29, rootid 30, rootid 31, rootid 32, rootid 33, rootid 34, rootid 35, rootid 36, rootid 37, rootid 38, rootid 39, rootid 40, rootid 41, rootid 42, rootid 43, rootid 44, rootid 45, rootid 46, rootid 47, rootid 48, rootid 49, rootid 50, rootid 51, rootid 52, rootid 53, rootid 54, rootid 55, rootid 56, rootid 57, rootid 58, rootid 59, rootid 60, rootid 61, rootid 62, rootid 63, \n",
      "pSet 58 len(rr) 64\n",
      "rootid 0, rootid 1, rootid 2, rootid 3, rootid 4, rootid 5, rootid 6, rootid 7, rootid 8, rootid 9, rootid 10, rootid 11, rootid 12, rootid 13, rootid 14, rootid 15, rootid 16, rootid 17, rootid 18, rootid 19, rootid 20, rootid 21, rootid 22, rootid 23, rootid 24, rootid 25, rootid 26, rootid 27, rootid 28, rootid 29, rootid 30, rootid 31, rootid 32, rootid 33, rootid 34, rootid 35, rootid 36, rootid 37, rootid 38, rootid 39, rootid 40, rootid 41, rootid 42, rootid 43, rootid 44, rootid 45, rootid 46, rootid 47, rootid 48, rootid 49, rootid 50, rootid 51, rootid 52, rootid 53, rootid 54, rootid 55, rootid 56, rootid 57, rootid 58, rootid 59, rootid 60, rootid 61, rootid 62, rootid 63, \n",
      "pSet 59 len(rr) 64\n",
      "rootid 0, rootid 1, rootid 2, rootid 3, rootid 4, rootid 5, rootid 6, rootid 7, rootid 8, rootid 9, rootid 10, rootid 11, rootid 12, rootid 13, rootid 14, rootid 15, rootid 16, rootid 17, rootid 18, rootid 19, rootid 20, rootid 21, rootid 22, rootid 23, rootid 24, rootid 25, rootid 26, rootid 27, rootid 28, rootid 29, rootid 30, rootid 31, rootid 32, rootid 33, rootid 34, rootid 35, rootid 36, rootid 37, rootid 38, rootid 39, rootid 40, rootid 41, rootid 42, rootid 43, rootid 44, rootid 45, rootid 46, rootid 47, rootid 48, rootid 49, rootid 50, rootid 51, rootid 52, rootid 53, rootid 54, rootid 55, rootid 56, rootid 57, rootid 58, rootid 59, rootid 60, rootid 61, rootid 62, rootid 63, \n",
      "pSet 60 len(rr) 64\n",
      "rootid 0, rootid 1, rootid 2, rootid 3, rootid 4, rootid 5, rootid 6, rootid 7, rootid 8, rootid 9, rootid 10, rootid 11, rootid 12, rootid 13, rootid 14, rootid 15, rootid 16, rootid 17, rootid 18, rootid 19, rootid 20, rootid 21, rootid 22, rootid 23, rootid 24, rootid 25, rootid 26, rootid 27, rootid 28, rootid 29, rootid 30, rootid 31, rootid 32, rootid 33, rootid 34, rootid 35, rootid 36, rootid 37, rootid 38, rootid 39, rootid 40, rootid 41, rootid 42, rootid 43, rootid 44, rootid 45, rootid 46, rootid 47, rootid 48, rootid 49, rootid 50, rootid 51, rootid 52, rootid 53, rootid 54, rootid 55, rootid 56, rootid 57, rootid 58, rootid 59, rootid 60, rootid 61, rootid 62, rootid 63, \n",
      "pSet 61 len(rr) 64\n",
      "rootid 0, rootid 1, rootid 2, rootid 3, rootid 4, rootid 5, rootid 6, rootid 7, rootid 8, rootid 9, rootid 10, rootid 11, rootid 12, rootid 13, rootid 14, rootid 15, rootid 16, rootid 17, rootid 18, rootid 19, rootid 20, rootid 21, rootid 22, rootid 23, rootid 24, rootid 25, rootid 26, rootid 27, rootid 28, rootid 29, rootid 30, rootid 31, rootid 32, rootid 33, rootid 34, rootid 35, rootid 36, rootid 37, rootid 38, rootid 39, rootid 40, rootid 41, rootid 42, rootid 43, rootid 44, rootid 45, rootid 46, rootid 47, rootid 48, rootid 49, rootid 50, rootid 51, rootid 52, rootid 53, rootid 54, rootid 55, rootid 56, rootid 57, rootid 58, rootid 59, rootid 60, rootid 61, rootid 62, rootid 63, \n",
      "pSet 62 len(rr) 64\n",
      "rootid 0, rootid 1, rootid 2, rootid 3, rootid 4, rootid 5, rootid 6, rootid 7, rootid 8, rootid 9, rootid 10, rootid 11, rootid 12, rootid 13, rootid 14, rootid 15, rootid 16, rootid 17, rootid 18, rootid 19, rootid 20, rootid 21, rootid 22, rootid 23, rootid 24, rootid 25, rootid 26, rootid 27, rootid 28, rootid 29, rootid 30, rootid 31, rootid 32, rootid 33, rootid 34, rootid 35, rootid 36, rootid 37, rootid 38, rootid 39, rootid 40, rootid 41, rootid 42, rootid 43, rootid 44, rootid 45, rootid 46, rootid 47, rootid 48, rootid 49, rootid 50, rootid 51, rootid 52, rootid 53, rootid 54, rootid 55, rootid 56, rootid 57, rootid 58, rootid 59, rootid 60, rootid 61, rootid 62, rootid 63, \n",
      "pSet 63 len(rr) 64\n",
      "rootid 0, rootid 1, rootid 2, rootid 3, rootid 4, rootid 5, rootid 6, rootid 7, rootid 8, rootid 9, rootid 10, rootid 11, rootid 12, rootid 13, rootid 14, rootid 15, rootid 16, rootid 17, rootid 18, rootid 19, rootid 20, rootid 21, rootid 22, rootid 23, rootid 24, rootid 25, rootid 26, rootid 27, rootid 28, rootid 29, rootid 30, rootid 31, rootid 32, rootid 33, rootid 34, rootid 35, rootid 36, rootid 37, rootid 38, rootid 39, rootid 40, rootid 41, rootid 42, rootid 43, rootid 44, rootid 45, rootid 46, rootid 47, rootid 48, rootid 49, rootid 50, rootid 51, rootid 52, rootid 53, rootid 54, rootid 55, rootid 56, rootid 57, rootid 58, rootid 59, rootid 60, rootid 61, rootid 62, rootid 63, \n",
      "pSet 64 len(rr) 64\n",
      "rootid 0, rootid 1, rootid 2, rootid 3, rootid 4, rootid 5, rootid 6, rootid 7, rootid 8, rootid 9, rootid 10, rootid 11, rootid 12, rootid 13, rootid 14, rootid 15, rootid 16, rootid 17, rootid 18, rootid 19, rootid 20, rootid 21, rootid 22, rootid 23, rootid 24, rootid 25, rootid 26, rootid 27, rootid 28, rootid 29, rootid 30, rootid 31, rootid 32, rootid 33, rootid 34, rootid 35, rootid 36, rootid 37, rootid 38, rootid 39, rootid 40, rootid 41, rootid 42, rootid 43, rootid 44, rootid 45, rootid 46, rootid 47, rootid 48, rootid 49, rootid 50, rootid 51, rootid 52, rootid 53, rootid 54, rootid 55, rootid 56, rootid 57, rootid 58, rootid 59, rootid 60, rootid 61, rootid 62, rootid 63, \n",
      "pSet 65 len(rr) 64\n",
      "rootid 0, rootid 1, rootid 2, rootid 3, rootid 4, rootid 5, rootid 6, rootid 7, rootid 8, rootid 9, rootid 10, rootid 11, rootid 12, rootid 13, rootid 14, rootid 15, rootid 16, rootid 17, rootid 18, rootid 19, rootid 20, rootid 21, rootid 22, rootid 23, rootid 24, rootid 25, rootid 26, rootid 27, rootid 28, rootid 29, rootid 30, rootid 31, rootid 32, rootid 33, rootid 34, rootid 35, rootid 36, rootid 37, rootid 38, rootid 39, rootid 40, rootid 41, rootid 42, rootid 43, rootid 44, rootid 45, rootid 46, rootid 47, rootid 48, rootid 49, rootid 50, rootid 51, rootid 52, rootid 53, rootid 54, rootid 55, rootid 56, rootid 57, rootid 58, rootid 59, rootid 60, rootid 61, rootid 62, rootid 63, \n",
      "pSet 66 len(rr) 64\n",
      "rootid 0, rootid 1, rootid 2, rootid 3, rootid 4, rootid 5, rootid 6, rootid 7, rootid 8, rootid 9, rootid 10, rootid 11, rootid 12, rootid 13, rootid 14, rootid 15, rootid 16, rootid 17, rootid 18, rootid 19, rootid 20, rootid 21, rootid 22, rootid 23, rootid 24, rootid 25, rootid 26, rootid 27, rootid 28, rootid 29, rootid 30, rootid 31, rootid 32, rootid 33, rootid 34, rootid 35, rootid 36, rootid 37, rootid 38, rootid 39, rootid 40, rootid 41, rootid 42, rootid 43, rootid 44, rootid 45, rootid 46, rootid 47, rootid 48, rootid 49, rootid 50, rootid 51, rootid 52, rootid 53, rootid 54, rootid 55, rootid 56, rootid 57, rootid 58, rootid 59, rootid 60, rootid 61, rootid 62, rootid 63, \n",
      "pSet 67 len(rr) 64\n",
      "rootid 0, rootid 1, rootid 2, rootid 3, rootid 4, rootid 5, rootid 6, rootid 7, rootid 8, rootid 9, rootid 10, rootid 11, rootid 12, rootid 13, rootid 14, rootid 15, rootid 16, rootid 17, rootid 18, rootid 19, rootid 20, rootid 21, rootid 22, rootid 23, rootid 24, rootid 25, rootid 26, rootid 27, rootid 28, rootid 29, rootid 30, rootid 31, rootid 32, rootid 33, rootid 34, rootid 35, rootid 36, rootid 37, rootid 38, rootid 39, rootid 40, rootid 41, rootid 42, rootid 43, rootid 44, rootid 45, rootid 46, rootid 47, rootid 48, rootid 49, rootid 50, rootid 51, rootid 52, rootid 53, rootid 54, rootid 55, rootid 56, rootid 57, rootid 58, rootid 59, rootid 60, rootid 61, rootid 62, rootid 63, \n",
      "pSet 68 len(rr) 64\n",
      "rootid 0, rootid 1, rootid 2, rootid 3, rootid 4, rootid 5, rootid 6, rootid 7, rootid 8, rootid 9, rootid 10, rootid 11, rootid 12, rootid 13, rootid 14, rootid 15, rootid 16, rootid 17, rootid 18, rootid 19, rootid 20, rootid 21, rootid 22, rootid 23, rootid 24, rootid 25, rootid 26, rootid 27, rootid 28, rootid 29, rootid 30, rootid 31, rootid 32, rootid 33, rootid 34, rootid 35, rootid 36, rootid 37, rootid 38, rootid 39, rootid 40, rootid 41, rootid 42, rootid 43, rootid 44, rootid 45, rootid 46, rootid 47, rootid 48, rootid 49, rootid 50, rootid 51, rootid 52, rootid 53, rootid 54, rootid 55, rootid 56, rootid 57, rootid 58, rootid 59, rootid 60, rootid 61, rootid 62, rootid 63, \n",
      "pSet 69 len(rr) 64\n",
      "rootid 0, rootid 1, rootid 2, rootid 3, rootid 4, rootid 5, rootid 6, rootid 7, rootid 8, rootid 9, rootid 10, rootid 11, rootid 12, rootid 13, rootid 14, rootid 15, rootid 16, rootid 17, rootid 18, rootid 19, rootid 20, rootid 21, rootid 22, rootid 23, rootid 24, rootid 25, rootid 26, rootid 27, rootid 28, rootid 29, rootid 30, rootid 31, rootid 32, rootid 33, rootid 34, rootid 35, rootid 36, rootid 37, rootid 38, rootid 39, rootid 40, rootid 41, rootid 42, rootid 43, rootid 44, rootid 45, rootid 46, rootid 47, rootid 48, rootid 49, rootid 50, rootid 51, rootid 52, rootid 53, rootid 54, rootid 55, rootid 56, rootid 57, rootid 58, rootid 59, rootid 60, rootid 61, rootid 62, rootid 63, \n",
      "pSet 70 len(rr) 64\n",
      "rootid 0, rootid 1, rootid 2, rootid 3, rootid 4, rootid 5, rootid 6, rootid 7, rootid 8, rootid 9, rootid 10, rootid 11, rootid 12, rootid 13, rootid 14, rootid 15, rootid 16, rootid 17, rootid 18, rootid 19, rootid 20, rootid 21, rootid 22, rootid 23, rootid 24, rootid 25, rootid 26, rootid 27, rootid 28, rootid 29, rootid 30, rootid 31, rootid 32, rootid 33, rootid 34, rootid 35, rootid 36, rootid 37, rootid 38, rootid 39, rootid 40, rootid 41, rootid 42, rootid 43, rootid 44, rootid 45, rootid 46, rootid 47, rootid 48, rootid 49, rootid 50, rootid 51, rootid 52, rootid 53, rootid 54, rootid 55, rootid 56, rootid 57, rootid 58, rootid 59, rootid 60, rootid 61, rootid 62, rootid 63, \n",
      "pSet 71 len(rr) 64\n",
      "rootid 0, rootid 1, rootid 2, rootid 3, rootid 4, rootid 5, rootid 6, rootid 7, rootid 8, rootid 9, rootid 10, rootid 11, rootid 12, rootid 13, rootid 14, rootid 15, rootid 16, rootid 17, rootid 18, rootid 19, rootid 20, rootid 21, rootid 22, rootid 23, rootid 24, rootid 25, rootid 26, rootid 27, rootid 28, rootid 29, rootid 30, rootid 31, rootid 32, rootid 33, rootid 34, rootid 35, rootid 36, rootid 37, rootid 38, rootid 39, rootid 40, rootid 41, rootid 42, rootid 43, rootid 44, rootid 45, rootid 46, rootid 47, rootid 48, rootid 49, rootid 50, rootid 51, rootid 52, rootid 53, rootid 54, rootid 55, rootid 56, rootid 57, rootid 58, rootid 59, rootid 60, rootid 61, rootid 62, rootid 63, \n",
      "pSet 72 len(rr) 64\n",
      "rootid 0, rootid 1, rootid 2, rootid 3, rootid 4, rootid 5, rootid 6, rootid 7, rootid 8, rootid 9, rootid 10, rootid 11, rootid 12, rootid 13, rootid 14, rootid 15, rootid 16, rootid 17, rootid 18, rootid 19, rootid 20, rootid 21, rootid 22, rootid 23, rootid 24, rootid 25, rootid 26, rootid 27, rootid 28, rootid 29, rootid 30, rootid 31, rootid 32, rootid 33, rootid 34, rootid 35, rootid 36, rootid 37, rootid 38, rootid 39, rootid 40, rootid 41, rootid 42, rootid 43, rootid 44, rootid 45, rootid 46, rootid 47, rootid 48, rootid 49, rootid 50, rootid 51, rootid 52, rootid 53, rootid 54, rootid 55, rootid 56, rootid 57, rootid 58, rootid 59, rootid 60, rootid 61, rootid 62, rootid 63, \n",
      "pSet 73 len(rr) 64\n",
      "rootid 0, rootid 1, rootid 2, rootid 3, rootid 4, rootid 5, rootid 6, rootid 7, rootid 8, rootid 9, rootid 10, rootid 11, rootid 12, rootid 13, rootid 14, rootid 15, rootid 16, rootid 17, rootid 18, rootid 19, rootid 20, rootid 21, rootid 22, rootid 23, rootid 24, rootid 25, rootid 26, rootid 27, rootid 28, rootid 29, rootid 30, rootid 31, rootid 32, rootid 33, rootid 34, rootid 35, rootid 36, rootid 37, rootid 38, rootid 39, rootid 40, rootid 41, rootid 42, rootid 43, rootid 44, rootid 45, rootid 46, rootid 47, rootid 48, rootid 49, rootid 50, rootid 51, rootid 52, rootid 53, rootid 54, rootid 55, rootid 56, rootid 57, rootid 58, rootid 59, rootid 60, rootid 61, rootid 62, rootid 63, \n",
      "pSet 74 len(rr) 64\n",
      "rootid 0, rootid 1, rootid 2, rootid 3, rootid 4, rootid 5, rootid 6, rootid 7, rootid 8, rootid 9, rootid 10, rootid 11, rootid 12, rootid 13, rootid 14, rootid 15, rootid 16, rootid 17, rootid 18, rootid 19, rootid 20, rootid 21, rootid 22, rootid 23, rootid 24, rootid 25, rootid 26, rootid 27, rootid 28, rootid 29, rootid 30, rootid 31, rootid 32, rootid 33, rootid 34, rootid 35, rootid 36, rootid 37, rootid 38, rootid 39, rootid 40, rootid 41, rootid 42, rootid 43, rootid 44, rootid 45, rootid 46, rootid 47, rootid 48, rootid 49, rootid 50, rootid 51, rootid 52, rootid 53, rootid 54, rootid 55, rootid 56, rootid 57, rootid 58, rootid 59, rootid 60, rootid 61, rootid 62, rootid 63, \n",
      "pSet 75 len(rr) 64\n",
      "rootid 0, rootid 1, rootid 2, rootid 3, rootid 4, rootid 5, rootid 6, rootid 7, rootid 8, rootid 9, rootid 10, rootid 11, rootid 12, rootid 13, rootid 14, rootid 15, rootid 16, rootid 17, rootid 18, rootid 19, rootid 20, rootid 21, rootid 22, rootid 23, rootid 24, rootid 25, rootid 26, rootid 27, rootid 28, rootid 29, rootid 30, rootid 31, rootid 32, rootid 33, rootid 34, rootid 35, rootid 36, rootid 37, rootid 38, rootid 39, rootid 40, rootid 41, rootid 42, rootid 43, rootid 44, rootid 45, rootid 46, rootid 47, rootid 48, rootid 49, rootid 50, rootid 51, rootid 52, rootid 53, rootid 54, rootid 55, rootid 56, rootid 57, rootid 58, rootid 59, rootid 60, rootid 61, rootid 62, rootid 63, \n",
      "pSet 76 len(rr) 64\n",
      "rootid 0, rootid 1, rootid 2, rootid 3, rootid 4, rootid 5, rootid 6, rootid 7, rootid 8, rootid 9, rootid 10, rootid 11, rootid 12, rootid 13, rootid 14, rootid 15, rootid 16, rootid 17, rootid 18, rootid 19, rootid 20, rootid 21, rootid 22, rootid 23, rootid 24, rootid 25, rootid 26, rootid 27, rootid 28, rootid 29, rootid 30, rootid 31, rootid 32, rootid 33, rootid 34, rootid 35, rootid 36, rootid 37, rootid 38, rootid 39, rootid 40, rootid 41, rootid 42, rootid 43, rootid 44, rootid 45, rootid 46, rootid 47, rootid 48, rootid 49, rootid 50, rootid 51, rootid 52, rootid 53, rootid 54, rootid 55, rootid 56, rootid 57, rootid 58, rootid 59, rootid 60, rootid 61, rootid 62, rootid 63, \n",
      "pSet 77 len(rr) 64\n",
      "rootid 0, rootid 1, rootid 2, rootid 3, rootid 4, rootid 5, rootid 6, rootid 7, rootid 8, rootid 9, rootid 10, rootid 11, rootid 12, rootid 13, rootid 14, rootid 15, rootid 16, rootid 17, rootid 18, rootid 19, rootid 20, rootid 21, rootid 22, rootid 23, rootid 24, rootid 25, rootid 26, rootid 27, rootid 28, rootid 29, rootid 30, rootid 31, rootid 32, rootid 33, rootid 34, rootid 35, rootid 36, rootid 37, rootid 38, rootid 39, rootid 40, rootid 41, rootid 42, rootid 43, rootid 44, rootid 45, rootid 46, rootid 47, rootid 48, rootid 49, rootid 50, rootid 51, rootid 52, rootid 53, rootid 54, rootid 55, rootid 56, rootid 57, rootid 58, rootid 59, rootid 60, rootid 61, rootid 62, rootid 63, \n",
      "pSet 78 len(rr) 64\n",
      "rootid 0, rootid 1, rootid 2, rootid 3, rootid 4, rootid 5, rootid 6, rootid 7, rootid 8, rootid 9, rootid 10, rootid 11, rootid 12, rootid 13, rootid 14, rootid 15, rootid 16, rootid 17, rootid 18, rootid 19, rootid 20, rootid 21, rootid 22, rootid 23, rootid 24, rootid 25, rootid 26, rootid 27, rootid 28, rootid 29, rootid 30, rootid 31, rootid 32, rootid 33, rootid 34, rootid 35, rootid 36, rootid 37, rootid 38, rootid 39, rootid 40, rootid 41, rootid 42, rootid 43, rootid 44, rootid 45, rootid 46, rootid 47, rootid 48, rootid 49, rootid 50, rootid 51, rootid 52, rootid 53, rootid 54, rootid 55, rootid 56, rootid 57, rootid 58, rootid 59, rootid 60, rootid 61, rootid 62, rootid 63, \n",
      "pSet 79 len(rr) 64\n",
      "rootid 0, rootid 1, rootid 2, rootid 3, rootid 4, rootid 5, rootid 6, rootid 7, rootid 8, rootid 9, rootid 10, rootid 11, rootid 12, rootid 13, rootid 14, rootid 15, rootid 16, rootid 17, rootid 18, rootid 19, rootid 20, rootid 21, rootid 22, rootid 23, rootid 24, rootid 25, rootid 26, rootid 27, rootid 28, rootid 29, rootid 30, rootid 31, rootid 32, rootid 33, rootid 34, rootid 35, rootid 36, rootid 37, rootid 38, rootid 39, rootid 40, rootid 41, rootid 42, rootid 43, rootid 44, rootid 45, rootid 46, rootid 47, rootid 48, rootid 49, rootid 50, rootid 51, rootid 52, rootid 53, rootid 54, rootid 55, rootid 56, rootid 57, rootid 58, rootid 59, rootid 60, rootid 61, rootid 62, rootid 63, \n",
      "pSet 80 len(rr) 64\n",
      "rootid 0, rootid 1, rootid 2, rootid 3, rootid 4, rootid 5, rootid 6, rootid 7, rootid 8, rootid 9, rootid 10, rootid 11, rootid 12, rootid 13, rootid 14, rootid 15, rootid 16, rootid 17, rootid 18, rootid 19, rootid 20, rootid 21, rootid 22, rootid 23, rootid 24, rootid 25, rootid 26, rootid 27, rootid 28, rootid 29, rootid 30, rootid 31, rootid 32, rootid 33, rootid 34, rootid 35, rootid 36, rootid 37, rootid 38, rootid 39, rootid 40, rootid 41, rootid 42, rootid 43, rootid 44, rootid 45, rootid 46, rootid 47, rootid 48, rootid 49, rootid 50, rootid 51, rootid 52, rootid 53, rootid 54, rootid 55, rootid 56, rootid 57, rootid 58, rootid 59, rootid 60, rootid 61, rootid 62, rootid 63, \n",
      "pSet 81 len(rr) 64\n",
      "rootid 0, rootid 1, rootid 2, rootid 3, rootid 4, rootid 5, rootid 6, rootid 7, rootid 8, rootid 9, rootid 10, rootid 11, rootid 12, rootid 13, rootid 14, rootid 15, rootid 16, rootid 17, rootid 18, rootid 19, rootid 20, rootid 21, rootid 22, rootid 23, rootid 24, rootid 25, rootid 26, rootid 27, rootid 28, rootid 29, rootid 30, rootid 31, rootid 32, rootid 33, rootid 34, rootid 35, rootid 36, rootid 37, rootid 38, rootid 39, rootid 40, rootid 41, rootid 42, rootid 43, rootid 44, rootid 45, rootid 46, rootid 47, rootid 48, rootid 49, rootid 50, rootid 51, rootid 52, rootid 53, rootid 54, rootid 55, rootid 56, rootid 57, rootid 58, rootid 59, rootid 60, rootid 61, rootid 62, rootid 63, \n",
      "pSet 82 len(rr) 64\n",
      "rootid 0, rootid 1, rootid 2, rootid 3, rootid 4, rootid 5, rootid 6, rootid 7, rootid 8, rootid 9, rootid 10, rootid 11, rootid 12, rootid 13, rootid 14, rootid 15, rootid 16, rootid 17, rootid 18, rootid 19, rootid 20, rootid 21, rootid 22, rootid 23, rootid 24, rootid 25, rootid 26, rootid 27, rootid 28, rootid 29, rootid 30, rootid 31, rootid 32, rootid 33, rootid 34, rootid 35, rootid 36, rootid 37, rootid 38, rootid 39, rootid 40, rootid 41, rootid 42, rootid 43, rootid 44, rootid 45, rootid 46, rootid 47, rootid 48, rootid 49, rootid 50, rootid 51, rootid 52, rootid 53, rootid 54, rootid 55, rootid 56, rootid 57, rootid 58, rootid 59, rootid 60, rootid 61, rootid 62, rootid 63, \n",
      "pSet 83 len(rr) 64\n",
      "rootid 0, rootid 1, rootid 2, rootid 3, rootid 4, rootid 5, rootid 6, rootid 7, rootid 8, rootid 9, rootid 10, rootid 11, rootid 12, rootid 13, rootid 14, rootid 15, rootid 16, rootid 17, rootid 18, rootid 19, rootid 20, rootid 21, rootid 22, rootid 23, rootid 24, rootid 25, rootid 26, rootid 27, rootid 28, rootid 29, rootid 30, rootid 31, rootid 32, rootid 33, rootid 34, rootid 35, rootid 36, rootid 37, rootid 38, rootid 39, rootid 40, rootid 41, rootid 42, rootid 43, rootid 44, rootid 45, rootid 46, rootid 47, rootid 48, rootid 49, rootid 50, rootid 51, rootid 52, rootid 53, rootid 54, rootid 55, rootid 56, rootid 57, rootid 58, rootid 59, rootid 60, rootid 61, rootid 62, rootid 63, \n",
      "pSet 84 len(rr) 64\n",
      "rootid 0, rootid 1, rootid 2, rootid 3, rootid 4, rootid 5, rootid 6, rootid 7, rootid 8, rootid 9, rootid 10, rootid 11, rootid 12, rootid 13, rootid 14, rootid 15, rootid 16, rootid 17, rootid 18, rootid 19, rootid 20, rootid 21, rootid 22, rootid 23, rootid 24, rootid 25, rootid 26, rootid 27, rootid 28, rootid 29, rootid 30, rootid 31, rootid 32, rootid 33, rootid 34, rootid 35, rootid 36, rootid 37, rootid 38, rootid 39, rootid 40, rootid 41, rootid 42, rootid 43, rootid 44, rootid 45, rootid 46, rootid 47, rootid 48, rootid 49, rootid 50, rootid 51, rootid 52, rootid 53, rootid 54, rootid 55, rootid 56, rootid 57, rootid 58, rootid 59, rootid 60, rootid 61, rootid 62, rootid 63, \n",
      "pSet 85 len(rr) 64\n",
      "rootid 0, rootid 1, rootid 2, rootid 3, rootid 4, rootid 5, rootid 6, rootid 7, rootid 8, rootid 9, rootid 10, rootid 11, rootid 12, rootid 13, rootid 14, rootid 15, rootid 16, rootid 17, rootid 18, rootid 19, rootid 20, rootid 21, rootid 22, rootid 23, rootid 24, rootid 25, rootid 26, rootid 27, rootid 28, rootid 29, rootid 30, rootid 31, rootid 32, rootid 33, rootid 34, rootid 35, rootid 36, rootid 37, rootid 38, rootid 39, rootid 40, rootid 41, rootid 42, rootid 43, rootid 44, rootid 45, rootid 46, rootid 47, rootid 48, rootid 49, rootid 50, rootid 51, rootid 52, rootid 53, rootid 54, rootid 55, rootid 56, rootid 57, rootid 58, rootid 59, rootid 60, rootid 61, rootid 62, rootid 63, \n",
      "pSet 86 len(rr) 64\n",
      "rootid 0, rootid 1, rootid 2, rootid 3, rootid 4, rootid 5, rootid 6, rootid 7, rootid 8, rootid 9, rootid 10, rootid 11, rootid 12, rootid 13, rootid 14, rootid 15, rootid 16, rootid 17, rootid 18, rootid 19, rootid 20, rootid 21, rootid 22, rootid 23, rootid 24, rootid 25, rootid 26, rootid 27, rootid 28, rootid 29, rootid 30, rootid 31, rootid 32, rootid 33, rootid 34, rootid 35, rootid 36, rootid 37, rootid 38, rootid 39, rootid 40, rootid 41, rootid 42, rootid 43, rootid 44, rootid 45, rootid 46, rootid 47, rootid 48, rootid 49, rootid 50, rootid 51, rootid 52, rootid 53, rootid 54, rootid 55, rootid 56, rootid 57, rootid 58, rootid 59, rootid 60, rootid 61, rootid 62, rootid 63, \n",
      "pSet 87 len(rr) 64\n",
      "rootid 0, rootid 1, rootid 2, rootid 3, rootid 4, rootid 5, rootid 6, rootid 7, rootid 8, rootid 9, rootid 10, rootid 11, rootid 12, rootid 13, rootid 14, rootid 15, rootid 16, rootid 17, rootid 18, rootid 19, rootid 20, rootid 21, rootid 22, rootid 23, rootid 24, rootid 25, rootid 26, rootid 27, rootid 28, rootid 29, rootid 30, rootid 31, rootid 32, rootid 33, rootid 34, rootid 35, rootid 36, rootid 37, rootid 38, rootid 39, rootid 40, rootid 41, rootid 42, rootid 43, rootid 44, rootid 45, rootid 46, rootid 47, rootid 48, rootid 49, rootid 50, rootid 51, rootid 52, rootid 53, rootid 54, rootid 55, rootid 56, rootid 57, rootid 58, rootid 59, rootid 60, rootid 61, rootid 62, rootid 63, \n",
      "pSet 88 len(rr) 64\n",
      "rootid 0, rootid 1, rootid 2, rootid 3, rootid 4, rootid 5, rootid 6, rootid 7, rootid 8, rootid 9, rootid 10, rootid 11, rootid 12, rootid 13, rootid 14, rootid 15, rootid 16, rootid 17, rootid 18, rootid 19, rootid 20, rootid 21, rootid 22, rootid 23, rootid 24, rootid 25, rootid 26, rootid 27, rootid 28, rootid 29, rootid 30, rootid 31, rootid 32, rootid 33, rootid 34, rootid 35, rootid 36, rootid 37, rootid 38, rootid 39, rootid 40, rootid 41, rootid 42, rootid 43, rootid 44, rootid 45, rootid 46, rootid 47, rootid 48, rootid 49, rootid 50, rootid 51, rootid 52, rootid 53, rootid 54, rootid 55, rootid 56, rootid 57, rootid 58, rootid 59, rootid 60, rootid 61, rootid 62, rootid 63, \n",
      "pSet 89 len(rr) 64\n",
      "rootid 0, rootid 1, rootid 2, rootid 3, rootid 4, rootid 5, rootid 6, rootid 7, rootid 8, rootid 9, rootid 10, rootid 11, rootid 12, rootid 13, rootid 14, rootid 15, rootid 16, rootid 17, rootid 18, rootid 19, rootid 20, rootid 21, rootid 22, rootid 23, rootid 24, rootid 25, rootid 26, rootid 27, rootid 28, rootid 29, rootid 30, rootid 31, rootid 32, rootid 33, rootid 34, rootid 35, rootid 36, rootid 37, rootid 38, rootid 39, rootid 40, rootid 41, rootid 42, rootid 43, rootid 44, rootid 45, rootid 46, rootid 47, rootid 48, rootid 49, rootid 50, rootid 51, rootid 52, rootid 53, rootid 54, rootid 55, rootid 56, rootid 57, rootid 58, rootid 59, rootid 60, rootid 61, rootid 62, rootid 63, \n",
      "pSet 90 len(rr) 64\n",
      "rootid 0, rootid 1, rootid 2, rootid 3, rootid 4, rootid 5, rootid 6, rootid 7, rootid 8, rootid 9, rootid 10, rootid 11, rootid 12, rootid 13, rootid 14, rootid 15, rootid 16, rootid 17, rootid 18, rootid 19, rootid 20, rootid 21, rootid 22, rootid 23, rootid 24, rootid 25, rootid 26, rootid 27, rootid 28, rootid 29, rootid 30, rootid 31, rootid 32, rootid 33, rootid 34, rootid 35, rootid 36, rootid 37, rootid 38, rootid 39, rootid 40, rootid 41, rootid 42, rootid 43, rootid 44, rootid 45, rootid 46, rootid 47, rootid 48, rootid 49, rootid 50, rootid 51, rootid 52, rootid 53, rootid 54, rootid 55, rootid 56, rootid 57, rootid 58, rootid 59, rootid 60, rootid 61, rootid 62, rootid 63, \n",
      "pSet 91 len(rr) 64\n",
      "rootid 0, rootid 1, rootid 2, rootid 3, rootid 4, rootid 5, rootid 6, rootid 7, rootid 8, rootid 9, rootid 10, rootid 11, rootid 12, rootid 13, rootid 14, rootid 15, rootid 16, rootid 17, rootid 18, rootid 19, rootid 20, rootid 21, rootid 22, rootid 23, rootid 24, rootid 25, rootid 26, rootid 27, rootid 28, rootid 29, rootid 30, rootid 31, rootid 32, rootid 33, rootid 34, rootid 35, rootid 36, rootid 37, rootid 38, rootid 39, rootid 40, rootid 41, rootid 42, rootid 43, rootid 44, rootid 45, rootid 46, rootid 47, rootid 48, rootid 49, rootid 50, rootid 51, rootid 52, rootid 53, rootid 54, rootid 55, rootid 56, rootid 57, rootid 58, rootid 59, rootid 60, rootid 61, rootid 62, rootid 63, \n",
      "pSet 92 len(rr) 64\n",
      "rootid 0, rootid 1, rootid 2, rootid 3, rootid 4, rootid 5, rootid 6, rootid 7, rootid 8, rootid 9, rootid 10, rootid 11, rootid 12, rootid 13, rootid 14, rootid 15, rootid 16, rootid 17, rootid 18, rootid 19, rootid 20, rootid 21, rootid 22, rootid 23, rootid 24, rootid 25, rootid 26, rootid 27, rootid 28, rootid 29, rootid 30, rootid 31, rootid 32, rootid 33, rootid 34, rootid 35, rootid 36, rootid 37, rootid 38, rootid 39, rootid 40, rootid 41, rootid 42, rootid 43, rootid 44, rootid 45, rootid 46, rootid 47, rootid 48, rootid 49, rootid 50, rootid 51, rootid 52, rootid 53, rootid 54, rootid 55, rootid 56, rootid 57, rootid 58, rootid 59, rootid 60, rootid 61, rootid 62, rootid 63, \n",
      "pSet 93 len(rr) 64\n",
      "rootid 0, rootid 1, rootid 2, rootid 3, rootid 4, rootid 5, rootid 6, rootid 7, rootid 8, rootid 9, rootid 10, rootid 11, rootid 12, rootid 13, rootid 14, rootid 15, rootid 16, rootid 17, rootid 18, rootid 19, rootid 20, rootid 21, rootid 22, rootid 23, rootid 24, rootid 25, rootid 26, rootid 27, rootid 28, rootid 29, rootid 30, rootid 31, rootid 32, rootid 33, rootid 34, rootid 35, rootid 36, rootid 37, rootid 38, rootid 39, rootid 40, rootid 41, rootid 42, rootid 43, rootid 44, rootid 45, rootid 46, rootid 47, rootid 48, rootid 49, rootid 50, rootid 51, rootid 52, rootid 53, rootid 54, rootid 55, rootid 56, rootid 57, rootid 58, rootid 59, rootid 60, rootid 61, rootid 62, rootid 63, "
     ]
    }
   ],
   "source": [
    "GiniMeans = np.full(94,np.nan)\n",
    "for pSet in range(94):\n",
    "    path2file = pathresults + 'param99none'+str(pSet)+'0dx_2dumux_10c_10.0to11.0_20mn_0s_192_100/'\n",
    "    rr = get_last_line_as_numpy_array(path2file+\"root_segments_tips.txt\")\n",
    "    Ginits = np.full(len(rr),np.nan)\n",
    "    print('\\npSet',pSet, 'len(rr)',len(rr))\n",
    "    for idx, gId in enumerate(rr):\n",
    "        print('rootid',idx, end =\", \")\n",
    "        #gId = rr[0]\n",
    "        fileName = \"Cyl_cellVol_\"+str(gId)+\".txt\"\n",
    "        cVol = get_last_line_as_numpy_array(path2file+fileName, dtype = float)\n",
    "        fileName = \"Cyl_content1_\"+str(gId)+\".txt\"\n",
    "        Q1 = get_last_line_as_numpy_array(path2file+fileName, dtype = float)\n",
    "        fileName = \"Cyl_watercontent_\"+str(gId)+\".txt\"\n",
    "        theta = get_last_line_as_numpy_array(path2file+fileName, dtype = float)\n",
    "        fileName = \"Cyl_coord_\"+str(gId)+\".txt\"\n",
    "        dofc = get_last_line_as_numpy_array(path2file+fileName, dtype = float)\n",
    "        watVol = theta * cVol\n",
    "        if False:\n",
    "            konz = Q1/cVol #mol/cm3\n",
    "        else:\n",
    "            konz = Q1/watVol #mol/cm3\n",
    "        Ginits[idx] = (np.diff( Q1/cVol)/np.diff(dofc))[0]\n",
    "    GiniMeans[pSet] = np.mean(Ginits)"
   ]
  },
  {
   "cell_type": "code",
   "execution_count": 50,
   "id": "d963cbbd-294a-40a6-9c6d-331aa086928b",
   "metadata": {
    "tags": []
   },
   "outputs": [
    {
     "data": {
      "text/plain": [
       "array([-0.00273641, -0.00202488, -0.00110574, -0.00290133, -0.0117381 ,\n",
       "       -0.00089841, -0.00101927, -0.01887921, -0.00114931, -0.00284976,\n",
       "       -0.00255431, -0.00162958, -0.00155745, -0.00335403, -0.00123175,\n",
       "       -0.00403352, -0.00476118, -0.00125625, -0.00334636, -0.00550468,\n",
       "       -0.00102479, -0.00108434, -0.00323606, -0.00584733, -0.00742803,\n",
       "       -0.00631972, -0.00268303, -0.02192963, -0.00099997, -0.00220465,\n",
       "       -0.0027132 , -0.00258839, -0.00146373, -0.0025704 , -0.01537164,\n",
       "       -0.01031349, -0.00465631, -0.00428957, -0.00379463, -0.00198646,\n",
       "       -0.00119395, -0.00952366, -0.00570905, -0.0129929 , -0.00159737,\n",
       "       -0.00841427, -0.00791242, -0.027498  , -0.00225339, -0.01284041,\n",
       "       -0.00974247, -0.01431414, -0.00558926, -0.00143575, -0.00219985,\n",
       "       -0.0151841 , -0.02837099, -0.0035191 , -0.01370258, -0.0023766 ,\n",
       "       -0.03128102, -0.00114655, -0.01412926, -0.00278364, -0.00786797,\n",
       "       -0.00182411, -0.00560847, -0.00161786, -0.00152403, -0.0061116 ,\n",
       "       -0.03028577, -0.00256475, -0.01207533, -0.02322911, -0.00206877,\n",
       "       -0.01061665, -0.0078275 , -0.00242961, -0.00864637, -0.00684024,\n",
       "       -0.00962527, -0.00321899, -0.0103348 , -0.01863294, -0.00148237,\n",
       "       -0.04084946, -0.04254917, -0.00449234, -0.02214525, -0.00226342,\n",
       "       -0.00433324, -0.00079219, -0.04292021, -0.01175438])"
      ]
     },
     "execution_count": 50,
     "metadata": {},
     "output_type": "execute_result"
    }
   ],
   "source": [
    "GiniMeans # cm bulk soil"
   ]
  },
  {
   "cell_type": "code",
   "execution_count": 55,
   "id": "3a372ce2-e6e7-43f1-abd2-d112dc3d3657",
   "metadata": {
    "tags": []
   },
   "outputs": [
    {
     "data": {
      "text/plain": [
       "array([-0.00273641, -0.00202488, -0.00110574, -0.00290133, -0.0117381 ,\n",
       "       -0.00089841, -0.00101927, -0.01887921, -0.00114931, -0.00284976,\n",
       "       -0.00255431, -0.00162958, -0.00155745, -0.00335403, -0.00123175,\n",
       "       -0.00403352, -0.00476118, -0.00125625, -0.00334636, -0.00550468,\n",
       "       -0.00102479, -0.00108434, -0.00323606, -0.00584733, -0.00742803,\n",
       "       -0.00631972, -0.00268303, -0.02192963, -0.00099997, -0.00220465,\n",
       "       -0.0027132 , -0.00258839, -0.00146373, -0.0025704 , -0.01537164,\n",
       "       -0.01031349, -0.00465631, -0.00428957, -0.00379463, -0.00198646,\n",
       "       -0.00119395, -0.00952366, -0.00570905, -0.0129929 , -0.00159737,\n",
       "       -0.00841427, -0.00791242, -0.027498  , -0.00225339, -0.01284041,\n",
       "       -0.00974247, -0.01431414, -0.00558926, -0.00143575, -0.00219985,\n",
       "       -0.0151841 , -0.02837099, -0.0035191 , -0.01370258, -0.0023766 ,\n",
       "       -0.03128102, -0.00114655, -0.01412926, -0.00278364, -0.00786797,\n",
       "       -0.00182411, -0.00560847, -0.00161786, -0.00152403, -0.0061116 ,\n",
       "       -0.03028577, -0.00256475, -0.01207533, -0.02322911, -0.00206877,\n",
       "       -0.01061665, -0.0078275 , -0.00242961, -0.00864637, -0.00684024,\n",
       "       -0.00962527, -0.00321899, -0.0103348 , -0.01863294, -0.00148237,\n",
       "       -0.04084946, -0.04254917, -0.00449234, -0.02214525, -0.00226342,\n",
       "       -0.00433324, -0.00079219, -0.04292021, -0.01175438])"
      ]
     },
     "execution_count": 55,
     "metadata": {},
     "output_type": "execute_result"
    }
   ],
   "source": [
    "GiniMeans # cm3 water"
   ]
  },
  {
   "cell_type": "code",
   "execution_count": 51,
   "id": "a0a16f1a-97ba-42a6-9ab9-80685777499c",
   "metadata": {
    "tags": []
   },
   "outputs": [],
   "source": [
    "import matplotlib.pyplot as plt"
   ]
  },
  {
   "cell_type": "code",
   "execution_count": 52,
   "id": "b405bbdf-c8ea-469a-824d-4202e2637cf2",
   "metadata": {
    "tags": []
   },
   "outputs": [
    {
     "data": {
      "text/plain": [
       "(array([94.]),\n",
       " array([-0.04292021, -0.00079219]),\n",
       " <BarContainer object of 1 artists>)"
      ]
     },
     "execution_count": 52,
     "metadata": {},
     "output_type": "execute_result"
    }
   ],
   "source": [
    "plt.hist(GiniMeans, bins=1, color='blue', edgecolor='black')"
   ]
  },
  {
   "cell_type": "code",
   "execution_count": 53,
   "id": "ac85f70d-46b3-4d38-ab62-e4539fc5b608",
   "metadata": {
    "tags": []
   },
   "outputs": [],
   "source": [
    "\n",
    "# Adding labels and title\n",
    "plt.xlabel('Value')\n",
    "plt.ylabel('Frequency')\n",
    "plt.title('Histogram Example')\n",
    "\n",
    "# Displaying the plot\n",
    "plt.show()"
   ]
  },
  {
   "cell_type": "code",
   "execution_count": null,
   "id": "a85612b5-73b7-47b2-b5df-2ad852641267",
   "metadata": {},
   "outputs": [],
   "source": []
  }
 ],
 "metadata": {
  "kernelspec": {
   "display_name": "py38b",
   "language": "python",
   "name": "py38b"
  },
  "language_info": {
   "codemirror_mode": {
    "name": "ipython",
    "version": 3
   },
   "file_extension": ".py",
   "mimetype": "text/x-python",
   "name": "python",
   "nbconvert_exporter": "python",
   "pygments_lexer": "ipython3",
   "version": "3.8.15"
  }
 },
 "nbformat": 4,
 "nbformat_minor": 5
}
