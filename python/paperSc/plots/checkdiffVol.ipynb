{
 "cells": [
  {
   "cell_type": "code",
   "execution_count": 7,
   "id": "d7eb96b8-71b5-486b-bb0b-8e6babea8133",
   "metadata": {},
   "outputs": [],
   "source": [
    "import os\n",
    "import pandas as pd\n",
    "import numpy as np\n",
    "import matplotlib.pyplot as plt\n",
    "pathresults = \"../results/\"\n",
    "#pathresults = \"/DUMUXDune27/DUMUX/dumux-rosi/python/paperSc/results/\"\n",
    "data_file_delimiter = \",\"\n",
    "from plotnine import *\n",
    "import re"
   ]
  },
  {
   "cell_type": "code",
   "execution_count": 8,
   "id": "fe2e90b9-4c89-4d5e-90fa-3a34818ef648",
   "metadata": {},
   "outputs": [],
   "source": [
    "def getVal(mypath, filename, header=\"infer\",names = None):\n",
    "    fullpath = pathresults +mypath+filename\n",
    "    if names is None:\n",
    "        cst = pd.read_csv(fullpath,delimiter=data_file_delimiter, header = header).dropna(how= \"all\", axis=1)\n",
    "    else:\n",
    "        cst = pd.read_csv(fullpath,delimiter=data_file_delimiter, header = header, names = names).dropna(how= \"all\", axis=1)\n",
    "    return cst\n",
    "def get_last_line_as_numpy_array(file_path, dtype = float):\n",
    "    with open(pathresults +file_path, 'r') as file:\n",
    "        # Read all lines\n",
    "        lines = file.readlines()\n",
    "\n",
    "        # Check if there are any lines in the file\n",
    "        if not lines:\n",
    "            raise ValueError(\"The file is empty\")\n",
    "\n",
    "        # Get the last line\n",
    "        last_line = lines[-1].strip()\n",
    "\n",
    "        # Split the last line by commas and convert to NumPy array\n",
    "        array_from_last_line = np.array(last_line.split(','), dtype=dtype)\n",
    "\n",
    "        return array_from_last_line"
   ]
  },
  {
   "cell_type": "code",
   "execution_count": 9,
   "id": "5b283e20-7879-4cdd-b3af-b20b2fd9d2f1",
   "metadata": {},
   "outputs": [],
   "source": [
    "\n",
    "def list_files_with_prefix(folder_path, prefix):\n",
    "    file_names = []\n",
    "    for file_name in os.listdir(pathresults+folder_path):\n",
    "        if file_name.startswith(prefix):\n",
    "            file_names.append(file_name)\n",
    "    return file_names\n",
    "def getCylIdx(folder_path):\n",
    "    namelist = list_files_with_prefix(folder_path, \"Cyl_watercontent_\")\n",
    "    idxlist = np.full(len(namelist),-1,dtype = int)\n",
    "    for nn, nl in enumerate(namelist):\n",
    "        match = re.search(r'\\d+', nl)\n",
    "        number_str = match.group()\n",
    "        number_int = int(number_str)\n",
    "        idxlist[nn] = number_int\n",
    "    return idxlist"
   ]
  },
  {
   "cell_type": "code",
   "execution_count": 14,
   "id": "e5873ede-b8d5-43f3-8754-67878622cc7a",
   "metadata": {},
   "outputs": [],
   "source": [
    "# cylinder max konz (per cell)\n",
    "def getData_(name, cid,gId,path2file):\n",
    "    fileName = \"Cyl_cellVol_\"+str(gId)+\".txt\"\n",
    "    cVol = get_last_line_as_numpy_array(path2file+fileName, dtype = float)\n",
    "    if cid <= 9:\n",
    "        if cid <= 2 and cid > 0:\n",
    "            fileName = \"Cyl_watercontent_\"+str(gId)+\".txt\"\n",
    "            theta = get_last_line_as_numpy_array(path2file+fileName, dtype = float)\n",
    "            cVol *= theta\n",
    "        fileName = name+str(gId)+\".txt\"\n",
    "        Q1 = get_last_line_as_numpy_array(path2file+fileName, dtype = float)\n",
    "        konz = sum(Q1)/sum(cVol) #mol/cm3 or cm3/cm3\n",
    "        return konz\n",
    "    return sum(cVol)\n",
    "\n",
    "def getData():\n",
    "    \n",
    "    nToGet = 9+3+1 #elements + 3d coordinates of y node+vol\n",
    "    nKonz = 9\n",
    "    dictXYZ = {9:'X',10:'Y',11:'Z'}\n",
    "    GiniAll = [[[] for i in range(2)] for ii in range(nToGet)]\n",
    "    for pp, pSet in enumerate([10,29]):\n",
    "        print(pSet,end =\", \")\n",
    "\n",
    "        path2file = 'none_55_'+str(pSet)+'_10to11_20mn_0s_5/'\n",
    "        #nodes_X =get_last_line_as_numpy_array(path2file+\"nodes_X.txt\", dtype =float)\n",
    "        #nodes_Y =get_last_line_as_numpy_array(path2file+\"nodes_Y.txt\", dtype =float)\n",
    "        #nodes_Z =get_last_line_as_numpy_array(path2file+\"nodes_Z.txt\", dtype =float)\n",
    "        #dictXYZ = {10:nodes_X,11:nodes_Y,12:nodes_Z}\n",
    "        rr = getCylIdx(path2file)\n",
    "\n",
    "        for cid in range(nKonz):\n",
    "            Ginits = np.full(len(rr),np.nan)\n",
    "            for idx, gId in enumerate(rr):\n",
    "                if cid == 0:\n",
    "                    namedata = \"Cyl_watercontent_\"\n",
    "                elif cid <= nKonz:\n",
    "                    namedata = \"Cyl_content\"+str(cid)+\"_\"\n",
    "                Ginits[idx] = getData_(namedata, cid, gId,path2file)                \n",
    "            GiniAll[cid][pp] = Ginits\n",
    "        for cid in range(nKonz,nToGet-1):\n",
    "            nodes_ =get_last_line_as_numpy_array(path2file+\"nodes_\"+dictXYZ[cid]+\".txt\", dtype =float)\n",
    "            GiniAll[cid][pp] = nodes_[rr+1]#seg idx to y-idx\n",
    "        cid = nToGet -1\n",
    "        Ginits = np.full(len(rr),np.nan)\n",
    "        for idx, gId in enumerate(rr):\n",
    "            Ginits[idx] = getData_('', cid, gId,path2file)\n",
    "        GiniAll[cid][pp] = Ginits\n",
    "    return GiniAll #cid pSet rr"
   ]
  },
  {
   "cell_type": "code",
   "execution_count": 15,
   "id": "338bcf3e-266b-427f-81e7-3fa45f469725",
   "metadata": {},
   "outputs": [
    {
     "name": "stdout",
     "output_type": "stream",
     "text": [
      "10, 29, "
     ]
    }
   ],
   "source": [
    "GiniAll = getData()"
   ]
  },
  {
   "cell_type": "code",
   "execution_count": 17,
   "id": "84fc16b9-39a3-472e-9621-88c30d06bf14",
   "metadata": {},
   "outputs": [
    {
     "name": "stdout",
     "output_type": "stream",
     "text": [
      "13 2 232 236\n"
     ]
    }
   ],
   "source": [
    "print(len(GiniAll),len(GiniAll[0]),len(GiniAll[0][0]),len(GiniAll[0][1]))"
   ]
  },
  {
   "cell_type": "code",
   "execution_count": 13,
   "id": "a5cdb3ee-4890-44b1-bc08-8693ab7982c9",
   "metadata": {},
   "outputs": [
    {
     "name": "stdout",
     "output_type": "stream",
     "text": [
      "(99,)\n"
     ]
    },
    {
     "name": "stderr",
     "output_type": "stream",
     "text": [
      "/tmp/ipykernel_132/3067407154.py:1: VisibleDeprecationWarning: Creating an ndarray from ragged nested sequences (which is a list-or-tuple of lists-or-tuples-or ndarrays with different lengths or shapes) is deprecated. If you meant to do this, you must specify 'dtype=object' when creating the ndarray.\n"
     ]
    }
   ],
   "source": [
    "print(np.array(GiniAll[0]).shape)"
   ]
  },
  {
   "cell_type": "code",
   "execution_count": 19,
   "id": "30826f50-3bd3-474a-8256-b2e7808a292e",
   "metadata": {},
   "outputs": [
    {
     "data": {
      "text/plain": [
       "0.26315789473684204"
      ]
     },
     "execution_count": 19,
     "metadata": {},
     "output_type": "execute_result"
    }
   ],
   "source": [
    "GiniAll[12][0]"
   ]
  },
  {
   "cell_type": "code",
   "execution_count": null,
   "id": "8e96a9a6-b295-40de-947a-c8fb64df62ec",
   "metadata": {},
   "outputs": [],
   "source": []
  }
 ],
 "metadata": {
  "kernelspec": {
   "display_name": "py38b",
   "language": "python",
   "name": "py38b"
  },
  "language_info": {
   "codemirror_mode": {
    "name": "ipython",
    "version": 3
   },
   "file_extension": ".py",
   "mimetype": "text/x-python",
   "name": "python",
   "nbconvert_exporter": "python",
   "pygments_lexer": "ipython3",
   "version": "3.8.15"
  }
 },
 "nbformat": 4,
 "nbformat_minor": 5
}
