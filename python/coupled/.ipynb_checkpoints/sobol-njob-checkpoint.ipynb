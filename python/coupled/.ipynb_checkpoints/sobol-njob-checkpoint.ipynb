{
 "cells": [
  {
   "cell_type": "code",
   "execution_count": 1,
   "id": "0194fdf1-f22c-4d3c-99a9-0081850bd6fb",
   "metadata": {},
   "outputs": [],
   "source": [
    "directoryN = \"/ipynbmorris/\"\n",
    "import sys; \n",
    "CPBdir = \"/home/m.giraud/DUMUX/CPlantBox\"\n",
    "sys.path.append(CPBdir+\"/src\");\n",
    "sys.path.append(CPBdir);\n",
    "sys.path.append(\"../../..\");sys.path.append(\"..\"); \n",
    "sys.path.append(CPBdir+\"/src/python_modules\");\n",
    "sys.path.append(\"../build-cmake/cpp/python_binding/\") # dumux python binding\n",
    "sys.path.append(\"../../build-cmake/cpp/python_binding/\")\n",
    "sys.path.append(\"../modules/\") # python wrappers \n",
    "import numpy as np\n",
    "\n",
    "import plantbox as pb\n",
    "import importlib\n",
    "importlib.reload(pb)\n",
    "import plantbox\n",
    "importlib.reload(plantbox)\n",
    "from phloem_flux import PhloemFluxPython \n",
    "\n",
    "from SALib.sample import saltelli\n",
    "from SALib.analyze import sobol\n",
    "from SALib.test_functions import Ishigami"
   ]
  },
  {
   "cell_type": "code",
   "execution_count": 2,
   "id": "cdc22ebc-d965-44cd-b4de-3aebe10e432f",
   "metadata": {},
   "outputs": [
    {
     "name": "stdout",
     "output_type": "stream",
     "text": [
      "MappedPlant::initialize \n",
      "Seed::initialize: Plant \n",
      "Seed::initialize: Basal root type #4 was not defined, using tap root parameters instead\n",
      "Env variables at 0 d 0 hrs :\n",
      " {'TairC': 25.485, 'Qlight': 0.00048, 'cs': 0.00035, 'RH': 0.5817564844566362, 'p_mean': -1142.0710553436932, 'vg': [0.059, 0.45, 0.00644, 1.503, 1]}\n"
     ]
    }
   ],
   "source": [
    "pl = pb.MappedPlant(seednum = 2) \n",
    "path = CPBdir+\"/modelparameter/plant/\"\n",
    "name = \"Triticum_aestivum_adapted_2021\"#\"wheat_uqr15\" #\"manyleaves\"## \"Anagallis_femina_Leitner_2010\"  # Zea_mays_1_Leitner_2010\n",
    "\n",
    "pl.readParameters(path + name + \".xml\")\n",
    "depth = 60\n",
    "sdf = pb.SDF_PlantBox(np.Inf, np.Inf, depth )\n",
    "pl.setGeometry(sdf) # creates soil space to stop roots from growing out of the soil\n",
    "pl.initialize(verbose = True)#, stochastic = False)\n",
    "pl.simulate(21, False)#, \"outputpm15.txt\")\n",
    "\n",
    "picker = lambda x,y,z : max(int(np.floor(-z)),-1)   \n",
    "pl.setSoilGrid(picker)  # maps segment\n",
    "\n",
    "import helpUqr\n",
    "import importlib\n",
    "importlib.reload(helpUqr)\n",
    "from helpUqr import *\n",
    "Tmin = 20.7; Tmax = 30.27\n",
    "specificHumidity = 0.0111\n",
    "Pair = 1070.00 #hPa\n",
    "thetaInit = 20/100\n",
    "weatherX = weather(0, Tmin,Tmax,specificHumidity,Pair,thetaInit)"
   ]
  },
  {
   "cell_type": "code",
   "execution_count": 3,
   "id": "13a15c9d-6d4c-48aa-b239-a42a0ca78bf5",
   "metadata": {},
   "outputs": [],
   "source": [
    "r = PhloemFluxPython(pl,psiXylInit =-1000,ciInit = weatherX[\"cs\"]*0.5)"
   ]
  },
  {
   "cell_type": "code",
   "execution_count": 12,
   "id": "343205ce-5203-4481-be05-431184d925a6",
   "metadata": {},
   "outputs": [
    {
     "name": "stdout",
     "output_type": "stream",
     "text": [
      "188.95999999999998\n"
     ]
    }
   ],
   "source": [
    "\n",
    "#\t\t\tdefault value of env variable, to re-set at runtime\n",
    "Patm = 1013.15;#default [hPa]\n",
    "cs = 350e-6; #example from Dewar2002 [mol mol-1]\n",
    "TairC = 20; #[°C]\n",
    "Qlight = 900e-6;#mean absorbed photon irradiance per leaf segment [mol photons m-2 s-1]  \n",
    "Chl = 55,; \n",
    "oi = 210e-3;#leaf internal [O2] [mol mol-1]\n",
    "\n",
    "SPAD= 100.0\n",
    "chl_ = (0.114 *(SPAD**2)+ 7.39 *SPAD+ 10.6)/10\n",
    "print(chl_)\n",
    "#\t\t\tparameter to re-parametrise , put in phloem files\n",
    "#water stress factor, parametrised from data of Corso2020\n",
    "fwr = 9.308e-2; #residual opening when water stress parametrised with data from corso2020 [-]\n",
    "sh = 3.765e-4;#sensibility to water stress\n",
    "p_lcrit = -0.869;#min psiXil for stomatal opening [Mpa]\n",
    "#influence of N contant, to reparametrise!, \n",
    "VcmaxrefChl1 = 1.28/2;#otherwise value too high, original: 1.31\n",
    "VcmaxrefChl2 = 8.33/2; #otherwise value too high, original: 8,52\n",
    "#for Vc, Vj, Ag, to reparametrise!\n",
    "a1=4.; #g0+ fw[i] * a1 *( An[i] + Rd)/(ci[i] - deltagco2[i]);#tuzet2003\n",
    "a3 = 1.7;#Jrefmax = Vcrefmax * a3 ;#Eq 25\n",
    "alpha = 0.2; #or 0.44 , coefb = -(alpha * Qlight + Jmax);, alpha * Qlight * Jmax;\n",
    "theta = 0.9;#or 0.67 coefa = theta;\n",
    "gamma0 = 28e-6;  gamma1 = 0.0509;  gamma2 = 0.001;\n",
    "g0 = 0.3e-3;#residual stomatal opening to CO2, Tuzet 2003 [mol CO2 m-2 s-1]\n",
    "\n",
    "\n",
    "#Rostamza\n",
    "alphaMin = 0.02\n",
    "alphaMax = 0.95\n",
    "thetaMin = 0.04\n",
    "thetaMax = 1.0"
   ]
  },
  {
   "cell_type": "code",
   "execution_count": 41,
   "id": "3fb5ad79-4e1f-4947-98f7-fcbfad07b174",
   "metadata": {},
   "outputs": [],
   "source": [
    "#for attr in dir(r):\n",
    " #   print(attr,getattr(r,attr))\n",
    "#print(dir(r))\n",
    "#'Patm','cs','TairC','Qlight',\n",
    "namesVars = ['Chl','oi','fwr','sh','p_lcrit',\n",
    "              'VcmaxrefChl1', 'VcmaxrefChl2',\n",
    "             'a1','a3', 'alpha','theta',\n",
    "             'gamma0', 'gamma1', 'gamma2','g0',\n",
    "             'kr','kx']\n",
    "namesLim = [[chl_*0.1, chl_],[oi*0.5,oi*2],[fwr*0.5,fwr*2],[sh*0.5,sh*2],\n",
    "            [-1.25,0],\n",
    "             [0, 10], [0, 10],\n",
    "             [a1*0.5,a1*2],[a3*0.5,a3*2], [alphaMin,alphaMax],[thetaMin,thetaMax],\n",
    "             [gamma0*0.5,gamma0*2], [gamma1*0.5,gamma1*2], [gamma2*0.5,gamma2*2],\n",
    "            [g0*0.5,g0*2],\n",
    "             [0.5,2],[0.5,2]]\n",
    "problem = {\n",
    "    'num_vars': len(namesVars),\n",
    "    'names': namesVars,\n",
    "    'bounds': namesLim\n",
    "}"
   ]
  },
  {
   "cell_type": "code",
   "execution_count": 29,
   "id": "b437215c-7952-482e-a98a-c073facef560",
   "metadata": {},
   "outputs": [
    {
     "name": "stdout",
     "output_type": "stream",
     "text": [
      "17 17\n",
      "[[18.895999999999997, 188.95999999999998], [0.105, 0.42], [0.04654, 0.18616], [0.00018825, 0.000753], [-1.25, 0], [0, 10], [0, 10], [2.0, 8.0], [0.85, 3.4], [0.02, 0.95], [0.04, 1.0], [1.4e-05, 5.6e-05], [0.02545, 0.1018], [0.0005, 0.002], [0.00015, 0.0006], [0.5, 2], [0.5, 2]] (17, 2)\n"
     ]
    }
   ],
   "source": [
    "print(len(namesVars),len(namesLim))\n",
    "arrayLim = np.array(namesLim)\n",
    "print(namesLim,np.shape(namesLim))\n",
    "lower_bounds = arrayLim[:, 0]\n",
    "upper_bounds = arrayLim[:, 1]\n"
   ]
  },
  {
   "cell_type": "code",
   "execution_count": 44,
   "id": "e3942cc2-96b3-4515-8900-b64bb7c7786d",
   "metadata": {},
   "outputs": [
    {
     "name": "stdout",
     "output_type": "stream",
     "text": [
      "4 (144, 17)\n"
     ]
    },
    {
     "name": "stderr",
     "output_type": "stream",
     "text": [
      "/tmp/ipykernel_548926/2203496886.py:3: DeprecationWarning: `salib.sample.saltelli` will be removed in SALib 1.5. Please use `salib.sample.sobol`\n",
      "  param_values = saltelli.sample(problem, reps)\n"
     ]
    }
   ],
   "source": [
    "#param_values = saltelli.sample(problem, 2**10)\n",
    "reps =2**2\n",
    "param_values = saltelli.sample(problem, reps)\n",
    "print(reps,param_values.shape)#param_values,"
   ]
  },
  {
   "cell_type": "code",
   "execution_count": 52,
   "id": "6768bbab-9e09-4e81-8471-fe436070999c",
   "metadata": {},
   "outputs": [
    {
     "name": "stdout",
     "output_type": "stream",
     "text": [
      "Exchange zone in roots: kr_st > 0 until 0.8cm from root tip 1 1\n",
      "Exchange zone in roots: kr > 0 until 0.8cm from root tip\n",
      "Kr_st is constant per subtype of organ type, for root, subtype 1 = 0.05 1 day-1 \n",
      "Kx_st is constant per subtype of organ type, for root, subtype 1 = 1.32591e-13 cm3 day-1 \n",
      "Across_st is constant per subtype of organ type, for root, subtype 1 = 9.62113e-06 cm2 \n",
      "Exchange zone in roots: kr > 0 until 0.8cm from root tip\n"
     ]
    }
   ],
   "source": [
    "plant =setDefaultVals(r,weatherX,1,1)\n",
    "#plant.Qlight = 100e-6"
   ]
  },
  {
   "cell_type": "code",
   "execution_count": 53,
   "id": "ffe5689d-bcf0-4f59-98ed-67218b6ff338",
   "metadata": {},
   "outputs": [],
   "source": [
    "Yvc = np.zeros([param_values.shape[0]])\n",
    "Yvj = np.zeros([param_values.shape[0]])\n",
    "Yev = np.zeros([param_values.shape[0]])\n",
    "Ypmeso = np.zeros([param_values.shape[0]])\n",
    "xXx = np.full((len(r.plant.nodes)),-1000.0)\n",
    "#plant =setDefaultVals(plant,weatherX,kxRatio,krRatio)\n",
    "\n",
    "krr = np.array([np.array(xi) for xi in plant.kr], dtype=object)\n",
    "kxx = np.array([np.array(xi) for xi in plant.kx], dtype=object)\n",
    "\n",
    "for i, X in enumerate(param_values):\n",
    "    #kxRatio = X[15]\n",
    "    #krRatio = X[16]\n",
    "    #print(X[0],np.array([X[0]]))\n",
    "    plant.Chl = np.array([X[0]])\n",
    "    plant.oi= X[1]\n",
    "    plant.fwr = X[2]\n",
    "    plant.sh = X[3]\n",
    "    plant.p_lcrit = X[4]\n",
    "    plant.VcmaxrefChl1 = X[5]\n",
    "    plant.VcmaxrefChl2 = X[6]\n",
    "    plant.a1= X[7]\n",
    "    plant.a3= X[8]\n",
    "    plant.alpha= X[9]\n",
    "    plant.theta= X[10]\n",
    "    plant.gamma0 = X[11]\n",
    "    plant.gamma1 = X[12]\n",
    "    plant.gamma2 = X[13]\n",
    "    plant.g0 = X[14]\n",
    "    \n",
    "    plant.kr = krr*X[15];\n",
    "    plant.kx = kxx*X[16]\n",
    "    \n",
    "    plant.solve_photosynthesis(sim_time_ = 21, sxx_=xXx, \n",
    "                               cells_ = True,RH_ = weatherX[\"RH\"],\n",
    "            verbose_ = False, doLog_ = False,TairC_= weatherX[\"TairC\"] )\n",
    "    #print(X)\n",
    "    npLB = np.array(plant.ci )\n",
    "    Yvc[i] = sum(np.array(plant.Vc)[np.where(npLB >0)])\n",
    "    Yvj[i] = sum(np.array(plant.Vj)[np.where(npLB >0)])\n",
    "    Yev[i] = np.mean(np.array(plant.Ev)[np.where(npLB >0)])\n",
    "    #Ypmeso[i] = np.mean(np.array(plant.fw)[np.where(npLB >0)])"
   ]
  },
  {
   "cell_type": "code",
   "execution_count": 56,
   "id": "73dc7024-3f64-414c-9c6e-5c1f8f3f43c1",
   "metadata": {},
   "outputs": [
    {
     "name": "stdout",
     "output_type": "stream",
     "text": [
      "[array([6.495489e-05, 8.055630e-05, 8.055630e-05, 6.495489e-05])\n",
      " array([0., 0.]) array([0.00039055])] [array([0.07941268, 0.00268994, 0.00268994, 0.07941268])\n",
      " array([5.19310604, 5.19310604]) array([1.28628931])] [0.00540855 0.01840006 0.00482241 0.00540811 0.00541004 0.00479638\n",
      " 0.00334804 0.0054184  0.00522824 0.00540871 0.00540855 0.00540829\n",
      " 0.00561893 0.00548247 0.00541486 0.00540855 0.00540875 0.00540857\n",
      " 0.00256027 0.00971468 0.0088031  0.00860509 0.01023889 0.01398792\n",
      " 0.0085973  0.00922438 0.00860244 0.00860479 0.00862486 0.00828367\n",
      " 0.00851158 0.00859683 0.00860479 0.00857655 0.0086014  0.00860479\n",
      " 0.00581997 0.00171471 0.00754243 0.00574611 0.00584916 0.00630907\n",
      " 0.00118385 0.00582634 0.00484598 0.00581997 0.00581997 0.00581997\n",
      " 0.00602877 0.00550019 0.00578261 0.00581997 0.00582357 0.00582576\n",
      " 0.00142869 0.00032897 0.00042815 0.0004239  0.0003816  0.00206787\n",
      " 0.00041935 0.00048678 0.00042721 0.00042721 0.00042721 0.00040743\n",
      " 0.0004479  0.00042961 0.00042721 0.0004272  0.0004272  0.00042721\n",
      " 0.0050325  0.0050325  0.00549404 0.00503299 0.00503965 0.00508168\n",
      " 0.01892579 0.00504112 0.00583857 0.0050325  0.0050325  0.0050325\n",
      " 0.00526975 0.00513575 0.00505893 0.0050325  0.00503369 0.00503494\n",
      " 0.02590467 0.02380862 0.02590463 0.02590339 0.0257893  0.00683461\n",
      " 0.02589292 0.02250822 0.0259047  0.02590082 0.02590451 0.02491829\n",
      " 0.02551526 0.02580483 0.02590467 0.0259045  0.02590431 0.02590467\n",
      " 0.00830046 0.00830046 0.00889728 0.00830055 0.00830319 0.00806075\n",
      " 0.00399273 0.00830974 0.00782598 0.00830037 0.00829967 0.00830036\n",
      " 0.00708332 0.00837187 0.00829436 0.00830046 0.0083005  0.00830052\n",
      " 0.00340707 0.00317573 0.00340553 0.00339162 0.00353274 0.00704078\n",
      " 0.0033992  0.00364971 0.00340707 0.00340707 0.00340707 0.00394352\n",
      " 0.00331674 0.0034148  0.00340707 0.00340657 0.00340636 0.00340707]\n"
     ]
    }
   ],
   "source": [
    "print(krr, kxx,Yvc)"
   ]
  },
  {
   "cell_type": "code",
   "execution_count": 60,
   "id": "c46d2658-28a1-4bf2-ad6a-9c7b0c1c5ef0",
   "metadata": {},
   "outputs": [],
   "source": [
    "Sic = sobol.analyze(problem, Yvc)\n",
    "Sij = sobol.analyze(problem, Yvj)\n",
    "Siev = sobol.analyze(problem, Yev)"
   ]
  },
  {
   "cell_type": "code",
   "execution_count": 61,
   "id": "4c9fa576-0fb2-4bce-8210-49bee3de19ab",
   "metadata": {},
   "outputs": [
    {
     "name": "stdout",
     "output_type": "stream",
     "text": [
      "[ 1.92827538e-01 -3.57620279e-02  2.64497408e-03 -4.65963964e-04\n",
      " -1.02281879e-02  1.44372271e+00  3.58512305e-04  1.13149643e-01\n",
      "  2.48625731e-06  1.66915092e-05  1.16570298e-06  3.95084811e-02\n",
      "  1.89466533e-02  3.74701763e-03  3.19784164e-07 -2.41764160e-05\n",
      "  4.69549489e-06] [ 2.14096156e-01 -1.89062545e-03 -5.12563722e-03  1.99388263e-03\n",
      "  2.57039016e-02  3.03463776e-01 -1.35682758e-04 -8.75260290e-02\n",
      "  5.32011790e-02  9.18896312e-02  4.06082832e-02  1.04831536e-01\n",
      " -1.14612404e-01 -1.06994128e-02  1.09532888e-08  2.49428236e-04\n",
      "  4.00489803e-04] [ 5.63713635e-01 -1.65178020e-01  4.21123258e-02 -1.32206310e-02\n",
      " -1.25590984e-01  1.99092562e+00  4.50734827e-04  1.77500490e+00\n",
      "  3.07406543e-02 -6.81666439e-02 -6.82795841e-02 -2.03486923e-02\n",
      "  1.96597558e-02  1.65052683e-03 -1.60617258e-04 -1.39452982e-03\n",
      " -1.54938890e-03]\n"
     ]
    }
   ],
   "source": [
    "print(Sic['S1'],Sij['S1'],Siev['S1'])"
   ]
  },
  {
   "cell_type": "code",
   "execution_count": 62,
   "id": "b593f4fe-522c-489f-9b5d-b90e661463cb",
   "metadata": {},
   "outputs": [
    {
     "name": "stdout",
     "output_type": "stream",
     "text": [
      "[4.42404004e-01 9.24608706e-03 1.30028299e-05 2.17636084e-06\n",
      " 1.60592881e-03 5.65584865e-01 7.10519339e-07 4.42340467e-03\n",
      " 8.02734638e-11 1.49392131e-09 1.76160150e-10 3.87411368e-03\n",
      " 2.94286575e-04 5.17436371e-06 3.21309068e-14 3.44458791e-08\n",
      " 9.41817769e-08] [9.06968911e-02 6.16982348e-06 4.46449215e-05 7.61409037e-06\n",
      " 1.57092730e-03 2.60367057e-01 5.88891534e-07 2.17816567e-02\n",
      " 6.95987405e-03 3.57167691e-01 1.11397981e-01 3.27264314e-02\n",
      " 2.60800120e-02 4.27056668e-04 2.67546630e-13 1.30301107e-07\n",
      " 3.81474769e-07] [ 5.63713635e-01 -1.65178020e-01  4.21123258e-02 -1.32206310e-02\n",
      " -1.25590984e-01  1.99092562e+00  4.50734827e-04  1.77500490e+00\n",
      "  3.07406543e-02 -6.81666439e-02 -6.82795841e-02 -2.03486923e-02\n",
      "  1.96597558e-02  1.65052683e-03 -1.60617258e-04 -1.39452982e-03\n",
      " -1.54938890e-03]\n",
      "[19.40332065  6.97856334  7.85552049  7.32418792 12.91943676  0.77816045\n",
      "  9.00904765  4.47596356 17.47908473 12.73900023 19.07202781 11.86938029\n",
      "  6.79931494  4.90144615  1.08052867  6.97885089  6.5464226 ] [1.78568929 1.75084256 1.80792267 1.44932878 1.62528724 1.05009402\n",
      " 1.55390057 0.93598956 0.67989863 1.45292089 1.64534742 2.05164297\n",
      " 1.50463655 0.84378858 1.77508776 1.24072653 1.04674245]\n"
     ]
    }
   ],
   "source": [
    "print(Sic['ST'],Sij['ST'],Siev['S1'])\n",
    "print(Sic['ST_conf']/Sic['ST'],Sij['ST_conf']/Sij['ST'])"
   ]
  },
  {
   "cell_type": "code",
   "execution_count": 27,
   "id": "840124a5-b6f6-4c5c-98f9-10dd3471574c",
   "metadata": {},
   "outputs": [
    {
     "name": "stdout",
     "output_type": "stream",
     "text": [
      "[ 1.19871500e+02  4.10156250e-01  1.81796875e-01  2.76492187e-04\n",
      " -2.73437500e-01  4.68750000e+00  3.12500000e-01  4.06250000e+00\n",
      "  1.08906250e+00  2.96875000e-01  1.25156250e+00  5.20625000e-05\n",
      "  3.73796875e-02  7.34375000e-04  5.29687500e-04]\n"
     ]
    }
   ],
   "source": [
    "wereNan = np.where([not np.isfinite(vj) for vj in Yvj])[0]\n",
    "print(param_values[wereNan][0])\n",
    "namesVars = ['Chl','oi','fwr','sh','p_lcrit',\n",
    "              'VcmaxrefChl1', 'VcmaxrefChl2',\n",
    "             'a1','a3', 'alpha','theta',\n",
    "             'gamma0', 'gamma1', 'gamma2','g0']"
   ]
  },
  {
   "cell_type": "code",
   "execution_count": null,
   "id": "0b0edeab-364e-4f1c-95c1-7610e46ebb5a",
   "metadata": {},
   "outputs": [],
   "source": []
  },
  {
   "cell_type": "code",
   "execution_count": 191,
   "id": "2cda7677-0f37-49ef-a0da-34ef18472862",
   "metadata": {},
   "outputs": [
    {
     "name": "stdout",
     "output_type": "stream",
     "text": [
      "x1-x2: 0.03544108913609554\n",
      "x1-x3: 0.15430977307161786\n",
      "x2-x3: 0.0002819487687389377\n"
     ]
    }
   ],
   "source": [
    "print(\"x1-x2:\", Si['S2'][0,1])\n",
    "print(\"x1-x3:\", Si['S2'][0,2])\n",
    "print(\"x2-x3:\", Si['S2'][1,2])"
   ]
  },
  {
   "cell_type": "code",
   "execution_count": 212,
   "id": "86aced81-0d81-4d9e-95f9-45f51478491a",
   "metadata": {},
   "outputs": [
    {
     "ename": "AttributeError",
     "evalue": "'numpy.ndarray' object has no attribute 'plot'",
     "output_type": "error",
     "traceback": [
      "\u001b[0;31m---------------------------------------------------------------------------\u001b[0m",
      "\u001b[0;31mAttributeError\u001b[0m                            Traceback (most recent call last)",
      "Cell \u001b[0;32mIn[212], line 1\u001b[0m\n\u001b[0;32m----> 1\u001b[0m \u001b[43mSic\u001b[49m\u001b[43m[\u001b[49m\u001b[38;5;124;43m'\u001b[39;49m\u001b[38;5;124;43mST\u001b[39;49m\u001b[38;5;124;43m'\u001b[39;49m\u001b[43m]\u001b[49m\u001b[38;5;241;43m.\u001b[39;49m\u001b[43mplot\u001b[49m()\n",
      "\u001b[0;31mAttributeError\u001b[0m: 'numpy.ndarray' object has no attribute 'plot'"
     ]
    }
   ],
   "source": [
    "Sic.plot()"
   ]
  },
  {
   "cell_type": "code",
   "execution_count": null,
   "id": "ad32fd7b-01bb-4b79-bfdb-1f25eb1e450e",
   "metadata": {},
   "outputs": [],
   "source": [
    "###just for Chl\n",
    "namesVars = ['Chl','oi','fwr','sh','p_lcrit',\n",
    "              'VcmaxrefChl1', 'VcmaxrefChl2',\n",
    "             'a1','a3', 'alpha','theta',\n",
    "             'gamma0', 'gamma1', 'gamma2','g0',\n",
    "             'kr','kx']\n",
    "namesLim = [[chl_*0.1, chl_],[oi*0.5,oi*2],[fwr*0.5,fwr*2],[sh*0.5,sh*2],\n",
    "            [p_lcrit*2,p_lcrit*0.5],\n",
    "             [0, 10], [0, 10],\n",
    "             [a1*0.5,a1*2],[a3*0.5,a3*2], [alpha*0.5,alpha*2],[theta*0.5,theta*2],\n",
    "             [gamma0*0.5,gamma0*2], [gamma1*0.5,gamma1*2], [gamma2*0.5,gamma2*2],\n",
    "            [g0*0.5,g0*2],\n",
    "             [0.5,2],[0.5,2]]\n",
    "problem = {\n",
    "    'num_vars': len(namesVars),\n",
    "    'names': namesVars,\n",
    "    'bounds': namesLim\n",
    "}"
   ]
  }
 ],
 "metadata": {
  "kernelspec": {
   "display_name": "py38b",
   "language": "python",
   "name": "py38b"
  },
  "language_info": {
   "codemirror_mode": {
    "name": "ipython",
    "version": 3
   },
   "file_extension": ".py",
   "mimetype": "text/x-python",
   "name": "python",
   "nbconvert_exporter": "python",
   "pygments_lexer": "ipython3",
   "version": "3.8.15"
  }
 },
 "nbformat": 4,
 "nbformat_minor": 5
}
