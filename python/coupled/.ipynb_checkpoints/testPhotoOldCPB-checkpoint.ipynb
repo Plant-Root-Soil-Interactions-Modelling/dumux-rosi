{
 "cells": [
  {
   "cell_type": "code",
   "execution_count": 51,
   "id": "06d23047-1c3f-46c0-83e5-5e702020c21a",
   "metadata": {},
   "outputs": [],
   "source": [
    "\n",
    "import sys; \n",
    "CPBdir = \"../../../../CPB/CPlantBox\"\n",
    "sys.path.append(CPBdir+\"/src\");\n",
    "sys.path.append(CPBdir);\n",
    "sys.path.append(\"../../..\");sys.path.append(\"..\"); \n",
    "sys.path.append(CPBdir+\"/src/python_modules\");\n",
    "sys.path.append(\"../build-cmake/cpp/python_binding/\") # dumux python binding\n",
    "sys.path.append(\"../../build-cmake/cpp/python_binding/\")\n",
    "sys.path.append(\"../modules/\") # python wrappers \n",
    "from helpuqrMaster import *"
   ]
  },
  {
   "cell_type": "code",
   "execution_count": 111,
   "id": "e3d9b893-d9d5-4c5d-be03-8244127bb1d6",
   "metadata": {},
   "outputs": [],
   "source": [
    "\n",
    "def setKrKx_Xylem(TairC, RH,r): #inC\n",
    "    #mg/cm3\n",
    "    hPa2cm = 1.0197\n",
    "    dEauPure = (999.83952 + TairC * (16.952577 + TairC * \n",
    "        (- 0.0079905127 + TairC * (- 0.000046241757 + TairC * \n",
    "        (0.00000010584601 + TairC * (- 0.00000000028103006)))))) /  (1 + 0.016887236 * TairC)\n",
    "    siPhi = (30 - TairC) / (91 + TairC)\n",
    "    siEnne=0\n",
    "    mu =  pow(10, (- 0.114 + (siPhi * (1.1 + 43.1 * pow(siEnne, 1.25) )))) \n",
    "    mu = mu /(24*60*60)/100/1000; #//mPa s to hPa d, 1.11837e-10 hPa d for pure water at 293.15K\n",
    "    mu = mu * hPa2cm #hPa d to cmh2o d \n",
    "\n",
    "    #number of vascular bundles\n",
    "    VascBundle_leaf = 32\n",
    "    VascBundle_stem = 52\n",
    "    VascBundle_root = 1 #valid for all root type\n",
    "            \n",
    "    #radius of xylem type^4 * number per bundle\n",
    "    rad_x_l_1   = (0.0015 **4) * 2; rad_x_l_2   = (0.0005 **4) * 2   \n",
    "    rad_x_s_1   = (0.0017 **4) * 3; rad_x_s_2   = (0.0008 **4) * 1     \n",
    "    rad_x_r0_1  = (0.0015 **4) * 4    \n",
    "    rad_x_r12_1 = (0.00041**4) * 4; rad_x_r12_2 = (0.00087**4) * 1\n",
    "    rad_x_r3_1  = (0.00068**4) * 1      \n",
    "\n",
    "    # axial conductivity [cm^3/day]  \n",
    "    betaXylX = 1    \n",
    "    kz_l  = VascBundle_leaf *(rad_x_l_1 + rad_x_l_2)    *np.pi /(mu * 8)  * betaXylX\n",
    "    kz_s  = VascBundle_stem *(rad_x_s_1 + rad_x_s_2)    *np.pi /(mu * 8) * betaXylX \n",
    "    kz_r0 = VascBundle_root * rad_x_r0_1                *np.pi /(mu * 8) * betaXylX  \n",
    "    kz_r1 = VascBundle_root *(rad_x_r12_1 + rad_x_r12_2)*np.pi /(mu * 8)  * betaXylX\n",
    "    kz_r2 = VascBundle_root *(rad_x_r12_1 + rad_x_r12_2)*np.pi /(mu * 8)  * betaXylX \n",
    "    kz_r3 = VascBundle_root * rad_x_r3_1                *np.pi /(mu * 8) * betaXylX\n",
    "\n",
    "    #radial conductivity [1/day],0.00014 #\n",
    "    betaXyl = 1#0.1#0.1\n",
    "    kr_l  = 3.83e-10 * hPa2cm * betaXyl# init: 3.83e-4 cm/d/hPa\n",
    "    print(\"kr_l \",kr_l)\n",
    "    kr_s  = 0.#1.e-20  * hPa2cm # set to almost 0\n",
    "    kr_r0 =6.37e-5 * hPa2cm * betaXyl\n",
    "    kr_r1 =7.9e-5  * hPa2cm * betaXyl\n",
    "    kr_r2 =7.9e-5  * hPa2cm * betaXyl\n",
    "    kr_r3 =6.8e-5  * hPa2cm * betaXyl\n",
    "    l_kr = 0.8 #cm\n",
    "    r.setKr([[kr_r0,kr_r1,kr_r2,kr_r0],[kr_s,kr_s ],[kr_l]], kr_length_=l_kr) \n",
    "    r.setKx([[kz_r0,kz_r1,kz_r2,kz_r0],[kz_s,kz_s ],[kz_l]])\n",
    "    \n",
    "    \n",
    "    Rgaz=8.314 #J K-1 mol-1 = cm^3*MPa/K/mol\n",
    "    rho_h2o = dEauPure/1000#g/cm3\n",
    "    Mh2o = 18.05 #g/mol\n",
    "    MPa2hPa = 10000\n",
    "    hPa2cm = 1/0.9806806\n",
    "    #log(-) * (cm^3*MPa/K/mol) * (K) *(g/cm3)/ (g/mol) * (hPa/MPa) * (cm/hPa) =  cm                      \n",
    "    #p_a = np.log(RH) * Rgaz * rho_h2o * (TairC + 273.15)/Mh2o * MPa2hPa * hPa2cm\n",
    "    #done withint solve photosynthesis\n",
    "    #r.psi_air = p_a #*MPa2hPa #used only with xylem\n",
    "    return r"
   ]
  },
  {
   "cell_type": "code",
   "execution_count": 112,
   "id": "1394a1c6-0017-4c7b-9508-c62084fd03ea",
   "metadata": {},
   "outputs": [],
   "source": [
    "condition = \"dry\"\n",
    "def weather(simDuration, hp):\n",
    "    vgSoil = [0.059, 0.45, 0.00644, 1.503, 1]\n",
    "    loam = [0.08, 0.43, 0.04, 1.6, 50]\n",
    "    Qnigh = 0; Qday = 960e-6 #458*2.1\n",
    "    if (condition == \"wet\"):\n",
    "        Tnigh = 15.8; Tday = 22\n",
    "        #Tnigh = 13; Tday = 20.7\n",
    "        #specificHumidity = 0.0097\n",
    "        RHday = 0.60; RHnigh = 0.88\n",
    "        Pair = 1010.00 #hPa\n",
    "        thetaInit = 30/100\n",
    "        cs = 350e-6\n",
    "    elif condition == \"dry\":\n",
    "        Tnigh = 20.7; Tday = 30.27\n",
    "        #Tnigh = 15.34; Tday = 23.31\n",
    "        #specificHumidity = 0.0097# 0.0111\n",
    "        RHday = 0.7; RHnigh =0.7#0.44; RHnigh = 0.78\n",
    "        Pair = 1070.00 #hPa\n",
    "        thetaInit = 20/100   \n",
    "        cs = 350e-6\n",
    "    else:\n",
    "        print(\"condition\",condition)\n",
    "        raise Exception(\"condition not recognised\")\n",
    "    coefhours = sinusoidal(simDuration)\n",
    "    RH_ = RHnigh + (RHday - RHnigh) * coefhours\n",
    "    TairC_ = Tnigh + (Tday - Tnigh) * coefhours\n",
    "    Q_ = Qnigh + (Qday - Qnigh) * coefhours\n",
    "     #co2 paartial pressure at leaf surface (mol mol-1)\n",
    "    #390, 1231\n",
    "    #RH = 0.5 # relative humidity\n",
    "    es =  6.112 * np.exp((17.67 * TairC_)/(TairC_ + 243.5))\n",
    "    ea = es*RH_#qair2ea(specificHumidity,  Pair)\n",
    "    assert ea < es\n",
    "    #RH = ea/es\n",
    "    assert ((RH_ > 0) and(RH_ < 1))\n",
    "    bl_thickness = 1/1000 #m\n",
    "    diffusivity= 2.5e-5#m2/sfor 25°C\n",
    "    rbl =bl_thickness/diffusivity #s/m 13\n",
    "    #cs = 350e-6\n",
    "    Kcanopymean = 1e-1 # m2/s\n",
    "    meanCanopyL = (2/3) * hp /2\n",
    "    rcanopy = meanCanopyL/Kcanopymean\n",
    "    windSpeed = 2 #m/s\n",
    "    zmzh = 2 #m\n",
    "    karman = 0.41 #[-]\n",
    "\n",
    "    rair = 1\n",
    "    if hp > 0:\n",
    "        rair = np.log((zmzh - (2/3)*hp)/(0.123*hp)) * np.log((zmzh - (2/3)*hp)/(0.1*hp)) / (karman*karman*windSpeed)\n",
    "        #print()\n",
    "        #raise Exception\n",
    "\n",
    "\n",
    "    pmean = theta2H(vgSoil, thetaInit)\n",
    "\n",
    "    weatherVar = {'TairC' : TairC_,'TairK' : TairC_ + 273.15,'Pair':Pair,\"es\":es,\n",
    "                    'Qlight': Q_,'rbl':rbl,'rcanopy':rcanopy,'rair':rair,\"ea\":ea,\n",
    "                    'cs':cs, 'RH':RH_, 'p_mean':pmean, 'vg':loam}\n",
    "    print(\"Env variables at\", round(simDuration//1),\"d\",round((simDuration%1)*24),\"hrs :\\n\", weatherVar)\n",
    "    return weatherVar"
   ]
  },
  {
   "cell_type": "code",
   "execution_count": 54,
   "id": "b2fab2fc-68ef-47a9-9939-c5cf703e7b85",
   "metadata": {},
   "outputs": [],
   "source": [
    "def resistance2conductance(resistance,r):\n",
    "    resistance = resistance* (1/100) #[s/m] * [m/cm] = [s/cm]\n",
    "    resistance = resistance * r.R_ph * weatherX[\"TairK\"] / r.Patm # [s/cm] * [K] * [hPa cm3 K−1 mmol−1] * [hPa] = [s] * [cm2 mmol−1]\n",
    "    resistance = resistance * (1000) * (1/10000)# [s cm2 mmol−1] * [mmol/mol] * [m2/cm2] = [s m2 mol−1]\n",
    "    return 1/resistance"
   ]
  },
  {
   "cell_type": "code",
   "execution_count": 113,
   "id": "d1ade5dc-7032-44c7-9b39-8b7c80e2a3ef",
   "metadata": {},
   "outputs": [],
   "source": [
    "def initPlant(simDuration):\n",
    "    weatherInit = weather(0,0)\n",
    "    #simDuration = 25 # [day] init simtime\n",
    "    #spellDuration = 5\n",
    "    simMax = 26#simStartSim+ spellDuration\n",
    "    depth = 40\n",
    "    dt = 1/24 #10min\n",
    "    verbose = True\n",
    "\n",
    "    # plant system \n",
    "    pl = pb.MappedPlant(seednum = 2) #pb.MappedRootSystem() #pb.MappedPlant()\n",
    "    #pl2 = pb.MappedPlant(seednum = 2) #pb.MappedRootSystem() #pb.MappedPlant()\n",
    "    path = CPBdir+\"/modelparameter/plant/\"\n",
    "    name = \"Triticum_aestivum_test_2021\"#\"Triticum_aestivum_adapted_2021\"#\n",
    "\n",
    "    pl.readParameters(path + name + \".xml\")\n",
    "    #pl2.readParameters(path + name + \".xml\")\n",
    "\n",
    "\n",
    "\n",
    "    #raise Exception\n",
    "    sdf = pb.SDF_PlantBox(np.Inf, np.Inf, depth )\n",
    "\n",
    "    pl.setGeometry(sdf) # creates soil space to stop roots from growing out of the soil\n",
    "    #pl2.setGeometry(sdf) # creates soil space to stop roots from growing out of the soil\n",
    "\n",
    "\n",
    "    pl.initialize(verbose = True)#, stochastic = False)\n",
    "    pl.simulate(simDuration, False)#, \"outputpm15.txt\")\n",
    "\n",
    "    #raise Exception\n",
    "    \"\"\" Coupling to soil \"\"\"\n",
    "\n",
    "\n",
    "\n",
    "    min_b = [-3./2, -12./2, -41.]#distance between wheat plants\n",
    "    max_b = [3./2, 12./2, 0.]\n",
    "    rez = 0.5\n",
    "    cell_number = [int(6*rez), int(24*rez), int(40*rez)]#1cm3? \n",
    "    layers = depth; soilvolume = (depth / layers) * 3 * 12\n",
    "    k_soil = []\n",
    "    initial = weatherInit[\"p_mean\"]#mean matric potential [cm] pressure head\n",
    "\n",
    "    p_mean = initial\n",
    "    p_bot = p_mean + depth/2\n",
    "    p_top = initial - depth/2\n",
    "    sx = np.linspace(p_top, p_bot, depth)\n",
    "    picker = lambda x,y,z : max(int(np.floor(-z)),-1) \n",
    "    sx_static_bu = sx    \n",
    "    pl.setSoilGrid(picker)  # maps segment\n",
    "\n",
    "\n",
    "\n",
    "    \"\"\" Parameters phloem and photosynthesis \"\"\"\n",
    "    r = PhloemFluxPython(pl,psiXylInit = min(sx),ciInit = weatherInit[\"cs\"]*0.5) #XylemFluxPython(pl)#\n",
    "    #r2 = PhloemFluxPython(#pl2,psiXylInit = min(sx),ciInit = weatherInit[\"cs\"]*0.5) #XylemFluxPython(pl)#\n",
    "\n",
    "    r = setKrKx_phloem(r)\n",
    "\n",
    "    r.oldciEq = True\n",
    "\n",
    "    r.Rd_ref = 0 #to avoid error (C < 0 in meso, mention this in paper)\n",
    "    r.g0 = 8e-3\n",
    "    r.VcmaxrefChl1 =1.28#/2\n",
    "    r.VcmaxrefChl2 = 8.33#/2\n",
    "    r.a1 = 0.6/0.4#0.7/0.3#0.6/0.4 #ci/(cs - ci) for ci = 0.6*cs\n",
    "    r.a3 = 1.5\n",
    "    r.alpha = 0.4#0.2#/2\n",
    "    r.theta = 0.6#0.9#/2\n",
    "    r.k_meso = 1e-3#1e-4\n",
    "    r.setKrm2([[2e-5]])\n",
    "    r.setKrm1([[10e-2]])#([[2.5e-2]])\n",
    "    r.setRhoSucrose([[0.51],[0.65],[0.56]])\n",
    "    rootFact = 2\n",
    "    r.setRmax_st([[2.4*rootFact,1.5*rootFact,0.6*rootFact,2.4*rootFact],[2.,2.],[8.]])#6.0#*6 for roots, *1 for stem, *24/14*1.5 for leaves\n",
    "    #r.setRmax_st([[12,9.0,6.0,12],[5.,5.],[15.]])\n",
    "    r.KMrm = 0.1\n",
    "    r.sameVolume_meso_st = False\n",
    "    r.sameVolume_meso_seg = True\n",
    "    r.withInitVal =True\n",
    "    r.initValST = 0.#0.6#0.0\n",
    "    r.initValMeso = 0.#0.9#0.0\n",
    "    r.beta_loading = 0.6\n",
    "    r.Vmaxloading = 0.05 #mmol/d, needed mean loading rate:  0.3788921068507634\n",
    "    r.Mloading = 0.2\n",
    "    r.Gr_Y = 0.8\n",
    "    r.CSTimin = 0.4\n",
    "    r.surfMeso=0.0025\n",
    "    r.leafGrowthZone = 2 # cm\n",
    "    r.StemGrowthPerPhytomer = True # \n",
    "    r.psi_osmo_proto = -10000*1.0197 #schopfer2006\n",
    "    r.fwr = 0\n",
    "\n",
    "    r.cs = weatherInit[\"cs\"]\n",
    "\n",
    "    #r.r_forPhloem(24/14*1.5, 4)\n",
    "    #r.r_forPhloem(24/14, 3)\n",
    "    #r.r_forPhloem(6, 2) #because roots will have high C_ST less often\n",
    "    r.expression = 6\n",
    "    r.update_viscosity = True\n",
    "    r.solver = 1\n",
    "    r.atol = 1e-10\n",
    "    r.rtol = 1e-6\n",
    "    #r.doNewtonRaphson = False;r.doOldEq = False\n",
    "    SPAD= 41.0\n",
    "    chl_ = (0.114 *(SPAD**2)+ 7.39 *SPAD+ 10.6)/10\n",
    "    r.Chl = np.array( [chl_]) \n",
    "    r.Csoil = 1e-4\n",
    "    return r, sx\n"
   ]
  },
  {
   "cell_type": "code",
   "execution_count": 114,
   "id": "3eff3db9-b449-4c1b-80da-f5bb41daa2d2",
   "metadata": {},
   "outputs": [
    {
     "name": "stdout",
     "output_type": "stream",
     "text": [
      "Env variables at 0 d 0 hrs :\n",
      " {'TairC': 25.485, 'TairK': 298.635, 'Pair': 1070.0, 'es': 32.6028355425364, 'Qlight': 0.00048, 'rbl': 40.0, 'rcanopy': 0.0, 'rair': 1, 'ea': 22.821984879775478, 'cs': 0.00035, 'RH': 0.7, 'p_mean': -1142.0710553436932, 'vg': [0.08, 0.43, 0.04, 1.6, 50]}\n",
      "Kr is constant per subtype of organ type, for root, subtype 0 = 6.49549e-05 1 day-1 \n",
      "Kx is constant per subtype of organ type, for root, subtype 0 = 0.0794127 cm3 day-1 \n",
      "MappedPlant::initialize \n",
      "Seed::initialize: Plant \n",
      "Seed::initialize: Basal root type #4 was not defined, using tap root parameters instead\n",
      "Tiller stem type #4 was not defined, using main stem parameters instead, Exchange zone in roots: kr_st > 0 until 0.8cm from root tip 1 1\n",
      "Exchange zone in roots: kr > 0 until 0.8cm from root tip\n"
     ]
    }
   ],
   "source": [
    "simDuration = 15\n",
    "initr = initPlant(simDuration)"
   ]
  },
  {
   "cell_type": "code",
   "execution_count": 115,
   "id": "b49f0b09-afa5-4a2b-9092-fb86b971f028",
   "metadata": {},
   "outputs": [],
   "source": [
    "r = initr[0]\n",
    "sx = initr[1]"
   ]
  },
  {
   "cell_type": "code",
   "execution_count": 116,
   "id": "f29e074f-b45b-4bdb-a716-1ea29ccbc0c3",
   "metadata": {},
   "outputs": [
    {
     "name": "stdout",
     "output_type": "stream",
     "text": [
      "Env variables at 15 d 0 hrs :\n",
      " {'TairC': 25.48499999999995, 'TairK': 298.63499999999993, 'Pair': 1070.0, 'es': 32.602835542536305, 'Qlight': 0.00047999999999999486, 'rbl': 40.0, 'rcanopy': 0.9528334523440218, 'rair': 48.62074127571149, 'ea': 22.82198487977541, 'cs': 0.00035, 'RH': 0.7, 'p_mean': -1142.0710553436932, 'vg': [0.08, 0.43, 0.04, 1.6, 50]}\n",
      "kr_l  3.905451e-06\n",
      "Kr_st is constant per subtype of organ type, for root, subtype 1 = 0.05 1 day-1 \n",
      "Kx_st is constant per subtype of organ type, for root, subtype 1 = 1.32591e-13 cm3 day-1 \n",
      "Across_st is constant per subtype of organ type, for root, subtype 1 = 9.62113e-06 cm2 \n",
      "krm2 is constant 2e-05 -\n",
      "krm1 is constant 0.1 -\n",
      "rhoSucrose is constant per organ type, organ type 2 (root) = 0.51 mmol cm-3\n",
      "Rmax_st is constant per subtype of organ type, for root, subtype 1 = 3 cm day-1 \n",
      "Exchange zone in roots: kr > 0 until 0.8cm from root tip\n"
     ]
    }
   ],
   "source": [
    "hp = max([tempnode[2] for tempnode in r.get_nodes()]) /100 \n",
    "\n",
    "weatherX = weather(simDuration, hp)\n",
    "#r.Patm = weatherX[\"Pair\"]\n",
    "##resistances\n",
    "#r.g_bl = resistance2conductance(weatherX[\"rbl\"],r) / r.a2_bl\n",
    "#r.g_canopy = resistance2conductance(weatherX[\"rcanopy\"],r) / r.a2_canopy\n",
    "#r.g_air = resistance2conductance(weatherX[\"rair\"],r) / r.a2_air\n",
    "\n",
    "r.Qlight = weatherX[\"Qlight\"] #; TairC = weatherX[\"TairC\"] ; text = \"night\"\n",
    "\n",
    "\n",
    "r = setKrKx_Xylem(weatherX[\"TairC\"], weatherX[\"RH\"],r)\n",
    "r.es = weatherX[\"es\"]"
   ]
  },
  {
   "cell_type": "code",
   "execution_count": 20,
   "id": "6ed12cda-7d56-4704-98de-05fdf9b345ea",
   "metadata": {},
   "outputs": [
    {
     "data": {
      "text/plain": [
       "array([-118.57038869, -117.54474767, -116.51910664, -115.49346562,\n",
       "       -114.46782459, -113.44218356, -112.41654254, -111.39090151,\n",
       "       -110.36526049, -109.33961946, -108.31397844, -107.28833741,\n",
       "       -106.26269638, -105.23705536, -104.21141433, -103.18577331,\n",
       "       -102.16013228, -101.13449126, -100.10885023,  -99.0832092 ,\n",
       "        -98.05756818,  -97.03192715,  -96.00628613,  -94.9806451 ,\n",
       "        -93.95500408,  -92.92936305,  -91.90372203,  -90.878081  ,\n",
       "        -89.85243997,  -88.82679895,  -87.80115792,  -86.7755169 ,\n",
       "        -85.74987587,  -84.72423485,  -83.69859382,  -82.67295279,\n",
       "        -81.64731177,  -80.62167074,  -79.59602972,  -78.57038869])"
      ]
     },
     "execution_count": 20,
     "metadata": {},
     "output_type": "execute_result"
    }
   ],
   "source": [
    "sx"
   ]
  },
  {
   "cell_type": "code",
   "execution_count": 19,
   "id": "b5ddf34a-d6c8-4bdb-b484-8aaa29b6cbd1",
   "metadata": {},
   "outputs": [
    {
     "data": {
      "text/plain": [
       "{'TairC': 18.900000000000006,\n",
       " 'TairK': 292.04999999999995,\n",
       " 'Pair': 1010.0,\n",
       " 'es': 21.823315124831193,\n",
       " 'Qlight': 0.000480000000000001,\n",
       " 'rbl': 40.0,\n",
       " 'rcanopy': 1.061506687608708,\n",
       " 'rair': 45.77437033740226,\n",
       " 'ea': 16.149253192375078,\n",
       " 'cs': 0.00035,\n",
       " 'RH': 0.7399999999999998,\n",
       " 'p_mean': -98.57038869202552,\n",
       " 'vg': [0.08, 0.43, 0.04, 1.6, 50]}"
      ]
     },
     "execution_count": 19,
     "metadata": {},
     "output_type": "execute_result"
    }
   ],
   "source": [
    "weatherX"
   ]
  },
  {
   "cell_type": "code",
   "execution_count": 38,
   "id": "0e8d9791-5607-45bc-a4f5-eb348e866b9e",
   "metadata": {},
   "outputs": [],
   "source": [
    "r.maxLoop = 1000"
   ]
  },
  {
   "cell_type": "code",
   "execution_count": 126,
   "id": "4d283046-a742-4c7b-ad7d-f8c2d9f99d15",
   "metadata": {},
   "outputs": [
    {
     "ename": "RuntimeError",
     "evalue": "photosynthesis::solve: did not reach convergence",
     "output_type": "error",
     "traceback": [
      "\u001b[0;31m---------------------------------------------------------------------------\u001b[0m",
      "\u001b[0;31mRuntimeError\u001b[0m                              Traceback (most recent call last)",
      "Cell \u001b[0;32mIn[126], line 1\u001b[0m\n\u001b[0;32m----> 1\u001b[0m \u001b[43mr\u001b[49m\u001b[38;5;241;43m.\u001b[39;49m\u001b[43msolve_photosynthesis\u001b[49m\u001b[43m(\u001b[49m\u001b[43msim_time_\u001b[49m\u001b[43m \u001b[49m\u001b[38;5;241;43m=\u001b[39;49m\u001b[43m \u001b[49m\u001b[43msimDuration\u001b[49m\u001b[43m,\u001b[49m\u001b[43m \u001b[49m\u001b[43msxx_\u001b[49m\u001b[38;5;241;43m=\u001b[39;49m\u001b[43msx\u001b[49m\u001b[43m,\u001b[49m\u001b[43m \u001b[49m\u001b[43mcells_\u001b[49m\u001b[43m \u001b[49m\u001b[38;5;241;43m=\u001b[39;49m\u001b[43m \u001b[49m\u001b[38;5;28;43;01mTrue\u001b[39;49;00m\u001b[43m,\u001b[49m\u001b[43mRH_\u001b[49m\u001b[43m \u001b[49m\u001b[38;5;241;43m=\u001b[39;49m\u001b[43m \u001b[49m\u001b[38;5;241;43m0.8\u001b[39;49m\u001b[43m,\u001b[49m\n\u001b[1;32m      2\u001b[0m \u001b[43m                \u001b[49m\u001b[43mverbose_\u001b[49m\u001b[43m \u001b[49m\u001b[38;5;241;43m=\u001b[39;49m\u001b[43m \u001b[49m\u001b[38;5;28;43;01mFalse\u001b[39;49;00m\u001b[43m,\u001b[49m\u001b[43m \u001b[49m\u001b[43mdoLog_\u001b[49m\u001b[43m \u001b[49m\u001b[38;5;241;43m=\u001b[39;49m\u001b[43m \u001b[49m\u001b[38;5;28;43;01mTrue\u001b[39;49;00m\u001b[43m,\u001b[49m\u001b[43mTairC_\u001b[49m\u001b[38;5;241;43m=\u001b[39;49m\u001b[43m \u001b[49m\u001b[43mweatherX\u001b[49m\u001b[43m[\u001b[49m\u001b[38;5;124;43m\"\u001b[39;49m\u001b[38;5;124;43mTairC\u001b[39;49m\u001b[38;5;124;43m\"\u001b[39;49m\u001b[43m]\u001b[49m\u001b[43m \u001b[49m\u001b[43m)\u001b[49m\n\u001b[1;32m      3\u001b[0m \u001b[38;5;66;03m#(double sim_time_,std::vector<double> sxx_, bool cells_ , \u001b[39;00m\n\u001b[1;32m      4\u001b[0m \t \u001b[38;5;66;03m#std::vector<double> soil_k_, bool doLog_ , int verbose_ , double RH_, double TairC_)\u001b[39;00m\n",
      "\u001b[0;31mRuntimeError\u001b[0m: photosynthesis::solve: did not reach convergence"
     ]
    }
   ],
   "source": [
    "r.solve_photosynthesis(sim_time_ = simDuration, sxx_=sx, cells_ = True,RH_ = 0.8,\n",
    "                verbose_ = False, doLog_ = True,TairC_= weatherX[\"TairC\"] )\n",
    "#(double sim_time_,std::vector<double> sxx_, bool cells_ , \n",
    "\t #std::vector<double> soil_k_, bool doLog_ , int verbose_ , double RH_, double TairC_)"
   ]
  },
  {
   "cell_type": "code",
   "execution_count": 122,
   "id": "c884ad84-91ca-47b5-8b05-f39de71a4929",
   "metadata": {},
   "outputs": [
    {
     "name": "stdout",
     "output_type": "stream",
     "text": [
      "-19214.23518196953 -18135.800119909974\n"
     ]
    }
   ],
   "source": [
    "print(min(r.psiXyl),max(r.psiXyl))"
   ]
  },
  {
   "cell_type": "code",
   "execution_count": 123,
   "id": "acf4b14e-33d0-4235-a680-7fccb417de18",
   "metadata": {},
   "outputs": [],
   "source": [
    "fluxes = np.array(r.outputFlux)\n",
    "fluxesSoil = r.soilFluxes(simDuration, r.psiXyl, sx, approx=False)"
   ]
  },
  {
   "cell_type": "code",
   "execution_count": 124,
   "id": "fcb297dc-ffe7-444d-8116-c85c63e37f9c",
   "metadata": {},
   "outputs": [
    {
     "name": "stdout",
     "output_type": "stream",
     "text": [
      "-24.019568962204417\n"
     ]
    }
   ],
   "source": [
    "print(sum(fluxesSoil.values()))"
   ]
  },
  {
   "cell_type": "code",
   "execution_count": 125,
   "id": "85dea160-31e3-499c-9221-0b7e862b0999",
   "metadata": {},
   "outputs": [
    {
     "name": "stdout",
     "output_type": "stream",
     "text": [
      "Ev 25.515987808796897\n",
      "An 3.335957633835166\n",
      "Vc 3.652841945290121\n",
      "Vj 119.37725407555288\n",
      "gco2 0.13551958535068973\n",
      "cics 0.41578350287064353\n",
      "fw 0.6015834503006757\n"
     ]
    }
   ],
   "source": [
    "print(\"Ev\",sum(r.Ev))#in cm3 d-1\n",
    "print(\"An\",np.mean(r.An)*1e6)#An.append\n",
    "print(\"Vc\",np.mean(r.Vc)*1e6)#Vc.append\n",
    "print(\"Vj\",np.mean(r.Vj)*1e6)#Vj.append\n",
    "print(\"gco2\",np.mean(r.gco2))#gco2.append\n",
    "print(\"cics\",np.mean(r.ci)/r.cs)#cics.append\n",
    "print(\"fw\",np.mean(r.fw))#fw.append"
   ]
  },
  {
   "cell_type": "code",
   "execution_count": 34,
   "id": "0412f5c2-59be-4277-af7a-0e6281ee63ec",
   "metadata": {},
   "outputs": [
    {
     "data": {
      "text/plain": [
       "{0: 1.0483958178392796e-06,\n",
       " 1: 8.788048260421024e-07,\n",
       " 2: 1.2285166154962788e-05,\n",
       " 3: 1.6532880046957922e-05,\n",
       " 4: 1.0331024675751964e-05,\n",
       " 5: 1.1217111013398359e-05,\n",
       " 6: 9.756526955521605e-06,\n",
       " 7: 7.490784700139881e-06,\n",
       " 8: -2.7902217212794543e-06,\n",
       " 9: -2.7790492512644937e-06,\n",
       " 10: 1.2775902232972985e-06,\n",
       " 11: -1.9314088432035812e-06,\n",
       " 12: -5.040815295408892e-06,\n",
       " 13: -6.815800937895184e-06,\n",
       " 14: -8.56379004206603e-06,\n",
       " 15: -5.0176292262096686e-06,\n",
       " 16: -1.47879640801498e-06,\n",
       " 17: -8.078889949384104e-06,\n",
       " 18: -2.4349896995607693e-06,\n",
       " 19: -2.1105753934025644e-06,\n",
       " 20: -1.1675962900766799e-05,\n",
       " 21: -2.3804209186606975e-06,\n",
       " 22: -4.0950524375373096e-06,\n",
       " 23: -1.0992333991388494e-06,\n",
       " 24: 0.0,\n",
       " 25: -1.0251768179170097e-06,\n",
       " 26: 0.0,\n",
       " 27: 0.0,\n",
       " 28: -1.1074143516515187e-06,\n",
       " 29: 0.0,\n",
       " 30: -3.2162810750168535e-07,\n",
       " 31: -8.594313012288592e-07,\n",
       " 32: -1.2119973849001896e-06}"
      ]
     },
     "execution_count": 34,
     "metadata": {},
     "output_type": "execute_result"
    }
   ],
   "source": [
    "fluxesSoil"
   ]
  },
  {
   "cell_type": "code",
   "execution_count": 37,
   "id": "eb0d787f-3001-471d-87c2-a7116a0167fd",
   "metadata": {},
   "outputs": [
    {
     "data": {
      "text/plain": [
       "2.6918570294390463e-14"
      ]
     },
     "execution_count": 37,
     "metadata": {},
     "output_type": "execute_result"
    }
   ],
   "source": [
    "sum(fluxes)"
   ]
  },
  {
   "cell_type": "code",
   "execution_count": null,
   "id": "604fca89-7d45-48a3-b173-592065da7f1f",
   "metadata": {},
   "outputs": [],
   "source": []
  }
 ],
 "metadata": {
  "kernelspec": {
   "display_name": "py38b",
   "language": "python",
   "name": "py38b"
  },
  "language_info": {
   "codemirror_mode": {
    "name": "ipython",
    "version": 3
   },
   "file_extension": ".py",
   "mimetype": "text/x-python",
   "name": "python",
   "nbconvert_exporter": "python",
   "pygments_lexer": "ipython3",
   "version": "3.8.15"
  }
 },
 "nbformat": 4,
 "nbformat_minor": 5
}
