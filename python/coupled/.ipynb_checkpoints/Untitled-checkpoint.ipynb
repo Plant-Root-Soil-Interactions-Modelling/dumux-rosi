{
 "cells": [
  {
   "cell_type": "code",
   "execution_count": 230,
   "id": "cab47b48-2623-4335-9b14-fcb83fbe9b4d",
   "metadata": {},
   "outputs": [],
   "source": [
    "directoryN = \"/ipynbmorris/\"\n",
    "import sys; \n",
    "CPBdir = \"/home/m.giraud/DUMUX/CPlantBox\"\n",
    "sys.path.append(CPBdir+\"/src\");\n",
    "sys.path.append(CPBdir);\n",
    "sys.path.append(\"../../..\");sys.path.append(\"..\"); \n",
    "sys.path.append(CPBdir+\"/src/python_modules\");\n",
    "sys.path.append(\"../build-cmake/cpp/python_binding/\") # dumux python binding\n",
    "sys.path.append(\"../../build-cmake/cpp/python_binding/\")\n",
    "sys.path.append(\"../modules/\") # python wrappers \n",
    "import numpy as np\n",
    "\n",
    "import plantbox as pb\n",
    "from phloem_flux import PhloemFluxPython \n",
    "\n",
    "from SALib.sample import saltelli\n",
    "from SALib.analyze import sobol\n",
    "from SALib.test_functions import Ishigami\n",
    "\n",
    "pl = pb.MappedPlant(seednum = 2) \n",
    "path = CPBdir+\"/modelparameter/plant/\"\n",
    "name = \"Triticum_aestivum_adapted_2021\"#\"wheat_uqr15\" #\"manyleaves\"## \"Anagallis_femina_Leitner_2010\"  # Zea_mays_1_Leitner_2010\n",
    "\n",
    "pl.readParameters(path + name + \".xml\")\n",
    "depth = 60\n",
    "sdf = pb.SDF_PlantBox(np.Inf, np.Inf, depth )\n",
    "pl.setGeometry(sdf) # creates soil space to stop roots from growing out of the soil\n",
    "pl.initialize(verbose = True)#, stochastic = False)\n",
    "pl.simulate(21, False)#, \"outputpm15.txt\")\n",
    "\n",
    "picker = lambda x,y,z : max(int(np.floor(-z)),-1)   \n",
    "pl.setSoilGrid(picker)  # maps segment\n"
   ]
  },
  {
   "cell_type": "code",
   "execution_count": 232,
   "id": "5a88530f-7456-4639-aa14-1148d2138147",
   "metadata": {},
   "outputs": [
    {
     "name": "stdout",
     "output_type": "stream",
     "text": [
      "Env variables at 0 d 0 hrs :\n",
      " {'TairC': 25.485, 'Qlight': 0.00048, 'cs': 0.00035, 'RH': 0.5817564844566362, 'p_mean': -1142.0710553436932, 'vg': [0.059, 0.45, 0.00644, 1.503, 1]}\n",
      "188.95999999999998\n"
     ]
    },
    {
     "ename": "AttributeError",
     "evalue": "'PhloemFluxPython' object has no attribute 'sh'",
     "output_type": "error",
     "traceback": [
      "\u001b[0;31m---------------------------------------------------------------------------\u001b[0m",
      "\u001b[0;31mAttributeError\u001b[0m                            Traceback (most recent call last)",
      "Cell \u001b[0;32mIn[232], line 15\u001b[0m\n\u001b[1;32m     12\u001b[0m \u001b[38;5;28mprint\u001b[39m(chl_)\n\u001b[1;32m     14\u001b[0m r \u001b[38;5;241m=\u001b[39m PhloemFluxPython(pl,psiXylInit \u001b[38;5;241m=\u001b[39m\u001b[38;5;241m-\u001b[39m\u001b[38;5;241m1000\u001b[39m,ciInit \u001b[38;5;241m=\u001b[39m weatherX[\u001b[38;5;124m\"\u001b[39m\u001b[38;5;124mcs\u001b[39m\u001b[38;5;124m\"\u001b[39m]\u001b[38;5;241m*\u001b[39m\u001b[38;5;241m0.5\u001b[39m)\n\u001b[0;32m---> 15\u001b[0m \u001b[38;5;28mprint\u001b[39m(\u001b[43mr\u001b[49m\u001b[38;5;241;43m.\u001b[39;49m\u001b[43msh\u001b[49m,r\u001b[38;5;241m.\u001b[39mfwr,r\u001b[38;5;241m.\u001b[39moi,r\u001b[38;5;241m.\u001b[39mp_lcrit)\n",
      "\u001b[0;31mAttributeError\u001b[0m: 'PhloemFluxPython' object has no attribute 'sh'"
     ]
    }
   ],
   "source": [
    "\n",
    "import helpUqr\n",
    "import importlib\n",
    "importlib.reload(helpUqr)\n",
    "from helpUqr import *\n",
    "Tmin = 20.7; Tmax = 30.27\n",
    "specificHumidity = 0.0111\n",
    "Pair = 1070.00 #hPa\n",
    "thetaInit = 20/100\n",
    "weatherX = weather(0, Tmin,Tmax,specificHumidity,Pair,thetaInit)\n",
    "SPAD= 100.0\n",
    "chl_ = (0.114 *(SPAD**2)+ 7.39 *SPAD+ 10.6)/10\n",
    "print(chl_)\n",
    "\n",
    "r = PhloemFluxPython(pl,psiXylInit =-1000,ciInit = weatherX[\"cs\"]*0.5)\n",
    "print(r.sh,r.fwr,r.oi,r.p_lcrit)"
   ]
  },
  {
   "cell_type": "code",
   "execution_count": 225,
   "id": "468e811c-b768-4333-a87d-f26998c351b2",
   "metadata": {},
   "outputs": [],
   "source": [
    "\n",
    "#\t\t\tdefault value of env variable, to re-set at runtime\n",
    "Patm = 1013.15;#default [hPa]\n",
    "cs = 350e-6; #example from Dewar2002 [mol mol-1]\n",
    "TairC = 20; #[°C]\n",
    "Qlight = 900e-6;#mean absorbed photon irradiance per leaf segment [mol photons m-2 s-1]  \n",
    "Chl = 55,; \n",
    "oi = 210e-3;#leaf internal [O2] [mol mol-1]\n",
    "\n",
    "#\t\t\tparameter to re-parametrise , put in phloem files\n",
    "#water stress factor, parametrised from data of Corso2020\n",
    "fwr = 9.308e-2; #residual opening when water stress parametrised with data from corso2020 [-]\n",
    "sh = 3.765e-4;#sensibility to water stress\n",
    "p_lcrit = -0.869;#min psiXil for stomatal opening [Mpa]\n",
    "#influence of N contant, to reparametrise!, \n",
    "VcmaxrefChl1 = 1.28/2;#otherwise value too high, original: 1.31\n",
    "VcmaxrefChl2 = 8.33/2; #otherwise value too high, original: 8,52\n",
    "#for Vc, Vj, Ag, to reparametrise!\n",
    "a1=4.; #g0+ fw[i] * a1 *( An[i] + Rd)/(ci[i] - deltagco2[i]);#tuzet2003\n",
    "a3 = 1.7;#Jrefmax = Vcrefmax * a3 ;#Eq 25\n",
    "alpha = 0.2; #or 0.44 , coefb = -(alpha * Qlight + Jmax);, alpha * Qlight * Jmax;\n",
    "theta = 0.9;#or 0.67 coefa = theta;\n",
    "gamma0 = 28e-6;  gamma1 = 0.0509;  gamma2 = 0.001;\n",
    "g0 = 0.3e-3;#residual stomatal opening to CO2, Tuzet 2003 [mol CO2 m-2 s-1]\n",
    "kxRatio=1;krRatio =1"
   ]
  },
  {
   "cell_type": "code",
   "execution_count": 217,
   "id": "dd197657-641a-4b54-ad19-aa983cd529cf",
   "metadata": {},
   "outputs": [
    {
     "name": "stdout",
     "output_type": "stream",
     "text": [
      "16\n"
     ]
    },
    {
     "name": "stderr",
     "output_type": "stream",
     "text": [
      "/tmp/ipykernel_500745/2848990595.py:16: DeprecationWarning: `salib.sample.saltelli` will be removed in SALib 1.5. Please use `salib.sample.sobol`\n",
      "  param_values = saltelli.sample(problem,reps)\n"
     ]
    }
   ],
   "source": [
    "#for attr in dir(r):\n",
    " #   print(attr,getattr(r,attr))\n",
    "#print(dir(r))\n",
    "#'Patm','cs','TairC','Qlight',\n",
    "namesVars = ['Chl','VcmaxrefChl1', 'VcmaxrefChl2']#,\n",
    "             #'kr','kx']\n",
    "namesLim = [[chl_*0.1, chl_],\n",
    "             [0, 10], [0, 10]]#,\n",
    "             #[0.5,2],[0.5,2]]\n",
    "problem = {\n",
    "    'num_vars': len(namesVars),\n",
    "    'names': namesVars,\n",
    "    'bounds': namesLim\n",
    "}\n",
    "reps = 2**4\n",
    "param_values = saltelli.sample(problem,reps)\n",
    "print(reps)\n",
    "importlib.reload(helpUqr)\n",
    "from helpUqr import *\n",
    "plant =setDefaultVals(r,weatherX,1,1)"
   ]
  },
  {
   "cell_type": "code",
   "execution_count": 226,
   "id": "726bd4f4-178f-49db-ae69-afe4603da93b",
   "metadata": {},
   "outputs": [
    {
     "name": "stdout",
     "output_type": "stream",
     "text": [
      "[0.0e+00 5.0e-05 1.0e-04 1.5e-04 2.0e-04 2.5e-04 3.0e-04 3.5e-04 4.0e-04\n",
      " 4.5e-04] 10\n",
      "[ 0  5 10 15 20 25 30 35 40 45] 10\n",
      "[ 0 10 20 30 40 50 60 70 80 90] 10\n",
      "[1.e-04 2.e-04 3.e-04 4.e-04 5.e-04 6.e-04 7.e-04] 7\n"
     ]
    }
   ],
   "source": [
    "# evaluate\n",
    "Qlights = np.arange(0, 500,50)*1e-6\n",
    "Tairs = np.arange(0,50,5)\n",
    "sxSoils = np.arange(0, 100,10)\n",
    "csAir = np.arange(100, 800,100)*1e-6\n",
    "print(Qlights,len(Qlights))\n",
    "print(Tairs,len(Tairs))\n",
    "print(sxSoils,len(sxSoils))\n",
    "print(csAir,len(csAir))"
   ]
  },
  {
   "cell_type": "code",
   "execution_count": 229,
   "id": "f9062cef-e627-4b98-bbc5-6286cd3b293b",
   "metadata": {},
   "outputs": [
    {
     "name": "stdout",
     "output_type": "stream",
     "text": [
      "(0.01087623307269061, 0.00437075355752176, 4.096012900328509)\n"
     ]
    }
   ],
   "source": [
    "def SobolTest(X):\n",
    "    plant.Chl = np.array([X[0]])\n",
    "    plant.VcmaxrefChl1 = X[1]\n",
    "    plant.VcmaxrefChl2 = X[2]\n",
    "    plant.solve_photosynthesis(sim_time_ = 21, sxx_=xXx, \n",
    "                               cells_ = True,RH_ = weatherX[\"RH\"],\n",
    "            verbose_ = False, doLog_ = False,TairC_= weatherX[\"TairC\"] )\n",
    "    return sum(plant.Vc),sum(plant.Vj),sum(plant.Ev)\n",
    "    \n",
    "print(SobolTest(param_values[20]))"
   ]
  },
  {
   "cell_type": "code",
   "execution_count": 219,
   "id": "df403a78-31fb-450b-b5ff-698b4a53d440",
   "metadata": {},
   "outputs": [],
   "source": [
    "Yvc = np.zeros([param_values.shape[0]])\n",
    "Yvj = np.zeros([param_values.shape[0]])\n",
    "Ygco2 = np.zeros([param_values.shape[0]])\n",
    "Ypmeso = np.zeros([param_values.shape[0]])\n",
    "xXx = np.full((len(r.plant.nodes)),-1000.0)\n",
    "plant =setDefaultVals(plant,weatherX,kxRatio,krRatio)\n",
    "\n",
    "for i, X in enumerate(param_values):\n",
    "    plant.Chl = np.array([X[0]])\n",
    "    plant.VcmaxrefChl1 = X[1]\n",
    "    plant.VcmaxrefChl2 = X[2]\n",
    "    plant.solve_photosynthesis(sim_time_ = 21, sxx_=xXx, \n",
    "                               cells_ = True,RH_ = weatherX[\"RH\"],\n",
    "            verbose_ = False, doLog_ = False,TairC_= weatherX[\"TairC\"] )\n",
    "    #print(X)\n",
    "    Yvc[i] = sum(plant.Vc)\n",
    "    Yvj[i] = sum(plant.Vj)\n",
    "    Ygco2[i] = np.mean(plant.gco2)\n",
    "    Ypmeso[i] = np.mean(plant.fw)"
   ]
  },
  {
   "cell_type": "code",
   "execution_count": null,
   "id": "02b8f055-c74f-4dd3-8a83-1e94e7034d06",
   "metadata": {},
   "outputs": [],
   "source": []
  }
 ],
 "metadata": {
  "kernelspec": {
   "display_name": "firstEnv38",
   "language": "python",
   "name": "firstenv38"
  },
  "language_info": {
   "codemirror_mode": {
    "name": "ipython",
    "version": 3
   },
   "file_extension": ".py",
   "mimetype": "text/x-python",
   "name": "python",
   "nbconvert_exporter": "python",
   "pygments_lexer": "ipython3",
   "version": "3.8.15"
  }
 },
 "nbformat": 4,
 "nbformat_minor": 5
}
