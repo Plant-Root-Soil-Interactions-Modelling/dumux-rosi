{
 "cells": [
  {
   "cell_type": "code",
   "execution_count": 5,
   "id": "c6f45041-06f0-4aaf-be5a-748f41d9cdb7",
   "metadata": {},
   "outputs": [],
   "source": [
    "directoryN = \"/ipynbmorris/\"\n",
    "import sys; \n",
    "CPBdir = \"/home/m.giraud/DUMUX/CPlantBox\"\n",
    "sys.path.append(CPBdir+\"/src\");\n",
    "sys.path.append(CPBdir);\n",
    "sys.path.append(\"../../..\");sys.path.append(\"..\"); \n",
    "sys.path.append(CPBdir+\"/src/python_modules\");\n",
    "sys.path.append(\"../build-cmake/cpp/python_binding/\") # dumux python binding\n",
    "sys.path.append(\"../../build-cmake/cpp/python_binding/\")\n",
    "sys.path.append(\"../modules/\") # python wrappers \n",
    "import numpy as np\n",
    "\n",
    "import plantbox as pb\n",
    "import importlib\n",
    "importlib.reload(pb)\n",
    "import plantbox\n",
    "importlib.reload(plantbox)\n",
    "from phloem_flux import PhloemFluxPython \n",
    "\n",
    "from SALib.sample import saltelli\n",
    "from SALib.analyze import sobol\n",
    "from SALib.test_functions import Ishigami\n"
   ]
  },
  {
   "cell_type": "code",
   "execution_count": 6,
   "id": "854258d7-9c8b-48d3-a5ef-317bf2999d52",
   "metadata": {},
   "outputs": [
    {
     "name": "stdout",
     "output_type": "stream",
     "text": [
      "Tiller stem type #4 was not defined, using main stem parameters instead, MappedPlant::initialize \n",
      "Seed::initialize: Plant \n",
      "Seed::initialize: Basal root type #4 was not defined, using tap root parameters instead\n",
      "Env variables at 0 d 0 hrs :\n",
      " {'TairC': 25.485, 'Qlight': 0.00048, 'cs': 0.00035, 'RH': 0.5817564844566362, 'p_mean': -1142.0710553436932, 'vg': [0.059, 0.45, 0.00644, 1.503, 1]}\n"
     ]
    }
   ],
   "source": [
    "pl = pb.MappedPlant(seednum = 2) \n",
    "path = CPBdir+\"/modelparameter/plant/\"\n",
    "name = \"Triticum_aestivum_adapted_2021\"#\"wheat_uqr15\" #\"manyleaves\"## \"Anagallis_femina_Leitner_2010\"  # Zea_mays_1_Leitner_2010\n",
    "\n",
    "pl.readParameters(path + name + \".xml\")\n",
    "depth = 60\n",
    "sdf = pb.SDF_PlantBox(np.Inf, np.Inf, depth )\n",
    "pl.setGeometry(sdf) # creates soil space to stop roots from growing out of the soil\n",
    "pl.initialize(verbose = True)#, stochastic = False)\n",
    "pl.simulate(21, False)#, \"outputpm15.txt\")\n",
    "\n",
    "picker = lambda x,y,z : max(int(np.floor(-z)),-1)   \n",
    "pl.setSoilGrid(picker)  # maps segment\n",
    "\n",
    "import helpUqr\n",
    "importlib.reload(helpUqr)\n",
    "from helpUqr import *\n",
    "Tmin = 20.7; Tmax = 30.27\n",
    "specificHumidity = 0.0111\n",
    "Pair = 1070.00 #hPa\n",
    "thetaInit = 20/100\n",
    "weatherX = weather(0, Tmin,Tmax,specificHumidity,Pair,thetaInit)"
   ]
  },
  {
   "cell_type": "code",
   "execution_count": 7,
   "id": "27ee892a-e9bb-44e1-a688-b1c1d942f80a",
   "metadata": {},
   "outputs": [
    {
     "name": "stdout",
     "output_type": "stream",
     "text": [
      "0.0003765 0.09308 0.21 -0.869\n"
     ]
    }
   ],
   "source": [
    "r = PhloemFluxPython(pl,psiXylInit =-1000,ciInit = weatherX[\"cs\"]*0.5)\n",
    "print(r.sh,r.fwr,r.oi,r.p_lcrit)"
   ]
  },
  {
   "cell_type": "code",
   "execution_count": null,
   "id": "91c75528-4bc7-40f5-bc4a-d83608e28813",
   "metadata": {},
   "outputs": [],
   "source": []
  }
 ],
 "metadata": {
  "kernelspec": {
   "display_name": "py38b",
   "language": "python",
   "name": "py38b"
  },
  "language_info": {
   "codemirror_mode": {
    "name": "ipython",
    "version": 3
   },
   "file_extension": ".py",
   "mimetype": "text/x-python",
   "name": "python",
   "nbconvert_exporter": "python",
   "pygments_lexer": "ipython3",
   "version": "3.8.15"
  }
 },
 "nbformat": 4,
 "nbformat_minor": 5
}
