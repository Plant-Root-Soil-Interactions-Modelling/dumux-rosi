{
 "cells": [
  {
   "cell_type": "code",
   "execution_count": 1,
   "id": "0194fdf1-f22c-4d3c-99a9-0081850bd6fb",
   "metadata": {},
   "outputs": [],
   "source": [
    "directoryN = \"/ipynbmorris/\"\n",
    "import sys; \n",
    "CPBdir = \"/home/m.giraud/DUMUX/CPlantBox\"\n",
    "sys.path.append(CPBdir+\"/src\");\n",
    "sys.path.append(CPBdir);\n",
    "sys.path.append(\"../../..\");sys.path.append(\"..\"); \n",
    "sys.path.append(CPBdir+\"/src/python_modules\");\n",
    "sys.path.append(\"../build-cmake/cpp/python_binding/\") # dumux python binding\n",
    "sys.path.append(\"../../build-cmake/cpp/python_binding/\")\n",
    "sys.path.append(\"../modules/\") # python wrappers \n",
    "import numpy as np\n",
    "\n",
    "import plantbox as pb\n",
    "import importlib\n",
    "importlib.reload(pb)\n",
    "import plantbox\n",
    "importlib.reload(plantbox)\n",
    "from phloem_flux import PhloemFluxPython \n",
    "\n",
    "from SALib.sample import saltelli\n",
    "from SALib.analyze import sobol\n",
    "from SALib.test_functions import Ishigami"
   ]
  },
  {
   "cell_type": "code",
   "execution_count": 2,
   "id": "cdc22ebc-d965-44cd-b4de-3aebe10e432f",
   "metadata": {},
   "outputs": [
    {
     "name": "stdout",
     "output_type": "stream",
     "text": [
      "MappedPlant::initialize \n",
      "Seed::initialize: Plant \n",
      "Seed::initialize: Basal root type #4 was not defined, using tap root parameters instead\n",
      "Env variables at 0 d 0 hrs :\n",
      " {'TairC': 25.485, 'Qlight': 0.00048, 'cs': 0.00035, 'RH': 0.5817564844566362, 'p_mean': -1142.0710553436932, 'vg': [0.059, 0.45, 0.00644, 1.503, 1]}\n"
     ]
    }
   ],
   "source": [
    "pl = pb.MappedPlant(seednum = 2) \n",
    "path = CPBdir+\"/modelparameter/plant/\"\n",
    "name = \"Triticum_aestivum_adapted_2021\"#\"wheat_uqr15\" #\"manyleaves\"## \"Anagallis_femina_Leitner_2010\"  # Zea_mays_1_Leitner_2010\n",
    "\n",
    "pl.readParameters(path + name + \".xml\")\n",
    "depth = 60\n",
    "sdf = pb.SDF_PlantBox(np.Inf, np.Inf, depth )\n",
    "pl.setGeometry(sdf) # creates soil space to stop roots from growing out of the soil\n",
    "pl.initialize(verbose = True)#, stochastic = False)\n",
    "pl.simulate(21, False)#, \"outputpm15.txt\")\n",
    "\n",
    "picker = lambda x,y,z : max(int(np.floor(-z)),-1)   \n",
    "pl.setSoilGrid(picker)  # maps segment\n",
    "\n",
    "import helpUqr\n",
    "import importlib\n",
    "importlib.reload(helpUqr)\n",
    "from helpUqr import *\n",
    "Tmin = 20.7; Tmax = 30.27\n",
    "specificHumidity = 0.0111\n",
    "Pair = 1070.00 #hPa\n",
    "thetaInit = 20/100\n",
    "weatherX = weather(0, Tmin,Tmax,specificHumidity,Pair,thetaInit)"
   ]
  },
  {
   "cell_type": "code",
   "execution_count": 3,
   "id": "13a15c9d-6d4c-48aa-b239-a42a0ca78bf5",
   "metadata": {},
   "outputs": [],
   "source": [
    "r = PhloemFluxPython(pl,psiXylInit =-1000,ciInit = weatherX[\"cs\"]*0.5)"
   ]
  },
  {
   "cell_type": "code",
   "execution_count": 12,
   "id": "343205ce-5203-4481-be05-431184d925a6",
   "metadata": {},
   "outputs": [
    {
     "name": "stdout",
     "output_type": "stream",
     "text": [
      "188.95999999999998\n"
     ]
    }
   ],
   "source": [
    "\n",
    "#\t\t\tdefault value of env variable, to re-set at runtime\n",
    "Patm = 1013.15;#default [hPa]\n",
    "cs = 350e-6; #example from Dewar2002 [mol mol-1]\n",
    "TairC = 20; #[°C]\n",
    "Qlight = 900e-6;#mean absorbed photon irradiance per leaf segment [mol photons m-2 s-1]  \n",
    "Chl = 55,; \n",
    "oi = 210e-3;#leaf internal [O2] [mol mol-1]\n",
    "\n",
    "SPAD= 100.0\n",
    "chl_ = (0.114 *(SPAD**2)+ 7.39 *SPAD+ 10.6)/10\n",
    "print(chl_)\n",
    "#\t\t\tparameter to re-parametrise , put in phloem files\n",
    "#water stress factor, parametrised from data of Corso2020\n",
    "fwr = 9.308e-2; #residual opening when water stress parametrised with data from corso2020 [-]\n",
    "sh = 3.765e-4;#sensibility to water stress\n",
    "p_lcrit = -0.869;#min psiXil for stomatal opening [Mpa]\n",
    "#influence of N contant, to reparametrise!, \n",
    "VcmaxrefChl1 = 1.28/2;#otherwise value too high, original: 1.31\n",
    "VcmaxrefChl2 = 8.33/2; #otherwise value too high, original: 8,52\n",
    "#for Vc, Vj, Ag, to reparametrise!\n",
    "a1=4.; #g0+ fw[i] * a1 *( An[i] + Rd)/(ci[i] - deltagco2[i]);#tuzet2003\n",
    "a3 = 1.7;#Jrefmax = Vcrefmax * a3 ;#Eq 25\n",
    "alpha = 0.2; #or 0.44 , coefb = -(alpha * Qlight + Jmax);, alpha * Qlight * Jmax;\n",
    "theta = 0.9;#or 0.67 coefa = theta;\n",
    "gamma0 = 28e-6;  gamma1 = 0.0509;  gamma2 = 0.001;\n",
    "g0 = 0.3e-3;#residual stomatal opening to CO2, Tuzet 2003 [mol CO2 m-2 s-1]\n",
    "\n",
    "\n",
    "#Rostamza\n",
    "alphaMin = 0.02\n",
    "alphaMax = 0.95\n",
    "thetaMin = 0.04\n",
    "thetaMax = 1.0"
   ]
  },
  {
   "cell_type": "code",
   "execution_count": 13,
   "id": "3fb5ad79-4e1f-4947-98f7-fcbfad07b174",
   "metadata": {},
   "outputs": [],
   "source": [
    "#for attr in dir(r):\n",
    " #   print(attr,getattr(r,attr))\n",
    "#print(dir(r))\n",
    "#'Patm','cs','TairC','Qlight',\n",
    "namesVars = ['Chl','oi','fwr','sh','p_lcrit',\n",
    "              'VcmaxrefChl1', 'VcmaxrefChl2',\n",
    "             'a1','a3', 'alpha','theta',\n",
    "             'gamma0', 'gamma1', 'gamma2','g0']#,\n",
    "             #'kr','kx']\n",
    "namesLim = [[chl_*0.1, chl_],[oi*0.5,oi*2],[fwr*0.5,fwr*2],[sh*0.5,sh*2],\n",
    "            [-1.25,0],\n",
    "             [0, 10], [0, 10],\n",
    "             [a1*0.5,a1*2],[a3*0.5,a3*2], [alphaMin,alphaMax],[thetaMin,thetaMax],\n",
    "             [gamma0*0.5,gamma0*2], [gamma1*0.5,gamma1*2], [gamma2*0.5,gamma2*2],\n",
    "            [g0*0.5,g0*2]]#,\n",
    "             #[0.5,2],[0.5,2]]\n",
    "problem = {\n",
    "    'num_vars': len(namesVars),\n",
    "    'names': namesVars,\n",
    "    'bounds': namesLim\n",
    "}"
   ]
  },
  {
   "cell_type": "code",
   "execution_count": 14,
   "id": "b437215c-7952-482e-a98a-c073facef560",
   "metadata": {},
   "outputs": [
    {
     "name": "stdout",
     "output_type": "stream",
     "text": [
      "15 15\n",
      "[[18.895999999999997, 188.95999999999998], [0.105, 0.42], [0.04654, 0.18616], [0.00018825, 0.000753], [-1.25, 0], [0, 10], [0, 10], [2.0, 8.0], [0.85, 3.4], [0.02, 0.95], [0.04, 1.0], [1.4e-05, 5.6e-05], [0.02545, 0.1018], [0.0005, 0.002], [0.00015, 0.0006]] (15, 2)\n"
     ]
    }
   ],
   "source": [
    "print(len(namesVars),len(namesLim))\n",
    "arrayLim = np.array(namesLim)\n",
    "print(namesLim,np.shape(namesLim))\n",
    "lower_bounds = arrayLim[:, 0]\n",
    "upper_bounds = arrayLim[:, 1]\n"
   ]
  },
  {
   "cell_type": "code",
   "execution_count": 23,
   "id": "e3942cc2-96b3-4515-8900-b64bb7c7786d",
   "metadata": {},
   "outputs": [
    {
     "name": "stdout",
     "output_type": "stream",
     "text": [
      "256 (8192, 15)\n"
     ]
    },
    {
     "name": "stderr",
     "output_type": "stream",
     "text": [
      "/tmp/ipykernel_548926/3701284639.py:3: DeprecationWarning: `salib.sample.saltelli` will be removed in SALib 1.5. Please use `salib.sample.sobol`\n",
      "  param_values = saltelli.sample(problem, reps)\n"
     ]
    }
   ],
   "source": [
    "#param_values = saltelli.sample(problem, 2**10)\n",
    "reps =2**8\n",
    "param_values = saltelli.sample(problem, reps)\n",
    "print(reps,param_values.shape)#param_values,"
   ]
  },
  {
   "cell_type": "code",
   "execution_count": 24,
   "id": "6768bbab-9e09-4e81-8471-fe436070999c",
   "metadata": {},
   "outputs": [
    {
     "name": "stdout",
     "output_type": "stream",
     "text": [
      "Kr is constant per subtype of organ type, for root, subtype 0 = 6.49549e-05 1 day-1 \n",
      "Kx is constant per subtype of organ type, for root, subtype 0 = 0.0794127 cm3 day-1 \n",
      "krm1 is constant 2e-05 -\n",
      "krm1 is constant 0.1 -\n",
      "rhoSucrose is constant per organ type, organ type 2 (root) = 0.51 mmol cm-3\n",
      "Rmax_st is constant per subtype of organ type, for root, subtype 1 = 9 cm day-1 \n",
      "Exchange zone in roots: kr_st > 0 until 0.8cm from root tip 1 1\n",
      "Exchange zone in roots: kr > 0 until 0.8cm from root tip\n",
      "Kr_st is constant per subtype of organ type, for root, subtype 1 = 0.05 1 day-1 \n",
      "Kx_st is constant per subtype of organ type, for root, subtype 1 = 1.32591e-13 cm3 day-1 \n",
      "Across_st is constant per subtype of organ type, for root, subtype 1 = 9.62113e-06 cm2 \n",
      "Exchange zone in roots: kr > 0 until 0.8cm from root tip\n"
     ]
    }
   ],
   "source": [
    "plant =setDefaultVals(r,weatherX,1,1)\n",
    "#plant.Qlight = 100e-6"
   ]
  },
  {
   "cell_type": "code",
   "execution_count": null,
   "id": "ffe5689d-bcf0-4f59-98ed-67218b6ff338",
   "metadata": {},
   "outputs": [],
   "source": [
    "Yvc = np.zeros([param_values.shape[0]])\n",
    "Yvj = np.zeros([param_values.shape[0]])\n",
    "Ygco2 = np.zeros([param_values.shape[0]])\n",
    "Ypmeso = np.zeros([param_values.shape[0]])\n",
    "xXx = np.full((len(r.plant.nodes)),-1000.0)\n",
    "#plant =setDefaultVals(plant,weatherX,kxRatio,krRatio)\n",
    "\n",
    "for i, X in enumerate(param_values):\n",
    "    #kxRatio = X[15]\n",
    "    #krRatio = X[16]\n",
    "    #print(X[0],np.array([X[0]]))\n",
    "    plant.Chl = np.array([X[0]])\n",
    "    plant.oi= X[1]\n",
    "    plant.fwr = X[2]\n",
    "    plant.sh = X[3]\n",
    "    plant.p_lcrit = X[4]\n",
    "    plant.VcmaxrefChl1 = X[5]\n",
    "    plant.VcmaxrefChl2 = X[6]\n",
    "    plant.a1= X[7]\n",
    "    plant.a3= X[8]\n",
    "    plant.alpha= X[9]\n",
    "    plant.theta= X[10]\n",
    "    plant.gamma0 = X[11]\n",
    "    plant.gamma1 = X[12]\n",
    "    plant.gamma2 = X[13]\n",
    "    plant.g0 = X[14]\n",
    "    #print(X)\n",
    "    plant.solve_photosynthesis(sim_time_ = 21, sxx_=xXx, \n",
    "                               cells_ = True,RH_ = weatherX[\"RH\"],\n",
    "            verbose_ = False, doLog_ = False,TairC_= weatherX[\"TairC\"] )\n",
    "    #print(X)\n",
    "    npLB = np.array(plant.ci )\n",
    "    Yvc[i] = sum(np.array(plant.Vc)[np.where(npLB >0)])\n",
    "    Yvj[i] = sum(np.array(plant.Vj)[np.where(npLB >0)])\n",
    "    Ygco2[i] = np.mean(np.array(plant.gco2)[np.where(npLB >0)])\n",
    "    Ypmeso[i] = np.mean(np.array(plant.fw)[np.where(npLB >0)])"
   ]
  },
  {
   "cell_type": "code",
   "execution_count": 19,
   "id": "c46d2658-28a1-4bf2-ad6a-9c7b0c1c5ef0",
   "metadata": {},
   "outputs": [],
   "source": [
    "Sic = sobol.analyze(problem, Yvc)\n",
    "Sij = sobol.analyze(problem, Yvj)\n",
    "SiYgco2 = sobol.analyze(problem, Ygco2)\n",
    "Sipmeso = sobol.analyze(problem, Ypmeso)"
   ]
  },
  {
   "cell_type": "code",
   "execution_count": 20,
   "id": "4c9fa576-0fb2-4bce-8210-49bee3de19ab",
   "metadata": {},
   "outputs": [
    {
     "name": "stdout",
     "output_type": "stream",
     "text": [
      "[ 7.14637927e-01 -1.46523148e-01 -1.99558014e-03 -1.66319619e-02\n",
      "  3.06965492e-02  9.76524309e-01 -9.43277961e-03  7.89540307e-02\n",
      "  9.51233185e-05  1.06552504e-04  4.42618146e-04 -1.06646617e-02\n",
      "  6.57217145e-03 -1.28172659e-03 -1.86283881e-07] [ 6.88871808e-03 -5.37813085e-04 -2.24697356e-03  2.43620573e-02\n",
      " -1.45271053e-02  1.06634382e-01 -8.67941411e-03 -5.93631842e-02\n",
      " -1.91250961e-02  3.54692887e-01  5.68843075e-02  2.40861340e-02\n",
      " -3.39978401e-02 -1.30154672e-03  2.41406563e-07] [-4.58832302e-02 -3.67736024e-03  3.15094110e-03 -4.99438793e-02\n",
      "  7.70585908e-02  3.13240351e-01 -6.95212916e-03  3.72826307e-01\n",
      " -4.92679821e-02  6.89685661e-03  1.83237159e-01  9.17035868e-02\n",
      "  6.54690972e-03  7.55942289e-03  2.65045854e-05] [ 4.13134430e-03 -7.93981877e-04 -4.29278971e-03  2.87305623e-02\n",
      "  1.11375257e+00 -8.87226646e-03  4.53961048e-04 -8.15518610e-03\n",
      " -6.15019100e-04  4.20602582e-03 -3.90039948e-03 -4.23619819e-03\n",
      " -3.19769488e-04  1.22953517e-05  9.39821248e-07]\n"
     ]
    }
   ],
   "source": [
    "print(Sic['S1'],Sij['S1'],SiYgco2['S1'],Sipmeso['S1'])"
   ]
  },
  {
   "cell_type": "code",
   "execution_count": 21,
   "id": "b593f4fe-522c-489f-9b5d-b90e661463cb",
   "metadata": {},
   "outputs": [
    {
     "name": "stdout",
     "output_type": "stream",
     "text": [
      "[6.70082832e-01 3.30287832e-02 5.67494437e-05 4.74732955e-04\n",
      " 2.26777452e-03 1.02221587e+00 5.94312736e-05 7.14498781e-03\n",
      " 4.22386279e-08 2.24095294e-05 8.49661639e-07 4.82945326e-03\n",
      " 2.90472068e-04 5.68298739e-06 2.35151968e-13] [1.46296314e-01 2.61860653e-06 8.45460163e-05 1.29262531e-03\n",
      " 1.59736286e-03 1.00646932e-01 3.66218655e-04 6.19564181e-03\n",
      " 1.02132787e-01 5.13310392e-01 3.62614203e-02 2.88185986e-02\n",
      " 6.39822275e-03 8.56415035e-05 8.75582522e-14]\n"
     ]
    }
   ],
   "source": [
    "print(Sic['ST'],Sij['ST'])"
   ]
  },
  {
   "cell_type": "code",
   "execution_count": 27,
   "id": "840124a5-b6f6-4c5c-98f9-10dd3471574c",
   "metadata": {},
   "outputs": [
    {
     "name": "stdout",
     "output_type": "stream",
     "text": [
      "[ 1.19871500e+02  4.10156250e-01  1.81796875e-01  2.76492187e-04\n",
      " -2.73437500e-01  4.68750000e+00  3.12500000e-01  4.06250000e+00\n",
      "  1.08906250e+00  2.96875000e-01  1.25156250e+00  5.20625000e-05\n",
      "  3.73796875e-02  7.34375000e-04  5.29687500e-04]\n"
     ]
    }
   ],
   "source": [
    "wereNan = np.where([not np.isfinite(vj) for vj in Yvj])[0]\n",
    "print(param_values[wereNan][0])\n",
    "namesVars = ['Chl','oi','fwr','sh','p_lcrit',\n",
    "              'VcmaxrefChl1', 'VcmaxrefChl2',\n",
    "             'a1','a3', 'alpha','theta',\n",
    "             'gamma0', 'gamma1', 'gamma2','g0']"
   ]
  },
  {
   "cell_type": "code",
   "execution_count": null,
   "id": "0b0edeab-364e-4f1c-95c1-7610e46ebb5a",
   "metadata": {},
   "outputs": [],
   "source": []
  },
  {
   "cell_type": "code",
   "execution_count": 191,
   "id": "2cda7677-0f37-49ef-a0da-34ef18472862",
   "metadata": {},
   "outputs": [
    {
     "name": "stdout",
     "output_type": "stream",
     "text": [
      "x1-x2: 0.03544108913609554\n",
      "x1-x3: 0.15430977307161786\n",
      "x2-x3: 0.0002819487687389377\n"
     ]
    }
   ],
   "source": [
    "print(\"x1-x2:\", Si['S2'][0,1])\n",
    "print(\"x1-x3:\", Si['S2'][0,2])\n",
    "print(\"x2-x3:\", Si['S2'][1,2])"
   ]
  },
  {
   "cell_type": "code",
   "execution_count": 212,
   "id": "86aced81-0d81-4d9e-95f9-45f51478491a",
   "metadata": {},
   "outputs": [
    {
     "ename": "AttributeError",
     "evalue": "'numpy.ndarray' object has no attribute 'plot'",
     "output_type": "error",
     "traceback": [
      "\u001b[0;31m---------------------------------------------------------------------------\u001b[0m",
      "\u001b[0;31mAttributeError\u001b[0m                            Traceback (most recent call last)",
      "Cell \u001b[0;32mIn[212], line 1\u001b[0m\n\u001b[0;32m----> 1\u001b[0m \u001b[43mSic\u001b[49m\u001b[43m[\u001b[49m\u001b[38;5;124;43m'\u001b[39;49m\u001b[38;5;124;43mST\u001b[39;49m\u001b[38;5;124;43m'\u001b[39;49m\u001b[43m]\u001b[49m\u001b[38;5;241;43m.\u001b[39;49m\u001b[43mplot\u001b[49m()\n",
      "\u001b[0;31mAttributeError\u001b[0m: 'numpy.ndarray' object has no attribute 'plot'"
     ]
    }
   ],
   "source": [
    "Sic.plot()"
   ]
  },
  {
   "cell_type": "code",
   "execution_count": null,
   "id": "ad32fd7b-01bb-4b79-bfdb-1f25eb1e450e",
   "metadata": {},
   "outputs": [],
   "source": [
    "###just for Chl\n",
    "namesVars = ['Chl','oi','fwr','sh','p_lcrit',\n",
    "              'VcmaxrefChl1', 'VcmaxrefChl2',\n",
    "             'a1','a3', 'alpha','theta',\n",
    "             'gamma0', 'gamma1', 'gamma2','g0',\n",
    "             'kr','kx']\n",
    "namesLim = [[chl_*0.1, chl_],[oi*0.5,oi*2],[fwr*0.5,fwr*2],[sh*0.5,sh*2],\n",
    "            [p_lcrit*2,p_lcrit*0.5],\n",
    "             [0, 10], [0, 10],\n",
    "             [a1*0.5,a1*2],[a3*0.5,a3*2], [alpha*0.5,alpha*2],[theta*0.5,theta*2],\n",
    "             [gamma0*0.5,gamma0*2], [gamma1*0.5,gamma1*2], [gamma2*0.5,gamma2*2],\n",
    "            [g0*0.5,g0*2],\n",
    "             [0.5,2],[0.5,2]]\n",
    "problem = {\n",
    "    'num_vars': len(namesVars),\n",
    "    'names': namesVars,\n",
    "    'bounds': namesLim\n",
    "}"
   ]
  }
 ],
 "metadata": {
  "kernelspec": {
   "display_name": "py38b",
   "language": "python",
   "name": "py38b"
  },
  "language_info": {
   "codemirror_mode": {
    "name": "ipython",
    "version": 3
   },
   "file_extension": ".py",
   "mimetype": "text/x-python",
   "name": "python",
   "nbconvert_exporter": "python",
   "pygments_lexer": "ipython3",
   "version": "3.8.15"
  }
 },
 "nbformat": 4,
 "nbformat_minor": 5
}
