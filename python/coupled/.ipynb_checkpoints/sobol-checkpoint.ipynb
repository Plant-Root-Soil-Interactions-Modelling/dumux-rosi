{
 "cells": [
  {
   "cell_type": "code",
   "execution_count": 72,
   "id": "0194fdf1-f22c-4d3c-99a9-0081850bd6fb",
   "metadata": {},
   "outputs": [],
   "source": [
    "directoryN = \"/ipynbmorris/\"\n",
    "import sys; \n",
    "CPBdir = \"/home/m.giraud/DUMUX/CPlantBox\"\n",
    "sys.path.append(CPBdir+\"/src\");\n",
    "sys.path.append(CPBdir);\n",
    "sys.path.append(\"../../..\");sys.path.append(\"..\"); \n",
    "sys.path.append(CPBdir+\"/src/python_modules\");\n",
    "sys.path.append(\"../build-cmake/cpp/python_binding/\") # dumux python binding\n",
    "sys.path.append(\"../../build-cmake/cpp/python_binding/\")\n",
    "sys.path.append(\"../modules/\") # python wrappers \n",
    "import numpy as np\n",
    "\n",
    "import plantbox as pb\n",
    "importlib.reload(pb)\n",
    "import plantbox\n",
    "importlib.reload(plantbox)\n",
    "from phloem_flux import PhloemFluxPython \n",
    "\n",
    "from SALib.sample import saltelli\n",
    "from SALib.analyze import sobol\n",
    "from SALib.test_functions import Ishigami"
   ]
  },
  {
   "cell_type": "code",
   "execution_count": 74,
   "id": "cdc22ebc-d965-44cd-b4de-3aebe10e432f",
   "metadata": {},
   "outputs": [
    {
     "name": "stdout",
     "output_type": "stream",
     "text": [
      "Env variables at 0 d 0 hrs :\n",
      " {'TairC': 25.485, 'Qlight': 0.00048, 'cs': 0.00035, 'RH': 0.5817564844566362, 'p_mean': -1142.0710553436932, 'vg': [0.059, 0.45, 0.00644, 1.503, 1]}\n"
     ]
    }
   ],
   "source": [
    "pl = pb.MappedPlant(seednum = 2) \n",
    "path = CPBdir+\"/modelparameter/plant/\"\n",
    "name = \"Triticum_aestivum_adapted_2021\"#\"wheat_uqr15\" #\"manyleaves\"## \"Anagallis_femina_Leitner_2010\"  # Zea_mays_1_Leitner_2010\n",
    "\n",
    "pl.readParameters(path + name + \".xml\")\n",
    "depth = 60\n",
    "sdf = pb.SDF_PlantBox(np.Inf, np.Inf, depth )\n",
    "pl.setGeometry(sdf) # creates soil space to stop roots from growing out of the soil\n",
    "pl.initialize(verbose = True)#, stochastic = False)\n",
    "pl.simulate(21, False)#, \"outputpm15.txt\")\n",
    "\n",
    "picker = lambda x,y,z : max(int(np.floor(-z)),-1)   \n",
    "pl.setSoilGrid(picker)  # maps segment\n",
    "\n",
    "import helpUqr\n",
    "import importlib\n",
    "importlib.reload(helpUqr)\n",
    "from helpUqr import *\n",
    "Tmin = 20.7; Tmax = 30.27\n",
    "specificHumidity = 0.0111\n",
    "Pair = 1070.00 #hPa\n",
    "thetaInit = 20/100\n",
    "weatherX = weather(0, Tmin,Tmax,specificHumidity,Pair,thetaInit)"
   ]
  },
  {
   "cell_type": "code",
   "execution_count": 69,
   "id": "d99ff49c-d634-4cb0-a0ab-f2ebf5280544",
   "metadata": {},
   "outputs": [
    {
     "name": "stdout",
     "output_type": "stream",
     "text": [
      "188.95999999999998\n"
     ]
    }
   ],
   "source": [
    "SPAD= 100.0\n",
    "chl_ = (0.114 *(SPAD**2)+ 7.39 *SPAD+ 10.6)/10\n",
    "print(chl_)"
   ]
  },
  {
   "cell_type": "code",
   "execution_count": 75,
   "id": "13a15c9d-6d4c-48aa-b239-a42a0ca78bf5",
   "metadata": {},
   "outputs": [],
   "source": [
    "r = PhloemFluxPython(pl,psiXylInit =-1000,ciInit = weatherX[\"cs\"]*0.5)"
   ]
  },
  {
   "cell_type": "code",
   "execution_count": 76,
   "id": "e35e4b93-a29e-486c-85c0-b5aa0400aabe",
   "metadata": {},
   "outputs": [
    {
     "ename": "AttributeError",
     "evalue": "'PhloemFluxPython' object has no attribute 'sh'",
     "output_type": "error",
     "traceback": [
      "\u001b[0;31m---------------------------------------------------------------------------\u001b[0m",
      "\u001b[0;31mAttributeError\u001b[0m                            Traceback (most recent call last)",
      "Cell \u001b[0;32mIn[76], line 1\u001b[0m\n\u001b[0;32m----> 1\u001b[0m \u001b[38;5;28mprint\u001b[39m(\u001b[43mr\u001b[49m\u001b[38;5;241;43m.\u001b[39;49m\u001b[43msh\u001b[49m,r\u001b[38;5;241m.\u001b[39mfwr,r\u001b[38;5;241m.\u001b[39moi,r\u001b[38;5;241m.\u001b[39mp_lcrit)\n",
      "\u001b[0;31mAttributeError\u001b[0m: 'PhloemFluxPython' object has no attribute 'sh'"
     ]
    }
   ],
   "source": [
    "print(r.sh,r.fwr,r.oi,r.p_lcrit)"
   ]
  },
  {
   "cell_type": "code",
   "execution_count": 7,
   "id": "343205ce-5203-4481-be05-431184d925a6",
   "metadata": {},
   "outputs": [],
   "source": [
    "\n",
    "#\t\t\tdefault value of env variable, to re-set at runtime\n",
    "Patm = 1013.15;#default [hPa]\n",
    "cs = 350e-6; #example from Dewar2002 [mol mol-1]\n",
    "TairC = 20; #[°C]\n",
    "Qlight = 900e-6;#mean absorbed photon irradiance per leaf segment [mol photons m-2 s-1]  \n",
    "Chl = 55,; \n",
    "oi = 210e-3;#leaf internal [O2] [mol mol-1]\n",
    "\n",
    "#\t\t\tparameter to re-parametrise , put in phloem files\n",
    "#water stress factor, parametrised from data of Corso2020\n",
    "fwr = 9.308e-2; #residual opening when water stress parametrised with data from corso2020 [-]\n",
    "sh = 3.765e-4;#sensibility to water stress\n",
    "p_lcrit = -0.869;#min psiXil for stomatal opening [Mpa]\n",
    "#influence of N contant, to reparametrise!, \n",
    "VcmaxrefChl1 = 1.28/2;#otherwise value too high, original: 1.31\n",
    "VcmaxrefChl2 = 8.33/2; #otherwise value too high, original: 8,52\n",
    "#for Vc, Vj, Ag, to reparametrise!\n",
    "a1=4.; #g0+ fw[i] * a1 *( An[i] + Rd)/(ci[i] - deltagco2[i]);#tuzet2003\n",
    "a3 = 1.7;#Jrefmax = Vcrefmax * a3 ;#Eq 25\n",
    "alpha = 0.2; #or 0.44 , coefb = -(alpha * Qlight + Jmax);, alpha * Qlight * Jmax;\n",
    "theta = 0.9;#or 0.67 coefa = theta;\n",
    "gamma0 = 28e-6;  gamma1 = 0.0509;  gamma2 = 0.001;\n",
    "g0 = 0.3e-3;#residual stomatal opening to CO2, Tuzet 2003 [mol CO2 m-2 s-1]"
   ]
  },
  {
   "cell_type": "code",
   "execution_count": 34,
   "id": "3fb5ad79-4e1f-4947-98f7-fcbfad07b174",
   "metadata": {},
   "outputs": [],
   "source": [
    "#for attr in dir(r):\n",
    " #   print(attr,getattr(r,attr))\n",
    "#print(dir(r))\n",
    "#'Patm','cs','TairC','Qlight',\n",
    "namesVars = ['Chl','oi','fwr','sh','p_lcrit',\n",
    "              'VcmaxrefChl1', 'VcmaxrefChl2',\n",
    "             'a1','a3', 'alpha','theta',\n",
    "             'gamma0', 'gamma1', 'gamma2','g0']#,\n",
    "             #'kr','kx']\n",
    "namesLim = [[chl_*0.1, chl_],[oi*0.5,oi*2],[fwr*0.5,fwr*2],[sh*0.5,sh*2],\n",
    "            [-1.25,0],\n",
    "             [0, 10], [0, 10],\n",
    "             [a1*0.5,a1*2],[a3*0.5,a3*2], [alpha*0.5,alpha*2],[theta*0.5,theta*2],\n",
    "             [gamma0*0.5,gamma0*2], [gamma1*0.5,gamma1*2], [gamma2*0.5,gamma2*2],\n",
    "            [g0*0.5,g0*2]]#,\n",
    "             #[0.5,2],[0.5,2]]\n",
    "problem = {\n",
    "    'num_vars': len(namesVars),\n",
    "    'names': namesVars,\n",
    "    'bounds': namesLim\n",
    "}"
   ]
  },
  {
   "cell_type": "code",
   "execution_count": 35,
   "id": "b437215c-7952-482e-a98a-c073facef560",
   "metadata": {},
   "outputs": [
    {
     "name": "stdout",
     "output_type": "stream",
     "text": [
      "15 15\n",
      "[[18.895999999999997, 188.95999999999998], [0.105, 0.42], [0.04654, 0.18616], [0.00018825, 0.000753], [-1.25, 0], [0, 10], [0, 10], [2.0, 8.0], [0.85, 3.4], [0.1, 0.4], [0.45, 1.8], [1.4e-05, 5.6e-05], [0.02545, 0.1018], [0.0005, 0.002], [0.00015, 0.0006]] (15, 2)\n"
     ]
    }
   ],
   "source": [
    "print(len(namesVars),len(namesLim))\n",
    "arrayLim = np.array(namesLim)\n",
    "print(namesLim,np.shape(namesLim))\n",
    "lower_bounds = arrayLim[:, 0]\n",
    "upper_bounds = arrayLim[:, 1]\n"
   ]
  },
  {
   "cell_type": "code",
   "execution_count": 40,
   "id": "e3942cc2-96b3-4515-8900-b64bb7c7786d",
   "metadata": {},
   "outputs": [
    {
     "name": "stdout",
     "output_type": "stream",
     "text": [
      "(512, 15)\n"
     ]
    },
    {
     "name": "stderr",
     "output_type": "stream",
     "text": [
      "/tmp/ipykernel_544734/2075697239.py:3: DeprecationWarning: `salib.sample.saltelli` will be removed in SALib 1.5. Please use `salib.sample.sobol`\n",
      "  param_values = saltelli.sample(problem, reps)\n"
     ]
    }
   ],
   "source": [
    "#param_values = saltelli.sample(problem, 2**10)\n",
    "reps =2**4\n",
    "param_values = saltelli.sample(problem, reps)\n",
    "print(param_values.shape)#param_values,"
   ]
  },
  {
   "cell_type": "code",
   "execution_count": 42,
   "id": "6768bbab-9e09-4e81-8471-fe436070999c",
   "metadata": {},
   "outputs": [],
   "source": [
    "plant =setDefaultVals(r,weatherX,1,1)\n",
    "#plant.Qlight = 100e-6"
   ]
  },
  {
   "cell_type": "code",
   "execution_count": 62,
   "id": "4e57eb39-3cdd-4ba2-b9eb-5bc666811a92",
   "metadata": {},
   "outputs": [
    {
     "data": {
      "text/plain": [
       "<module 'plantbox' from '/home/m.giraud/DUMUX/CPlantBox/plantbox.cpython-38-x86_64-linux-gnu.so'>"
      ]
     },
     "execution_count": 62,
     "metadata": {},
     "output_type": "execute_result"
    }
   ],
   "source": [
    "\n",
    "importlib.reload(helpUqr)\n",
    "from helpUqr import *\n",
    "importlib.reload(pb)"
   ]
  },
  {
   "cell_type": "code",
   "execution_count": 44,
   "id": "ffe5689d-bcf0-4f59-98ed-67218b6ff338",
   "metadata": {},
   "outputs": [],
   "source": [
    "Yvc = np.zeros([param_values.shape[0]])\n",
    "Yvj = np.zeros([param_values.shape[0]])\n",
    "Ygco2 = np.zeros([param_values.shape[0]])\n",
    "Ypmeso = np.zeros([param_values.shape[0]])\n",
    "xXx = np.full((len(r.plant.nodes)),-1000.0)\n",
    "#plant =setDefaultVals(plant,weatherX,kxRatio,krRatio)\n",
    "\n",
    "for i, X in enumerate(param_values):\n",
    "    #kxRatio = X[15]\n",
    "    #krRatio = X[16]\n",
    "    #print(X[0],np.array([X[0]]))\n",
    "    plant.Chl = np.array([X[0]])\n",
    "    plant.oi= X[1]\n",
    "    plant.fwr = X[2]\n",
    "    plant.sh = X[3]\n",
    "    plant.p_lcrit = X[4]\n",
    "    plant.VcmaxrefChl1 = X[5]\n",
    "    plant.VcmaxrefChl2 = X[6]\n",
    "    plant.a1= X[7]\n",
    "    plant.a3= X[8]\n",
    "    plant.alpha= X[9]\n",
    "    plant.theta= X[10]\n",
    "    plant.gamma0 = X[11]\n",
    "    plant.gamma1 = X[12]\n",
    "    plant.gamma2 = X[13]\n",
    "    plant.g0 = X[14]\n",
    "    plant.solve_photosynthesis(sim_time_ = 21, sxx_=xXx, \n",
    "                               cells_ = True,RH_ = weatherX[\"RH\"],\n",
    "            verbose_ = False, doLog_ = False,TairC_= weatherX[\"TairC\"] )\n",
    "    #print(X)\n",
    "    npLB = np.array(plant.leafBladeSurface )\n",
    "    Yvc[i] = sum(np.array(plant.Vc)[np.where(npLB >0)])\n",
    "    Yvj[i] = sum(np.array(plant.Vj)[np.where(npLB >0)])\n",
    "    Ygco2[i] = np.mean(np.array(plant.gco2)[np.where(npLB >0)])\n",
    "    Ypmeso[i] = np.mean(np.array(plant.fw)[np.where(npLB >0)])"
   ]
  },
  {
   "cell_type": "code",
   "execution_count": 57,
   "id": "78263ae8-ad15-479d-ba00-ddd5d7b9d630",
   "metadata": {},
   "outputs": [
    {
     "name": "stdout",
     "output_type": "stream",
     "text": [
      "[0.0, 0.0, 0.0, 0.0, 0.00024319420559567098, 0.00024318816024224157, 0.0002431823894739847, 0.0002431768977563108, 0.00024317168844748007, 0.00024316676380997247, 0.00024316212709505394, 0.000243157781470843, 0.00024315373001839962, 0.00024314997572786402, 0.0002431465214946519, 0.0002431433701157136, 0.00024314052428586383, 0.00024313798574642105, 0.0, 0.0, 0.0, 0.0, 0.00024319563794296352, 0.00024319069588720174, 0.0002431860344700321, 0.0002431816523665863, 0.00024317754398824393, 0.00024317371505470535, 0.00024317017646061393, 0.00024316693043513056, 0.00024316397832229597, 0.00024316159776175634, 0.0, 0.0, 0.0, 0.0, 0.0, 0.0, 0.00024319652197594166, 0.00024319099670587865, 0.00024318574923431026, 0.00024318078285630405, 0.00024317610030266405, 0.00024317170493980822, 0.00024316759990074168, 0.00024316378789428203, 0.0002431602717337612, 0.0002431570542602006, 0.00024315413864556195, 0.00024315152751275013, 0.0, 0.0, 0.0, 0.0, 0.00024320251591038446, 0.00024319901467969064, 0.0002431957850943945, 0.00024319283812591872, 0.0, 0.0, 0.0, 0.0, 0.00024320574596785674, 0.00024320228433341107, 0.00024319910435409553, 0.00024319621327994275]\n"
     ]
    }
   ],
   "source": [
    "plant.p_lcrit =5\n",
    "plant.solve_photosynthesis(sim_time_ = 21, sxx_=xXx, \n",
    "                           cells_ = True,RH_ = weatherX[\"RH\"],\n",
    "        verbose_ = False, doLog_ = False,TairC_= weatherX[\"TairC\"] )\n",
    "print(plant.ci)"
   ]
  },
  {
   "cell_type": "code",
   "execution_count": 51,
   "id": "c46d2658-28a1-4bf2-ad6a-9c7b0c1c5ef0",
   "metadata": {},
   "outputs": [],
   "source": [
    "Sic = sobol.analyze(problem, Yvc)\n",
    "Sij = sobol.analyze(problem, Yvj)\n",
    "SiYgco2 = sobol.analyze(problem, Ygco2)\n",
    "Sipmeso = sobol.analyze(problem, Ypmeso)"
   ]
  },
  {
   "cell_type": "code",
   "execution_count": 52,
   "id": "4c9fa576-0fb2-4bce-8210-49bee3de19ab",
   "metadata": {},
   "outputs": [
    {
     "name": "stdout",
     "output_type": "stream",
     "text": [
      "[ 7.18685013e-01  0.00000000e+00  0.00000000e+00  0.00000000e+00\n",
      "  0.00000000e+00  1.01741782e+00 -8.77048575e-03  7.35444477e-02\n",
      "  1.31355484e-04  1.11479827e-04 -1.07372413e-03 -1.52966999e-02\n",
      "  6.36492987e-03 -1.59333792e-03 -5.60162501e-08] [nan nan nan nan nan nan nan nan nan nan nan nan nan nan nan] [-8.95304446e-02  0.00000000e+00  0.00000000e+00  0.00000000e+00\n",
      "  0.00000000e+00  1.25003585e-01 -2.11411378e-03  5.36697859e-01\n",
      " -4.35889136e-02 -3.31728934e-02  1.19041196e+00  1.96309492e-01\n",
      "  2.95791450e-02  1.17366392e-02  2.82161336e-05] [-7.27560717e-02  0.00000000e+00  0.00000000e+00  0.00000000e+00\n",
      "  0.00000000e+00  1.03733968e-01 -1.67328755e-03  4.93109088e-01\n",
      " -4.70506176e-02 -2.63751961e-02  1.76565590e+00  1.86848428e-01\n",
      "  2.68161620e-02  1.21177568e-02  2.89630962e-05]\n"
     ]
    }
   ],
   "source": [
    "print(Sic['S1'],Sij['S1'],SiYgco2['S1'],Sipmeso['S1'])"
   ]
  },
  {
   "cell_type": "code",
   "execution_count": 47,
   "id": "b593f4fe-522c-489f-9b5d-b90e661463cb",
   "metadata": {},
   "outputs": [
    {
     "name": "stdout",
     "output_type": "stream",
     "text": [
      "[8.35576184e-01 0.00000000e+00 0.00000000e+00 0.00000000e+00\n",
      " 0.00000000e+00 1.03782651e+00 6.91392369e-05 5.85678269e-03\n",
      " 2.92716637e-07 4.64563417e-07 3.40252588e-06 5.33617733e-03\n",
      " 3.11243181e-04 6.65353937e-06 7.63973297e-15] [nan nan nan nan nan nan nan nan nan nan nan nan nan nan nan]\n"
     ]
    }
   ],
   "source": [
    "print(Sic['ST'],Sij['ST'])"
   ]
  },
  {
   "cell_type": "code",
   "execution_count": 48,
   "id": "840124a5-b6f6-4c5c-98f9-10dd3471574c",
   "metadata": {},
   "outputs": [
    {
     "name": "stdout",
     "output_type": "stream",
     "text": [
      "[0.00160973 0.00154774 0.00160973 0.00160973 0.00160973 0.00160973\n",
      " 0.00156053 0.0016113  0.0016213  0.00162919 0.00264844 0.00163429\n",
      " 0.00149622 0.00163046 0.0016047  0.00160973 0.00249428 0.00231373\n",
      " 0.00231373 0.00231373 0.00231373 0.00246605 0.00230101 0.00230361\n",
      " 0.00221977 0.00146045 0.00223403 0.00250783 0.00229681 0.00231801\n",
      " 0.00231373 0.00231373 0.00427606 0.00430076 0.00427606 0.00427606\n",
      " 0.00427606 0.00427606 0.00474538 0.00427443 0.00448594        nan\n",
      " 0.00152637 0.0043492  0.00391497 0.00441199 0.00431826 0.00427606\n",
      "        nan        nan        nan        nan        nan 0.00159657\n",
      "        nan        nan 0.00154675        nan 0.00194208        nan\n",
      "        nan        nan        nan        nan        nan        nan\n",
      "        nan        nan        nan        nan 0.00575146        nan\n",
      "        nan        nan        nan        nan        nan        nan\n",
      "        nan        nan 0.00403881 0.00452137 0.00452137 0.00452137\n",
      " 0.00452137        nan 0.00450962 0.00469263 0.00468951 0.00520379\n",
      " 0.00440242 0.00482911 0.00476945 0.0045345  0.00452137 0.00452137\n",
      " 0.00237801 0.00241456 0.00237801 0.00237801 0.00237801 0.00237801\n",
      " 0.0023277  0.00237857 0.00239383 0.00239278 0.00198732 0.00244371\n",
      " 0.00303534 0.00239518 0.00238347 0.00237801 0.00278068 0.00278201\n",
      " 0.00278201 0.00278201 0.00278201 0.00278244 0.00278201 0.00270369\n",
      " 0.00278183 0.00334824 0.00274671 0.00206562 0.00268655 0.00275039\n",
      " 0.00278201 0.00278201 0.00319633 0.00300014 0.00319633 0.00319633\n",
      " 0.00319633 0.00319633 0.0035223  0.00319718 0.00315261 0.00329471\n",
      " 0.00266914 0.00304849 0.00346384 0.00316672 0.00319697 0.00319633\n",
      " 0.00283999 0.0026616  0.0026616  0.0026616  0.0026616  0.00261028\n",
      " 0.00266137 0.00272448 0.00263715 0.00315051 0.00275295 0.00250576\n",
      " 0.00270349 0.00266072 0.0026616  0.0026616  0.00134049 0.00137182\n",
      " 0.00134049 0.00134049 0.00134049 0.00134049 0.00149129 0.00134054\n",
      " 0.00135373 0.00132718 0.0049686  0.00128655 0.00145261 0.00142337\n",
      " 0.00134122 0.00134049 0.00468873 0.00352767 0.00352767 0.00352767\n",
      " 0.00352767 0.00508857 0.00355842 0.00345755 0.00142994 0.00148672\n",
      "        nan 0.00312247 0.0031909  0.00352389 0.00352767 0.00352767\n",
      " 0.00190256 0.00185442 0.00190256 0.00190256 0.00190256 0.00190256\n",
      " 0.00240902 0.00187317 0.0019212  0.00176314 0.00161653 0.00168684\n",
      " 0.00152295 0.00194994 0.00190418 0.00190256 0.00151739 0.00151228\n",
      " 0.00151228 0.00151228 0.00151228 0.00104163 0.00151266 0.0015087\n",
      " 0.00152483 0.00187671 0.00154473 0.00194532 0.00150489 0.00151201\n",
      " 0.00151228 0.00151228        nan        nan        nan        nan\n",
      "        nan        nan        nan        nan        nan        nan\n",
      " 0.00425127 0.00408558        nan        nan        nan        nan\n",
      "        nan        nan        nan        nan        nan 0.00416546\n",
      "        nan        nan        nan        nan        nan        nan\n",
      "        nan        nan        nan        nan 0.00393193 0.00305697\n",
      " 0.00393193 0.00393193 0.00393193 0.00393193        nan 0.00406363\n",
      " 0.00380888        nan        nan 0.002685   0.0043265  0.0041435\n",
      " 0.00393891 0.00393193 0.00405939 0.00514107 0.00514107 0.00514107\n",
      " 0.00514107 0.00519971 0.00514305 0.00547972 0.00518581 0.00323699\n",
      " 0.0059591  0.00461917 0.00479146 0.00512727 0.00514107 0.00514107\n",
      " 0.00269506 0.00218392 0.00269506 0.00269506 0.00269506 0.00269506\n",
      " 0.00070878 0.00273027 0.00296355 0.00493034 0.0022669         nan\n",
      " 0.00194991 0.00247439 0.00264685 0.00269506        nan        nan\n",
      "        nan        nan        nan        nan        nan        nan\n",
      " 0.0005103         nan 0.00122851        nan        nan        nan\n",
      "        nan        nan 0.00392015 0.00391944 0.00392015 0.00392015\n",
      " 0.00392015 0.00392015 0.00392139 0.00392015 0.00392015 0.00391937\n",
      " 0.00392015        nan 0.00423662 0.003946   0.00395057 0.00392015\n",
      " 0.00542205 0.00665391 0.00665391 0.00665391 0.00665391        nan\n",
      " 0.00662776 0.00665391 0.00536254 0.00665391 0.0043279  0.00611372\n",
      " 0.00658847 0.00657725 0.00665391 0.00665391 0.00198158 0.00205788\n",
      " 0.00198158 0.00198158 0.00198158 0.00198158 0.0025948  0.00198177\n",
      " 0.00198158 0.00199697 0.00198158 0.00189368 0.00214872 0.00198751\n",
      " 0.00197844 0.00198158 0.00210235 0.0021619  0.0021619  0.0021619\n",
      " 0.0021619  0.00206901 0.00216017 0.0021619  0.00213938 0.0021619\n",
      "        nan 0.0019919  0.00215078 0.00216791 0.0021619  0.0021619\n",
      " 0.00339412 0.00285568 0.00339412 0.00339412 0.00339412 0.00339412\n",
      " 0.00349    0.00339227 0.00339412 0.00346863 0.00133657        nan\n",
      " 0.00419718 0.00340067 0.00339065 0.00339412 0.00187899 0.00229227\n",
      " 0.00229227 0.00229227 0.00229227        nan 0.00228118 0.00229227\n",
      "        nan        nan 0.00163797 0.00184869 0.00227281 0.00230287\n",
      " 0.00229227 0.00229227        nan        nan        nan        nan\n",
      "        nan        nan 0.00351169        nan        nan 0.00087121\n",
      "        nan 0.00187165        nan        nan        nan        nan\n",
      " 0.00246655 0.0021257  0.0021257  0.0021257  0.0021257  0.00057437\n",
      " 0.00205454 0.0021257  0.00317377 0.00188901        nan 0.00234764\n",
      " 0.00211673 0.00213053 0.0021257  0.0021257  0.00203484 0.00206745\n",
      " 0.00203484 0.00203484 0.00203484 0.00203484 0.00199235 0.00203513\n",
      " 0.00184307 0.00202668 0.00330975 0.00185195 0.0017852  0.0020618\n",
      " 0.00204337 0.00203484 0.00252189 0.00249236 0.00249236 0.00249236\n",
      " 0.00249236 0.00227108 0.00249254 0.00267034 0.00247947 0.00159555\n",
      " 0.00263825 0.0027621  0.00247679 0.00248734 0.00249236 0.00249236\n",
      " 0.00190959 0.00307389 0.00190959 0.00190959 0.00190959 0.00190959\n",
      " 0.00128534 0.00190319 0.00200719 0.00212713 0.0021234         nan\n",
      " 0.00175964 0.0018043  0.00191206 0.00190959        nan 0.0044898\n",
      " 0.0044898  0.0044898  0.0044898  0.004073   0.00448698 0.00440267\n",
      "        nan 0.0033491  0.00328039 0.00482038 0.00466636 0.00448626\n",
      " 0.0044898  0.0044898 ]\n"
     ]
    }
   ],
   "source": [
    "print(Yvj)"
   ]
  },
  {
   "cell_type": "code",
   "execution_count": 191,
   "id": "2cda7677-0f37-49ef-a0da-34ef18472862",
   "metadata": {},
   "outputs": [
    {
     "name": "stdout",
     "output_type": "stream",
     "text": [
      "x1-x2: 0.03544108913609554\n",
      "x1-x3: 0.15430977307161786\n",
      "x2-x3: 0.0002819487687389377\n"
     ]
    }
   ],
   "source": [
    "print(\"x1-x2:\", Si['S2'][0,1])\n",
    "print(\"x1-x3:\", Si['S2'][0,2])\n",
    "print(\"x2-x3:\", Si['S2'][1,2])"
   ]
  },
  {
   "cell_type": "code",
   "execution_count": 212,
   "id": "86aced81-0d81-4d9e-95f9-45f51478491a",
   "metadata": {},
   "outputs": [
    {
     "ename": "AttributeError",
     "evalue": "'numpy.ndarray' object has no attribute 'plot'",
     "output_type": "error",
     "traceback": [
      "\u001b[0;31m---------------------------------------------------------------------------\u001b[0m",
      "\u001b[0;31mAttributeError\u001b[0m                            Traceback (most recent call last)",
      "Cell \u001b[0;32mIn[212], line 1\u001b[0m\n\u001b[0;32m----> 1\u001b[0m \u001b[43mSic\u001b[49m\u001b[43m[\u001b[49m\u001b[38;5;124;43m'\u001b[39;49m\u001b[38;5;124;43mST\u001b[39;49m\u001b[38;5;124;43m'\u001b[39;49m\u001b[43m]\u001b[49m\u001b[38;5;241;43m.\u001b[39;49m\u001b[43mplot\u001b[49m()\n",
      "\u001b[0;31mAttributeError\u001b[0m: 'numpy.ndarray' object has no attribute 'plot'"
     ]
    }
   ],
   "source": [
    "Sic.plot()"
   ]
  },
  {
   "cell_type": "code",
   "execution_count": null,
   "id": "ad32fd7b-01bb-4b79-bfdb-1f25eb1e450e",
   "metadata": {},
   "outputs": [],
   "source": [
    "###just for Chl\n",
    "namesVars = ['Chl','oi','fwr','sh','p_lcrit',\n",
    "              'VcmaxrefChl1', 'VcmaxrefChl2',\n",
    "             'a1','a3', 'alpha','theta',\n",
    "             'gamma0', 'gamma1', 'gamma2','g0',\n",
    "             'kr','kx']\n",
    "namesLim = [[chl_*0.1, chl_],[oi*0.5,oi*2],[fwr*0.5,fwr*2],[sh*0.5,sh*2],\n",
    "            [p_lcrit*2,p_lcrit*0.5],\n",
    "             [0, 10], [0, 10],\n",
    "             [a1*0.5,a1*2],[a3*0.5,a3*2], [alpha*0.5,alpha*2],[theta*0.5,theta*2],\n",
    "             [gamma0*0.5,gamma0*2], [gamma1*0.5,gamma1*2], [gamma2*0.5,gamma2*2],\n",
    "            [g0*0.5,g0*2],\n",
    "             [0.5,2],[0.5,2]]\n",
    "problem = {\n",
    "    'num_vars': len(namesVars),\n",
    "    'names': namesVars,\n",
    "    'bounds': namesLim\n",
    "}"
   ]
  }
 ],
 "metadata": {
  "kernelspec": {
   "display_name": "firstEnv38",
   "language": "python",
   "name": "firstenv38"
  },
  "language_info": {
   "codemirror_mode": {
    "name": "ipython",
    "version": 3
   },
   "file_extension": ".py",
   "mimetype": "text/x-python",
   "name": "python",
   "nbconvert_exporter": "python",
   "pygments_lexer": "ipython3",
   "version": "3.8.15"
  }
 },
 "nbformat": 4,
 "nbformat_minor": 5
}
