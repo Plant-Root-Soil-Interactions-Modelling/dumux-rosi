{
 "cells": [
  {
   "cell_type": "code",
   "execution_count": 1,
   "id": "932a0ab1-fe53-44c1-9c59-d73089d85836",
   "metadata": {},
   "outputs": [
    {
     "name": "stdout",
     "output_type": "stream",
     "text": [
      "Env variables at 18 d 0 hrs :\n",
      " {'TairC': 30.27, 'TairK': 303.41999999999996, 'Pair': 1070.0, 'es': 43.11959850459574, 'Qlight': 0.00096, 'rbl': 40.0, 'rcanopy': 3.333333333333333, 'rair': 18.36187383298185, 'ea': 18.97262334202213, 'cs': 0.00035, 'RH': 0.44, 'p_mean': -422.4238769868247, 'vg': [0.08, 0.43, 0.04, 1.6, 50]}\n",
      "nreps, cpu 10 32\n"
     ]
    },
    {
     "name": "stderr",
     "output_type": "stream",
     "text": [
      "/tmp/ipykernel_302191/666253406.py:89: DeprecationWarning: `salib.sample.saltelli` will be removed in SALib 1.5. Please use `salib.sample.sobol`\n",
      "  param_values = saltelli.sample(problem, reps)\n"
     ]
    }
   ],
   "source": [
    "%load_ext autoreload\n",
    "%autoreload 2\n",
    "directoryN = \"/ipynbmorris/\"\n",
    "import sys; \n",
    "CPBdir = \"../../../../cpb3101/CPlantBox\"\n",
    "sys.path.append(CPBdir+\"/src\");\n",
    "sys.path.append(CPBdir);\n",
    "sys.path.append(\"../../..\");sys.path.append(\"..\"); \n",
    "sys.path.append(CPBdir+\"/src/python_modules\");\n",
    "sys.path.append(\"../build-cmake/cpp/python_binding/\") # dumux python binding\n",
    "sys.path.append(\"../../build-cmake/cpp/python_binding/\")\n",
    "sys.path.append(\"../modules/\") # python wrappers \n",
    "import numpy as np\n",
    "import json\n",
    "import plantbox as pb\n",
    "import importlib\n",
    "importlib.reload(pb)\n",
    "import plantbox\n",
    "importlib.reload(plantbox)\n",
    "from phloem_flux import PhloemFluxPython \n",
    "import pickle\n",
    "from SALib.sample import saltelli\n",
    "from SALib.analyze import sobol\n",
    "from SALib.test_functions import Ishigami\n",
    "from joblib import Parallel, delayed\n",
    "import os \n",
    "from helpUqr import *\n",
    "\n",
    "simDuration=18; condition=\"dry\"\n",
    "weatherX = weather(simDuration, condition, 1)\n",
    "assert weatherX['Qlight']>0\n",
    "\n",
    "#\t\t\tdefault value of env variable, to re-set at runtime\n",
    "cs = 390e-6; \n",
    "\n",
    "Chl = 55,; \n",
    "oi = 210e-3;#leaf internal [O2] [mol mol-1]\n",
    "\n",
    "SPAD= 100.0\n",
    "chl_ = (0.114 *(SPAD**2)+ 7.39 *SPAD+ 10.6)/10\n",
    "\n",
    "\n",
    "Q10 = 2.; #double TrefQ10 = 20;//to compute effect of T on growth (see CN-wheat, residual respiration @Barillot 2016, appendix)\n",
    "#psiMax = 0;  \n",
    "psiMin = -2000*(1/0.9806806);#limit wat. pot. in xylem for water-limited growth, [cm]\n",
    "KMfu = 0.2; #@see C_fluxes,Michaelis menten coef for active sucrose usage\n",
    "Vmaxloading = 0.019872;#mmol cm-1 d-1 for leaf blade 1cm wide\n",
    "CSTimin = 0.4;#minimum CST value below which there is no sink of sucrose\n",
    "beta_loading = 1;#@see C_fluxes, feedback effect of C_ST on Q_FL\n",
    "Mloading = 0.2;#@see C_fluxes,Michaelis menten coef for Fl\n",
    "Gr_Y = 0.75;#growth efficiency\n",
    "psi_osmo = -10000*1.0197\n",
    "delta_osmo_min = -psi_osmo - psiMin\n",
    "\n",
    "\n",
    "\n",
    "namesVars_phlo = ['Q10','delta_osmo_min','psiMin','KMfu','Vmaxloading','CSTimin',\n",
    "              'beta_loading', 'Mloading','Gr_Y','rhoSucrose',\n",
    "             'kx_st','kr_st','Across','krm2','krm1','rmax']\n",
    "namesLim_phlo = [Q10,delta_osmo_min,psiMin,KMfu,Vmaxloading,\n",
    "                 CSTimin,beta_loading,Mloading,Gr_Y,1,\n",
    "             1,1,1,1,1,1 ]\n",
    "\n",
    "namesVars_xyl = ['Chl','oi','fw1r','k_fw1','psi_t,crit,1',\n",
    "              'kchl1', 'kchl2',\n",
    "             'kg1','kjmax', 'alpha','omega',\n",
    "             'gamma0', 'gamma1', 'gamma2','g0',\n",
    "             'kx_x','kr_x']\n",
    "namesLim_xyl = [[0.5,2],[0.5,2],[0.5,2],[0.5,2],[0.5,2],\n",
    "                 [0.5,2],[0.5,2],[0.5,2],[0.5,2],[0.02/0.4,0.95/0.4],\n",
    "             [0.04/0.6,0.98/0.6],[0.5,2],[0.5,2],[0.5,2],[0.5,2],\n",
    "                [0.5,2] ,[0.5,2]]\n",
    "problem = {\n",
    "    'num_vars': len(namesVars_xyl),\n",
    "    'names': namesVars_xyl,\n",
    "    'bounds': namesLim_xyl\n",
    "}\n",
    "namesVars = namesVars_xyl + namesVars_phlo\n",
    "\n",
    "##### TO CHANGE ######\n",
    "Nreps = 11\n",
    "if (simDuration > 10) and (condition == \"dry\"):\n",
    "    Nreps = 10\n",
    "reps =2**Nreps\n",
    "maxcore = os.cpu_count()\n",
    "print('nreps, cpu',Nreps, maxcore)\n",
    "######################\n",
    "\n",
    "param_values = saltelli.sample(problem, reps)\n",
    "#print(len(param_values))\n",
    "\n",
    "#print(param_values[13])\n",
    "#assert False\n",
    "\n",
    "\n",
    "\n",
    "\n",
    "Yev  = np.array([])\n",
    "Yag = np.array([])\n",
    "\n",
    "\n",
    "didDo = 0"
   ]
  },
  {
   "cell_type": "code",
   "execution_count": 2,
   "id": "7d7e1b26-28c1-4e4e-aa41-2f0013a1bdf8",
   "metadata": {},
   "outputs": [],
   "source": [
    "\n",
    "def SobolTest2(myid,weatherX, varNames, varLims, simDuration,condition, testType):\n",
    "    \n",
    "    assert testType==\"Xylem\" or testType == \"Phloem\"\n",
    "    test_values = varLims\n",
    "    DictVal = {}\n",
    "    for key in varNames:\n",
    "        for value in test_values:\n",
    "            DictVal[key] = value\n",
    "            test_values.remove(value)\n",
    "            break\n",
    "            \n",
    "    pl = pb.MappedPlant(seednum = 2) \n",
    "    path = CPBdir+\"/modelparameter/plant/\"\n",
    "    name = \"Triticum_aestivum_test_2021\"\n",
    "\n",
    "    pl.readParameters(path + name + \".xml\")\n",
    "    depth = 60\n",
    "    sdf = pb.SDF_PlantBox(np.Inf, np.Inf, depth )\n",
    "    pl.setGeometry(sdf) # creates soil space to stop roots from growing out of the soil\n",
    "    pl.initialize(verbose = True)#, stochastic = False)\n",
    "    pl.simulate(simDuration, False)#, \"outputpm15.txt\")\n",
    "\n",
    "    picker = lambda x,y,z : max(int(np.floor(-z)),-1)   \n",
    "    pl.setSoilGrid(picker)  # maps segment\n",
    "\n",
    "\n",
    "    r = PhloemFluxPython(pl,psiXylInit =-1000,ciInit = 0.5 *weatherX['cs'])\n",
    "\n",
    "\n",
    "    hp = max([tempnode[2] for tempnode in r.get_nodes()]) /100\n",
    "    weatherX = weather(simDuration, condition, hp)\n",
    "\n",
    "    plant =setDefaultVals(r,weatherX,DictVal)\n",
    "    p_bot = weatherX[\"p_mean\"] + depth/2\n",
    "    p_top = weatherX[\"p_mean\"] - depth/2\n",
    "    xXx = np.linspace(p_top, p_bot, depth)\n",
    "    \n",
    "    plant.Q10 = DictVal['Q10']# X[0]\n",
    "    plant.psi_osmo_proto= -DictVal['delta_osmo_min'] - DictVal['psiMin']\n",
    "    plant.psiMin = DictVal['psiMin']\n",
    "    plant.KMfu = DictVal['KMfu']\n",
    "    plant.Vmaxloading = DictVal['Vmaxloading']\n",
    "    plant.CSTimin = DictVal['CSTimin']\n",
    "    plant.beta_loading = DictVal['beta_loading']\n",
    "    plant.Mloading = DictVal['Mloading']\n",
    "    plant.Gr_Y= DictVal['Gr_Y']# X[8]\n",
    "\n",
    "    plant.Patm = weatherX[\"Pair\"]\n",
    "    ##resistances\n",
    "    plant.g_bl = resistance2conductance(weatherX[\"rbl\"],weatherX,r) / r.a2_bl\n",
    "    plant.g_canopy = resistance2conductance(weatherX[\"rcanopy\"],weatherX,r) / r.a2_canopy\n",
    "    plant.g_air = resistance2conductance(weatherX[\"rair\"],weatherX,r) / r.a2_air\n",
    "    plant.gm = 0.01\n",
    "    \n",
    "    plant.usePg4Fw = True\n",
    "    #r.doWiggle= True;r.DoSun2012=False\n",
    "    plant.alternativeAn = True\n",
    "    plant.Theta_ag = 0.9\n",
    "    plant.limMaxErr = 1/100\n",
    "    plant.maxLoop = 10000\n",
    "    plant.xXx = xXx\n",
    "    return plant"
   ]
  },
  {
   "cell_type": "code",
   "execution_count": 3,
   "id": "1c1dfee7-6602-4ed4-9baa-bfdb9b851b66",
   "metadata": {},
   "outputs": [
    {
     "name": "stdout",
     "output_type": "stream",
     "text": [
      "MappedPlant::initialize \n",
      "Seed::initialize: Plant \n",
      "Seed::initialize: Basal root type #4 was not defined, using tap root parameters instead\n",
      "Env variables at 18 d 0 hrs :\n",
      " {'TairC': 30.27, 'TairK': 303.41999999999996, 'Pair': 1070.0, 'es': 43.11959850459574, 'Qlight': 0.00096, 'rbl': 40.0, 'rcanopy': 1.0003084710599022, 'rair': 47.33294129610276, 'ea': 18.97262334202213, 'cs': 0.00035, 'RH': 0.44, 'p_mean': -422.4238769868247, 'vg': [0.08, 0.43, 0.04, 1.6, 50]}\n",
      "Tiller stem type #4 was not defined, using main stem parameters instead, Exchange zone in roots: kr > 0 until 0.8cm from root tip\n",
      "Kr is constant per subtype of organ type, for root, subtype 0 = 5.4885e-05 1 day-1 \n",
      "Kx is constant per subtype of organ type, for root, subtype 0 = 0.140775 cm3 day-1 \n",
      "Exchange zone in roots: kr_st > 0 until 0.8cm from root tip 1 1\n",
      "Exchange zone in roots: kr > 0 until 0.8cm from root tip\n"
     ]
    }
   ],
   "source": [
    "i=191\n",
    "plant = SobolTest2(i,weatherX, \n",
    "     namesVars, #all the var names\n",
    "     list(param_values[didDo + i])+list(namesLim_phlo), #all the var values\n",
    "     simDuration, condition,\"Xylem\")"
   ]
  },
  {
   "cell_type": "code",
   "execution_count": 4,
   "id": "1d8310c6-a832-452e-942c-03ffcc151ff4",
   "metadata": {},
   "outputs": [],
   "source": [
    "\n",
    "plant.solve_photosynthesis(sim_time_ = simDuration, sxx_= plant.xXx, \n",
    "                                   cells_ = True,ea_ = weatherX[\"ea\"],es_ = weatherX[\"es\"],\n",
    "                verbose_ = False, doLog_ = False,TairC_= weatherX[\"TairC\"] ,outputDir_= \"./results\"+directoryN)\n"
   ]
  },
  {
   "cell_type": "code",
   "execution_count": 63,
   "id": "c62452c9-758c-4cb0-936e-5db73b88d19a",
   "metadata": {},
   "outputs": [],
   "source": [
    "plant.seg_leaves_idx = plant.get_segments_index(4)\n",
    "plant.Chl_ = plant.Chl[0]\n",
    "\n",
    "Eac = 59430;  Eaj = 37000;  Eao = 36000\n",
    "Eard = 53000; Eav = 58520;\n",
    "Edj =  220000; Edv = 220000;\n",
    "Kc_ref = 302e-6; Ko_ref = 256e-3;\n",
    "Rd_ref = 0.32e-6;Tref = 293.2;\n",
    "S = 700;\n",
    "Mh2o = 18;\n",
    "R_ph = 83.143\n",
    "rho_h2o = 1000;\n",
    "M_Chla = 893.51"
   ]
  },
  {
   "cell_type": "code",
   "execution_count": 64,
   "id": "20e7344b-c93c-426e-b432-35076d455061",
   "metadata": {},
   "outputs": [
    {
     "name": "stdout",
     "output_type": "stream",
     "text": [
      "Photosynthesis::initVcVjRd : root for J not found\n"
     ]
    },
    {
     "ename": "TypeError",
     "evalue": "'<' not supported between instances of 'complex' and 'int'",
     "output_type": "error",
     "traceback": [
      "\u001b[0;31m---------------------------------------------------------------------------\u001b[0m",
      "\u001b[0;31mTypeError\u001b[0m                                 Traceback (most recent call last)",
      "Cell \u001b[0;32mIn[64], line 30\u001b[0m\n\u001b[1;32m     27\u001b[0m     \u001b[38;5;28mprint\u001b[39m(\u001b[38;5;124m\"\u001b[39m\u001b[38;5;124mPhotosynthesis::initVcVjRd : root for J not found\u001b[39m\u001b[38;5;124m\"\u001b[39m);\n\u001b[1;32m     29\u001b[0m J \u001b[38;5;241m=\u001b[39m  ((\u001b[38;5;241m-\u001b[39mcoefb\u001b[38;5;241m-\u001b[39m (dis\u001b[38;5;241m*\u001b[39m\u001b[38;5;241m*\u001b[39m\u001b[38;5;241m0.5\u001b[39m))\u001b[38;5;241m/\u001b[39m(\u001b[38;5;241m2.\u001b[39m\u001b[38;5;241m*\u001b[39mcoefa));\u001b[38;5;66;03m#rostamza2020, Bonan2019Chap11\u001b[39;00m\n\u001b[0;32m---> 30\u001b[0m \u001b[38;5;28;01mif\u001b[39;00m (\u001b[43mJ\u001b[49m\u001b[43m \u001b[49m\u001b[38;5;241;43m<\u001b[39;49m\u001b[43m \u001b[49m\u001b[38;5;241;43m0\u001b[39;49m):\n\u001b[1;32m     31\u001b[0m     \u001b[38;5;28mprint\u001b[39m(\u001b[38;5;124m\"\u001b[39m\u001b[38;5;124mPhotosynthesis::loopCalcs : J < 0\u001b[39m\u001b[38;5;124m\"\u001b[39m);\n\u001b[1;32m     32\u001b[0m \u001b[38;5;28mprint\u001b[39m(J)\n",
      "\u001b[0;31mTypeError\u001b[0m: '<' not supported between instances of 'complex' and 'int'"
     ]
    }
   ],
   "source": [
    "Vcmax = np.full(len(plant.seg_leaves_idx),np.nan)\n",
    "for li_ in range(1):#len(plant.seg_leaves_idx)):\n",
    "    Vcrefmax = (plant.VcmaxrefChl1* plant.Chl_ + plant.VcmaxrefChl2)*1e-6 ;\n",
    "\n",
    "    #Vcmax\n",
    "    expo1 = np.exp(Eav /(R_ph*0.1*Tref)*(1. - Tref/plant.TleafK));\n",
    "    expo2 =np.exp((S* plant.TleafK - Edv)/(R_ph*0.1* plant.TleafK));\n",
    "    Vcmax[li_] = Vcrefmax * expo1 / (1. + expo2); #Eq 11\n",
    "    #for Vc\n",
    "    #mmol mmol-1 * exp(mJ mmol-1/(hPa cm3K−1mmol−1 *(mJ/(hPa/cm3))*K)*(-))=mmol mmol-1 * exp(-)\n",
    "    Ko = Ko_ref *  np.exp(Eao/(R_ph*0.1*Tref)*(1.-Tref/plant.TleafK)); #Eq 9\n",
    "    Kc = Kc_ref * np.exp(Eac/(R_ph*0.1*Tref)*(1.-Tref/plant.TleafK)) ;#Eq 9\n",
    "    delta = plant.gamma0* (1.+ plant.gamma1*(plant.TleafK - Tref) + plant.gamma2*((plant.TleafK - Tref)**2.) ) ;#Eq 10\n",
    "\n",
    "    #electron transport rate\n",
    "    #Jrefmax\n",
    "    Jrefmax = Vcrefmax * plant.a3 ;#q 25\n",
    "    #Jmax\n",
    "    expo1 = np.exp(Eaj /(R_ph*0.1*Tref)*(1. - Tref/plant.TleafK));\n",
    "    expo2 = np.exp((S * plant.TleafK - Edj)/(R_ph *0.1*plant.TleafK));\n",
    "    Jmax = min(Jrefmax * expo1 / (1. + expo2), Jrefmax); #Eq 24\n",
    "    coefa = plant.theta;\n",
    "    coefb = -(plant.alpha * plant.Qlight + Jmax);\n",
    "    coefc = plant.alpha * plant.Qlight * Jmax;\n",
    "    dis = coefb*coefb - (4.*coefa*coefc);\n",
    "    if (dis < 0):\n",
    "        print(\"Photosynthesis::initVcVjRd : root for J not found\");\n",
    "\n",
    "    J =  ((-coefb- (dis**0.5))/(2.*coefa));#rostamza2020, Bonan2019Chap11\n",
    "    if (J < 0):\n",
    "        print(\"Photosynthesis::loopCalcs : J < 0\");\n",
    "    print(J)\n",
    "  "
   ]
  },
  {
   "cell_type": "code",
   "execution_count": 66,
   "id": "49edf754-1e40-49fe-ae91-32c650d218a8",
   "metadata": {},
   "outputs": [
    {
     "name": "stdout",
     "output_type": "stream",
     "text": [
      "1.167919921875 0.52783203125 -0.0008811995140194172 -1.2484787020950308e-07 1.167919921875 1.929414073763079e-07 0.52783203125 0.0009 0.00040615068589441725 0.00040615068589441725 303.41999999999996\n"
     ]
    }
   ],
   "source": [
    "li_=1\n",
    "#Vcrefmax = (plant.VcmaxrefChl1* plant.Chl_ + plant.VcmaxrefChl2)*1e-6\n",
    "print( plant.theta,plant.alpha,coefb,dis, coefa,coefc,plant.alpha , plant.Qlight , Jmax,Jrefmax,plant.TleafK)"
   ]
  },
  {
   "cell_type": "code",
   "execution_count": 11,
   "id": "5cc6f436-be7f-40d0-8dc6-a71081b38fab",
   "metadata": {},
   "outputs": [
    {
     "data": {
      "text/plain": [
       "30.27"
      ]
     },
     "execution_count": 11,
     "metadata": {},
     "output_type": "execute_result"
    }
   ],
   "source": [
    "weatherX[\"TairC\"]"
   ]
  },
  {
   "cell_type": "code",
   "execution_count": 12,
   "id": "9b0f2b4b-304e-487d-8fcb-89ce1a0f3c69",
   "metadata": {},
   "outputs": [
    {
     "data": {
      "text/plain": [
       "303.41999999999996"
      ]
     },
     "execution_count": 12,
     "metadata": {},
     "output_type": "execute_result"
    }
   ],
   "source": [
    "weatherX[\"TairK\"]"
   ]
  },
  {
   "cell_type": "code",
   "execution_count": 18,
   "id": "6584821d-73c2-4fc0-866a-519d9d2d1fb1",
   "metadata": {},
   "outputs": [
    {
     "data": {
      "text/plain": [
       "896840.1294216727"
      ]
     },
     "execution_count": 18,
     "metadata": {},
     "output_type": "execute_result"
    }
   ],
   "source": [
    "plant.psi_air #cm"
   ]
  },
  {
   "cell_type": "code",
   "execution_count": null,
   "id": "46abf5fa-b62a-4484-87c4-cd26f0f75fc0",
   "metadata": {},
   "outputs": [],
   "source": [
    "#theta:1.167919921875,alpha: 0.52783203125"
   ]
  }
 ],
 "metadata": {
  "kernelspec": {
   "display_name": "py38b",
   "language": "python",
   "name": "py38b"
  },
  "language_info": {
   "codemirror_mode": {
    "name": "ipython",
    "version": 3
   },
   "file_extension": ".py",
   "mimetype": "text/x-python",
   "name": "python",
   "nbconvert_exporter": "python",
   "pygments_lexer": "ipython3",
   "version": "3.8.15"
  }
 },
 "nbformat": 4,
 "nbformat_minor": 5
}
