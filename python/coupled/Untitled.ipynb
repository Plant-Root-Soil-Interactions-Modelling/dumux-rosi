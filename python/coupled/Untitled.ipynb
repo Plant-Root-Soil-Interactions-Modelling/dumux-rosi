{
 "cells": [
  {
   "cell_type": "code",
   "execution_count": 1,
   "id": "e9a58c6d-1622-4fe1-9e52-bd53ae2bfae6",
   "metadata": {},
   "outputs": [],
   "source": [
    "\n",
    "import pickle#cPickle as pickle\n",
    "import numpy as np\n",
    "\n",
    "np.set_printoptions(threshold=np.inf)\n",
    "\n",
    "with open('sobolPhlo4/YAlls_R8_18_dry'+'.pkl','rb') as f: # Use this to load temporary or final results                                  \n",
    "\ttmp_obj=pickle.load(f)              # together with every used variable\n",
    "with open('sobolPhlo4/YAlls_R8_18_dry.txt','w') as f:\n",
    "\tf.write(repr(tmp_obj)) \n",
    "    "
   ]
  },
  {
   "cell_type": "code",
   "execution_count": null,
   "id": "fe384ba5-7385-405e-9d5f-4cc26ec8700e",
   "metadata": {},
   "outputs": [],
   "source": []
  }
 ],
 "metadata": {
  "kernelspec": {
   "display_name": "py38b",
   "language": "python",
   "name": "py38b"
  },
  "language_info": {
   "codemirror_mode": {
    "name": "ipython",
    "version": 3
   },
   "file_extension": ".py",
   "mimetype": "text/x-python",
   "name": "python",
   "nbconvert_exporter": "python",
   "pygments_lexer": "ipython3",
   "version": "3.8.15"
  }
 },
 "nbformat": 4,
 "nbformat_minor": 5
}
