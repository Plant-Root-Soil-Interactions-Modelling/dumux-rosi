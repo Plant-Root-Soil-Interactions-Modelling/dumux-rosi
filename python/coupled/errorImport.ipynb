{
 "cells": [
  {
   "cell_type": "code",
   "execution_count": 3,
   "id": "416db99d-0560-4452-ad66-9a2f78fd9fb8",
   "metadata": {},
   "outputs": [
    {
     "ename": "ImportError",
     "evalue": "libmpi.so.40: cannot open shared object file: No such file or directory",
     "output_type": "error",
     "traceback": [
      "\u001b[0;31m---------------------------------------------------------------------------\u001b[0m",
      "\u001b[0;31mImportError\u001b[0m                               Traceback (most recent call last)",
      "Cell \u001b[0;32mIn[3], line 14\u001b[0m\n\u001b[1;32m      9\u001b[0m sys\u001b[38;5;241m.\u001b[39mpath\u001b[38;5;241m.\u001b[39mappend(\u001b[38;5;124m\"\u001b[39m\u001b[38;5;124m../modules/\u001b[39m\u001b[38;5;124m\"\u001b[39m) \u001b[38;5;66;03m# python wrappers \u001b[39;00m\n\u001b[1;32m     11\u001b[0m \u001b[38;5;66;03m#import matplotlib\u001b[39;00m\n\u001b[1;32m     12\u001b[0m \u001b[38;5;66;03m#matplotlib.use('AGG') #otherwise \"import matplotlib.pyplot\" hangs\u001b[39;00m\n\u001b[0;32m---> 14\u001b[0m \u001b[38;5;28;01mfrom\u001b[39;00m \u001b[38;5;21;01mrosi_richards\u001b[39;00m \u001b[38;5;28;01mimport\u001b[39;00m RichardsSP  \u001b[38;5;66;03m# C++ part (Dumux binding)\u001b[39;00m\n\u001b[1;32m     15\u001b[0m \u001b[38;5;28;01mfrom\u001b[39;00m \u001b[38;5;21;01mrichards\u001b[39;00m \u001b[38;5;28;01mimport\u001b[39;00m RichardsWrapper  \u001b[38;5;66;03m# Python part\u001b[39;00m\n\u001b[1;32m     16\u001b[0m \u001b[38;5;28;01mfrom\u001b[39;00m \u001b[38;5;21;01mphloem_flux\u001b[39;00m \u001b[38;5;28;01mimport\u001b[39;00m PhloemFluxPython  \u001b[38;5;66;03m# Python hybrid solver\u001b[39;00m\n",
      "\u001b[0;31mImportError\u001b[0m: libmpi.so.40: cannot open shared object file: No such file or directory"
     ]
    }
   ],
   "source": [
    "\n",
    "\n",
    "import sys; \n",
    "CPBdir = \"../../../../cpb3101/CPlantBox\"\n",
    "sys.path.append(CPBdir+\"/src\");\n",
    "sys.path.append(CPBdir);\n",
    "sys.path.append(\"../../..\");sys.path.append(\"..\"); \n",
    "sys.path.append(CPBdir+\"/src/python_modules\");\n",
    "sys.path.append(\"../build-cmake/cpp/python_binding/\") # dumux python binding\n",
    "sys.path.append(\"../../build-cmake/cpp/python_binding/\")\n",
    "sys.path.append(\"../modules/\") # python wrappers \n",
    "\n",
    "#import matplotlib\n",
    "#matplotlib.use('AGG') #otherwise \"import matplotlib.pyplot\" hangs\n",
    "#class RichardsSP\n",
    "from rosi_richards import RichardsSP  # C++ part (Dumux binding)\n",
    "from richards import RichardsWrapper  # Python part\n",
    "from phloem_flux import PhloemFluxPython  # Python hybrid solver\n",
    "#from Leuning_speedup import Leuning #about 0.7 for both\n",
    "#from photosynthesis_cython import Leuning\n",
    "import plantbox as pb\n",
    "#from plantbox import Photosynthesis as ph\n",
    "#import vtk_plot as vp\n",
    "import math\n",
    "import os\n",
    "import numpy as np\n",
    "import vtk_plot as vp\n",
    "#import matplotlib.pyplot as plt\n",
    "from datetime import datetime, timedelta"
   ]
  },
  {
   "cell_type": "code",
   "execution_count": null,
   "id": "c9f68a1c-e27c-4f7a-a6bc-045cabdc5007",
   "metadata": {},
   "outputs": [],
   "source": []
  }
 ],
 "metadata": {
  "kernelspec": {
   "display_name": "py38b",
   "language": "python",
   "name": "py38b"
  },
  "language_info": {
   "codemirror_mode": {
    "name": "ipython",
    "version": 3
   },
   "file_extension": ".py",
   "mimetype": "text/x-python",
   "name": "python",
   "nbconvert_exporter": "python",
   "pygments_lexer": "ipython3",
   "version": "3.8.15"
  }
 },
 "nbformat": 4,
 "nbformat_minor": 5
}
