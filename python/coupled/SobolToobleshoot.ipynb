{
 "cells": [
  {
   "cell_type": "code",
   "execution_count": 1,
   "id": "a5246f91-0c93-4aec-9156-5e94613a6d61",
   "metadata": {},
   "outputs": [],
   "source": [
    "import sys; \n",
    "CPBdir = \"../../../../cpb3101/CPlantBox\"\n",
    "sys.path.append(CPBdir+\"/src\");\n",
    "sys.path.append(CPBdir);\n",
    "sys.path.append(\"../../..\");sys.path.append(\"..\"); \n",
    "sys.path.append(CPBdir+\"/src/python_modules\");\n",
    "sys.path.append(\"../build-cmake/cpp/python_binding/\") # dumux python binding\n",
    "sys.path.append(\"../../build-cmake/cpp/python_binding/\")\n",
    "sys.path.append(\"../modules/\") # python wrappers \n",
    "import numpy as np\n",
    "import json\n",
    "import plantbox as pb\n",
    "import importlib\n",
    "importlib.reload(pb)\n",
    "import plantbox\n",
    "importlib.reload(plantbox)\n",
    "from phloem_flux import PhloemFluxPython \n",
    "import pickle\n",
    "from SALib.sample import saltelli\n",
    "from SALib.analyze import sobol\n",
    "from SALib.test_functions import Ishigami\n",
    "from joblib import Parallel, delayed\n",
    "import os \n",
    "from helpUqr_seb import *"
   ]
  },
  {
   "cell_type": "code",
   "execution_count": 2,
   "id": "1ed1dd12-36ae-42a7-97d9-059ddf65ce1d",
   "metadata": {},
   "outputs": [
    {
     "name": "stderr",
     "output_type": "stream",
     "text": [
      "/tmp/ipykernel_2052/3677890702.py:32: DeprecationWarning: `salib.sample.saltelli` will be removed in SALib 1.5. Please use `salib.sample.sobol`\n",
      "  param_values = saltelli.sample(problem, reps)\n"
     ]
    }
   ],
   "source": [
    "simDuration=10; condition=\"wet\";idtorun=151\n",
    "weatherX = weather(simDuration, condition, 1)\n",
    "assert weatherX['Qlight']>0\n",
    "\n",
    "\n",
    "\n",
    "\n",
    "namesVars = [\"maxTil\" ,\"firstTil\",\"delayTil\" ,\"maxB\",\"firstB\",\"delayB\",\n",
    "             \"delayLat\",\"delayNGStart\",\"delayNGEnd\",\n",
    "    \"lar0\", \"lbr0\", \"lnr0\", \"lmaxr0\", \"rr0\", \"ar0\", \"tropismNr0\", \"tropismSr0\", \"thetar0\",\n",
    "    \"lar1\", \"lbr1\", \"lnr1\", \"lmaxr1\", \"rr1\", \"ar1\", \"tropismNr1\", \"tropismSr1\", \"thetar1\",\n",
    "    \"lar2\", \"lbr2\", \"lnr2\", \"lmaxr2\", \"rr2\", \"ar2\", \"tropismNr2\", \"tropismSr2\", \"thetar2\",\n",
    "    \"last\", \"lbst\", \"lnst\", \"lmaxst\", \"rst\", \"ast\", \"tropismNst\", \"tropismSst\", \"thetast\",\n",
    "     \"lmaxle\", \"rle\", \"ale\", \"tropismNle\", \"tropismSle\", \"thetale\",\"Width_petiole\",\"Width_blade\",\n",
    "            \"areaMax\"]   \n",
    "\n",
    "\n",
    "limsVars = [[0.5,1.5] for ii in namesVars]\n",
    "problem = {\n",
    "    'num_vars': len(namesVars),\n",
    "    'names': namesVars,\n",
    "    'bounds': limsVars\n",
    "}\n",
    "\n",
    "\n",
    "##### TO CHANGE ######\n",
    "Nreps = 1#8\n",
    "reps =2**Nreps\n",
    "maxcore =  os.cpu_count()\n",
    "######################\n",
    "\n",
    "param_values = saltelli.sample(problem, reps)\n",
    "\n",
    "\n",
    "\n",
    "Yall = [np.array([]) for i in range(7)]#Yexuds,Ygrs,Yrms,Ytrans,Yassi,Ywue]\n",
    "namesY = [\"Yexuds\",\"Ygrs\",\"Yrms\",\"Ytrans\",\"Yassi\",\"Ywue\",\"YIwue\"]"
   ]
  },
  {
   "cell_type": "code",
   "execution_count": 3,
   "id": "7a34badb-9b5b-4b2d-9665-04a27205c013",
   "metadata": {},
   "outputs": [],
   "source": [
    "myid=idtorun;varNames=namesVars; varLims=list(param_values[myid]); testType=\"SEB\""
   ]
  },
  {
   "cell_type": "code",
   "execution_count": 4,
   "id": "245c05ba-6fc3-44f6-8b76-c0b713316be8",
   "metadata": {},
   "outputs": [
    {
     "name": "stdout",
     "output_type": "stream",
     "text": [
      "MappedPlant::initialize \n",
      "Seed::initialize: Plant \n",
      "Seed::initialize: Basal root type #4 was not defined, using tap root parameters instead\n",
      "Tiller stem type #4 was not defined, using main stem parameters instead, Exchange zone in roots: kr > 0 until 0.8cm from root tip\n",
      "Kr is constant per subtype of organ type, for root, subtype 0 = 6.49549e-05 1 day-1 \n",
      "Kx is constant per subtype of organ type, for root, subtype 0 = 0.0732234 cm3 day-1 \n",
      "Exchange zone in roots: kr_st > 0 until 0.8cm from root tip 1 1\n",
      "Exchange zone in roots: kr > 0 until 0.8cm from root tip\n"
     ]
    }
   ],
   "source": [
    "assert testType==\"Xylem\" or testType == \"Phloem\" or testType == \"SEB\"\n",
    "test_values = varLims\n",
    "DictVal = {}\n",
    "for key in varNames:\n",
    "    for value in test_values:\n",
    "        DictVal[key] = value\n",
    "        test_values.remove(value)\n",
    "        break\n",
    "DictVal={'maxTil': 1.09375, 'firstTil': 1.46875, 'delayTil': 1.46875, 'maxB': 0.65625, 'firstB': 1.28125, \n",
    "         'delayB': 0.96875, 'delayLat': 0.53125, 'delayNGStart': 0.84375, 'delayNGEnd': 1.46875, 'lar0': 1.15625, \n",
    "         'lbr0': 1.09375, 'lnr0': 1.40625, 'lmaxr0': 0.65625, 'rr0': 0.65625, 'ar0': 1.34375, 'tropismNr0': 1.03125, \n",
    "         'tropismSr0': 0.78125, 'thetar0': 0.59375, 'lar1': 0.78125, 'lbr1': 1.03125, 'lnr1': 0.71875, 'lmaxr1': 0.90625, \n",
    "         'rr1': 0.59375, 'ar1': 0.59375, 'tropismNr1': 0.53125, 'tropismSr1': 1.15625, 'thetar1': 1.15625, 'lar2': 0.84375, \n",
    "         'lbr2': 1.21875, 'lnr2': 1.34375, 'lmaxr2': 1.40625, 'rr2': 1.34375, 'ar2': 1.09375, 'tropismNr2': 0.90625, \n",
    "         'tropismSr2': 1.46875, 'thetar2': 0.96875, 'last': 1.28125, 'lbst': 1.03125, 'lnst': 1.03125, 'lmaxst': 0.90625, \n",
    "         'rst': 0.78125, 'ast': 1.34375, 'tropismNst': 0.96875, 'tropismSst': 0.53125, 'thetast': 1.03125, 'lmaxle': 0.71875, 'rle': 1.28125, \n",
    "         'ale': 0.78125, 'tropismNle': 1.28125, 'tropismSle': 0.53125, 'thetale': 0.96875, \n",
    "         'Width_petiole': 0.53125, 'Width_blade': 1.03125, 'areaMax': 0.71875}\n",
    "pl = pb.MappedPlant(seednum = 2) \n",
    "path = CPBdir+\"/modelparameter/plant/\"\n",
    "name = \"Triticum_aestivum_adapted_2023\"\n",
    "\n",
    "pl.readParameters(path + name + \".xml\")\n",
    "depth = 60\n",
    "sdf = pb.SDF_PlantBox(np.Inf, np.Inf, depth )\n",
    "pl.setGeometry(sdf) # creates soil space to stop roots from growing out of the soil\n",
    "\n",
    "\n",
    "\n",
    "for p in pl.getOrganRandomParameter(pb.leaf):\n",
    "    p.lmax *= DictVal['lmaxle']\n",
    "    p.areaMax *= DictVal['areaMax']\n",
    "    p.tropismN *= DictVal['tropismNle']\n",
    "    p.tropismS *= DictVal['tropismSle']\n",
    "    p.r *= DictVal[\"rle\"]\n",
    "    p.a *= DictVal[\"ale\"]\n",
    "    p.theta *= DictVal[\"thetale\"]\n",
    "    p.Width_petiole *= DictVal[\"Width_petiole\"]\n",
    "    p.Width_blade *= DictVal[\"Width_blade\"]\n",
    "\n",
    "for p in pl.getOrganRandomParameter(pb.stem):\n",
    "    p.lmax *= DictVal['lmaxst']\n",
    "    p.tropismN *= DictVal['tropismNst']\n",
    "    p.tropismS *= DictVal['tropismSst']\n",
    "    p.r *= DictVal[\"rst\"]\n",
    "    p.a *= DictVal[\"ast\"]\n",
    "    p.la *= DictVal[\"last\"]\n",
    "    p.lb *= DictVal[\"lbst\"]\n",
    "    p.ln *= DictVal[\"lnst\"]\n",
    "    p.delayLat *= DictVal[\"delayLat\"]\n",
    "    p.delayNGStart *= DictVal[\"delayNGStart\"]\n",
    "    p.delayNGEnd *= DictVal[\"delayNGEnd\"]\n",
    "\n",
    "for p in pl.getOrganRandomParameter(pb.root):\n",
    "    if (p.subType ==0):\n",
    "        pass\n",
    "    elif (p.subType ==1)or(p.subType >3):\n",
    "        p.lmax *= DictVal['lmaxr0']\n",
    "        p.tropismN *= DictVal['tropismNr0']\n",
    "        p.tropismS *= DictVal['tropismSr0']\n",
    "        p.r *= DictVal[\"rr0\"]\n",
    "        p.a *= DictVal[\"ar0\"]\n",
    "        p.la *= DictVal[\"lar0\"]\n",
    "        p.lb *= DictVal[\"lbr0\"]\n",
    "        p.ln *= DictVal[\"lnr0\"]\n",
    "        p.theta *= DictVal[\"thetar0\"]\n",
    "    elif (p.subType ==2):\n",
    "        p.lmax *= DictVal['lmaxr1']\n",
    "        p.tropismN *= DictVal['tropismNr1']\n",
    "        p.tropismS *= DictVal['tropismSr1']\n",
    "        p.r *= DictVal[\"rr1\"]\n",
    "        p.a *= DictVal[\"ar1\"]\n",
    "        p.la *= DictVal[\"lar1\"]\n",
    "        p.lb *= DictVal[\"lbr1\"]\n",
    "        p.ln *= DictVal[\"lnr1\"]\n",
    "        p.theta *= DictVal[\"thetar1\"]\n",
    "    elif (p.subType ==3):\n",
    "        p.lmax *= DictVal['lmaxr2']\n",
    "        p.tropismN *= DictVal['tropismNr2']\n",
    "        p.tropismS *= DictVal['tropismSr2']\n",
    "        p.r *= DictVal[\"rr2\"]\n",
    "        p.a *= DictVal[\"ar2\"]\n",
    "        p.theta *= DictVal[\"thetar2\"]\n",
    "    else:\n",
    "        print(\"root subtype not recognized\",p.subType)\n",
    "        raise Exception(\"root subtype not recognized\")\n",
    "\n",
    "for p in pl.getOrganRandomParameter(pb.seed):\n",
    "    p.maxTil =int(round(p.maxTil* DictVal['maxTil']))\n",
    "    p.firstTil *= DictVal['firstTil']\n",
    "    p.delayTil *= DictVal['delayTil']\n",
    "    p.firstB *= DictVal['firstB']\n",
    "    p.delayB *= DictVal['delayB']\n",
    "    p.maxB = int(round(p.maxB*DictVal[\"maxB\"]))\n",
    "\n",
    "pl.initialize(verbose = True)#, stochastic = False)\n",
    "pl.simulate(simDuration, False)#, \"outputpm15.txt\")\n",
    "\n",
    "picker = lambda x,y,z : max(int(np.floor(-z)),-1)   \n",
    "pl.setSoilGrid(picker)  # maps segment\n",
    "\n",
    "\n",
    "r = PhloemFluxPython(pl,psiXylInit =-1000,ciInit = 0.5 *weatherX['cs'])\n",
    "\n",
    "\n",
    "hp = max([tempnode[2] for tempnode in r.get_nodes()]) /100\n",
    "weatherX = weather(simDuration, condition, hp)\n",
    "\n",
    "plant =setDefaultVals(r,weatherX,DictVal)\n",
    "\n",
    "#xXx = np.full((len(r.plant.nodes)),weatherX[\"p_mean\"])\n",
    "p_bot = weatherX[\"p_mean\"] + depth/2\n",
    "p_top = weatherX[\"p_mean\"] - depth/2\n",
    "xXx = np.linspace(p_top, p_bot, depth)\n",
    "\n",
    "\n",
    "\n",
    "plant.Patm = weatherX[\"Pair\"]\n",
    "##resistances\n",
    "plant.g_bl = resistance2conductance(weatherX[\"rbl\"],weatherX,r) / r.a2_bl\n",
    "plant.g_canopy = resistance2conductance(weatherX[\"rcanopy\"],weatherX,r) / r.a2_canopy\n",
    "plant.g_air = resistance2conductance(weatherX[\"rair\"],weatherX,r) / r.a2_air\n",
    "\n",
    "verbose_phloem = True"
   ]
  },
  {
   "cell_type": "code",
   "execution_count": 5,
   "id": "17363a0a-9da1-41ec-a306-4719780a603b",
   "metadata": {},
   "outputs": [
    {
     "name": "stdout",
     "output_type": "stream",
     "text": [
      "4 2 2\n"
     ]
    }
   ],
   "source": [
    "print(len(plant.plant.getOrgans(2)),len(plant.plant.getOrgans(3)),len(plant.plant.getOrgans(4)))"
   ]
  },
  {
   "cell_type": "code",
   "execution_count": 6,
   "id": "d44728d3-28b5-4fce-9a87-26071b4414ee",
   "metadata": {},
   "outputs": [],
   "source": [
    "\n",
    "\n",
    "    \n",
    "plant.solve_photosynthesis(sim_time_ = simDuration, sxx_=xXx, \n",
    "                           cells_ = True,ea_ = weatherX[\"ea\"],es_ = weatherX[\"es\"],\n",
    "        verbose_ = False, doLog_ = False,TairC_= weatherX[\"TairC\"] ,outputDir_= \"./results/\")"
   ]
  },
  {
   "cell_type": "code",
   "execution_count": 25,
   "id": "65740203-9b73-4218-a068-36f552c35c74",
   "metadata": {},
   "outputs": [
    {
     "name": "stdout",
     "output_type": "stream",
     "text": [
      "3629 [0.0, 0.0, 0.0, 0.0, 0.0, 0.0, 0.0, 0.0, 0.0, 0.0, 0.0, 0.0, 0.0, 0.0, 0.0, 0.0, 0.0, 0.0, 0.0, 0.0, 0.0, 0.0, 0.0, 0.0, 0.0, 0.0, 0.0, 0.0, 0.0, 0.0, 0.0, 0.0, 0.0, 0.0, 0.0, 0.0, 0.0, 0.0, 0.0, 0.0, 0.0, 0.04594425698184914, 0.04594234931619226, 0.0459405248189622, 0.045938783900358625, 0.04593712711139751, 0.04593555480192912, 0.04593406732233187, 0.037633505911775236, 0.0, 0.0, 0.0, 0.0, 0.0, 0.04594514898611195, 0.04594365528232046, 0.029473272800198572, 0.0, 0.0, 0.0, 0.0] True\n"
     ]
    }
   ],
   "source": [
    "print(plant.loop,plant.Ag4Phloem,plant.StemGrowthPerPhytomer)"
   ]
  },
  {
   "cell_type": "code",
   "execution_count": 7,
   "id": "66db9a10-4cfd-4811-baaa-db386cced492",
   "metadata": {},
   "outputs": [
    {
     "name": "stdout",
     "output_type": "stream",
     "text": [
      "4\n",
      "2.5163776921184753\n",
      "0\n",
      "0.912533242382283\n"
     ]
    }
   ],
   "source": [
    "\n",
    "for stem in plant.plant.getOrgans(pb.stem):\n",
    "    print(stem.getNumberOfChildren())\n",
    "    print(stem.getLength(True))"
   ]
  },
  {
   "cell_type": "code",
   "execution_count": 8,
   "id": "731121aa-149a-4fc8-8ea4-14b6a2d38923",
   "metadata": {},
   "outputs": [
    {
     "data": {
      "text/plain": [
       "1"
      ]
     },
     "execution_count": 8,
     "metadata": {},
     "output_type": "execute_result"
    },
    {
     "name": "stdout",
     "output_type": "stream",
     "text": [
      "Kr_st is constant per subtype of organ type, for root, subtype 1 = 0.05 1 day-1 \n",
      "Kx_st is constant per subtype of organ type, for root, subtype 1 = 1.32591e-13 cm3 day-1 \n",
      "Across_st is constant per subtype of organ type, for root, subtype 1 = 9.62113e-06 cm2 \n",
      "krm2 is constant 2e-05 -\n",
      "krm1 is constant 0.1 -\n",
      "rhoSucrose is constant per organ type, organ type 2 (root) = 0.51 mmol cm-3\n",
      "Rmax_st is constant per subtype of organ type, for root, subtype 1 = 5.34375 cm day-1 \n",
      "Output times :\n",
      " 10 10.125\n",
      "starting integration on time segment #1 = [10, 10.125] 2 2\n",
      "at t = 10 : Y0.size() = 549\n",
      "at 10:29:46 :  starting step n#1 (tf = 10.125)\n",
      "at t = 10.125 : Y0.size() = 549\n",
      "\n",
      "Final Statistics:\n",
      "nst (num steps) = 12436  nfe  (num call to f)= 22204  nsetups (call to lin solver setup func)= 0     \n",
      "\n",
      "nni (iter of nonlinear solver) = 22201  ncfn (non linsolver conv fail)= 4812   netf (num err test fail) = 0      nge (call to root function) = 0\n",
      " \n",
      "\n",
      "at 10:29:46 :  exiting solver\n",
      "MEMORY LIBERATIONS\n",
      "fortran to python vector\n",
      "computeOrgGrowth\n"
     ]
    }
   ],
   "source": [
    "filename =\"./inPMerror.txt\"\n",
    "#plant.doTroubleshooting=True\n",
    "plant.startPM(simDuration, simDuration + 3/(24), 1, ( weatherX[\"TairC\"]  +273.15) , True, filename)"
   ]
  },
  {
   "cell_type": "code",
   "execution_count": 9,
   "id": "b6341942-517b-4abf-a15f-ca8dd17835a8",
   "metadata": {},
   "outputs": [],
   "source": [
    "Nt = len(plant.plant.nodes) \n",
    "Q_Rm    = np.array(plant.Q_out[(Nt*2):(Nt*3)])\n",
    "Q_Exud  = np.array(plant.Q_out[(Nt*3):(Nt*4)])\n",
    "Q_Gr    = np.array(plant.Q_out[(Nt*4):(Nt*5)])\n",
    "\n",
    "Ev = sum(plant.Ev)#*1/(24)\n",
    "Ag = np.sum(plant.Ag4Phloem)#*1/(24)\n",
    "\n",
    "Yexud = sum(Q_Exud)\n",
    "Ygr = sum(Q_Gr)\n",
    "Yrm = sum(Q_Rm)"
   ]
  },
  {
   "cell_type": "code",
   "execution_count": 10,
   "id": "856e5911-b250-4011-861c-67dc944d4bf0",
   "metadata": {},
   "outputs": [
    {
     "name": "stdout",
     "output_type": "stream",
     "text": [
      "0.01174306685115554 0.0007142394248418963 0.00903884671433148 0.7021798307695826 0.48056824723342695 0.0010171745093548138 0.6843948318861973\n"
     ]
    }
   ],
   "source": [
    "print(Yexud,Ygr,Yrm, Ev,Ag,Ygr/Ev, Ag/Ev )"
   ]
  }
 ],
 "metadata": {
  "kernelspec": {
   "display_name": "py38b",
   "language": "python",
   "name": "py38b"
  },
  "language_info": {
   "codemirror_mode": {
    "name": "ipython",
    "version": 3
   },
   "file_extension": ".py",
   "mimetype": "text/x-python",
   "name": "python",
   "nbconvert_exporter": "python",
   "pygments_lexer": "ipython3",
   "version": "3.8.15"
  }
 },
 "nbformat": 4,
 "nbformat_minor": 5
}
