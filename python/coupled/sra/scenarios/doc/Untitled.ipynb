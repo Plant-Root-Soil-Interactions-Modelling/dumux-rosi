{
 "cells": [
  {
   "cell_type": "markdown",
   "metadata": {},
   "source": [
    "## These unholy equations..."
   ]
  },
  {
   "cell_type": "markdown",
   "metadata": {},
   "source": [
    "For a soil layer $i$ the following volumetric fluxes [cm$^3$] are equal \n",
    "\\begin{eqnarray}\n",
    "\\underbrace{k_{r,i} (\\psi_{s,i} – \\psi_{x,i})}_{(1)} = \\underbrace{k_{x,i} (\\psi_{x,i} – \\psi_{collar})}_{(2)} = \\underbrace{k_{rs, i}(\\psi_{s,i}\\ – \\psi_{collar})}_{(3)} \\nonumber\n",
    "\\end{eqnarray}\n",
    "\n",
    "Droping the layer index $i$ for simplicity, we can deduce from Equations (1) and (2) that\n",
    "\\begin{eqnarray}\n",
    "\\psi_x = \\frac{k_r \\psi_s + k_x \\psi_{collar}}{k_x+k_r} \\nonumber\n",
    "\\end{eqnarray}\n",
    "\n",
    "Next we plug in $\\psi_x$ into Equations (2) and (3), yielding\n",
    "\\begin{eqnarray}\n",
    "k_x (\\psi_x – \\psi_{collar}) &=& k_{rs}(\\psi_s\\ – \\psi_{collar}) \\nonumber \\\\\n",
    "k_x (k_r \\psi_s + k_x \\psi_{collar} – \\psi_{collar}(k_x+k_r)) &=& k_{rs}(\\psi_s\\ – \\psi_{collar})(k_x+k_r) \\nonumber \\\\\n",
    "k_x (k_r \\psi_s – k_r \\psi_{collar}) &=& k_{rs}(\\psi_s\\ – \\psi_{collar})(k_x+k_r) \\nonumber \\\\\n",
    "k_x k_r &=& k_{rs}(k_x+k_r) \\nonumber \\\\\n",
    "k_x (k_r - k_{rs}) &=& k_{rs} k_r \\nonumber \\\\\n",
    "k_x &=& \\frac{k_{rs} k_r}{k_r - k_{rs}} \\nonumber \n",
    "\\end{eqnarray}\n",
    "\n",
    "With above equation we can calculate effective axial root conductivity $k_x$ per soil layer from given effective root radial conductivity $k_r$ and root system conductivity $k_{rs}. \n",
    "\n",
    "It's interesting that $k_{rs}$ is exactly the half of the harmonic mean of $k_x$ and $k_r$."
   ]
  },
  {
   "cell_type": "code",
   "execution_count": null,
   "metadata": {},
   "outputs": [],
   "source": []
  },
  {
   "cell_type": "code",
   "execution_count": null,
   "metadata": {},
   "outputs": [],
   "source": []
  }
 ],
 "metadata": {
  "kernelspec": {
   "display_name": "Python 3",
   "language": "python",
   "name": "python3"
  },
  "language_info": {
   "codemirror_mode": {
    "name": "ipython",
    "version": 3
   },
   "file_extension": ".py",
   "mimetype": "text/x-python",
   "name": "python",
   "nbconvert_exporter": "python",
   "pygments_lexer": "ipython3",
   "version": "3.8.10"
  },
  "latex_envs": {
   "LaTeX_envs_menu_present": true,
   "autoclose": false,
   "autocomplete": true,
   "bibliofile": "biblio.bib",
   "cite_by": "apalike",
   "current_citInitial": 1,
   "eqLabelWithNumbers": true,
   "eqNumInitial": 1,
   "hotkeys": {
    "equation": "Ctrl-E",
    "itemize": "Ctrl-I"
   },
   "labels_anchors": false,
   "latex_user_defs": false,
   "report_style_numbering": false,
   "user_envs_cfg": false
  }
 },
 "nbformat": 4,
 "nbformat_minor": 4
}
