{
 "cells": [
  {
   "cell_type": "code",
   "execution_count": null,
   "id": "60cc133e-2d97-4079-b7cf-18d71b70a9f8",
   "metadata": {},
   "outputs": [],
   "source": []
  }
 ],
 "metadata": {
  "kernelspec": {
   "display_name": "py38b",
   "language": "python",
   "name": "py38b"
  },
  "language_info": {
   "name": ""
  }
 },
 "nbformat": 4,
 "nbformat_minor": 5
}
