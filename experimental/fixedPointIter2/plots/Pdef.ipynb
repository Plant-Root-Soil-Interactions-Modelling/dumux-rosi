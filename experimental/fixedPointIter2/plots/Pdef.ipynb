{
 "cells": [
  {
   "cell_type": "code",
   "execution_count": 2,
   "id": "fce77799-9fc5-412a-9a2c-9e5f58b16f95",
   "metadata": {},
   "outputs": [],
   "source": [
    "import os\n",
    "import pandas as pd\n",
    "import numpy as np\n",
    "import matplotlib.pyplot as plt\n",
    "pathresults = \"../scripts/results/\"\n",
    "#pathresults = \"/DUMUXDune27/DUMUX/dumux-rosi/python/paperSc/results/\"\n",
    "data_file_delimiter = \",\"\n",
    "import re\n",
    "\n",
    "evalTime = 25."
   ]
  },
  {
   "cell_type": "code",
   "execution_count": 28,
   "id": "19276c09-90e2-4d6c-90d9-3f9a5661de86",
   "metadata": {},
   "outputs": [],
   "source": [
    "def getVal(mypath, filename,dtype=float,extension='.txt', header=\"infer\",names = None):\n",
    "    \n",
    "    fullpath = pathresults +mypath+filename\n",
    "    data_file_delimiter = \",\"\n",
    "    if names is None:\n",
    "        largest_column_count = 0\n",
    "        with open(fullpath, 'r') as temp_f:\n",
    "            lines = temp_f.readlines()\n",
    "        last_line = lines[-1].strip()\n",
    "        #print('last_line',last_line)\n",
    "        array_from_last_line = np.array(last_line.split(','), dtype=dtype)\n",
    "        largest_column_count = len(array_from_last_line)\n",
    "        names = [i for i in range(0, largest_column_count)]\n",
    "        cst = pd.read_csv(fullpath,delimiter=data_file_delimiter, \n",
    "                          header = header, names = names)\n",
    "        #print('cst',cst.shape)\n",
    "    else:\n",
    "        cst = pd.read_csv(fullpath,delimiter=data_file_delimiter, header = header, names = names)\n",
    "    return cst\n",
    "    \n",
    "def get_last_line_as_numpy_array(file_path,  dtype = float, verbose = False):\n",
    "    with open(pathresults +file_path, 'r') as file:\n",
    "        # Read all lines\n",
    "        lines = file.readlines()\n",
    "\n",
    "        # Check if there are any lines in the file\n",
    "        if not lines:\n",
    "            raise ValueError(\"The file is empty\")\n",
    "\n",
    "        # Get the last line\n",
    "        \n",
    "        try:\n",
    "            last_line = lines[-1].strip()\n",
    "        except:\n",
    "            print('timeLine',file_path, len(lines))\n",
    "            raise Exception\n",
    "\n",
    "        # Split the last line by commas and convert to NumPy array\n",
    "        array_from_last_line = np.array(last_line.split(','), dtype=dtype)\n",
    "        if verbose:\n",
    "            print(file_path, len(array_from_last_line), end=\", \")\n",
    "\n",
    "        return array_from_last_line\n",
    "\n",
    "def getCylIdx(path2file):\n",
    "    fileName = \"rhizoSegsId.txt\"\n",
    "    fullpath = path2file+fileName\n",
    "    rhizoSegsId = get_last_line_as_numpy_array(fullpath, dtype = int, verbose = True)\n",
    "    print('rhizoSegsId',max(rhizoSegsId))\n",
    "    return rhizoSegsId\n",
    "    \n",
    "def list_files_with_prefix(folder_path, prefix):\n",
    "    file_names = []\n",
    "    for file_name in os.listdir(pathresults+folder_path):\n",
    "        if file_name.startswith(prefix):\n",
    "            file_names.append(file_name)\n",
    "    return file_names\n",
    "\n",
    "# cylinder max konz (per cell)\n",
    "def getData_(cid,gId,path2file):\n",
    "    fileName = \"cyl_val/Cyl_cellVol_\"+str(gId)+\".txt\"\n",
    "    cVol = get_last_line_as_numpy_array(path2file+fileName, dtype = float)\n",
    "    if cid == volIdx:\n",
    "        return sum(cVol)\n",
    "    elif cid <= 9:\n",
    "        if cid <= 2:# == 0:\n",
    "            fileName = \"cyl_val/Cyl_watercontent_\"+str(gId)+\".txt\"\n",
    "            theta = get_last_line_as_numpy_array(path2file+fileName,dtype = float)\n",
    "            cVol *= theta#cm3 scv to cm3 water\n",
    "            if cid == 0:\n",
    "                return sum(cVol)\n",
    "        fileName = \"cyl_val/Cyl_content\"+str(cid)+\"_\"+str(gId)+\".txt\"\n",
    "        Q1 = get_last_line_as_numpy_array(path2file+fileName,  dtype = float)\n",
    "        konz = sum(Q1)/sum(cVol) #mol/cm3 or cm3/cm3\n",
    "        return konz\n",
    "    raise Exception\n",
    "\n",
    "plantData = {0:'seg_fluxes1Cumul',\n",
    "             1:'time',\n",
    "             2:'pSet'}\n",
    "\n",
    "extensions = {0:'.csv',1:'.txt',2:'.txt',3: '.txt', 4:'.txt',\n",
    "             5:'.txt',\n",
    "             6:'.txt', 7:'.txt',8:'.txt', 9:'.txt', 10:'.txt',\n",
    "              11:'.txt',12:'.txt',13:'.txt'}\n",
    "colNames=np.array(list(plantData.values()))\n",
    "nToGet = len(plantData)-2 # all except pset and scenario\n",
    "\n",
    "setIds =[0,1,2,3]# ,44,49 [7,21, 47, 85]\n",
    "\n",
    "\n",
    "def getData():\n",
    "    \n",
    "    GiniAll = [[] for i in range(len(setIds))]\n",
    "    \n",
    "    for idSet, dI in enumerate(setIds):\n",
    "        GiniAll_ = pd.DataFrame(columns=colNames)\n",
    "        print(dI,end =\", \")\n",
    "\n",
    "        path2file = path2file_.format(dI)\n",
    "        #print(path2file)\n",
    "\n",
    "        time = np.array(list(\n",
    "            pd.read_csv(pathresults + path2file + \"time.txt\", \n",
    "                           names = [\"time\",\"Qlight\"])[\"time\"][1:])) # because we have twice the initial value\n",
    "        timemax = int((max(time))*10)/10\n",
    "        #print('timemax',max(time),timemax, len(time))\n",
    "\n",
    "        for cid in range(nToGet):\n",
    "            if plantData[cid] == 'psiXyl':\n",
    "                Ginits = getVal(path2file,plantData[cid]+extensions[cid]\n",
    "                        ).mean(axis=1)\n",
    "            else:\n",
    "                Ginits = getVal(path2file,plantData[cid]+extensions[cid]\n",
    "                        ).sum(axis=1)\n",
    "            #print(plantData[cid])#,Ginits,type(Ginits))\n",
    "            GiniAll_[plantData[cid]]= Ginits\n",
    "            \n",
    "        GiniAll_[plantData[nToGet]]= time[:len(GiniAll_[plantData[nToGet]])]\n",
    "        GiniAll_[plantData[nToGet+1]]= dI\n",
    "        print(plantData[nToGet+1], dI)\n",
    "        GiniAll[idSet] = GiniAll_\n",
    "    return GiniAll #cid pSet rr"
   ]
  },
  {
   "cell_type": "code",
   "execution_count": 29,
   "id": "a08d0be2-6ddc-4c9a-96e7-532d57b2374b",
   "metadata": {},
   "outputs": [
    {
     "name": "stdout",
     "output_type": "stream",
     "text": [
      "0, pSet 0\n",
      "1, pSet 1\n",
      "2, pSet 2\n",
      "3, pSet 3\n"
     ]
    }
   ],
   "source": [
    "\n",
    "path2file_ = r'pdef/{}baseline_1440_10to25_20mn_0s_32/'\n",
    "GiniAll = getData()"
   ]
  },
  {
   "cell_type": "code",
   "execution_count": 24,
   "id": "cb523800-a8c0-42c6-ae7d-6fc5eb23c4e6",
   "metadata": {},
   "outputs": [],
   "source": [
    "\n",
    "dftemp=[]\n",
    "for Gini in GiniAll:\n",
    "    dftemptemp=pd.DataFrame(Gini)\n",
    "    dftemp.append(dftemptemp)"
   ]
  },
  {
   "cell_type": "code",
   "execution_count": 31,
   "id": "8b54ffa9-a2b2-454b-a0a5-c9b2c1c60b7a",
   "metadata": {},
   "outputs": [],
   "source": [
    "result = pd.concat(dftemp)"
   ]
  },
  {
   "cell_type": "code",
   "execution_count": 33,
   "id": "53d4fa28-3dcd-4b85-b4ab-a69906e98345",
   "metadata": {},
   "outputs": [
    {
     "data": {
      "text/plain": [
       "Index(['seg_fluxes1Cumul', 'time', 'pSet'], dtype='object')"
      ]
     },
     "execution_count": 33,
     "metadata": {},
     "output_type": "execute_result"
    }
   ],
   "source": [
    "result.columns"
   ]
  },
  {
   "cell_type": "code",
   "execution_count": 41,
   "id": "fd80406a-cc01-460f-b167-2b5cf761426a",
   "metadata": {},
   "outputs": [],
   "source": [
    "pset=result['pSet'].to_numpy()"
   ]
  },
  {
   "cell_type": "code",
   "execution_count": null,
   "id": "ec0025de-2769-4231-9198-a6ac8447a385",
   "metadata": {},
   "outputs": [],
   "source": []
  },
  {
   "cell_type": "code",
   "execution_count": 44,
   "id": "36b9f3ed-93c4-4ed1-86cc-d3570c533d72",
   "metadata": {},
   "outputs": [
    {
     "data": {
      "text/plain": [
       "<matplotlib.legend.Legend at 0x7f154ed37700>"
      ]
     },
     "execution_count": 44,
     "metadata": {},
     "output_type": "execute_result"
    },
    {
     "data": {
      "image/png": "[encoded data removed]",
      "text/plain": [
       "<Figure size 640x480 with 1 Axes>"
      ]
     },
     "metadata": {},
     "output_type": "display_data"
    }
   ],
   "source": [
    "for cc in [0,1,2,3]:\n",
    "    dd = dftemp[cc]\n",
    "    plt.plot( dd['time'],-dd['seg_fluxes1Cumul'],\n",
    "                                                                 linewidth=3,\n",
    "                             label=f'{cc}')\n",
    "plt.legend()"
   ]
  },
  {
   "cell_type": "code",
   "execution_count": 21,
   "id": "28490e26-7213-43e5-993a-cc429798a07a",
   "metadata": {},
   "outputs": [],
   "source": [
    "\n",
    "from matplotlib import colors\n",
    "from matplotlib.lines import Line2D\n",
    "from matplotlib.ticker import ScalarFormatter\n",
    "l_styles = {5:'-',44:'-.',61:':'}\n",
    "# Define the color dictionary\n",
    "c_styles = {\n",
    "    0:'k',  # Blue\n",
    "    1:'#377EB8',  # Blue\n",
    "    2:  '#4DAF4A' ,  # Green\n",
    "    3: '#E41A1C'  # red\n",
    "}\n",
    "color_legend_elements = [\n",
    "    Line2D([0], [0], color=c_styles[0], lw=2, label='P0'),\n",
    "    Line2D([0], [0], color=c_styles[1], lw=2, label='P1'),\n",
    "    Line2D([0], [0], color=c_styles[2], lw=2, label='P2'),\n",
    "    Line2D([0], [0], color=c_styles[3], lw=2, label='P3')\n",
    "]\n",
    "\n",
    "# Line style legend\n",
    "linestyle_legend_elements = [\n",
    "    Line2D([0], [0], color='black', linestyle=l_styles[5], lw=2, label=5),\n",
    "    #Line2D([0], [0], color='black', linestyle=l_styles[38], lw=2, label=38),\n",
    "    Line2D([0], [0], color='black', linestyle=l_styles[44], lw=2, label=44),\n",
    "    Line2D([0], [0], color='black', linestyle=l_styles[61], lw=2, label=61)\n",
    "]\n",
    "\n",
    "def dotheplot(toplot, cumsum,df, sizerows,sizecols_,namesyaxes=None,ncols=3, maxTime = None, indexlegend1=0, indexlegend2=1):\n",
    "\n",
    "    fig, ax = plt.subplots(1, 1,figsize=(15,15)) \n",
    "    \n",
    "    for ddid, dd in enumerate(df):\n",
    "        for rowid, tipi in enumerate(toplot): \n",
    "            try:\n",
    "                pset_ = int(dd['pSet'].unique()[0])\n",
    "            except:\n",
    "                print('rowid', rowid,tipi)\n",
    "                print(dd['pSet'].unique())\n",
    "            scenario_ = \"baseline\"\n",
    "            if ncols > 1:\n",
    "                colid = np.where(scenario_==np.array(scenarios))[0][0]\n",
    "            else:\n",
    "                colid = 0\n",
    "            factor = 1000\n",
    "            rot = 0\n",
    "            unit=\" (mmol C)\"\n",
    "            if (tipi == \"trans\" )or (tipi =='psiXyl'):\n",
    "                factor = cm3tommol\n",
    "                unit = \" (cm3)\"\n",
    "\n",
    "            if tipi == \"psiXyl\":\n",
    "                factor = 1.\n",
    "                rot =30\n",
    "            ddd = dd[tipi]*factor\n",
    "            tts = dd['time']\n",
    "            if not cumsum:\n",
    "                tts = dd['time'][1:]\n",
    "                ddd = np.diff(ddd)*4\n",
    "\n",
    "            if ncols > 1:\n",
    "                ax_ = ax[rowid, colid]\n",
    "            else:\n",
    "                ax_ = ax[rowid]\n",
    "            ax_.plot( tts,ddd,\n",
    "                                                             linewidth=3,\n",
    "                         #label=f'{i}',\n",
    "                         c=c_styles[dd['scenario'].unique()[0]],\n",
    "                         linestyle=l_styles[int(dd['pSet'].unique()[0])])\n",
    "\n",
    "\n",
    "            ax_.tick_params(axis='both', which='major', labelsize=18)\n",
    "            ax_.tick_params(axis='y', which='major', labelrotation=rot, labelsize=18)\n",
    "            if colid == 0:\n",
    "                if namesyaxes is not None:\n",
    "                    ax_.set_ylabel(namesyaxes[tipi]+unit, fontsize=20)\n",
    "                else:\n",
    "                    ax_.set_ylabel(tipi+unit, fontsize=20)\n",
    "            if rowid == 0 and ncols > 1:\n",
    "                ax_.set_title(scenario_)\n",
    "            if rowid == nrows-1:\n",
    "                ax_.set_xlabel('time (d)', fontsize=20)\n",
    "            if True:\n",
    "                if scenario_ == \"lateDry\":\n",
    "                    ax_.axvline(x=18, color='k', linestyle='--')\n",
    "                    ax_.axvline(x=25, color='k', linestyle='--')\n",
    "                if scenario_ == \"earlyDry\":\n",
    "                    ax_.axvline(x=18, color='k', linestyle='--')\n",
    "                    ax_.axvline(x=11, color='k', linestyle='--')\n",
    "            if maxTime is not None:\n",
    "                ax_.set_xlim(10, maxTime)\n",
    "\n",
    "            if rowid + colid == indexlegend1:\n",
    "                ax_.legend(handles=color_legend_elements, \n",
    "                                                           fontsize=20,title_fontsize='25', title='scenario', \n",
    "                                                           loc='upper left',  ncol=3)#bbox_to_anchor=(0.5, -0.15),\n",
    "\n",
    "            if rowid + colid == indexlegend2:\n",
    "                ax_.legend(handles=linestyle_legend_elements, \n",
    "                                                           fontsize=20,title_fontsize='25', title='parameter set', \n",
    "                                                           loc='upper left',  ncol=3)#bbox_to_anchor=(0.5, -0.3),\n",
    "                if False:\n",
    "\n",
    "                    ax_.add_artist(plt.legend(handles=color_legend_elements, \n",
    "                                                                              fontsize=20, title='scenario', \n",
    "                                                                               title_fontsize='25',\n",
    "                                                                              loc='upper center',# bbox_to_anchor=anchor1,#(0.5, -0.15), \n",
    "                                                                              ncol=3, framealpha=1))\n",
    "                    ax_.add_artist(plt.legend(handles=linestyle_legend_elements, \n",
    "                                                                              fontsize=20, title='parameter set', \n",
    "                                                                               title_fontsize='25',\n",
    "                                                                              loc='upper center',# bbox_to_anchor=anchor2,#(0.5, -0.3), \n",
    "                                                                              ncol=3, framealpha=1))\n",
    "\n",
    "                #ax_.legend() \n",
    "\n",
    "    plt.tight_layout()"
   ]
  },
  {
   "cell_type": "code",
   "execution_count": 23,
   "id": "3afb090b-b585-4fa8-b899-ec1b03a42e12",
   "metadata": {},
   "outputs": [
    {
     "ename": "IndexError",
     "evalue": "too many indices for array: array is 1-dimensional, but 2 were indexed",
     "output_type": "error",
     "traceback": [
      "\u001b[0;31m---------------------------------------------------------------------------\u001b[0m",
      "\u001b[0;31mIndexError\u001b[0m                                Traceback (most recent call last)",
      "Cell \u001b[0;32mIn[23], line 1\u001b[0m\n\u001b[0;32m----> 1\u001b[0m \u001b[43mdotheplot\u001b[49m\u001b[43m(\u001b[49m\u001b[43mtoplot\u001b[49m\u001b[43m \u001b[49m\u001b[38;5;241;43m=\u001b[39;49m\u001b[43m  \u001b[49m\u001b[43m[\u001b[49m\u001b[38;5;124;43m'\u001b[39;49m\u001b[38;5;124;43mseg_fluxes1Cumul\u001b[39;49m\u001b[38;5;124;43m'\u001b[39;49m\u001b[43m]\u001b[49m\u001b[43m,\u001b[49m\n\u001b[1;32m      2\u001b[0m \u001b[43m          \u001b[49m\u001b[43mnamesyaxes\u001b[49m\u001b[38;5;241;43m=\u001b[39;49m\u001b[43m{\u001b[49m\u001b[38;5;124;43m'\u001b[39;49m\u001b[38;5;124;43mseg_fluxes1Cumul\u001b[39;49m\u001b[38;5;124;43m'\u001b[39;49m\u001b[43m:\u001b[49m\u001b[38;5;124;43m\"\u001b[39;49m\u001b[38;5;124;43mPPU\u001b[39;49m\u001b[38;5;124;43m\"\u001b[39;49m\u001b[43m}\u001b[49m\u001b[43m,\u001b[49m\n\u001b[1;32m      3\u001b[0m \u001b[43m          \u001b[49m\u001b[43mcumsum\u001b[49m\u001b[38;5;241;43m=\u001b[39;49m\u001b[38;5;28;43;01mTrue\u001b[39;49;00m\u001b[43m,\u001b[49m\u001b[43m \u001b[49m\u001b[43mdf\u001b[49m\u001b[38;5;241;43m=\u001b[39;49m\u001b[43mdftemp\u001b[49m\u001b[43m,\u001b[49m\u001b[43m \u001b[49m\u001b[43msizerows\u001b[49m\u001b[38;5;241;43m=\u001b[39;49m\u001b[38;5;241;43m15\u001b[39;49m\u001b[43m,\u001b[49m\u001b[43msizecols_\u001b[49m\u001b[38;5;241;43m=\u001b[39;49m\u001b[38;5;241;43m15\u001b[39;49m\u001b[43m,\u001b[49m\u001b[43mncols\u001b[49m\u001b[38;5;241;43m=\u001b[39;49m\u001b[38;5;241;43m2\u001b[39;49m\u001b[43m,\u001b[49m\u001b[43m \u001b[49m\u001b[43mindexlegend1\u001b[49m\u001b[38;5;241;43m=\u001b[39;49m\u001b[38;5;241;43m2\u001b[39;49m\u001b[43m,\u001b[49m\u001b[43m \u001b[49m\u001b[43mindexlegend2\u001b[49m\u001b[38;5;241;43m=\u001b[39;49m\u001b[38;5;241;43m3\u001b[39;49m\u001b[43m)\u001b[49m\n",
      "Cell \u001b[0;32mIn[21], line 65\u001b[0m, in \u001b[0;36mdotheplot\u001b[0;34m(toplot, cumsum, df, sizerows, sizecols_, namesyaxes, ncols, maxTime, indexlegend1, indexlegend2)\u001b[0m\n\u001b[1;32m     62\u001b[0m     ddd \u001b[38;5;241m=\u001b[39m np\u001b[38;5;241m.\u001b[39mdiff(ddd)\u001b[38;5;241m*\u001b[39m\u001b[38;5;241m4\u001b[39m\n\u001b[1;32m     64\u001b[0m \u001b[38;5;28;01mif\u001b[39;00m ncols \u001b[38;5;241m>\u001b[39m \u001b[38;5;241m1\u001b[39m:\n\u001b[0;32m---> 65\u001b[0m     ax_ \u001b[38;5;241m=\u001b[39m \u001b[43max\u001b[49m\u001b[43m[\u001b[49m\u001b[43mrowid\u001b[49m\u001b[43m,\u001b[49m\u001b[43m \u001b[49m\u001b[43mcolid\u001b[49m\u001b[43m]\u001b[49m\n\u001b[1;32m     66\u001b[0m \u001b[38;5;28;01melse\u001b[39;00m:\n\u001b[1;32m     67\u001b[0m     ax_ \u001b[38;5;241m=\u001b[39m ax[rowid]\n",
      "\u001b[0;31mIndexError\u001b[0m: too many indices for array: array is 1-dimensional, but 2 were indexed"
     ]
    },
    {
     "data": {
      "image/png": "[encoded data removed]",
      "text/plain": [
       "<Figure size 1500x3000 with 2 Axes>"
      ]
     },
     "metadata": {},
     "output_type": "display_data"
    }
   ],
   "source": [
    "\n",
    "dotheplot(toplot =  ['seg_fluxes1Cumul'],\n",
    "          namesyaxes={'seg_fluxes1Cumul':\"PPU\"},\n",
    "          cumsum=True, df=dftemp, sizerows=15,sizecols_=15,ncols=2, indexlegend1=2, indexlegend2=3)"
   ]
  },
  {
   "cell_type": "code",
   "execution_count": null,
   "id": "3aaba168-8d98-4670-a202-005f8bdc662a",
   "metadata": {},
   "outputs": [],
   "source": []
  }
 ],
 "metadata": {
  "kernelspec": {
   "display_name": "py38b",
   "language": "python",
   "name": "py38b"
  },
  "language_info": {
   "codemirror_mode": {
    "name": "ipython",
    "version": 3
   },
   "file_extension": ".py",
   "mimetype": "text/x-python",
   "name": "python",
   "nbconvert_exporter": "python",
   "pygments_lexer": "ipython3",
   "version": "3.8.15"
  }
 },
 "nbformat": 4,
 "nbformat_minor": 5
}
