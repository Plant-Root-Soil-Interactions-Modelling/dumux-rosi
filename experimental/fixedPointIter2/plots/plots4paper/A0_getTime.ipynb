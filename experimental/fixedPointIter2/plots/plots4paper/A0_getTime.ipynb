{
 "cells": [
  {
   "cell_type": "code",
   "execution_count": 5,
   "id": "d7a0e267-74dd-4001-82e8-fd776f374e1d",
   "metadata": {},
   "outputs": [],
   "source": [
    "import os\n",
    "import pandas as pd\n",
    "import numpy as np\n",
    "pathresults = \"../../scripts/results/\"\n",
    "#pathresults = \"/DUMUXDune27/DUMUX/dumux-rosi/python/paperSc/results/\"\n",
    "data_file_delimiter = \",\"\n",
    "\n",
    "def getVal(mypath, filename, header=\"infer\",names = None):\n",
    "    fullpath = pathresults +mypath+filename\n",
    "    if names is None:\n",
    "        cst = pd.read_csv(fullpath,delimiter=data_file_delimiter, header = header).dropna(how= \"all\", axis=1)\n",
    "    else:\n",
    "        cst = pd.read_csv(fullpath,delimiter=data_file_delimiter, header = header, names = names).dropna(how= \"all\", axis=1)\n",
    "    return cst\n",
    "\n",
    "\n",
    "def get_last_line_as_numpy_array(file_path, filename,dtype = float):\n",
    "    with open(pathresults+file_path+filename, 'r') as file:\n",
    "        # Read all lines\n",
    "        lines = file.readlines()\n",
    "\n",
    "        # Check if there are any lines in the file\n",
    "        if not lines:\n",
    "            raise ValueError(\"The file is empty\")\n",
    "\n",
    "        # Get the last line\n",
    "        last_line = lines[-1].strip()\n",
    "\n",
    "        # Split the last line by commas and convert to NumPy array\n",
    "        array_from_last_line = np.array(last_line.split(','), dtype=dtype)\n",
    "\n",
    "        return array_from_last_line"
   ]
  },
  {
   "cell_type": "code",
   "execution_count": 7,
   "id": "075a80ac-70ce-40cd-b90e-e4ae586350d1",
   "metadata": {},
   "outputs": [
    {
     "name": "stdout",
     "output_type": "stream",
     "text": [
      "('baseline', 5) plant    60.321803\n",
      "sd1      11.067535\n",
      "ds3       7.122161\n",
      "Name: 8639, dtype: float64 78.51149897811128 timeStep 19.999999999999872\n",
      "('baseline', 44) plant    60.140788\n",
      "sd1      11.158260\n",
      "ds3       6.973732\n",
      "Name: 8639, dtype: float64 78.27278003059581 timeStep 19.999999999999872\n",
      "('baseline', 61) plant    61.173659\n",
      "sd1      10.819061\n",
      "ds3       7.083190\n",
      "Name: 8639, dtype: float64 79.07591026820269 timeStep 19.999999999999872\n",
      "('earlyDry', 5) plant    46.687517\n",
      "sd1       9.089880\n",
      "ds3      19.375541\n",
      "Name: 30157, dtype: float64 75.15293829917442 timeStep 6.666666666666623\n",
      "('earlyDry', 44) plant    46.517894\n",
      "sd1       9.136294\n",
      "ds3      19.284495\n",
      "Name: 30407, dtype: float64 74.93868306195542 timeStep 6.666666666666623\n",
      "('earlyDry', 61) plant    44.115566\n",
      "sd1      11.578291\n",
      "ds3      18.770971\n",
      "Name: 19297, dtype: float64 74.46482846706485 timeStep 19.999999999999872\n",
      "('lateDry', 5) plant    55.363830\n",
      "sd1      11.146678\n",
      "ds3      12.234692\n",
      "Name: 29901, dtype: float64 78.74519937491394 timeStep 6.666666666666623\n",
      "('lateDry', 44) plant    55.316993\n",
      "sd1      11.562642\n",
      "ds3      11.926317\n",
      "Name: 29625, dtype: float64 78.80595218160495 timeStep 6.666666666666623\n",
      "('lateDry', 61) plant    64.597300\n",
      "sd1       7.935103\n",
      "ds3       8.982354\n",
      "Name: 29729, dtype: float64 81.51475634756093 timeStep 6.666666666666623\n"
     ]
    }
   ],
   "source": [
    "path2file = r'/TraiRhizo/paperSc/NewSetup/1cm0{}_1440_{}_10to25_20mn_0s_32/'\n",
    "scenarios = [\"baseline\",\"earlyDry\", \"lateDry\"] \n",
    "setIds = [5,44,61]\n",
    "setsAll = [(scsc, idid) for scsc in scenarios for idid in setIds ]\n",
    "\n",
    "for i, setsI  in enumerate(setsAll):\n",
    "    scenario =setsI[0]\n",
    "    setId=str(setsI[1])\n",
    "    p2f = path2file.format( scenario, setId)\n",
    "\n",
    "    realTime = getVal(p2f, \"totalComputetime.txt\",\n",
    "                      names= ['tot','plant','sd1','ds3']).iloc[-1] #/3600\n",
    "    timeStep = getVal(p2f, \"inner_loopdata.csv\")['dt_inner'].min()\n",
    "    reltime = realTime[['plant','sd1','ds3']].copy()\n",
    "    reltime /= realTime['tot']/100\n",
    "    print(setsI,reltime.T ,sum(reltime.to_numpy()),'timeStep',timeStep*24*60)"
   ]
  },
  {
   "cell_type": "code",
   "execution_count": 20,
   "id": "f83101b8-ec67-4ef3-864f-38306d7d4d20",
   "metadata": {},
   "outputs": [
    {
     "data": {
      "text/plain": [
       "plant    23.487093\n",
       "sd1       7.803816\n",
       "ds3      18.154485\n",
       "Name: 6680, dtype: float64"
      ]
     },
     "execution_count": 20,
     "metadata": {},
     "output_type": "execute_result"
    }
   ],
   "source": [
    "reltime"
   ]
  },
  {
   "cell_type": "code",
   "execution_count": 10,
   "id": "37ab8224-ccb1-47b5-800a-ed64df3f55d3",
   "metadata": {},
   "outputs": [],
   "source": []
  },
  {
   "cell_type": "code",
   "execution_count": 11,
   "id": "e3649260-0bd4-4694-a25c-f7efdda64e1d",
   "metadata": {},
   "outputs": [
    {
     "data": {
      "text/plain": [
       "tot      44410.052559\n",
       "plant    10431.451356\n",
       "sd1       3462.162268\n",
       "ds3       8072.355937\n",
       "Name: 6665, dtype: float64"
      ]
     },
     "execution_count": 11,
     "metadata": {},
     "output_type": "execute_result"
    }
   ],
   "source": [
    "realTime"
   ]
  },
  {
   "cell_type": "code",
   "execution_count": 12,
   "id": "a80f093b-fe23-41a2-ac9a-53dfb28b2575",
   "metadata": {},
   "outputs": [
    {
     "data": {
      "text/plain": [
       "tot      12.336126\n",
       "plant     2.897625\n",
       "sd1       0.961712\n",
       "ds3       2.242321\n",
       "Name: 6665, dtype: float64"
      ]
     },
     "execution_count": 12,
     "metadata": {},
     "output_type": "execute_result"
    }
   ],
   "source": [
    "realTime/3600"
   ]
  },
  {
   "cell_type": "code",
   "execution_count": 14,
   "id": "ccb70db0-b556-49a8-8996-d6772781860b",
   "metadata": {},
   "outputs": [
    {
     "data": {
      "text/plain": [
       "plant    23.488942\n",
       "sd1       7.795898\n",
       "ds3      18.176866\n",
       "Name: 6665, dtype: float64"
      ]
     },
     "execution_count": 14,
     "metadata": {},
     "output_type": "execute_result"
    }
   ],
   "source": [
    "realTime[1:]/realTime[0]*100"
   ]
  },
  {
   "cell_type": "code",
   "execution_count": null,
   "id": "a88724c1-6e55-4066-896c-6de002d04d40",
   "metadata": {},
   "outputs": [],
   "source": []
  }
 ],
 "metadata": {
  "kernelspec": {
   "display_name": "py38b",
   "language": "python",
   "name": "py38b"
  },
  "language_info": {
   "codemirror_mode": {
    "name": "ipython",
    "version": 3
   },
   "file_extension": ".py",
   "mimetype": "text/x-python",
   "name": "python",
   "nbconvert_exporter": "python",
   "pygments_lexer": "ipython3",
   "version": "3.8.15"
  }
 },
 "nbformat": 4,
 "nbformat_minor": 5
}
