{
 "cells": [
  {
   "cell_type": "code",
   "execution_count": 6,
   "id": "e24ddc51-5269-4f94-a170-62acba46be81",
   "metadata": {},
   "outputs": [
    {
     "name": "stdout",
     "output_type": "stream",
     "text": [
      "do duration 5\n",
      "Task timed out\n"
     ]
    }
   ],
   "source": [
    "       \n",
    "import signal\n",
    "\n",
    "class TimeoutException(Exception):\n",
    "    pass\n",
    "\n",
    "def timeout_handler(signum, frame):\n",
    "    raise TimeoutException\n",
    "\n",
    "# Set the timeout handler\n",
    "signal.signal(signal.SIGALRM, timeout_handler)\n",
    "\n",
    "\n",
    "\n",
    "def run_with_timeout(timeout, func, *args, **kwargs):\n",
    "    # Start the timer\n",
    "    signal.alarm(timeout)\n",
    "    try:\n",
    "        result = func(*args, **kwargs)\n",
    "    finally:\n",
    "        # Disable the alarm\n",
    "        signal.alarm(0)\n",
    "    return result\n",
    "\n",
    "# Example usage\n",
    "def long_running_task(duration):\n",
    "    import time\n",
    "    print('do duration',duration)\n",
    "    time.sleep(duration)\n",
    "    return \"Task complete\"\n",
    "\n",
    "try:\n",
    "    result = run_with_timeout(3, long_running_task, duration=5)\n",
    "    print(result)\n",
    "except TimeoutException:\n",
    "    print(\"Task timed out\")\n",
    "\n",
    "       "
   ]
  },
  {
   "cell_type": "code",
   "execution_count": null,
   "id": "7a2fde5f-9f2f-4316-a38b-23335db00efc",
   "metadata": {},
   "outputs": [],
   "source": []
  }
 ],
 "metadata": {
  "kernelspec": {
   "display_name": "py38b",
   "language": "python",
   "name": "py38b"
  },
  "language_info": {
   "codemirror_mode": {
    "name": "ipython",
    "version": 3
   },
   "file_extension": ".py",
   "mimetype": "text/x-python",
   "name": "python",
   "nbconvert_exporter": "python",
   "pygments_lexer": "ipython3",
   "version": "3.8.15"
  }
 },
 "nbformat": 4,
 "nbformat_minor": 5
}
