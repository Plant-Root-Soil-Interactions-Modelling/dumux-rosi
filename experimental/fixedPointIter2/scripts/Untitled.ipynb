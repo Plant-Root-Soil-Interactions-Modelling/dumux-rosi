{
 "cells": [
  {
   "cell_type": "code",
   "execution_count": null,
   "id": "bb40ef70-1ae1-44b7-9e69-44fe4444eae5",
   "metadata": {},
   "outputs": [],
   "source": [
    "import math\n",
    "import numpy as np\n",
    "\n",
    "volCell = 0.1\n",
    "theta = 0.2\n",
    "k_ads = 100000\n",
    "k_des = 1.0\n",
    "CSS_max = 0.00396877820331363 \n",
    "CSW = 18.98051121201986\n",
    "\n",
    "def getCSS(CSW):\n",
    "    \"\"\" @return concentration of adsobed carbon in the soil\n",
    "        according to @param CSW [mol C / cm3 water], the concentration\n",
    "        of small solutes in the soil water\n",
    "        @param: s the dumux soil object\n",
    "    \"\"\"\n",
    "    return  (kads * CSW * CSSmax)/(kads * CSW + kdes) \n",
    "\n",
    "def solve_CSW(C_total):\n",
    "    \"\"\"\n",
    "    Solve for C_SW (mol/cm³ water) from total concentration in soil,\n",
    "    given an adsorption equilibrium model.\n",
    "\n",
    "    Parameters:\n",
    "    - C_total: float, total concentration [mol/cm³ soil]\n",
    "    - theta: float, volumetric water content [cm³ water/cm³ soil]\n",
    "    - k_ads: float, adsorption rate constant [cm³ water / mol]\n",
    "    - k_des: float, desorption rate constant [dimensionless]\n",
    "    - CSS_max: float, maximum sorption site capacity [mol/cm³ soil]\n",
    "\n",
    "    Returns:\n",
    "    - C_SW: float, dissolved concentration [mol/cm³ water]\n",
    "    \"\"\"\n",
    "    a = k_ads\n",
    "    d = k_des\n",
    "    Cmax = CSS_max\n",
    "    Ct = C_total\n",
    "\n",
    "    # Quadratic coefficients\n",
    "    A = theta * a\n",
    "    B = -a * Ct + theta * d + a * Cmax\n",
    "    C0 = -Ct * d\n",
    "\n",
    "    discriminant = B**2 - 4 * A * C0\n",
    "    if discriminant < 0:\n",
    "        raise ValueError(\"No real solution exists: discriminant < 0.\")\n",
    "\n",
    "    # Only the positive root is physically meaningful\n",
    "    C_SW = (-B + math.sqrt(discriminant)) / (2 * A)\n",
    "    return C_SW\n",
    "\n",
    "print('C_total',C_total + )"
   ]
  }
 ],
 "metadata": {
  "kernelspec": {
   "display_name": "Python 3 (ipykernel)",
   "language": "python",
   "name": "python3"
  },
  "language_info": {
   "codemirror_mode": {
    "name": "ipython",
    "version": 3
   },
   "file_extension": ".py",
   "mimetype": "text/x-python",
   "name": "python",
   "nbconvert_exporter": "python",
   "pygments_lexer": "ipython3",
   "version": "3.12.3"
  }
 },
 "nbformat": 4,
 "nbformat_minor": 5
}
