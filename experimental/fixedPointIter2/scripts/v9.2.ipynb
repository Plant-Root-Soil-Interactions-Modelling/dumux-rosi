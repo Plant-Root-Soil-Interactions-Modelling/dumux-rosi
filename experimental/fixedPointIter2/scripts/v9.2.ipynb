{
 "cells": [
  {
   "cell_type": "code",
   "execution_count": 2,
   "id": "b4be9595-74a6-4080-88dd-fec4b034e130",
   "metadata": {},
   "outputs": [],
   "source": [
    "import sys;\n",
    "import os\n",
    "\n",
    "#os.chdir('experimental/fixedPointIter2/scripts')\n",
    "sys.path.append(\"../modules/\");\n",
    "sys.path.append(\"../inputDataTraiRhizo/\");\n",
    "sys.path.append(\"../../../../CPlantBox/\");\n",
    "sys.path.append(\"../../../../CPlantBox/src\")\n",
    "sys.path.append(\"../../../build-cmake/cpp/python_binding/\");\n",
    "\n",
    "\n",
    "from rosi_richards10c_cyl import RichardsNCCylFoam  # C++ part (Dumux binding)\n",
    "\n",
    "from richards import RichardsWrapper  # Python part\n",
    "from richards_no_mpi import RichardsNoMPIWrapper  # Python part of cylindrcial\n",
    "import matplotlib\n",
    "import matplotlib.pyplot as plt\n",
    "import numpy as np\n",
    "from numpy import array\n",
    "import pandas as pd\n",
    "import functional.van_genuchten as vg\n",
    "import os\n",
    "import scenario_setup\n",
    "matplotlib.use('TkAgg', force=True)"
   ]
  },
  {
   "cell_type": "code",
   "execution_count": 1,
   "id": "ba904fb8-390a-4012-ba0d-7be62314c62e",
   "metadata": {},
   "outputs": [],
   "source": [
    "import pickle\n",
    "path = \"results/results_v9.2/\"\n",
    "with open(path+\"dataDumux10.pkl\", \"rb\") as file:\n",
    "    dataDumux10 = pickle.load(file)\n",
    "#dataDumux['cc'] += a_in/100\n",
    "key_changes = {'cc':'cc','getPressureHead':'htot','Cmucil':'cll','theta':'theta',\n",
    "            'Viscosity':'mu_sol','initpressure':'Hp','Ks':'Ks'}\n",
    "\n",
    "dataDumux10 = {key_changes.get(k, k): v for k, v in dataDumux10.items()}\n",
    "\n",
    "with open(path+\"dataDumux.pkl\", \"rb\") as file:\n",
    "    dataDumux = pickle.load(file)\n",
    "#dataDumux['cc'] += a_in/100\n",
    "key_changes = {'cc':'cc','getPressureHead':'htot','Cmucil':'cll','theta':'theta',\n",
    "            'Viscosity':'mu_sol','initpressure':'Hp','Ks':'Ks'}\n",
    "\n",
    "dataDumux = {key_changes.get(k, k): v for k, v in dataDumux.items()}\n"
   ]
  },
  {
   "cell_type": "code",
   "execution_count": 13,
   "id": "05721b01-08d3-49d5-963e-d1efdae94e0c",
   "metadata": {},
   "outputs": [],
   "source": [
    "a_in = 0.02\n",
    "names = ['cll','Hp','htot','Ks','mu_sol','theta']\n",
    "dataComsol = {}\n",
    "for nm in names:\n",
    "    data = np.loadtxt(path+nm+\".txt\", delimiter=\",\")\n",
    "    data[:,0] += a_in#/100 \n",
    "    dataComsol[nm] = data\n",
    "    #df = pd.read_csv(path+nm+\".txt\", delim_whitespace=True, header=None)\n"
   ]
  },
  {
   "cell_type": "code",
   "execution_count": 8,
   "id": "85316992-e0a8-411a-89df-fefac4e94217",
   "metadata": {},
   "outputs": [],
   "source": [
    "names = ['Hp','theta','htot','cll','Ks','mu_sol']\n",
    "axesIDs = [[0, 0],[0, 1],[1, 0],[1, 1],[2, 0],[2, 1]]\n",
    "fig, axes = plt.subplots(nrows=3, ncols=2, figsize=(10, 8), sharex=True)\n",
    "\n",
    "# First subplot (top-left): getPressureHead\n",
    "for jj, nm in enumerate(names):\n",
    "    aID0 = axesIDs[jj][0]\n",
    "    aID1 = axesIDs[jj][1]\n",
    "    for i in range(3):\n",
    "        axes[aID0,aID1].plot(dataComsol[nm][:,0], dataComsol[nm][:,i+1], label=str(18000 * i)+\"comsol\")\n",
    "        axes[aID0,aID1].plot(dataDumux['cc'], dataDumux[nm][i], label=str(18000 * i)+\"dumux\")\n",
    "    axes[aID0,aID1].grid(True)\n",
    "    axes[aID0,aID1].legend()\n",
    "    axes[aID0,aID1].set_title(nm)\n",
    "\n",
    "# Adjust layout\n",
    "plt.grid(True)\n",
    "plt.legend()\n",
    "plt.tight_layout()\n",
    "plt.show()"
   ]
  },
  {
   "cell_type": "code",
   "execution_count": 49,
   "id": "6a8fb5ba-1a80-44c5-8744-aa33acfd7bd8",
   "metadata": {},
   "outputs": [
    {
     "data": {
      "text/plain": [
       "array([2.06374362e-16, 2.01402598e-16, 1.96617668e-16, 1.92010592e-16,\n",
       "       1.87572879e-16, 1.83296503e-16, 1.79173872e-16, 1.75197813e-16,\n",
       "       1.71361537e-16, 1.67658627e-16, 1.64083011e-16, 1.60628944e-16,\n",
       "       1.57290988e-16, 1.54063995e-16, 1.50943088e-16, 1.47923648e-16,\n",
       "       1.45001298e-16, 1.42171888e-16, 1.39431481e-16])"
      ]
     },
     "execution_count": 49,
     "metadata": {},
     "output_type": "execute_result"
    }
   ],
   "source": [
    "dataDumux['Ks'][0]\n"
   ]
  },
  {
   "cell_type": "code",
   "execution_count": 22,
   "id": "c98f1f72-52bb-480b-8794-c81ddfa94d72",
   "metadata": {},
   "outputs": [
    {
     "name": "stderr",
     "output_type": "stream",
     "text": [
      "/tmp/ipykernel_186240/889102522.py:64: UserWarning: No artists with labels found to put in legend.  Note that artists whose label start with an underscore are ignored when legend() is called with no argument.\n",
      "  plt.legend()\n"
     ]
    }
   ],
   "source": [
    "import string\n",
    "from matplotlib import colors\n",
    "from matplotlib.lines import Line2D\n",
    "from matplotlib.ticker import ScalarFormatter\n",
    "from matplotlib.transforms import ScaledTranslation\n",
    "\n",
    "names = ['Hp','theta','htot','cll','Ks','mu_sol']\n",
    "axesIDs = [[0, 0],[0, 1],[1, 0],[1, 1],[2, 0],[2, 1]]\n",
    "fig, axes = plt.subplots(nrows=3, ncols=2, figsize=(10, 8), sharex=True)\n",
    "l_styles = {0:'-',1:'--',2:':'}\n",
    "\n",
    "# Line style legend\n",
    "linestyle_legend_elements = [\n",
    "    Line2D([0], [0], color='black', linestyle=l_styles[0], lw=6, label=str(0)+\"hr\"),\n",
    "    #Line2D([0], [0], color='black', linestyle=l_styles[38], lw=6, label=38),\n",
    "    Line2D([0], [0], color='black', linestyle=l_styles[1], lw=6, label=str(5)+\"hr\"),\n",
    "    Line2D([0], [0], color='black', linestyle=l_styles[2], lw=6, label=str(10)+\"hr\")\n",
    "]\n",
    "\n",
    "c_styles = {\n",
    "    'dumux-20cells':'red',\n",
    "    'dumux-10cells':'green',  # Blue\n",
    "    'comsol':  'black' \n",
    "}\n",
    "\n",
    "\n",
    "color_legend_elements = [\n",
    "    Line2D([0], [0], color=c_styles['dumux-10cells'], lw=6, label='dumux-10cells'),\n",
    "    Line2D([0], [0], color=c_styles['dumux-20cells'], lw=6, label='dumux-20cells'),\n",
    "    Line2D([0], [0], color=c_styles['comsol'], lw=6, label='comsol')\n",
    "]\n",
    "# First subplot (top-left): getPressureHead\n",
    "for jj, nm in enumerate(names):\n",
    "    aID0 = axesIDs[jj][0]\n",
    "    aID1 = axesIDs[jj][1]\n",
    "    for i in range(3):\n",
    "        axes[aID0,aID1].plot(dataComsol[nm][:,0], dataComsol[nm][:,i+1],# label=str(18000 * i)+\"comsol\",\n",
    "                         c=c_styles[\"comsol\"],\n",
    "                         linestyle= l_styles[i]\n",
    "                            )\n",
    "        axes[aID0,aID1].plot(dataDumux['cc'], dataDumux[nm][i],# label=str(18000 * i)+\"dumux\",\n",
    "                         c=c_styles[\"dumux-20cells\"],\n",
    "                         linestyle= l_styles[i])\n",
    "        axes[aID0,aID1].plot(dataDumux10['cc'], dataDumux10[nm][i],# label=str(18000 * i)+\"dumux\",\n",
    "                         c=c_styles[\"dumux-10cells\"],\n",
    "                         linestyle= l_styles[i])\n",
    "    axes[aID0,aID1].grid(True)\n",
    "    #axes[aID0,aID1].legend()\n",
    "    axes[aID0,aID1].set_title(nm)\n",
    "\n",
    "#axes[-1, -1].set_visible(False)\n",
    "# Add legends outside the subplots\n",
    "fig.legend(handles=color_legend_elements, #fontsize=15, \n",
    "           title='solver',\n",
    "           #title_fontsize='20', \n",
    "           loc='center', bbox_to_anchor=(0.85, 0.25), framealpha=0)\n",
    "\n",
    "fig.legend(handles=linestyle_legend_elements, #fontsize=15, \n",
    "           title='time',\n",
    "           #title_fontsize='20', \n",
    "           loc='center', bbox_to_anchor=(0.3, 0.8), framealpha=0)\n",
    "# Adjust layout\n",
    "plt.grid(True)\n",
    "plt.legend()\n",
    "plt.tight_layout()\n",
    "plt.show()"
   ]
  },
  {
   "cell_type": "code",
   "execution_count": null,
   "id": "52283a45-1057-4660-a579-3702404f7500",
   "metadata": {},
   "outputs": [],
   "source": []
  }
 ],
 "metadata": {
  "kernelspec": {
   "display_name": "Python 3 (ipykernel)",
   "language": "python",
   "name": "python3"
  },
  "language_info": {
   "codemirror_mode": {
    "name": "ipython",
    "version": 3
   },
   "file_extension": ".py",
   "mimetype": "text/x-python",
   "name": "python",
   "nbconvert_exporter": "python",
   "pygments_lexer": "ipython3",
   "version": "3.12.3"
  }
 },
 "nbformat": 4,
 "nbformat_minor": 5
}
