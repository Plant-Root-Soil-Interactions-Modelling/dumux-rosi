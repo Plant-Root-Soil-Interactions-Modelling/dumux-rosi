{
 "cells": [
  {
   "cell_type": "code",
   "execution_count": 1,
   "id": "97dd6516-2d15-4af7-9323-b3b68b90ec7d",
   "metadata": {},
   "outputs": [],
   "source": [
    "import numpy as np\n",
    "\n",
    "\n",
    "omega0 = 10**10\n",
    "beta = 4.1\n",
    "head = -10\n",
    "soilVG = [0.08, 0.43, 0.04, 1.6, 50]"
   ]
  },
  {
   "cell_type": "code",
   "execution_count": 2,
   "id": "af7bbbfe-fd63-486f-8ac1-9796bbf90c32",
   "metadata": {},
   "outputs": [
    {
     "data": {
      "text/plain": [
       "10000000000"
      ]
     },
     "execution_count": 2,
     "metadata": {},
     "output_type": "execute_result"
    }
   ],
   "source": [
    "omega0"
   ]
  },
  {
   "cell_type": "code",
   "execution_count": 15,
   "id": "62bea228-6b44-47eb-83e2-91de9d67323e",
   "metadata": {},
   "outputs": [
    {
     "name": "stdout",
     "output_type": "stream",
     "text": [
      "0.052500000000000005\n",
      "56578.72337769494 5550372.7633518735\n"
     ]
    }
   ],
   "source": [
    "C = 10 * 1e-3 # g mucil/g dry soil\n",
    "rho_soil = 1.26 # g/cm3\n",
    "theta = 0.24 # cm3 w /cm3 soil\n",
    "rhoW1 = 1\n",
    "cw_test = C*rho_soil/(theta*rhoW1) # g/g water\n",
    "print('cw_test',cw_test)\n",
    "rho= 1000 #[kg/m³]\n",
    "diffh = omega0 * (cw_test ** beta)\n",
    "diffpc = diffh/ 100. *(rho*g_)\n",
    "print(diffh,diffpc)"
   ]
  },
  {
   "cell_type": "code",
   "execution_count": 16,
   "id": "648f2124-305f-4580-9e3f-08721b754ce4",
   "metadata": {},
   "outputs": [
    {
     "data": {
      "text/plain": [
       "0.03150000000000001"
      ]
     },
     "execution_count": 16,
     "metadata": {},
     "output_type": "execute_result"
    }
   ],
   "source": [
    "cw_test/mucilCMolarMass*waterMolarMass"
   ]
  },
  {
   "cell_type": "code",
   "execution_count": 3,
   "id": "2fc5417e-ad42-494a-9039-d7c40b0f20af",
   "metadata": {},
   "outputs": [],
   "source": [
    "molFr = 0.6 # mol C/mol w\n",
    "mucilCMolarMass = 30 #g mucil/ mol mucilage-C\n",
    "waterMolarMass = 18 # g water/mol\n",
    "g_ = 9.81\n",
    "cw = molFr / waterMolarMass * mucilCMolarMass\n",
    "diffh = omega0 * (cw ** beta)\n",
    "diffpc = diffh/ 100. *(rho*g_)"
   ]
  },
  {
   "cell_type": "code",
   "execution_count": 11,
   "id": "61a37ad3-cb51-4524-af28-3527021d354a",
   "metadata": {},
   "outputs": [
    {
     "data": {
      "text/plain": [
       "1.0"
      ]
     },
     "execution_count": 11,
     "metadata": {},
     "output_type": "execute_result"
    }
   ],
   "source": [
    "cw"
   ]
  },
  {
   "cell_type": "code",
   "execution_count": 4,
   "id": "1bdf1572-1239-44ce-8a20-94c7f01c3e2c",
   "metadata": {},
   "outputs": [
    {
     "data": {
      "text/plain": [
       "981000000000.0"
      ]
     },
     "execution_count": 4,
     "metadata": {},
     "output_type": "execute_result"
    }
   ],
   "source": [
    "diffpc"
   ]
  },
  {
   "cell_type": "code",
   "execution_count": 5,
   "id": "b33bcd82-a9a1-420f-9f38-e342f638d09f",
   "metadata": {},
   "outputs": [
    {
     "data": {
      "text/plain": [
       "10000000000.0"
      ]
     },
     "execution_count": 5,
     "metadata": {},
     "output_type": "execute_result"
    }
   ],
   "source": [
    "diffh"
   ]
  },
  {
   "cell_type": "code",
   "execution_count": 7,
   "id": "5efba109-c8e0-4cf9-aae1-be1607e3d4dc",
   "metadata": {},
   "outputs": [
    {
     "data": {
      "text/plain": [
       "98.1"
      ]
     },
     "execution_count": 7,
     "metadata": {},
     "output_type": "execute_result"
    }
   ],
   "source": [
    "rho*g_/100"
   ]
  },
  {
   "cell_type": "code",
   "execution_count": null,
   "id": "ba04503e-f4cf-4a19-ae0e-dd28464f0b18",
   "metadata": {},
   "outputs": [],
   "source": []
  }
 ],
 "metadata": {
  "kernelspec": {
   "display_name": "py38b",
   "language": "python",
   "name": "py38b"
  },
  "language_info": {
   "codemirror_mode": {
    "name": "ipython",
    "version": 3
   },
   "file_extension": ".py",
   "mimetype": "text/x-python",
   "name": "python",
   "nbconvert_exporter": "python",
   "pygments_lexer": "ipython3",
   "version": "3.8.15"
  }
 },
 "nbformat": 4,
 "nbformat_minor": 5
}
